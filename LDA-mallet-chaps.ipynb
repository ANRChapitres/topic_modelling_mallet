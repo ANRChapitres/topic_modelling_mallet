{
 "cells": [
  {
   "cell_type": "code",
   "execution_count": 1,
   "metadata": {},
   "outputs": [],
   "source": [
    "import os\n",
    "import itertools\n",
    "import numpy as np\n",
    "import operator\n",
    "import math\n",
    "from sklearn.feature_extraction.text import CountVectorizer\n",
    "import matplotlib.pyplot as plt"
   ]
  },
  {
   "cell_type": "code",
   "execution_count": 2,
   "metadata": {},
   "outputs": [],
   "source": [
    "def grouper(n, iterable, fillvalue=None):\n",
    "    args = [iter(iterable)] * n\n",
    "    return itertools.zip_longest(*args, fillvalue=fillvalue)"
   ]
  },
  {
   "cell_type": "code",
   "execution_count": 3,
   "metadata": {},
   "outputs": [],
   "source": [
    "doctopic_triples = []\n",
    "mallet_docnames = []"
   ]
  },
  {
   "cell_type": "code",
   "execution_count": 4,
   "metadata": {},
   "outputs": [],
   "source": [
    "#here you can put the strings you want to get rid off when showing the titles\n",
    "list_authors_to_replace=['Zola-Emile','Dumas-Alexandre-Pere','Dumas-Alexandre','Balzac-Honore-de','Verne-Jules','Sand-George','Flaubert-Gustave']\n",
    "list_authors_to_find=['Giono-Jean']\n",
    "argsfig='giono_1_last'"
   ]
  },
  {
   "cell_type": "code",
   "execution_count": 5,
   "metadata": {},
   "outputs": [],
   "source": [
    "def replace_all(text, dic):\n",
    "    for i in dic:\n",
    "        text = text.replace(i, \"\")\n",
    "    return text"
   ]
  },
  {
   "cell_type": "code",
   "execution_count": 6,
   "metadata": {},
   "outputs": [],
   "source": [
    "list_chaps=list()"
   ]
  },
  {
   "cell_type": "code",
   "execution_count": 7,
   "metadata": {},
   "outputs": [
    {
     "name": "stdout",
     "output_type": "stream",
     "text": [
      "Giono-Jean_Le-Hussard-sur-le-toit_14_last\n",
      "Giono-Jean_Batailles-dans-la-montagne_1\n",
      "Giono-Jean_Regain_1\n",
      "Giono-Jean_Batailles-dans-la-montagne_12_last\n",
      "Giono-Jean_Les-recits-de-la-demi-brigade_7_last\n",
      "Giono-Jean_Le-Hussard-sur-le-toit_1\n",
      "Giono-Jean_Les-recits-de-la-demi-brigade_1\n",
      "Giono-Jean_Regain_9_last\n"
     ]
    }
   ],
   "source": [
    "with open(\"/home/odysseus/Bureau/ANR/code/topic_modelling_mallet/results/doc-topics-chaps.txt\") as f:\n",
    "    f.readline()  # read one line in order to skip the header\n",
    "    for line in f:\n",
    "        docnum, docname, *values = line.rstrip().split('\\t')\n",
    "        docname = os.path.basename(docname)\n",
    "        if docname.split('_')[1] in list_authors_to_find and ('_1.' in docname or '_last.' in docname):\n",
    "        #if docname.split('_')[1] in list_authors_to_find and ('_1.' in docname or '_'+str(max(list_chaps))+'.' in docname):\n",
    "            #docname=replace_all(docname, list_authors_to_replace)\n",
    "            docname=docname[5:len(docname)-4]\n",
    "            mallet_docnames.append(docname)\n",
    "            print(docname)\n",
    "            for topic, share in grouper(2, values):\n",
    "                triple = (docname, int(topic), float(share))\n",
    "                doctopic_triples.append(triple)"
   ]
  },
  {
   "cell_type": "code",
   "execution_count": 8,
   "metadata": {},
   "outputs": [
    {
     "name": "stdout",
     "output_type": "stream",
     "text": [
      "[('Giono-Jean_Le-Hussard-sur-le-toit_14_last', 13, 0.1056338028169014), ('Giono-Jean_Le-Hussard-sur-le-toit_14_last', 3, 0.09154929577464789), ('Giono-Jean_Le-Hussard-sur-le-toit_14_last', 18, 0.06338028169014084), ('Giono-Jean_Le-Hussard-sur-le-toit_14_last', 10, 0.06338028169014084), ('Giono-Jean_Le-Hussard-sur-le-toit_14_last', 8, 0.06338028169014084), ('Giono-Jean_Le-Hussard-sur-le-toit_14_last', 19, 0.04929577464788732), ('Giono-Jean_Le-Hussard-sur-le-toit_14_last', 16, 0.04929577464788732), ('Giono-Jean_Le-Hussard-sur-le-toit_14_last', 14, 0.04929577464788732), ('Giono-Jean_Le-Hussard-sur-le-toit_14_last', 7, 0.04929577464788732), ('Giono-Jean_Le-Hussard-sur-le-toit_14_last', 4, 0.04929577464788732), ('Giono-Jean_Le-Hussard-sur-le-toit_14_last', 1, 0.04929577464788732), ('Giono-Jean_Le-Hussard-sur-le-toit_14_last', 17, 0.035211267605633804), ('Giono-Jean_Le-Hussard-sur-le-toit_14_last', 15, 0.035211267605633804), ('Giono-Jean_Le-Hussard-sur-le-toit_14_last', 12, 0.035211267605633804), ('Giono-Jean_Le-Hussard-sur-le-toit_14_last', 11, 0.035211267605633804), ('Giono-Jean_Le-Hussard-sur-le-toit_14_last', 9, 0.035211267605633804), ('Giono-Jean_Le-Hussard-sur-le-toit_14_last', 6, 0.035211267605633804), ('Giono-Jean_Le-Hussard-sur-le-toit_14_last', 5, 0.035211267605633804), ('Giono-Jean_Le-Hussard-sur-le-toit_14_last', 2, 0.035211267605633804), ('Giono-Jean_Le-Hussard-sur-le-toit_14_last', 0, 0.035211267605633804), ('Giono-Jean_Batailles-dans-la-montagne_1', 18, 0.4980732177263969), ('Giono-Jean_Batailles-dans-la-montagne_1', 3, 0.17129094412331405), ('Giono-Jean_Batailles-dans-la-montagne_1', 15, 0.07418111753371869), ('Giono-Jean_Batailles-dans-la-montagne_1', 12, 0.06878612716763005), ('Giono-Jean_Batailles-dans-la-montagne_1', 13, 0.03757225433526012), ('Giono-Jean_Batailles-dans-la-montagne_1', 1, 0.03603082851637765), ('Giono-Jean_Batailles-dans-la-montagne_1', 17, 0.027552986512524084), ('Giono-Jean_Batailles-dans-la-montagne_1', 19, 0.014450867052023121), ('Giono-Jean_Batailles-dans-la-montagne_1', 8, 0.014450867052023121), ('Giono-Jean_Batailles-dans-la-montagne_1', 6, 0.012909441233140655), ('Giono-Jean_Batailles-dans-la-montagne_1', 9, 0.01021194605009634), ('Giono-Jean_Batailles-dans-la-montagne_1', 14, 0.008670520231213872), ('Giono-Jean_Batailles-dans-la-montagne_1', 10, 0.006358381502890174), ('Giono-Jean_Batailles-dans-la-montagne_1', 16, 0.004046242774566474), ('Giono-Jean_Batailles-dans-la-montagne_1', 0, 0.0036608863198458576), ('Giono-Jean_Batailles-dans-la-montagne_1', 4, 0.002890173410404624), ('Giono-Jean_Batailles-dans-la-montagne_1', 5, 0.0025048169556840076), ('Giono-Jean_Batailles-dans-la-montagne_1', 2, 0.0025048169556840076), ('Giono-Jean_Batailles-dans-la-montagne_1', 11, 0.002119460500963391), ('Giono-Jean_Batailles-dans-la-montagne_1', 7, 0.0017341040462427746), ('Giono-Jean_Regain_1', 18, 0.31917211328976036), ('Giono-Jean_Regain_1', 3, 0.14705882352941177), ('Giono-Jean_Regain_1', 13, 0.1318082788671024), ('Giono-Jean_Regain_1', 17, 0.0664488017429194), ('Giono-Jean_Regain_1', 11, 0.05991285403050109), ('Giono-Jean_Regain_1', 12, 0.042483660130718956), ('Giono-Jean_Regain_1', 10, 0.029411764705882353), ('Giono-Jean_Regain_1', 15, 0.027233115468409588), ('Giono-Jean_Regain_1', 2, 0.027233115468409588), ('Giono-Jean_Regain_1', 9, 0.02505446623093682), ('Giono-Jean_Regain_1', 0, 0.020697167755991286), ('Giono-Jean_Regain_1', 4, 0.018518518518518517), ('Giono-Jean_Regain_1', 1, 0.016339869281045753), ('Giono-Jean_Regain_1', 19, 0.014161220043572984), ('Giono-Jean_Regain_1', 7, 0.011982570806100218), ('Giono-Jean_Regain_1', 6, 0.011982570806100218), ('Giono-Jean_Regain_1', 8, 0.00980392156862745), ('Giono-Jean_Regain_1', 16, 0.007625272331154684), ('Giono-Jean_Regain_1', 5, 0.007625272331154684), ('Giono-Jean_Regain_1', 14, 0.0054466230936819175), ('Giono-Jean_Batailles-dans-la-montagne_12_last', 3, 0.2576700755891507), ('Giono-Jean_Batailles-dans-la-montagne_12_last', 18, 0.2287683414851045), ('Giono-Jean_Batailles-dans-la-montagne_12_last', 15, 0.12472209871053802), ('Giono-Jean_Batailles-dans-la-montagne_12_last', 12, 0.08603823921742997), ('Giono-Jean_Batailles-dans-la-montagne_12_last', 13, 0.06380613606047132), ('Giono-Jean_Batailles-dans-la-montagne_12_last', 0, 0.05491329479768786), ('Giono-Jean_Batailles-dans-la-montagne_12_last', 1, 0.04868830591373944), ('Giono-Jean_Batailles-dans-la-montagne_12_last', 17, 0.026456202756780792), ('Giono-Jean_Batailles-dans-la-montagne_12_last', 14, 0.021120497999110716), ('Giono-Jean_Batailles-dans-la-montagne_12_last', 2, 0.018008003557136505), ('Giono-Jean_Batailles-dans-la-montagne_12_last', 19, 0.011783014673188083), ('Giono-Jean_Batailles-dans-la-montagne_12_last', 10, 0.01133837261004891), ('Giono-Jean_Batailles-dans-la-montagne_12_last', 6, 0.01133837261004891), ('Giono-Jean_Batailles-dans-la-montagne_12_last', 9, 0.006891951978657181), ('Giono-Jean_Batailles-dans-la-montagne_12_last', 16, 0.006447309915518008), ('Giono-Jean_Batailles-dans-la-montagne_12_last', 11, 0.006447309915518008), ('Giono-Jean_Batailles-dans-la-montagne_12_last', 7, 0.006447309915518008), ('Giono-Jean_Batailles-dans-la-montagne_12_last', 5, 0.006002667852378835), ('Giono-Jean_Batailles-dans-la-montagne_12_last', 4, 0.0020008892841262785), ('Giono-Jean_Batailles-dans-la-montagne_12_last', 8, 0.0011116051578479323), ('Giono-Jean_Les-recits-de-la-demi-brigade_7_last', 10, 0.1693548387096774), ('Giono-Jean_Les-recits-de-la-demi-brigade_7_last', 13, 0.10483870967741936), ('Giono-Jean_Les-recits-de-la-demi-brigade_7_last', 2, 0.08870967741935484), ('Giono-Jean_Les-recits-de-la-demi-brigade_7_last', 1, 0.08870967741935484), ('Giono-Jean_Les-recits-de-la-demi-brigade_7_last', 18, 0.07795698924731183), ('Giono-Jean_Les-recits-de-la-demi-brigade_7_last', 9, 0.06182795698924731), ('Giono-Jean_Les-recits-de-la-demi-brigade_7_last', 11, 0.051075268817204304), ('Giono-Jean_Les-recits-de-la-demi-brigade_7_last', 5, 0.0456989247311828), ('Giono-Jean_Les-recits-de-la-demi-brigade_7_last', 15, 0.03494623655913978), ('Giono-Jean_Les-recits-de-la-demi-brigade_7_last', 14, 0.03494623655913978), ('Giono-Jean_Les-recits-de-la-demi-brigade_7_last', 4, 0.03494623655913978), ('Giono-Jean_Les-recits-de-la-demi-brigade_7_last', 0, 0.03494623655913978), ('Giono-Jean_Les-recits-de-la-demi-brigade_7_last', 17, 0.02956989247311828), ('Giono-Jean_Les-recits-de-la-demi-brigade_7_last', 6, 0.02956989247311828), ('Giono-Jean_Les-recits-de-la-demi-brigade_7_last', 16, 0.024193548387096774), ('Giono-Jean_Les-recits-de-la-demi-brigade_7_last', 12, 0.024193548387096774), ('Giono-Jean_Les-recits-de-la-demi-brigade_7_last', 19, 0.01881720430107527), ('Giono-Jean_Les-recits-de-la-demi-brigade_7_last', 8, 0.01881720430107527), ('Giono-Jean_Les-recits-de-la-demi-brigade_7_last', 7, 0.013440860215053764), ('Giono-Jean_Les-recits-de-la-demi-brigade_7_last', 3, 0.013440860215053764), ('Giono-Jean_Le-Hussard-sur-le-toit_1', 18, 0.22048104956268222), ('Giono-Jean_Le-Hussard-sur-le-toit_1', 3, 0.13884839650145772), ('Giono-Jean_Le-Hussard-sur-le-toit_1', 12, 0.10532069970845481), ('Giono-Jean_Le-Hussard-sur-le-toit_1', 10, 0.05721574344023324), ('Giono-Jean_Le-Hussard-sur-le-toit_1', 13, 0.05284256559766764), ('Giono-Jean_Le-Hussard-sur-le-toit_1', 7, 0.05211370262390671), ('Giono-Jean_Le-Hussard-sur-le-toit_1', 0, 0.049927113702623906), ('Giono-Jean_Le-Hussard-sur-le-toit_1', 2, 0.04190962099125364), ('Giono-Jean_Le-Hussard-sur-le-toit_1', 19, 0.03899416909620991), ('Giono-Jean_Le-Hussard-sur-le-toit_1', 6, 0.03826530612244898), ('Giono-Jean_Le-Hussard-sur-le-toit_1', 16, 0.036078717201166184), ('Giono-Jean_Le-Hussard-sur-le-toit_1', 4, 0.03097667638483965), ('Giono-Jean_Le-Hussard-sur-le-toit_1', 15, 0.02879008746355685), ('Giono-Jean_Le-Hussard-sur-le-toit_1', 9, 0.02295918367346939), ('Giono-Jean_Le-Hussard-sur-le-toit_1', 14, 0.021501457725947522), ('Giono-Jean_Le-Hussard-sur-le-toit_1', 5, 0.02077259475218659), ('Giono-Jean_Le-Hussard-sur-le-toit_1', 1, 0.017128279883381923), ('Giono-Jean_Le-Hussard-sur-le-toit_1', 11, 0.014941690962099125), ('Giono-Jean_Le-Hussard-sur-le-toit_1', 17, 0.008381924198250729), ('Giono-Jean_Le-Hussard-sur-le-toit_1', 8, 0.002551020408163265), ('Giono-Jean_Les-recits-de-la-demi-brigade_1', 13, 0.18601895734597157), ('Giono-Jean_Les-recits-de-la-demi-brigade_1', 10, 0.14099526066350712), ('Giono-Jean_Les-recits-de-la-demi-brigade_1', 7, 0.11018957345971564), ('Giono-Jean_Les-recits-de-la-demi-brigade_1', 18, 0.06990521327014218), ('Giono-Jean_Les-recits-de-la-demi-brigade_1', 1, 0.06516587677725119), ('Giono-Jean_Les-recits-de-la-demi-brigade_1', 8, 0.0509478672985782), ('Giono-Jean_Les-recits-de-la-demi-brigade_1', 6, 0.04383886255924171), ('Giono-Jean_Les-recits-de-la-demi-brigade_1', 5, 0.041469194312796206), ('Giono-Jean_Les-recits-de-la-demi-brigade_1', 0, 0.041469194312796206), ('Giono-Jean_Les-recits-de-la-demi-brigade_1', 16, 0.03672985781990521), ('Giono-Jean_Les-recits-de-la-demi-brigade_1', 9, 0.03672985781990521), ('Giono-Jean_Les-recits-de-la-demi-brigade_1', 15, 0.02962085308056872), ('Giono-Jean_Les-recits-de-la-demi-brigade_1', 11, 0.02962085308056872), ('Giono-Jean_Les-recits-de-la-demi-brigade_1', 3, 0.02962085308056872), ('Giono-Jean_Les-recits-de-la-demi-brigade_1', 12, 0.024881516587677725), ('Giono-Jean_Les-recits-de-la-demi-brigade_1', 19, 0.015402843601895734), ('Giono-Jean_Les-recits-de-la-demi-brigade_1', 17, 0.013033175355450236), ('Giono-Jean_Les-recits-de-la-demi-brigade_1', 14, 0.013033175355450236), ('Giono-Jean_Les-recits-de-la-demi-brigade_1', 2, 0.013033175355450236), ('Giono-Jean_Les-recits-de-la-demi-brigade_1', 4, 0.008293838862559242), ('Giono-Jean_Regain_9_last', 18, 0.3089887640449438), ('Giono-Jean_Regain_9_last', 15, 0.15168539325842698), ('Giono-Jean_Regain_9_last', 3, 0.11797752808988764), ('Giono-Jean_Regain_9_last', 1, 0.07303370786516854), ('Giono-Jean_Regain_9_last', 19, 0.04307116104868914), ('Giono-Jean_Regain_9_last', 16, 0.03932584269662921), ('Giono-Jean_Regain_9_last', 17, 0.031835205992509365), ('Giono-Jean_Regain_9_last', 10, 0.028089887640449437), ('Giono-Jean_Regain_9_last', 8, 0.028089887640449437), ('Giono-Jean_Regain_9_last', 11, 0.024344569288389514), ('Giono-Jean_Regain_9_last', 12, 0.020599250936329586), ('Giono-Jean_Regain_9_last', 0, 0.020599250936329586), ('Giono-Jean_Regain_9_last', 6, 0.016853932584269662), ('Giono-Jean_Regain_9_last', 5, 0.016853932584269662), ('Giono-Jean_Regain_9_last', 14, 0.013108614232209739), ('Giono-Jean_Regain_9_last', 13, 0.013108614232209739), ('Giono-Jean_Regain_9_last', 9, 0.013108614232209739), ('Giono-Jean_Regain_9_last', 7, 0.013108614232209739), ('Giono-Jean_Regain_9_last', 4, 0.013108614232209739), ('Giono-Jean_Regain_9_last', 2, 0.013108614232209739)]\n"
     ]
    }
   ],
   "source": [
    "print(doctopic_triples)"
   ]
  },
  {
   "cell_type": "code",
   "execution_count": 9,
   "metadata": {},
   "outputs": [],
   "source": [
    "mallet_docnames = sorted(mallet_docnames)"
   ]
  },
  {
   "cell_type": "code",
   "execution_count": 10,
   "metadata": {},
   "outputs": [],
   "source": [
    "num_docs = len(mallet_docnames)"
   ]
  },
  {
   "cell_type": "code",
   "execution_count": 11,
   "metadata": {},
   "outputs": [],
   "source": [
    "doctopic_triples = sorted(doctopic_triples, key=operator.itemgetter(0,1))"
   ]
  },
  {
   "cell_type": "code",
   "execution_count": 12,
   "metadata": {},
   "outputs": [
    {
     "name": "stdout",
     "output_type": "stream",
     "text": [
      "160\n",
      "20\n"
     ]
    }
   ],
   "source": [
    "num_topics = len(doctopic_triples) // len(mallet_docnames)\n",
    "print(len(doctopic_triples))\n",
    "print(num_topics)"
   ]
  },
  {
   "cell_type": "code",
   "execution_count": 13,
   "metadata": {},
   "outputs": [],
   "source": [
    "doctopic = np.zeros((num_docs, num_topics))"
   ]
  },
  {
   "cell_type": "code",
   "execution_count": 14,
   "metadata": {},
   "outputs": [],
   "source": [
    "for triple in doctopic_triples:\n",
    "    docname, topic, share = triple\n",
    "    row_num = mallet_docnames.index(docname)\n",
    "    doctopic[row_num, topic] = share"
   ]
  },
  {
   "cell_type": "code",
   "execution_count": null,
   "metadata": {},
   "outputs": [],
   "source": [
    "novel_names = []"
   ]
  },
  {
   "cell_type": "code",
   "execution_count": null,
   "metadata": {},
   "outputs": [],
   "source": [
    "for fn in mallet_docnames:\n",
    "    basename = os.path.basename(fn)\n",
    "    name, ext = os.path.splitext(basename)\n",
    "    novel_names.append(name)\n",
    "print(len(novel_names))"
   ]
  },
  {
   "cell_type": "code",
   "execution_count": null,
   "metadata": {},
   "outputs": [],
   "source": [
    "novel_names = np.asarray(novel_names)"
   ]
  },
  {
   "cell_type": "code",
   "execution_count": null,
   "metadata": {},
   "outputs": [],
   "source": [
    "doctopic"
   ]
  },
  {
   "cell_type": "code",
   "execution_count": null,
   "metadata": {},
   "outputs": [],
   "source": [
    "doctopic_orig = doctopic.copy()"
   ]
  },
  {
   "cell_type": "code",
   "execution_count": null,
   "metadata": {},
   "outputs": [],
   "source": [
    "num_groups = len(set(novel_names))\n",
    "print(num_groups)"
   ]
  },
  {
   "cell_type": "code",
   "execution_count": null,
   "metadata": {},
   "outputs": [],
   "source": [
    "doctopic_grouped = np.zeros((num_groups, num_topics))"
   ]
  },
  {
   "cell_type": "code",
   "execution_count": null,
   "metadata": {},
   "outputs": [],
   "source": [
    "for i, name in enumerate(sorted(set(novel_names))):\n",
    "    doctopic_grouped[i, :] = np.mean(doctopic[novel_names == name, :], axis=0)"
   ]
  },
  {
   "cell_type": "code",
   "execution_count": null,
   "metadata": {},
   "outputs": [],
   "source": [
    "doctopic = doctopic_grouped"
   ]
  },
  {
   "cell_type": "code",
   "execution_count": null,
   "metadata": {},
   "outputs": [],
   "source": [
    "doctopic"
   ]
  },
  {
   "cell_type": "code",
   "execution_count": null,
   "metadata": {},
   "outputs": [],
   "source": [
    "N, K = doctopic.shape\n",
    "print(K)"
   ]
  },
  {
   "cell_type": "code",
   "execution_count": null,
   "metadata": {},
   "outputs": [],
   "source": [
    "ind = np.arange(N)"
   ]
  },
  {
   "cell_type": "code",
   "execution_count": null,
   "metadata": {},
   "outputs": [],
   "source": [
    "width = 0.5"
   ]
  },
  {
   "cell_type": "code",
   "execution_count": null,
   "metadata": {},
   "outputs": [],
   "source": [
    "plt.rcParams[\"figure.figsize\"] = [16,9]"
   ]
  },
  {
   "cell_type": "code",
   "execution_count": null,
   "metadata": {},
   "outputs": [],
   "source": [
    "plt.bar(ind, doctopic[:,0], width=width)"
   ]
  },
  {
   "cell_type": "code",
   "execution_count": null,
   "metadata": {},
   "outputs": [],
   "source": [
    "plt.xticks(rotation=90)\n",
    "plt.xticks(ind + width/2, novel_names)"
   ]
  },
  {
   "cell_type": "code",
   "execution_count": null,
   "metadata": {},
   "outputs": [],
   "source": [
    "plt.title('Share of Topic #0')"
   ]
  },
  {
   "cell_type": "code",
   "execution_count": null,
   "metadata": {},
   "outputs": [],
   "source": [
    "plt.show()"
   ]
  },
  {
   "cell_type": "code",
   "execution_count": null,
   "metadata": {},
   "outputs": [],
   "source": [
    "plots = []"
   ]
  },
  {
   "cell_type": "code",
   "execution_count": null,
   "metadata": {},
   "outputs": [],
   "source": [
    "height_cumulative = np.zeros(N)"
   ]
  },
  {
   "cell_type": "code",
   "execution_count": null,
   "metadata": {},
   "outputs": [],
   "source": [
    "fig=plt.figure()"
   ]
  },
  {
   "cell_type": "code",
   "execution_count": null,
   "metadata": {},
   "outputs": [],
   "source": [
    "for k in range(K):\n",
    "    color = plt.cm.tab20(k/K, 1)\n",
    "    if k == 0:\n",
    "        p = plt.bar(ind, doctopic[:, k], width, color=color)\n",
    "    else:\n",
    "        p = plt.bar(ind, doctopic[:, k], width, bottom=height_cumulative, color=color)\n",
    "    height_cumulative += doctopic[:, k]\n",
    "    plots.append(p)"
   ]
  },
  {
   "cell_type": "code",
   "execution_count": null,
   "metadata": {},
   "outputs": [],
   "source": [
    "plt.ylim((0, 1))"
   ]
  },
  {
   "cell_type": "code",
   "execution_count": null,
   "metadata": {},
   "outputs": [],
   "source": [
    "plt.ylabel('Topics')"
   ]
  },
  {
   "cell_type": "code",
   "execution_count": null,
   "metadata": {},
   "outputs": [],
   "source": [
    "plt.title('Topics in novels')"
   ]
  },
  {
   "cell_type": "code",
   "execution_count": null,
   "metadata": {},
   "outputs": [],
   "source": [
    "list_topics =['espace domestique', 'vie conjugale', 'affaires/argent/mondanités', '?', 'noblesse', 'justice/crime', 'réflexions sur l\\'existence', 'police/intrigue/bureaucratie', 'corps public/théâtre/festivités', 'temps','armée','?','nature/éléments/cosmos','voyage','sentiment','corps (morbide ?)','marine','famille','nature/végétal','religion']"
   ]
  },
  {
   "cell_type": "code",
   "execution_count": null,
   "metadata": {},
   "outputs": [],
   "source": [
    "plt.xticks(rotation=90)\n",
    "plt.xticks(ind+width/2, novel_names)\n",
    "index=1\n",
    "for name in novel_names:\n",
    "    print('numero '+str(index))\n",
    "    print(name)\n",
    "    index+=1"
   ]
  },
  {
   "cell_type": "code",
   "execution_count": null,
   "metadata": {},
   "outputs": [],
   "source": [
    "plt.yticks(np.arange(0, 1, 10))"
   ]
  },
  {
   "cell_type": "code",
   "execution_count": null,
   "metadata": {},
   "outputs": [],
   "source": [
    "#Pour cette expérience, topic 0 : aventure ; topic 1 : argent ; topic 2 : mort\n",
    "topic_labels = [k for k in list_topics]"
   ]
  },
  {
   "cell_type": "code",
   "execution_count": null,
   "metadata": {},
   "outputs": [],
   "source": [
    "plt.legend([p[0] for p in plots], topic_labels,bbox_to_anchor=(1,1), loc=\"upper left\")"
   ]
  },
  {
   "cell_type": "code",
   "execution_count": null,
   "metadata": {},
   "outputs": [],
   "source": [
    "fig.savefig(argsfig+'.png',bbox_inches='tight')\n",
    "plt.close(fig)"
   ]
  },
  {
   "cell_type": "code",
   "execution_count": null,
   "metadata": {},
   "outputs": [],
   "source": []
  }
 ],
 "metadata": {
  "kernelspec": {
   "display_name": "Python 3",
   "language": "python",
   "name": "python3"
  },
  "language_info": {
   "codemirror_mode": {
    "name": "ipython",
    "version": 3
   },
   "file_extension": ".py",
   "mimetype": "text/x-python",
   "name": "python",
   "nbconvert_exporter": "python",
   "pygments_lexer": "ipython3",
   "version": "3.5.2"
  }
 },
 "nbformat": 4,
 "nbformat_minor": 2
}

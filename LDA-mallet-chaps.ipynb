{
 "cells": [
  {
   "cell_type": "code",
   "execution_count": 1,
   "metadata": {},
   "outputs": [],
   "source": [
    "import os\n",
    "import itertools\n",
    "import numpy as np\n",
    "import operator\n",
    "import math\n",
    "from sklearn.feature_extraction.text import CountVectorizer\n",
    "import matplotlib.pyplot as plt"
   ]
  },
  {
   "cell_type": "code",
   "execution_count": 2,
   "metadata": {},
   "outputs": [],
   "source": [
    "def grouper(n, iterable, fillvalue=None):\n",
    "    args = [iter(iterable)] * n\n",
    "    return itertools.zip_longest(*args, fillvalue=fillvalue)"
   ]
  },
  {
   "cell_type": "code",
   "execution_count": 3,
   "metadata": {},
   "outputs": [],
   "source": [
    "doctopic_triples = []\n",
    "mallet_docnames = []"
   ]
  },
  {
   "cell_type": "code",
   "execution_count": 4,
   "metadata": {},
   "outputs": [],
   "source": [
    "#here you can put the strings you want to get rid off when showing the titles\n",
    "list_authors_to_replace=['Zola-Emile','Dumas-Alexandre-Pere','Dumas-Alexandre','Balzac-Honore-de','Verne-Jules','Sand-George','Flaubert-Gustave']\n",
    "list_authors_to_find=['Zola-Emile']"
   ]
  },
  {
   "cell_type": "code",
   "execution_count": 5,
   "metadata": {},
   "outputs": [],
   "source": [
    "def replace_all(text, dic):\n",
    "    for i in dic:\n",
    "        text = text.replace(i, \"\")\n",
    "    return text"
   ]
  },
  {
   "cell_type": "code",
   "execution_count": 6,
   "metadata": {},
   "outputs": [
    {
     "name": "stdout",
     "output_type": "stream",
     "text": [
      "Zola-Emile_L-assomoir_1\n",
      "Zola-Emile_Germinal_1\n",
      "Zola-Emile_Nana_1\n",
      "Zola-Emile_La-fortune-des-Rougon_1\n",
      "Zola-Emile_La-fortune-des-Rougon_2\n",
      "Zola-Emile_La-curee_1\n",
      "Zola-Emile_Pot-Bouille_1\n",
      "Zola-Emile_Au-bonheur-des-dames_1\n",
      "Zola-Emile_Germinal_2\n",
      "Zola-Emile_La-curee_2\n",
      "Zola-Emile_Au-bonheur-des-dames_2\n",
      "Zola-Emile_Nana_2\n",
      "Zola-Emile_Pot-Bouille_2\n",
      "Zola-Emile_Une-page-d-amour_2\n",
      "Zola-Emile_La-faute-de-l-abbe-Mouret_1\n",
      "Zola-Emile_L-assomoir_2\n",
      "Zola-Emile_La-faute-de-l-abbe-Mouret_2\n",
      "Zola-Emile_Une-page-d-amour_1\n"
     ]
    }
   ],
   "source": [
    "with open(\"/home/odysseus/Bureau/ANR/code/topic_modelling_mallet/results/doc-topics-chaps.txt\") as f:\n",
    "    f.readline()  # read one line in order to skip the header\n",
    "    for line in f:\n",
    "        docnum, docname, *values = line.rstrip().split('\\t')\n",
    "        docname = os.path.basename(docname)\n",
    "        if docname.split('_')[1] in list_authors_to_find and ('_1.' in docname or '_2.' in docname):\n",
    "            #docname=replace_all(docname, list_authors_to_replace)\n",
    "            docname=docname[5:len(docname)-4]\n",
    "            mallet_docnames.append(docname)\n",
    "            print(docname)\n",
    "            for topic, share in grouper(2, values):\n",
    "                triple = (docname, int(topic), float(share))\n",
    "                doctopic_triples.append(triple)"
   ]
  },
  {
   "cell_type": "code",
   "execution_count": 7,
   "metadata": {},
   "outputs": [
    {
     "name": "stdout",
     "output_type": "stream",
     "text": [
      "[('Zola-Emile_L-assomoir_1', 7, 0.24295774647887325), ('Zola-Emile_L-assomoir_1', 14, 0.10915492957746478), ('Zola-Emile_L-assomoir_1', 10, 0.0880281690140845), ('Zola-Emile_L-assomoir_1', 16, 0.08098591549295775), ('Zola-Emile_L-assomoir_1', 9, 0.07394366197183098), ('Zola-Emile_L-assomoir_1', 11, 0.06690140845070422), ('Zola-Emile_L-assomoir_1', 2, 0.03873239436619718), ('Zola-Emile_L-assomoir_1', 0, 0.03873239436619718), ('Zola-Emile_L-assomoir_1', 1, 0.03169014084507042), ('Zola-Emile_L-assomoir_1', 17, 0.02464788732394366), ('Zola-Emile_L-assomoir_1', 13, 0.02464788732394366), ('Zola-Emile_L-assomoir_1', 8, 0.02464788732394366), ('Zola-Emile_L-assomoir_1', 6, 0.02464788732394366), ('Zola-Emile_L-assomoir_1', 4, 0.02464788732394366), ('Zola-Emile_L-assomoir_1', 19, 0.017605633802816902), ('Zola-Emile_L-assomoir_1', 18, 0.017605633802816902), ('Zola-Emile_L-assomoir_1', 15, 0.017605633802816902), ('Zola-Emile_L-assomoir_1', 12, 0.017605633802816902), ('Zola-Emile_L-assomoir_1', 5, 0.017605633802816902), ('Zola-Emile_L-assomoir_1', 3, 0.017605633802816902), ('Zola-Emile_Germinal_1', 14, 0.27194148936170215), ('Zola-Emile_Germinal_1', 2, 0.14029255319148937), ('Zola-Emile_Germinal_1', 13, 0.1309840425531915), ('Zola-Emile_Germinal_1', 1, 0.12300531914893617), ('Zola-Emile_Germinal_1', 19, 0.05518617021276596), ('Zola-Emile_Germinal_1', 15, 0.052526595744680854), ('Zola-Emile_Germinal_1', 17, 0.032579787234042555), ('Zola-Emile_Germinal_1', 0, 0.02992021276595745), ('Zola-Emile_Germinal_1', 4, 0.028590425531914893), ('Zola-Emile_Germinal_1', 9, 0.024601063829787235), ('Zola-Emile_Germinal_1', 5, 0.024601063829787235), ('Zola-Emile_Germinal_1', 11, 0.015292553191489361), ('Zola-Emile_Germinal_1', 16, 0.012632978723404254), ('Zola-Emile_Germinal_1', 6, 0.012632978723404254), ('Zola-Emile_Germinal_1', 8, 0.011303191489361703), ('Zola-Emile_Germinal_1', 18, 0.00997340425531915), ('Zola-Emile_Germinal_1', 12, 0.008643617021276596), ('Zola-Emile_Germinal_1', 7, 0.007313829787234043), ('Zola-Emile_Germinal_1', 3, 0.004654255319148936), ('Zola-Emile_Germinal_1', 10, 0.003324468085106383), ('Zola-Emile_Nana_1', 12, 0.36943471735867933), ('Zola-Emile_Nana_1', 15, 0.14082041020510255), ('Zola-Emile_Nana_1', 14, 0.08579289644822412), ('Zola-Emile_Nana_1', 4, 0.06728364182091046), ('Zola-Emile_Nana_1', 0, 0.06678339169584792), ('Zola-Emile_Nana_1', 18, 0.051775887943971984), ('Zola-Emile_Nana_1', 1, 0.03576788394197099), ('Zola-Emile_Nana_1', 9, 0.027263631815907952), ('Zola-Emile_Nana_1', 17, 0.02626313156578289), ('Zola-Emile_Nana_1', 11, 0.023261630815407705), ('Zola-Emile_Nana_1', 16, 0.02276138069034517), ('Zola-Emile_Nana_1', 3, 0.01375687843921961), ('Zola-Emile_Nana_1', 2, 0.01375687843921961), ('Zola-Emile_Nana_1', 7, 0.012756378189094548), ('Zola-Emile_Nana_1', 6, 0.011755877938969485), ('Zola-Emile_Nana_1', 5, 0.008254127063531767), ('Zola-Emile_Nana_1', 10, 0.007253626813406703), ('Zola-Emile_Nana_1', 8, 0.007253626813406703), ('Zola-Emile_Nana_1', 13, 0.00575287643821911), ('Zola-Emile_Nana_1', 19, 0.0022511255627813906), ('Zola-Emile_La-fortune-des-Rougon_1', 7, 0.24662162162162163), ('Zola-Emile_La-fortune-des-Rougon_1', 9, 0.10472972972972973), ('Zola-Emile_La-fortune-des-Rougon_1', 2, 0.09121621621621621), ('Zola-Emile_La-fortune-des-Rougon_1', 16, 0.0777027027027027), ('Zola-Emile_La-fortune-des-Rougon_1', 10, 0.0777027027027027), ('Zola-Emile_La-fortune-des-Rougon_1', 11, 0.06418918918918919), ('Zola-Emile_La-fortune-des-Rougon_1', 19, 0.030405405405405407), ('Zola-Emile_La-fortune-des-Rougon_1', 6, 0.030405405405405407), ('Zola-Emile_La-fortune-des-Rougon_1', 5, 0.030405405405405407), ('Zola-Emile_La-fortune-des-Rougon_1', 0, 0.030405405405405407), ('Zola-Emile_La-fortune-des-Rougon_1', 17, 0.02364864864864865), ('Zola-Emile_La-fortune-des-Rougon_1', 13, 0.02364864864864865), ('Zola-Emile_La-fortune-des-Rougon_1', 12, 0.02364864864864865), ('Zola-Emile_La-fortune-des-Rougon_1', 8, 0.02364864864864865), ('Zola-Emile_La-fortune-des-Rougon_1', 4, 0.02364864864864865), ('Zola-Emile_La-fortune-des-Rougon_1', 3, 0.02364864864864865), ('Zola-Emile_La-fortune-des-Rougon_1', 1, 0.02364864864864865), ('Zola-Emile_La-fortune-des-Rougon_1', 18, 0.016891891891891893), ('Zola-Emile_La-fortune-des-Rougon_1', 15, 0.016891891891891893), ('Zola-Emile_La-fortune-des-Rougon_1', 14, 0.016891891891891893), ('Zola-Emile_La-fortune-des-Rougon_2', 1, 0.25871872630780895), ('Zola-Emile_La-fortune-des-Rougon_2', 13, 0.1567475360121304), ('Zola-Emile_La-fortune-des-Rougon_2', 15, 0.1366565579984837), ('Zola-Emile_La-fortune-des-Rougon_2', 11, 0.11884003032600454), ('Zola-Emile_La-fortune-des-Rougon_2', 10, 0.07069749810462471), ('Zola-Emile_La-fortune-des-Rougon_2', 14, 0.06539044730856709), ('Zola-Emile_La-fortune-des-Rougon_2', 17, 0.03658074298711145), ('Zola-Emile_La-fortune-des-Rougon_2', 12, 0.03089461713419257), ('Zola-Emile_La-fortune-des-Rougon_2', 4, 0.026345716451857466), ('Zola-Emile_La-fortune-des-Rougon_2', 2, 0.025966641394996208), ('Zola-Emile_La-fortune-des-Rougon_2', 5, 0.020659590598938588), ('Zola-Emile_La-fortune-des-Rougon_2', 16, 0.011561789234268385), ('Zola-Emile_La-fortune-des-Rougon_2', 6, 0.009666413949962092), ('Zola-Emile_La-fortune-des-Rougon_2', 19, 0.007391963608794541), ('Zola-Emile_La-fortune-des-Rougon_2', 0, 0.007012888551933283), ('Zola-Emile_La-fortune-des-Rougon_2', 9, 0.0047384382107657315), ('Zola-Emile_La-fortune-des-Rougon_2', 7, 0.004359363153904473), ('Zola-Emile_La-fortune-des-Rougon_2', 18, 0.0032221379833206974), ('Zola-Emile_La-fortune-des-Rougon_2', 3, 0.0032221379833206974), ('Zola-Emile_La-fortune-des-Rougon_2', 8, 0.001326762699014405), ('Zola-Emile_La-curee_1', 12, 0.22539166420336978), ('Zola-Emile_La-curee_1', 1, 0.2185929648241206), ('Zola-Emile_La-curee_1', 18, 0.10774460537984037), ('Zola-Emile_La-curee_1', 4, 0.09976352349985221), ('Zola-Emile_La-curee_1', 15, 0.0947383978717115), ('Zola-Emile_La-curee_1', 14, 0.0571977534732486), ('Zola-Emile_La-curee_1', 9, 0.05039905409399941), ('Zola-Emile_La-curee_1', 13, 0.023499852202187407), ('Zola-Emile_La-curee_1', 17, 0.022908660951817914), ('Zola-Emile_La-curee_1', 0, 0.021726278451078922), ('Zola-Emile_La-curee_1', 11, 0.013745196571090747), ('Zola-Emile_La-curee_1', 3, 0.013745196571090747), ('Zola-Emile_La-curee_1', 5, 0.010789240319243274), ('Zola-Emile_La-curee_1', 10, 0.009311262193319538), ('Zola-Emile_La-curee_1', 16, 0.007537688442211055), ('Zola-Emile_La-curee_1', 19, 0.006650901566656813), ('Zola-Emile_La-curee_1', 2, 0.005468519065917825), ('Zola-Emile_La-curee_1', 6, 0.00487732781554833), ('Zola-Emile_La-curee_1', 8, 0.0033993496896245934), ('Zola-Emile_La-curee_1', 7, 0.002512562814070352), ('Zola-Emile_Pot-Bouille_1', 4, 0.26101568334578046), ('Zola-Emile_Pot-Bouille_1', 18, 0.14152352501867066), ('Zola-Emile_Pot-Bouille_1', 12, 0.13928304705003733), ('Zola-Emile_Pot-Bouille_1', 9, 0.10716952949962659), ('Zola-Emile_Pot-Bouille_1', 17, 0.07505601194921584), ('Zola-Emile_Pot-Bouille_1', 15, 0.07132188200149366), ('Zola-Emile_Pot-Bouille_1', 14, 0.05713218820014936), ('Zola-Emile_Pot-Bouille_1', 1, 0.02875280059746079), ('Zola-Emile_Pot-Bouille_1', 0, 0.02501867064973861), ('Zola-Emile_Pot-Bouille_1', 5, 0.020537714712471993), ('Zola-Emile_Pot-Bouille_1', 10, 0.015309932785660941), ('Zola-Emile_Pot-Bouille_1', 6, 0.014563106796116505), ('Zola-Emile_Pot-Bouille_1', 2, 0.009335324869305451), ('Zola-Emile_Pot-Bouille_1', 11, 0.00784167289021658), ('Zola-Emile_Pot-Bouille_1', 13, 0.006348020911127707), ('Zola-Emile_Pot-Bouille_1', 7, 0.005601194921583271), ('Zola-Emile_Pot-Bouille_1', 3, 0.0048543689320388345), ('Zola-Emile_Pot-Bouille_1', 16, 0.0033607169529499626), ('Zola-Emile_Pot-Bouille_1', 8, 0.0033607169529499626), ('Zola-Emile_Pot-Bouille_1', 19, 0.0026138909634055266), ('Zola-Emile_Au-bonheur-des-dames_1', 14, 0.14150485436893204), ('Zola-Emile_Au-bonheur-des-dames_1', 0, 0.14053398058252428), ('Zola-Emile_Au-bonheur-des-dames_1', 17, 0.11286407766990292), ('Zola-Emile_Au-bonheur-des-dames_1', 4, 0.09927184466019418), ('Zola-Emile_Au-bonheur-des-dames_1', 9, 0.09635922330097087), ('Zola-Emile_Au-bonheur-des-dames_1', 15, 0.08325242718446602), ('Zola-Emile_Au-bonheur-des-dames_1', 12, 0.07888349514563107), ('Zola-Emile_Au-bonheur-des-dames_1', 10, 0.06966019417475729), ('Zola-Emile_Au-bonheur-des-dames_1', 18, 0.05946601941747573), ('Zola-Emile_Au-bonheur-des-dames_1', 1, 0.04199029126213592), ('Zola-Emile_Au-bonheur-des-dames_1', 5, 0.02354368932038835), ('Zola-Emile_Au-bonheur-des-dames_1', 6, 0.01820388349514563), ('Zola-Emile_Au-bonheur-des-dames_1', 2, 0.007524271844660194), ('Zola-Emile_Au-bonheur-des-dames_1', 16, 0.006067961165048544), ('Zola-Emile_Au-bonheur-des-dames_1', 13, 0.005097087378640777), ('Zola-Emile_Au-bonheur-des-dames_1', 7, 0.005097087378640777), ('Zola-Emile_Au-bonheur-des-dames_1', 3, 0.0036407766990291263), ('Zola-Emile_Au-bonheur-des-dames_1', 11, 0.0031553398058252425), ('Zola-Emile_Au-bonheur-des-dames_1', 19, 0.002184466019417476), ('Zola-Emile_Au-bonheur-des-dames_1', 8, 0.0016990291262135922), ('Zola-Emile_Germinal_2', 14, 0.3413391557496361), ('Zola-Emile_Germinal_2', 4, 0.1812227074235808), ('Zola-Emile_Germinal_2', 15, 0.13901018922852984), ('Zola-Emile_Germinal_2', 17, 0.12590975254730713), ('Zola-Emile_Germinal_2', 1, 0.03566229985443959), ('Zola-Emile_Germinal_2', 2, 0.022561863173216887), ('Zola-Emile_Germinal_2', 13, 0.019650655021834062), ('Zola-Emile_Germinal_2', 5, 0.019650655021834062), ('Zola-Emile_Germinal_2', 12, 0.016739446870451237), ('Zola-Emile_Germinal_2', 0, 0.015283842794759825), ('Zola-Emile_Germinal_2', 16, 0.012372634643377001), ('Zola-Emile_Germinal_2', 11, 0.010917030567685589), ('Zola-Emile_Germinal_2', 9, 0.009461426491994178), ('Zola-Emile_Germinal_2', 3, 0.009461426491994178), ('Zola-Emile_Germinal_2', 18, 0.008005822416302766), ('Zola-Emile_Germinal_2', 7, 0.008005822416302766), ('Zola-Emile_Germinal_2', 10, 0.006550218340611353), ('Zola-Emile_Germinal_2', 8, 0.006550218340611353), ('Zola-Emile_Germinal_2', 6, 0.006550218340611353), ('Zola-Emile_Germinal_2', 19, 0.005094614264919942), ('Zola-Emile_La-curee_2', 9, 0.23475274725274725), ('Zola-Emile_La-curee_2', 4, 0.12321428571428572), ('Zola-Emile_La-curee_2', 17, 0.08173076923076923), ('Zola-Emile_La-curee_2', 18, 0.0668956043956044), ('Zola-Emile_La-curee_2', 15, 0.06524725274725275), ('Zola-Emile_La-curee_2', 0, 0.06304945054945055), ('Zola-Emile_La-curee_2', 12, 0.0603021978021978), ('Zola-Emile_La-curee_2', 1, 0.04931318681318681), ('Zola-Emile_La-curee_2', 10, 0.04519230769230769), ('Zola-Emile_La-curee_2', 14, 0.04326923076923077), ('Zola-Emile_La-curee_2', 16, 0.03997252747252747), ('Zola-Emile_La-curee_2', 5, 0.03420329670329671), ('Zola-Emile_La-curee_2', 2, 0.020467032967032967), ('Zola-Emile_La-curee_2', 19, 0.019917582417582416), ('Zola-Emile_La-curee_2', 6, 0.01607142857142857), ('Zola-Emile_La-curee_2', 7, 0.010851648351648351), ('Zola-Emile_La-curee_2', 11, 0.010576923076923078), ('Zola-Emile_La-curee_2', 3, 0.010302197802197802), ('Zola-Emile_La-curee_2', 13, 0.0031593406593406594), ('Zola-Emile_La-curee_2', 8, 0.001510989010989011), ('Zola-Emile_Au-bonheur-des-dames_2', 9, 0.2028301886792453), ('Zola-Emile_Au-bonheur-des-dames_2', 0, 0.1621151936444886), ('Zola-Emile_Au-bonheur-des-dames_2', 12, 0.12686196623634557), ('Zola-Emile_Au-bonheur-des-dames_2', 4, 0.08167825223435948), ('Zola-Emile_Au-bonheur-des-dames_2', 15, 0.08068520357497518), ('Zola-Emile_Au-bonheur-des-dames_2', 18, 0.07274081429990069), ('Zola-Emile_Au-bonheur-des-dames_2', 14, 0.052383316782522345), ('Zola-Emile_Au-bonheur-des-dames_2', 5, 0.039473684210526314), ('Zola-Emile_Au-bonheur-des-dames_2', 10, 0.03897715988083416), ('Zola-Emile_Au-bonheur-des-dames_2', 16, 0.03152929493545184), ('Zola-Emile_Au-bonheur-des-dames_2', 17, 0.027060575968222443), ('Zola-Emile_Au-bonheur-des-dames_2', 7, 0.020605759682224428), ('Zola-Emile_Au-bonheur-des-dames_2', 13, 0.01365441906653426), ('Zola-Emile_Au-bonheur-des-dames_2', 11, 0.013157894736842105), ('Zola-Emile_Au-bonheur-des-dames_2', 2, 0.010178748758689175), ('Zola-Emile_Au-bonheur-des-dames_2', 19, 0.008192651439920555), ('Zola-Emile_Au-bonheur-des-dames_2', 8, 0.006206554121151936), ('Zola-Emile_Au-bonheur-des-dames_2', 3, 0.0057100297914597815), ('Zola-Emile_Au-bonheur-des-dames_2', 6, 0.003227408142999007), ('Zola-Emile_Au-bonheur-des-dames_2', 1, 0.002730883813306852), ('Zola-Emile_Nana_2', 18, 0.22545090180360722), ('Zola-Emile_Nana_2', 14, 0.16666666666666666), ('Zola-Emile_Nana_2', 12, 0.11589846359385438), ('Zola-Emile_Nana_2', 9, 0.09986639946559786), ('Zola-Emile_Nana_2', 5, 0.09853039412157649), ('Zola-Emile_Nana_2', 15, 0.08517034068136273), ('Zola-Emile_Nana_2', 4, 0.0758183032732131), ('Zola-Emile_Nana_2', 0, 0.041082164328657314), ('Zola-Emile_Nana_2', 17, 0.03239812959251837), ('Zola-Emile_Nana_2', 16, 0.010354041416165664), ('Zola-Emile_Nana_2', 3, 0.008350033400133601), ('Zola-Emile_Nana_2', 13, 0.0070140280561122245), ('Zola-Emile_Nana_2', 2, 0.0070140280561122245), ('Zola-Emile_Nana_2', 7, 0.006346025384101536), ('Zola-Emile_Nana_2', 10, 0.00501002004008016), ('Zola-Emile_Nana_2', 1, 0.004342017368069473), ('Zola-Emile_Nana_2', 19, 0.003674014696058784), ('Zola-Emile_Nana_2', 6, 0.003006012024048096), ('Zola-Emile_Nana_2', 8, 0.002338009352037408), ('Zola-Emile_Nana_2', 11, 0.0016700066800267202), ('Zola-Emile_Pot-Bouille_2', 14, 0.23234524847428073), ('Zola-Emile_Pot-Bouille_2', 17, 0.16085440278988666), ('Zola-Emile_Pot-Bouille_2', 18, 0.11464690496948561), ('Zola-Emile_Pot-Bouille_2', 15, 0.0972101133391456), ('Zola-Emile_Pot-Bouille_2', 9, 0.0963382737576286), ('Zola-Emile_Pot-Bouille_2', 12, 0.08761987794245858), ('Zola-Emile_Pot-Bouille_2', 4, 0.05710549258936356), ('Zola-Emile_Pot-Bouille_2', 5, 0.02833478639930253), ('Zola-Emile_Pot-Bouille_2', 10, 0.02048823016564952), ('Zola-Emile_Pot-Bouille_2', 16, 0.01961639058413252), ('Zola-Emile_Pot-Bouille_2', 6, 0.018744551002615517), ('Zola-Emile_Pot-Bouille_2', 0, 0.014385353095030515), ('Zola-Emile_Pot-Bouille_2', 11, 0.013513513513513514), ('Zola-Emile_Pot-Bouille_2', 2, 0.008282476024411508), ('Zola-Emile_Pot-Bouille_2', 19, 0.006538796861377506), ('Zola-Emile_Pot-Bouille_2', 7, 0.005666957279860506), ('Zola-Emile_Pot-Bouille_2', 1, 0.005666957279860506), ('Zola-Emile_Pot-Bouille_2', 13, 0.004795117698343505), ('Zola-Emile_Pot-Bouille_2', 8, 0.003923278116826504), ('Zola-Emile_Pot-Bouille_2', 3, 0.003923278116826504), ('Zola-Emile_Une-page-d-amour_2', 18, 0.21759890859481582), ('Zola-Emile_Une-page-d-amour_2', 12, 0.16030013642564803), ('Zola-Emile_Une-page-d-amour_2', 17, 0.12346521145975443), ('Zola-Emile_Une-page-d-amour_2', 5, 0.08526603001364257), ('Zola-Emile_Une-page-d-amour_2', 15, 0.08390177353342429), ('Zola-Emile_Une-page-d-amour_2', 4, 0.07708049113233288), ('Zola-Emile_Une-page-d-amour_2', 2, 0.038881309686221006), ('Zola-Emile_Une-page-d-amour_2', 0, 0.03751705320600273), ('Zola-Emile_Une-page-d-amour_2', 14, 0.029331514324693043), ('Zola-Emile_Une-page-d-amour_2', 9, 0.029331514324693043), ('Zola-Emile_Une-page-d-amour_2', 7, 0.029331514324693043), ('Zola-Emile_Une-page-d-amour_2', 10, 0.017053206002728513), ('Zola-Emile_Une-page-d-amour_2', 1, 0.015688949522510234), ('Zola-Emile_Une-page-d-amour_2', 6, 0.01296043656207367), ('Zola-Emile_Une-page-d-amour_2', 13, 0.011596180081855388), ('Zola-Emile_Une-page-d-amour_2', 11, 0.010231923601637109), ('Zola-Emile_Une-page-d-amour_2', 3, 0.008867667121418827), ('Zola-Emile_Une-page-d-amour_2', 16, 0.0047748976807639835), ('Zola-Emile_Une-page-d-amour_2', 19, 0.0034106412005457027), ('Zola-Emile_Une-page-d-amour_2', 8, 0.0034106412005457027), ('Zola-Emile_La-faute-de-l-abbe-Mouret_1', 6, 0.27503097893432465), ('Zola-Emile_La-faute-de-l-abbe-Mouret_1', 1, 0.1714374225526642), ('Zola-Emile_La-faute-de-l-abbe-Mouret_1', 14, 0.13748451053283767), ('Zola-Emile_La-faute-de-l-abbe-Mouret_1', 15, 0.12459727385377943), ('Zola-Emile_La-faute-de-l-abbe-Mouret_1', 13, 0.06201982651796778), ('Zola-Emile_La-faute-de-l-abbe-Mouret_1', 17, 0.05297397769516728), ('Zola-Emile_La-faute-de-l-abbe-Mouret_1', 10, 0.03587360594795539), ('Zola-Emile_La-faute-de-l-abbe-Mouret_1', 4, 0.03401486988847584), ('Zola-Emile_La-faute-de-l-abbe-Mouret_1', 5, 0.025960346964064435), ('Zola-Emile_La-faute-de-l-abbe-Mouret_1', 2, 0.020260223048327138), ('Zola-Emile_La-faute-de-l-abbe-Mouret_1', 18, 0.018029739776951673), ('Zola-Emile_La-faute-de-l-abbe-Mouret_1', 7, 0.013568773234200743), ('Zola-Emile_La-faute-de-l-abbe-Mouret_1', 12, 0.008612143742255267), ('Zola-Emile_La-faute-de-l-abbe-Mouret_1', 3, 0.007868649318463445), ('Zola-Emile_La-faute-de-l-abbe-Mouret_1', 16, 0.005390334572490706), ('Zola-Emile_La-faute-de-l-abbe-Mouret_1', 9, 0.002912019826517968), ('Zola-Emile_La-faute-de-l-abbe-Mouret_1', 19, 0.0014250309789343248), ('Zola-Emile_La-faute-de-l-abbe-Mouret_1', 8, 0.0011771995043370507), ('Zola-Emile_La-faute-de-l-abbe-Mouret_1', 0, 0.0009293680297397769), ('Zola-Emile_La-faute-de-l-abbe-Mouret_1', 11, 0.00043370508054522923), ('Zola-Emile_L-assomoir_2', 14, 0.3561011181332037), ('Zola-Emile_L-assomoir_2', 15, 0.18254739912493922), ('Zola-Emile_L-assomoir_2', 4, 0.12323772484200292), ('Zola-Emile_L-assomoir_2', 1, 0.061011181332036944), ('Zola-Emile_L-assomoir_2', 17, 0.057122022362664074), ('Zola-Emile_L-assomoir_2', 0, 0.04496840058337385), ('Zola-Emile_L-assomoir_2', 18, 0.0425376762275158), ('Zola-Emile_L-assomoir_2', 2, 0.028439474963539133), ('Zola-Emile_L-assomoir_2', 12, 0.026494895478852698), ('Zola-Emile_L-assomoir_2', 5, 0.02066115702479339), ('Zola-Emile_L-assomoir_2', 11, 0.010452114730189596), ('Zola-Emile_L-assomoir_2', 10, 0.009479824987846379), ('Zola-Emile_L-assomoir_2', 8, 0.0065629557608167235), ('Zola-Emile_L-assomoir_2', 6, 0.0065629557608167235), ('Zola-Emile_L-assomoir_2', 9, 0.005104521147301896), ('Zola-Emile_L-assomoir_2', 16, 0.004618376276130287), ('Zola-Emile_L-assomoir_2', 3, 0.004618376276130287), ('Zola-Emile_L-assomoir_2', 13, 0.0036460865337870686), ('Zola-Emile_L-assomoir_2', 7, 0.0031599416626154593), ('Zola-Emile_L-assomoir_2', 19, 0.00267379679144385), ('Zola-Emile_La-faute-de-l-abbe-Mouret_2', 6, 0.3416075650118203), ('Zola-Emile_La-faute-de-l-abbe-Mouret_2', 14, 0.2186761229314421), ('Zola-Emile_La-faute-de-l-abbe-Mouret_2', 15, 0.07210401891252956), ('Zola-Emile_La-faute-de-l-abbe-Mouret_2', 1, 0.06501182033096926), ('Zola-Emile_La-faute-de-l-abbe-Mouret_2', 12, 0.0508274231678487), ('Zola-Emile_La-faute-de-l-abbe-Mouret_2', 4, 0.04846335697399527), ('Zola-Emile_La-faute-de-l-abbe-Mouret_2', 18, 0.02955082742316785), ('Zola-Emile_La-faute-de-l-abbe-Mouret_2', 13, 0.02955082742316785), ('Zola-Emile_La-faute-de-l-abbe-Mouret_2', 2, 0.02009456264775414), ('Zola-Emile_La-faute-de-l-abbe-Mouret_2', 5, 0.01773049645390071), ('Zola-Emile_La-faute-de-l-abbe-Mouret_2', 8, 0.015366430260047281), ('Zola-Emile_La-faute-de-l-abbe-Mouret_2', 19, 0.013002364066193853), ('Zola-Emile_La-faute-de-l-abbe-Mouret_2', 16, 0.013002364066193853), ('Zola-Emile_La-faute-de-l-abbe-Mouret_2', 0, 0.013002364066193853), ('Zola-Emile_La-faute-de-l-abbe-Mouret_2', 17, 0.010638297872340425), ('Zola-Emile_La-faute-de-l-abbe-Mouret_2', 10, 0.010638297872340425), ('Zola-Emile_La-faute-de-l-abbe-Mouret_2', 3, 0.010638297872340425), ('Zola-Emile_La-faute-de-l-abbe-Mouret_2', 9, 0.008274231678486997), ('Zola-Emile_La-faute-de-l-abbe-Mouret_2', 11, 0.00591016548463357), ('Zola-Emile_La-faute-de-l-abbe-Mouret_2', 7, 0.00591016548463357), ('Zola-Emile_Une-page-d-amour_1', 15, 0.36256906077348067), ('Zola-Emile_Une-page-d-amour_1', 4, 0.17472375690607736), ('Zola-Emile_Une-page-d-amour_1', 2, 0.1180939226519337), ('Zola-Emile_Une-page-d-amour_1', 17, 0.1042817679558011), ('Zola-Emile_Une-page-d-amour_1', 12, 0.04074585635359116), ('Zola-Emile_Une-page-d-amour_1', 18, 0.03383977900552486), ('Zola-Emile_Une-page-d-amour_1', 5, 0.031077348066298343), ('Zola-Emile_Une-page-d-amour_1', 0, 0.021408839779005526), ('Zola-Emile_Une-page-d-amour_1', 14, 0.020027624309392266), ('Zola-Emile_Une-page-d-amour_1', 1, 0.020027624309392266), ('Zola-Emile_Une-page-d-amour_1', 16, 0.010359116022099447), ('Zola-Emile_Une-page-d-amour_1', 13, 0.007596685082872928), ('Zola-Emile_Une-page-d-amour_1', 11, 0.007596685082872928), ('Zola-Emile_Une-page-d-amour_1', 10, 0.007596685082872928), ('Zola-Emile_Une-page-d-amour_1', 7, 0.007596685082872928), ('Zola-Emile_Une-page-d-amour_1', 6, 0.007596685082872928), ('Zola-Emile_Une-page-d-amour_1', 3, 0.007596685082872928), ('Zola-Emile_Une-page-d-amour_1', 9, 0.006215469613259668), ('Zola-Emile_Une-page-d-amour_1', 8, 0.006215469613259668), ('Zola-Emile_Une-page-d-amour_1', 19, 0.004834254143646409)]\n"
     ]
    }
   ],
   "source": [
    "print(doctopic_triples)"
   ]
  },
  {
   "cell_type": "code",
   "execution_count": 8,
   "metadata": {},
   "outputs": [],
   "source": [
    "mallet_docnames = sorted(mallet_docnames)"
   ]
  },
  {
   "cell_type": "code",
   "execution_count": 9,
   "metadata": {},
   "outputs": [],
   "source": [
    "num_docs = len(mallet_docnames)"
   ]
  },
  {
   "cell_type": "code",
   "execution_count": 10,
   "metadata": {},
   "outputs": [],
   "source": [
    "doctopic_triples = sorted(doctopic_triples, key=operator.itemgetter(0,1))"
   ]
  },
  {
   "cell_type": "code",
   "execution_count": 11,
   "metadata": {},
   "outputs": [
    {
     "name": "stdout",
     "output_type": "stream",
     "text": [
      "360\n",
      "20\n"
     ]
    }
   ],
   "source": [
    "num_topics = len(doctopic_triples) // len(mallet_docnames)\n",
    "print(len(doctopic_triples))\n",
    "print(num_topics)"
   ]
  },
  {
   "cell_type": "code",
   "execution_count": 12,
   "metadata": {},
   "outputs": [],
   "source": [
    "doctopic = np.zeros((num_docs, num_topics))"
   ]
  },
  {
   "cell_type": "code",
   "execution_count": 13,
   "metadata": {},
   "outputs": [],
   "source": [
    "for triple in doctopic_triples:\n",
    "    docname, topic, share = triple\n",
    "    row_num = mallet_docnames.index(docname)\n",
    "    doctopic[row_num, topic] = share"
   ]
  },
  {
   "cell_type": "code",
   "execution_count": 14,
   "metadata": {},
   "outputs": [],
   "source": [
    "novel_names = []"
   ]
  },
  {
   "cell_type": "code",
   "execution_count": 15,
   "metadata": {},
   "outputs": [
    {
     "name": "stdout",
     "output_type": "stream",
     "text": [
      "18\n"
     ]
    }
   ],
   "source": [
    "for fn in mallet_docnames:\n",
    "    basename = os.path.basename(fn)\n",
    "    name, ext = os.path.splitext(basename)\n",
    "    novel_names.append(name)\n",
    "print(len(novel_names))"
   ]
  },
  {
   "cell_type": "code",
   "execution_count": 16,
   "metadata": {},
   "outputs": [],
   "source": [
    "novel_names = np.asarray(novel_names)"
   ]
  },
  {
   "cell_type": "code",
   "execution_count": 17,
   "metadata": {},
   "outputs": [
    {
     "data": {
      "text/plain": [
       "array([[ 0.14053398,  0.04199029,  0.00752427,  0.00364078,  0.09927184,\n",
       "         0.02354369,  0.01820388,  0.00509709,  0.00169903,  0.09635922,\n",
       "         0.06966019,  0.00315534,  0.0788835 ,  0.00509709,  0.14150485,\n",
       "         0.08325243,  0.00606796,  0.11286408,  0.05946602,  0.00218447],\n",
       "       [ 0.16211519,  0.00273088,  0.01017875,  0.00571003,  0.08167825,\n",
       "         0.03947368,  0.00322741,  0.02060576,  0.00620655,  0.20283019,\n",
       "         0.03897716,  0.01315789,  0.12686197,  0.01365442,  0.05238332,\n",
       "         0.0806852 ,  0.03152929,  0.02706058,  0.07274081,  0.00819265],\n",
       "       [ 0.02992021,  0.12300532,  0.14029255,  0.00465426,  0.02859043,\n",
       "         0.02460106,  0.01263298,  0.00731383,  0.01130319,  0.02460106,\n",
       "         0.00332447,  0.01529255,  0.00864362,  0.13098404,  0.27194149,\n",
       "         0.0525266 ,  0.01263298,  0.03257979,  0.0099734 ,  0.05518617],\n",
       "       [ 0.01528384,  0.0356623 ,  0.02256186,  0.00946143,  0.18122271,\n",
       "         0.01965066,  0.00655022,  0.00800582,  0.00655022,  0.00946143,\n",
       "         0.00655022,  0.01091703,  0.01673945,  0.01965066,  0.34133916,\n",
       "         0.13901019,  0.01237263,  0.12590975,  0.00800582,  0.00509461],\n",
       "       [ 0.03873239,  0.03169014,  0.03873239,  0.01760563,  0.02464789,\n",
       "         0.01760563,  0.02464789,  0.24295775,  0.02464789,  0.07394366,\n",
       "         0.08802817,  0.06690141,  0.01760563,  0.02464789,  0.10915493,\n",
       "         0.01760563,  0.08098592,  0.02464789,  0.01760563,  0.01760563],\n",
       "       [ 0.0449684 ,  0.06101118,  0.02843947,  0.00461838,  0.12323772,\n",
       "         0.02066116,  0.00656296,  0.00315994,  0.00656296,  0.00510452,\n",
       "         0.00947982,  0.01045211,  0.0264949 ,  0.00364609,  0.35610112,\n",
       "         0.1825474 ,  0.00461838,  0.05712202,  0.04253768,  0.0026738 ],\n",
       "       [ 0.02172628,  0.21859296,  0.00546852,  0.0137452 ,  0.09976352,\n",
       "         0.01078924,  0.00487733,  0.00251256,  0.00339935,  0.05039905,\n",
       "         0.00931126,  0.0137452 ,  0.22539166,  0.02349985,  0.05719775,\n",
       "         0.0947384 ,  0.00753769,  0.02290866,  0.10774461,  0.0066509 ],\n",
       "       [ 0.06304945,  0.04931319,  0.02046703,  0.0103022 ,  0.12321429,\n",
       "         0.0342033 ,  0.01607143,  0.01085165,  0.00151099,  0.23475275,\n",
       "         0.04519231,  0.01057692,  0.0603022 ,  0.00315934,  0.04326923,\n",
       "         0.06524725,  0.03997253,  0.08173077,  0.0668956 ,  0.01991758],\n",
       "       [ 0.00092937,  0.17143742,  0.02026022,  0.00786865,  0.03401487,\n",
       "         0.02596035,  0.27503098,  0.01356877,  0.0011772 ,  0.00291202,\n",
       "         0.03587361,  0.00043371,  0.00861214,  0.06201983,  0.13748451,\n",
       "         0.12459727,  0.00539033,  0.05297398,  0.01802974,  0.00142503],\n",
       "       [ 0.01300236,  0.06501182,  0.02009456,  0.0106383 ,  0.04846336,\n",
       "         0.0177305 ,  0.34160757,  0.00591017,  0.01536643,  0.00827423,\n",
       "         0.0106383 ,  0.00591017,  0.05082742,  0.02955083,  0.21867612,\n",
       "         0.07210402,  0.01300236,  0.0106383 ,  0.02955083,  0.01300236],\n",
       "       [ 0.03040541,  0.02364865,  0.09121622,  0.02364865,  0.02364865,\n",
       "         0.03040541,  0.03040541,  0.24662162,  0.02364865,  0.10472973,\n",
       "         0.0777027 ,  0.06418919,  0.02364865,  0.02364865,  0.01689189,\n",
       "         0.01689189,  0.0777027 ,  0.02364865,  0.01689189,  0.03040541],\n",
       "       [ 0.00701289,  0.25871873,  0.02596664,  0.00322214,  0.02634572,\n",
       "         0.02065959,  0.00966641,  0.00435936,  0.00132676,  0.00473844,\n",
       "         0.0706975 ,  0.11884003,  0.03089462,  0.15674754,  0.06539045,\n",
       "         0.13665656,  0.01156179,  0.03658074,  0.00322214,  0.00739196],\n",
       "       [ 0.06678339,  0.03576788,  0.01375688,  0.01375688,  0.06728364,\n",
       "         0.00825413,  0.01175588,  0.01275638,  0.00725363,  0.02726363,\n",
       "         0.00725363,  0.02326163,  0.36943472,  0.00575288,  0.0857929 ,\n",
       "         0.14082041,  0.02276138,  0.02626313,  0.05177589,  0.00225113],\n",
       "       [ 0.04108216,  0.00434202,  0.00701403,  0.00835003,  0.0758183 ,\n",
       "         0.09853039,  0.00300601,  0.00634603,  0.00233801,  0.0998664 ,\n",
       "         0.00501002,  0.00167001,  0.11589846,  0.00701403,  0.16666667,\n",
       "         0.08517034,  0.01035404,  0.03239813,  0.2254509 ,  0.00367401],\n",
       "       [ 0.02501867,  0.0287528 ,  0.00933532,  0.00485437,  0.26101568,\n",
       "         0.02053771,  0.01456311,  0.00560119,  0.00336072,  0.10716953,\n",
       "         0.01530993,  0.00784167,  0.13928305,  0.00634802,  0.05713219,\n",
       "         0.07132188,  0.00336072,  0.07505601,  0.14152353,  0.00261389],\n",
       "       [ 0.01438535,  0.00566696,  0.00828248,  0.00392328,  0.05710549,\n",
       "         0.02833479,  0.01874455,  0.00566696,  0.00392328,  0.09633827,\n",
       "         0.02048823,  0.01351351,  0.08761988,  0.00479512,  0.23234525,\n",
       "         0.09721011,  0.01961639,  0.1608544 ,  0.1146469 ,  0.0065388 ],\n",
       "       [ 0.02140884,  0.02002762,  0.11809392,  0.00759669,  0.17472376,\n",
       "         0.03107735,  0.00759669,  0.00759669,  0.00621547,  0.00621547,\n",
       "         0.00759669,  0.00759669,  0.04074586,  0.00759669,  0.02002762,\n",
       "         0.36256906,  0.01035912,  0.10428177,  0.03383978,  0.00483425],\n",
       "       [ 0.03751705,  0.01568895,  0.03888131,  0.00886767,  0.07708049,\n",
       "         0.08526603,  0.01296044,  0.02933151,  0.00341064,  0.02933151,\n",
       "         0.01705321,  0.01023192,  0.16030014,  0.01159618,  0.02933151,\n",
       "         0.08390177,  0.0047749 ,  0.12346521,  0.21759891,  0.00341064]])"
      ]
     },
     "execution_count": 17,
     "metadata": {},
     "output_type": "execute_result"
    }
   ],
   "source": [
    "doctopic"
   ]
  },
  {
   "cell_type": "code",
   "execution_count": 18,
   "metadata": {},
   "outputs": [],
   "source": [
    "doctopic_orig = doctopic.copy()"
   ]
  },
  {
   "cell_type": "code",
   "execution_count": 19,
   "metadata": {},
   "outputs": [
    {
     "name": "stdout",
     "output_type": "stream",
     "text": [
      "18\n"
     ]
    }
   ],
   "source": [
    "num_groups = len(set(novel_names))\n",
    "print(num_groups)"
   ]
  },
  {
   "cell_type": "code",
   "execution_count": 20,
   "metadata": {},
   "outputs": [],
   "source": [
    "doctopic_grouped = np.zeros((num_groups, num_topics))"
   ]
  },
  {
   "cell_type": "code",
   "execution_count": 21,
   "metadata": {},
   "outputs": [],
   "source": [
    "for i, name in enumerate(sorted(set(novel_names))):\n",
    "    doctopic_grouped[i, :] = np.mean(doctopic[novel_names == name, :], axis=0)"
   ]
  },
  {
   "cell_type": "code",
   "execution_count": 22,
   "metadata": {},
   "outputs": [],
   "source": [
    "doctopic = doctopic_grouped"
   ]
  },
  {
   "cell_type": "code",
   "execution_count": 23,
   "metadata": {},
   "outputs": [
    {
     "data": {
      "text/plain": [
       "array([[ 0.14053398,  0.04199029,  0.00752427,  0.00364078,  0.09927184,\n",
       "         0.02354369,  0.01820388,  0.00509709,  0.00169903,  0.09635922,\n",
       "         0.06966019,  0.00315534,  0.0788835 ,  0.00509709,  0.14150485,\n",
       "         0.08325243,  0.00606796,  0.11286408,  0.05946602,  0.00218447],\n",
       "       [ 0.16211519,  0.00273088,  0.01017875,  0.00571003,  0.08167825,\n",
       "         0.03947368,  0.00322741,  0.02060576,  0.00620655,  0.20283019,\n",
       "         0.03897716,  0.01315789,  0.12686197,  0.01365442,  0.05238332,\n",
       "         0.0806852 ,  0.03152929,  0.02706058,  0.07274081,  0.00819265],\n",
       "       [ 0.02992021,  0.12300532,  0.14029255,  0.00465426,  0.02859043,\n",
       "         0.02460106,  0.01263298,  0.00731383,  0.01130319,  0.02460106,\n",
       "         0.00332447,  0.01529255,  0.00864362,  0.13098404,  0.27194149,\n",
       "         0.0525266 ,  0.01263298,  0.03257979,  0.0099734 ,  0.05518617],\n",
       "       [ 0.01528384,  0.0356623 ,  0.02256186,  0.00946143,  0.18122271,\n",
       "         0.01965066,  0.00655022,  0.00800582,  0.00655022,  0.00946143,\n",
       "         0.00655022,  0.01091703,  0.01673945,  0.01965066,  0.34133916,\n",
       "         0.13901019,  0.01237263,  0.12590975,  0.00800582,  0.00509461],\n",
       "       [ 0.03873239,  0.03169014,  0.03873239,  0.01760563,  0.02464789,\n",
       "         0.01760563,  0.02464789,  0.24295775,  0.02464789,  0.07394366,\n",
       "         0.08802817,  0.06690141,  0.01760563,  0.02464789,  0.10915493,\n",
       "         0.01760563,  0.08098592,  0.02464789,  0.01760563,  0.01760563],\n",
       "       [ 0.0449684 ,  0.06101118,  0.02843947,  0.00461838,  0.12323772,\n",
       "         0.02066116,  0.00656296,  0.00315994,  0.00656296,  0.00510452,\n",
       "         0.00947982,  0.01045211,  0.0264949 ,  0.00364609,  0.35610112,\n",
       "         0.1825474 ,  0.00461838,  0.05712202,  0.04253768,  0.0026738 ],\n",
       "       [ 0.02172628,  0.21859296,  0.00546852,  0.0137452 ,  0.09976352,\n",
       "         0.01078924,  0.00487733,  0.00251256,  0.00339935,  0.05039905,\n",
       "         0.00931126,  0.0137452 ,  0.22539166,  0.02349985,  0.05719775,\n",
       "         0.0947384 ,  0.00753769,  0.02290866,  0.10774461,  0.0066509 ],\n",
       "       [ 0.06304945,  0.04931319,  0.02046703,  0.0103022 ,  0.12321429,\n",
       "         0.0342033 ,  0.01607143,  0.01085165,  0.00151099,  0.23475275,\n",
       "         0.04519231,  0.01057692,  0.0603022 ,  0.00315934,  0.04326923,\n",
       "         0.06524725,  0.03997253,  0.08173077,  0.0668956 ,  0.01991758],\n",
       "       [ 0.00092937,  0.17143742,  0.02026022,  0.00786865,  0.03401487,\n",
       "         0.02596035,  0.27503098,  0.01356877,  0.0011772 ,  0.00291202,\n",
       "         0.03587361,  0.00043371,  0.00861214,  0.06201983,  0.13748451,\n",
       "         0.12459727,  0.00539033,  0.05297398,  0.01802974,  0.00142503],\n",
       "       [ 0.01300236,  0.06501182,  0.02009456,  0.0106383 ,  0.04846336,\n",
       "         0.0177305 ,  0.34160757,  0.00591017,  0.01536643,  0.00827423,\n",
       "         0.0106383 ,  0.00591017,  0.05082742,  0.02955083,  0.21867612,\n",
       "         0.07210402,  0.01300236,  0.0106383 ,  0.02955083,  0.01300236],\n",
       "       [ 0.03040541,  0.02364865,  0.09121622,  0.02364865,  0.02364865,\n",
       "         0.03040541,  0.03040541,  0.24662162,  0.02364865,  0.10472973,\n",
       "         0.0777027 ,  0.06418919,  0.02364865,  0.02364865,  0.01689189,\n",
       "         0.01689189,  0.0777027 ,  0.02364865,  0.01689189,  0.03040541],\n",
       "       [ 0.00701289,  0.25871873,  0.02596664,  0.00322214,  0.02634572,\n",
       "         0.02065959,  0.00966641,  0.00435936,  0.00132676,  0.00473844,\n",
       "         0.0706975 ,  0.11884003,  0.03089462,  0.15674754,  0.06539045,\n",
       "         0.13665656,  0.01156179,  0.03658074,  0.00322214,  0.00739196],\n",
       "       [ 0.06678339,  0.03576788,  0.01375688,  0.01375688,  0.06728364,\n",
       "         0.00825413,  0.01175588,  0.01275638,  0.00725363,  0.02726363,\n",
       "         0.00725363,  0.02326163,  0.36943472,  0.00575288,  0.0857929 ,\n",
       "         0.14082041,  0.02276138,  0.02626313,  0.05177589,  0.00225113],\n",
       "       [ 0.04108216,  0.00434202,  0.00701403,  0.00835003,  0.0758183 ,\n",
       "         0.09853039,  0.00300601,  0.00634603,  0.00233801,  0.0998664 ,\n",
       "         0.00501002,  0.00167001,  0.11589846,  0.00701403,  0.16666667,\n",
       "         0.08517034,  0.01035404,  0.03239813,  0.2254509 ,  0.00367401],\n",
       "       [ 0.02501867,  0.0287528 ,  0.00933532,  0.00485437,  0.26101568,\n",
       "         0.02053771,  0.01456311,  0.00560119,  0.00336072,  0.10716953,\n",
       "         0.01530993,  0.00784167,  0.13928305,  0.00634802,  0.05713219,\n",
       "         0.07132188,  0.00336072,  0.07505601,  0.14152353,  0.00261389],\n",
       "       [ 0.01438535,  0.00566696,  0.00828248,  0.00392328,  0.05710549,\n",
       "         0.02833479,  0.01874455,  0.00566696,  0.00392328,  0.09633827,\n",
       "         0.02048823,  0.01351351,  0.08761988,  0.00479512,  0.23234525,\n",
       "         0.09721011,  0.01961639,  0.1608544 ,  0.1146469 ,  0.0065388 ],\n",
       "       [ 0.02140884,  0.02002762,  0.11809392,  0.00759669,  0.17472376,\n",
       "         0.03107735,  0.00759669,  0.00759669,  0.00621547,  0.00621547,\n",
       "         0.00759669,  0.00759669,  0.04074586,  0.00759669,  0.02002762,\n",
       "         0.36256906,  0.01035912,  0.10428177,  0.03383978,  0.00483425],\n",
       "       [ 0.03751705,  0.01568895,  0.03888131,  0.00886767,  0.07708049,\n",
       "         0.08526603,  0.01296044,  0.02933151,  0.00341064,  0.02933151,\n",
       "         0.01705321,  0.01023192,  0.16030014,  0.01159618,  0.02933151,\n",
       "         0.08390177,  0.0047749 ,  0.12346521,  0.21759891,  0.00341064]])"
      ]
     },
     "execution_count": 23,
     "metadata": {},
     "output_type": "execute_result"
    }
   ],
   "source": [
    "doctopic"
   ]
  },
  {
   "cell_type": "code",
   "execution_count": 24,
   "metadata": {},
   "outputs": [
    {
     "name": "stdout",
     "output_type": "stream",
     "text": [
      "20\n"
     ]
    }
   ],
   "source": [
    "N, K = doctopic.shape\n",
    "print(K)"
   ]
  },
  {
   "cell_type": "code",
   "execution_count": 25,
   "metadata": {},
   "outputs": [],
   "source": [
    "ind = np.arange(N)"
   ]
  },
  {
   "cell_type": "code",
   "execution_count": 26,
   "metadata": {},
   "outputs": [],
   "source": [
    "width = 0.5"
   ]
  },
  {
   "cell_type": "code",
   "execution_count": 27,
   "metadata": {},
   "outputs": [],
   "source": [
    "plt.rcParams[\"figure.figsize\"] = [16,9]"
   ]
  },
  {
   "cell_type": "code",
   "execution_count": 28,
   "metadata": {},
   "outputs": [
    {
     "data": {
      "text/plain": [
       "<Container object of 18 artists>"
      ]
     },
     "execution_count": 28,
     "metadata": {},
     "output_type": "execute_result"
    }
   ],
   "source": [
    "plt.bar(ind, doctopic[:,0], width=width)"
   ]
  },
  {
   "cell_type": "code",
   "execution_count": 29,
   "metadata": {},
   "outputs": [
    {
     "data": {
      "text/plain": [
       "([<matplotlib.axis.XTick at 0x7f33e01bf518>,\n",
       "  <matplotlib.axis.XTick at 0x7f3416cf8470>,\n",
       "  <matplotlib.axis.XTick at 0x7f33e01b90b8>,\n",
       "  <matplotlib.axis.XTick at 0x7f33de17cb00>,\n",
       "  <matplotlib.axis.XTick at 0x7f33de188048>,\n",
       "  <matplotlib.axis.XTick at 0x7f33de1886d8>,\n",
       "  <matplotlib.axis.XTick at 0x7f33de188d68>,\n",
       "  <matplotlib.axis.XTick at 0x7f33de18b3c8>,\n",
       "  <matplotlib.axis.XTick at 0x7f33de18ba20>,\n",
       "  <matplotlib.axis.XTick at 0x7f33de18e0f0>,\n",
       "  <matplotlib.axis.XTick at 0x7f33de18b860>,\n",
       "  <matplotlib.axis.XTick at 0x7f33de17ceb8>,\n",
       "  <matplotlib.axis.XTick at 0x7f33de18e208>,\n",
       "  <matplotlib.axis.XTick at 0x7f33de18b6d8>,\n",
       "  <matplotlib.axis.XTick at 0x7f33e04609b0>,\n",
       "  <matplotlib.axis.XTick at 0x7f33de18ec18>,\n",
       "  <matplotlib.axis.XTick at 0x7f33e04742b0>,\n",
       "  <matplotlib.axis.XTick at 0x7f33e0474908>],\n",
       " <a list of 18 Text xticklabel objects>)"
      ]
     },
     "execution_count": 29,
     "metadata": {},
     "output_type": "execute_result"
    }
   ],
   "source": [
    "plt.xticks(rotation=90)\n",
    "plt.xticks(ind + width/2, novel_names)"
   ]
  },
  {
   "cell_type": "code",
   "execution_count": 30,
   "metadata": {},
   "outputs": [
    {
     "data": {
      "text/plain": [
       "Text(0.5,1,'Share of Topic #0')"
      ]
     },
     "execution_count": 30,
     "metadata": {},
     "output_type": "execute_result"
    }
   ],
   "source": [
    "plt.title('Share of Topic #0')"
   ]
  },
  {
   "cell_type": "code",
   "execution_count": 31,
   "metadata": {},
   "outputs": [
    {
     "data": {
      "image/png": "[encoded data removed]",
      "text/plain": [
       "<matplotlib.figure.Figure at 0x7f33e0453898>"
      ]
     },
     "metadata": {},
     "output_type": "display_data"
    }
   ],
   "source": [
    "plt.show()"
   ]
  },
  {
   "cell_type": "code",
   "execution_count": 32,
   "metadata": {},
   "outputs": [],
   "source": [
    "plots = []"
   ]
  },
  {
   "cell_type": "code",
   "execution_count": 33,
   "metadata": {},
   "outputs": [],
   "source": [
    "height_cumulative = np.zeros(N)"
   ]
  },
  {
   "cell_type": "code",
   "execution_count": 34,
   "metadata": {},
   "outputs": [],
   "source": [
    "for k in range(K):\n",
    "    color = plt.cm.tab20(k/K, 1)\n",
    "    if k == 0:\n",
    "        p = plt.bar(ind, doctopic[:, k], width, color=color)\n",
    "    else:\n",
    "        p = plt.bar(ind, doctopic[:, k], width, bottom=height_cumulative, color=color)\n",
    "    height_cumulative += doctopic[:, k]\n",
    "    plots.append(p)"
   ]
  },
  {
   "cell_type": "code",
   "execution_count": 35,
   "metadata": {},
   "outputs": [
    {
     "data": {
      "text/plain": [
       "(0, 1)"
      ]
     },
     "execution_count": 35,
     "metadata": {},
     "output_type": "execute_result"
    }
   ],
   "source": [
    "plt.ylim((0, 1))"
   ]
  },
  {
   "cell_type": "code",
   "execution_count": 36,
   "metadata": {},
   "outputs": [
    {
     "data": {
      "text/plain": [
       "Text(0,0.5,'Topics')"
      ]
     },
     "execution_count": 36,
     "metadata": {},
     "output_type": "execute_result"
    }
   ],
   "source": [
    "plt.ylabel('Topics')"
   ]
  },
  {
   "cell_type": "code",
   "execution_count": 37,
   "metadata": {},
   "outputs": [
    {
     "data": {
      "text/plain": [
       "Text(0.5,1,'Topics in novels')"
      ]
     },
     "execution_count": 37,
     "metadata": {},
     "output_type": "execute_result"
    }
   ],
   "source": [
    "plt.title('Topics in novels')"
   ]
  },
  {
   "cell_type": "code",
   "execution_count": 38,
   "metadata": {},
   "outputs": [],
   "source": [
    "list_topics =['transports', 'nature', 'corps médical', 'noblesse', 'parties de la maison', '?', 'religion', 'lettres/livres', '?', 'argent/position sociale','sentiment','armée','féminin','noblesse féminine','?','corps','justice/crime','famille','noblesse','marine']"
   ]
  },
  {
   "cell_type": "code",
   "execution_count": 39,
   "metadata": {},
   "outputs": [
    {
     "name": "stdout",
     "output_type": "stream",
     "text": [
      "numero 1\n",
      "Zola-Emile_Au-bonheur-des-dames_1\n",
      "numero 2\n",
      "Zola-Emile_Au-bonheur-des-dames_2\n",
      "numero 3\n",
      "Zola-Emile_Germinal_1\n",
      "numero 4\n",
      "Zola-Emile_Germinal_2\n",
      "numero 5\n",
      "Zola-Emile_L-assomoir_1\n",
      "numero 6\n",
      "Zola-Emile_L-assomoir_2\n",
      "numero 7\n",
      "Zola-Emile_La-curee_1\n",
      "numero 8\n",
      "Zola-Emile_La-curee_2\n",
      "numero 9\n",
      "Zola-Emile_La-faute-de-l-abbe-Mouret_1\n",
      "numero 10\n",
      "Zola-Emile_La-faute-de-l-abbe-Mouret_2\n",
      "numero 11\n",
      "Zola-Emile_La-fortune-des-Rougon_1\n",
      "numero 12\n",
      "Zola-Emile_La-fortune-des-Rougon_2\n",
      "numero 13\n",
      "Zola-Emile_Nana_1\n",
      "numero 14\n",
      "Zola-Emile_Nana_2\n",
      "numero 15\n",
      "Zola-Emile_Pot-Bouille_1\n",
      "numero 16\n",
      "Zola-Emile_Pot-Bouille_2\n",
      "numero 17\n",
      "Zola-Emile_Une-page-d-amour_1\n",
      "numero 18\n",
      "Zola-Emile_Une-page-d-amour_2\n"
     ]
    }
   ],
   "source": [
    "plt.xticks(rotation=90)\n",
    "plt.xticks(ind+width/2, novel_names)\n",
    "index=1\n",
    "for name in novel_names:\n",
    "    print('numero '+str(index))\n",
    "    print(name)\n",
    "    index+=1"
   ]
  },
  {
   "cell_type": "code",
   "execution_count": 40,
   "metadata": {},
   "outputs": [
    {
     "data": {
      "text/plain": [
       "([<matplotlib.axis.YTick at 0x7f33de12d208>],\n",
       " <a list of 1 Text yticklabel objects>)"
      ]
     },
     "execution_count": 40,
     "metadata": {},
     "output_type": "execute_result"
    }
   ],
   "source": [
    "plt.yticks(np.arange(0, 1, 10))"
   ]
  },
  {
   "cell_type": "code",
   "execution_count": 41,
   "metadata": {},
   "outputs": [],
   "source": [
    "#Pour cette expérience, topic 0 : aventure ; topic 1 : argent ; topic 2 : mort\n",
    "topic_labels = [k for k in list_topics]"
   ]
  },
  {
   "cell_type": "code",
   "execution_count": 42,
   "metadata": {},
   "outputs": [
    {
     "data": {
      "text/plain": [
       "<matplotlib.legend.Legend at 0x7f33ddf61c88>"
      ]
     },
     "execution_count": 42,
     "metadata": {},
     "output_type": "execute_result"
    }
   ],
   "source": [
    "plt.legend([p[0] for p in plots], topic_labels)"
   ]
  },
  {
   "cell_type": "code",
   "execution_count": 43,
   "metadata": {},
   "outputs": [
    {
     "data": {
      "image/png": "[encoded data removed]",
      "text/plain": [
       "<matplotlib.figure.Figure at 0x7f33dde65c88>"
      ]
     },
     "metadata": {},
     "output_type": "display_data"
    }
   ],
   "source": [
    "plt.show()"
   ]
  },
  {
   "cell_type": "code",
   "execution_count": null,
   "metadata": {},
   "outputs": [],
   "source": []
  }
 ],
 "metadata": {
  "kernelspec": {
   "display_name": "Python 3",
   "language": "python",
   "name": "python3"
  },
  "language_info": {
   "codemirror_mode": {
    "name": "ipython",
    "version": 3
   },
   "file_extension": ".py",
   "mimetype": "text/x-python",
   "name": "python",
   "nbconvert_exporter": "python",
   "pygments_lexer": "ipython3",
   "version": "3.5.2"
  }
 },
 "nbformat": 4,
 "nbformat_minor": 2
}

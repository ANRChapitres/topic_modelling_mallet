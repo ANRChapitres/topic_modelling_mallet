{
 "cells": [
  {
   "cell_type": "code",
   "execution_count": 1,
   "metadata": {},
   "outputs": [],
   "source": [
    "import gensim\n",
    "from gensim import corpora\n",
    "import sys\n",
    "import os\n",
    "import os.path\n",
    "import fnmatch\n",
    "from lxml import etree\n",
    "import pickle"
   ]
  },
  {
   "cell_type": "code",
   "execution_count": null,
   "metadata": {},
   "outputs": [
    {
     "name": "stdout",
     "output_type": "stream",
     "text": [
      "818 fichiers pris en compte\n",
      "Récupération des lemmes terminée\n",
      "Constitution du dictionnaire terminée\n",
      "Constitution de la doc-term-matrix terminée\n"
     ]
    }
   ],
   "source": [
    "path_to_folder='/home/odysseus/Bureau/chapitres/code/topic_modelling/txt/'\n",
    "files_list=fnmatch.filter(os.listdir(path_to_folder), '*.txt')\n",
    "\n",
    "docs=list()\n",
    "\n",
    "for file in files_list:\n",
    "    words = [line.strip() for line in open(path_to_folder+file)]\n",
    "    docs.append(words)\n",
    "    \n",
    "print(str(len(docs))+\" fichiers pris en compte\")\n",
    "print(\"Récupération des lemmes terminée\")\n",
    "\n",
    "dictionary = corpora.Dictionary(docs)\n",
    "print(\"Constitution du dictionnaire terminée\")\n",
    "\n",
    "doc_term_matrix = [dictionary.doc2bow(doc) for doc in docs]\n",
    "print(\"Constitution de la doc-term-matrix terminée\")\n",
    "\n",
    "Lda = gensim.models.ldamodel.LdaModel\n",
    "ldamodel = Lda(doc_term_matrix, num_topics=3, id2word = dictionary, passes=50)\n",
    "\n",
    "#pickles\n",
    "pickle.dump(ldamodel, open( \"ldamodel.p\", \"wb\" ))\n",
    "pickle.dump(doc_term_matrix, open( \"doc_term_matrix.p\", \"wb\" ))\n",
    "pickle.dump(dictionary, open( \"dictionary.p\", \"wb\" ))"
   ]
  },
  {
   "cell_type": "code",
   "execution_count": null,
   "metadata": {},
   "outputs": [],
   "source": [
    "print(ldamodel.print_topics(num_topics=3, num_words=3))"
   ]
  }
 ],
 "metadata": {
  "kernelspec": {
   "display_name": "Python 3",
   "language": "python",
   "name": "python3"
  },
  "language_info": {
   "codemirror_mode": {
    "name": "ipython",
    "version": 3
   },
   "file_extension": ".py",
   "mimetype": "text/x-python",
   "name": "python",
   "nbconvert_exporter": "python",
   "pygments_lexer": "ipython3",
   "version": "3.5.2"
  }
 },
 "nbformat": 4,
 "nbformat_minor": 2
}

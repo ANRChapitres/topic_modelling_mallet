{
 "cells": [
  {
   "cell_type": "code",
   "execution_count": 1,
   "metadata": {},
   "outputs": [],
   "source": [
    "import os\n",
    "import itertools\n",
    "import numpy as np\n",
    "import operator\n",
    "import math\n",
    "from sklearn.feature_extraction.text import CountVectorizer\n",
    "import matplotlib.pyplot as plt"
   ]
  },
  {
   "cell_type": "code",
   "execution_count": 2,
   "metadata": {},
   "outputs": [],
   "source": [
    "def grouper(n, iterable, fillvalue=None):\n",
    "    args = [iter(iterable)] * n\n",
    "    return itertools.zip_longest(*args, fillvalue=fillvalue)"
   ]
  },
  {
   "cell_type": "code",
   "execution_count": 3,
   "metadata": {},
   "outputs": [],
   "source": [
    "doctopic_triples = []\n",
    "mallet_docnames = []"
   ]
  },
  {
   "cell_type": "code",
   "execution_count": 4,
   "metadata": {},
   "outputs": [],
   "source": [
    "#here you can put the strings you want to get rid off when showing the titles\n",
    "zola='Zola-Emile'\n",
    "dumas='Dumas-Alexandre'\n",
    "dumas_pere='Dumas-Alexandre-Pere'"
   ]
  },
  {
   "cell_type": "code",
   "execution_count": 5,
   "metadata": {},
   "outputs": [
    {
     "name": "stdout",
     "output_type": "stream",
     "text": [
      "La-curee\n",
      "Pot-Bouille\n",
      "Le-Comte-de-Monte-Cristo\n",
      "Germinal\n",
      "L-assomoir\n",
      "La-faute-de-l-abbe-Mouret\n",
      "Nana\n",
      "La-Tulipe-noire\n",
      "La-San-Felice\n",
      "Les-Trois-Mousquetaires\n",
      "La-fille-du-marquis-II\n",
      "La-dame-aux-camelias\n",
      "Une-page-d-amour\n",
      "La-femme-au-collier-de-velours\n",
      "Black\n",
      "Les-Blancs-et-les-Bleus\n",
      "Jane\n",
      "La-fortune-des-Rougon\n",
      "Au-bonheur-des-dames\n",
      "Les-Louves-de-Machecoul\n",
      "La-comtesse-de-Charny\n",
      "Le-docteur-mysterieux-II\n",
      "Vingt-ans-apres\n",
      "sultanetta\n",
      "Le-page-du-duc-de-Savoie-I\n",
      "La-Reine-Margot\n"
     ]
    }
   ],
   "source": [
    "with open(\"/home/odysseus/Bureau/ANR/code/topic_modelling/dumas_zola-llda-doc-topics.txt\") as f:\n",
    "    f.readline()  # read one line in order to skip the header\n",
    "    for line in f:\n",
    "        docnum, docname, *values = line.rstrip().split('\\t')\n",
    "        docname=docname.replace(zola,'').replace(dumas_pere,'').replace(dumas,'')\n",
    "        mallet_docnames.append(docname[6:-4])\n",
    "        print(docname[6:-4])\n",
    "        index_topic=0\n",
    "        for share in grouper(1, values):\n",
    "            triple = (docname[6:-4], index_topic, float(share[0]))\n",
    "            doctopic_triples.append(triple)\n",
    "            index_topic+=1"
   ]
  },
  {
   "cell_type": "code",
   "execution_count": 6,
   "metadata": {},
   "outputs": [
    {
     "name": "stdout",
     "output_type": "stream",
     "text": [
      "[('La-curee', 0, 0.0776989218589528), ('La-curee', 1, 0.8454771960042923), ('La-curee', 2, 0.0768238821367549), ('Pot-Bouille', 0, 0.03722051964268954), ('Pot-Bouille', 1, 0.8800177920694706), ('Pot-Bouille', 2, 0.08276168828783977), ('Le-Comte-de-Monte-Cristo', 0, 0.2694041986543734), ('Le-Comte-de-Monte-Cristo', 1, 0.22916578636336746), ('Le-Comte-de-Monte-Cristo', 2, 0.501430014982259), ('Germinal', 0, 0.14867219142955612), ('Germinal', 1, 0.8442737761364391), ('Germinal', 2, 0.0070540324340048), ('L-assomoir', 0, 0.0390537500041543), ('L-assomoir', 1, 0.9510723080962336), ('L-assomoir', 2, 0.009873941899612156), ('La-faute-de-l-abbe-Mouret', 0, 0.08766045168870079), ('La-faute-de-l-abbe-Mouret', 1, 0.9032944187488808), ('La-faute-de-l-abbe-Mouret', 2, 0.009045129562418382), ('Nana', 0, 0.05222820496395911), ('Nana', 1, 0.8568839419276318), ('Nana', 2, 0.09088785310840904), ('La-Tulipe-noire', 0, 0.5141034658388106), ('La-Tulipe-noire', 1, 0.19735150736096627), ('La-Tulipe-noire', 2, 0.28854502680022315), ('La-San-Felice', 0, 0.6577565545825959), ('La-San-Felice', 1, 0.07223581309111125), ('La-San-Felice', 2, 0.27000763232629293), ('Les-Trois-Mousquetaires', 0, 0.18177622226383544), ('Les-Trois-Mousquetaires', 1, 0.0883838450440851), ('Les-Trois-Mousquetaires', 2, 0.7298399326920794), ('La-fille-du-marquis-II', 0, 0.5334473602146982), ('La-fille-du-marquis-II', 1, 0.32271812365931796), ('La-fille-du-marquis-II', 2, 0.14383451612598397), ('La-dame-aux-camelias', 0, 0.15825486298914992), ('La-dame-aux-camelias', 1, 0.473222334452011), ('La-dame-aux-camelias', 2, 0.3685228025588392), ('Une-page-d-amour', 0, 0.05252447096606658), ('Une-page-d-amour', 1, 0.9323663304945069), ('Une-page-d-amour', 2, 0.015109198539426478), ('La-femme-au-collier-de-velours', 0, 0.3916697849802827), ('La-femme-au-collier-de-velours', 1, 0.4506778734060621), ('La-femme-au-collier-de-velours', 2, 0.15765234161365535), ('Black', 0, 0.4219276960262614), ('Black', 1, 0.3021148179156438), ('Black', 2, 0.27595748605809484), ('Les-Blancs-et-les-Bleus', 0, 0.7568099440500142), ('Les-Blancs-et-les-Bleus', 1, 0.1153089257749796), ('Les-Blancs-et-les-Bleus', 2, 0.12788113017500607), ('Jane', 0, 0.5593114501592323), ('Jane', 1, 0.25333555356659654), ('Jane', 2, 0.18735299627417104), ('La-fortune-des-Rougon', 0, 0.3149369918082853), ('La-fortune-des-Rougon', 1, 0.6640920452428707), ('La-fortune-des-Rougon', 2, 0.02097096294884402), ('Au-bonheur-des-dames', 0, 0.06559837020984231), ('Au-bonheur-des-dames', 1, 0.9127952883750978), ('Au-bonheur-des-dames', 2, 0.02160634141505984), ('Les-Louves-de-Machecoul', 0, 0.5907185505634268), ('Les-Louves-de-Machecoul', 1, 0.19747750945176515), ('Les-Louves-de-Machecoul', 2, 0.21180393998480793), ('La-comtesse-de-Charny', 0, 0.5124208359146298), ('La-comtesse-de-Charny', 1, 0.09723419909242131), ('La-comtesse-de-Charny', 2, 0.39034496499294874), ('Le-docteur-mysterieux-II', 0, 0.7785140712322398), ('Le-docteur-mysterieux-II', 1, 0.10081961087167733), ('Le-docteur-mysterieux-II', 2, 0.12066631789608298), ('Vingt-ans-apres', 0, 0.2116505991097507), ('Vingt-ans-apres', 1, 0.07658694565883255), ('Vingt-ans-apres', 2, 0.7117624552314167), ('sultanetta', 0, 0.7150000508166232), ('sultanetta', 1, 0.19006433384488736), ('sultanetta', 2, 0.09493561533848954), ('Le-page-du-duc-de-Savoie-I', 0, 0.5162799514057022), ('Le-page-du-duc-de-Savoie-I', 1, 0.0851347974806786), ('Le-page-du-duc-de-Savoie-I', 2, 0.39858525111361937), ('La-Reine-Margot', 0, 0.13564586447610646), ('La-Reine-Margot', 1, 0.10685505030592012), ('La-Reine-Margot', 2, 0.7574990852179733)]\n"
     ]
    }
   ],
   "source": [
    "print(doctopic_triples)"
   ]
  },
  {
   "cell_type": "code",
   "execution_count": 7,
   "metadata": {},
   "outputs": [],
   "source": [
    "mallet_docnames = sorted(mallet_docnames)"
   ]
  },
  {
   "cell_type": "code",
   "execution_count": 8,
   "metadata": {},
   "outputs": [],
   "source": [
    "num_docs = len(mallet_docnames)"
   ]
  },
  {
   "cell_type": "code",
   "execution_count": 9,
   "metadata": {},
   "outputs": [],
   "source": [
    "doctopic_triples = sorted(doctopic_triples, key=operator.itemgetter(0,1))"
   ]
  },
  {
   "cell_type": "code",
   "execution_count": 10,
   "metadata": {},
   "outputs": [
    {
     "name": "stdout",
     "output_type": "stream",
     "text": [
      "78\n",
      "3\n"
     ]
    }
   ],
   "source": [
    "num_topics = len(doctopic_triples) // len(mallet_docnames)\n",
    "print(len(doctopic_triples))\n",
    "print(num_topics)"
   ]
  },
  {
   "cell_type": "code",
   "execution_count": 11,
   "metadata": {},
   "outputs": [],
   "source": [
    "doctopic = np.zeros((num_docs, num_topics))"
   ]
  },
  {
   "cell_type": "code",
   "execution_count": 12,
   "metadata": {},
   "outputs": [],
   "source": [
    "for triple in doctopic_triples:\n",
    "    docname, topic, share = triple\n",
    "    row_num = mallet_docnames.index(docname)\n",
    "    doctopic[row_num, topic] = share"
   ]
  },
  {
   "cell_type": "code",
   "execution_count": 13,
   "metadata": {},
   "outputs": [],
   "source": [
    "novel_names = []"
   ]
  },
  {
   "cell_type": "code",
   "execution_count": 14,
   "metadata": {},
   "outputs": [
    {
     "name": "stdout",
     "output_type": "stream",
     "text": [
      "26\n"
     ]
    }
   ],
   "source": [
    "for fn in mallet_docnames:\n",
    "    basename = os.path.basename(fn)\n",
    "    name, ext = os.path.splitext(basename)\n",
    "    name = name.rstrip('0123456789')\n",
    "    novel_names.append(name)\n",
    "print(len(novel_names))"
   ]
  },
  {
   "cell_type": "code",
   "execution_count": 15,
   "metadata": {},
   "outputs": [],
   "source": [
    "novel_names = np.asarray(novel_names)"
   ]
  },
  {
   "cell_type": "code",
   "execution_count": 16,
   "metadata": {},
   "outputs": [
    {
     "data": {
      "text/plain": [
       "array([[ 0.06559837,  0.91279529,  0.02160634],\n",
       "       [ 0.4219277 ,  0.30211482,  0.27595749],\n",
       "       [ 0.14867219,  0.84427378,  0.00705403],\n",
       "       [ 0.55931145,  0.25333555,  0.187353  ],\n",
       "       [ 0.03905375,  0.95107231,  0.00987394],\n",
       "       [ 0.13564586,  0.10685505,  0.75749909],\n",
       "       [ 0.65775655,  0.07223581,  0.27000763],\n",
       "       [ 0.51410347,  0.19735151,  0.28854503],\n",
       "       [ 0.51242084,  0.0972342 ,  0.39034496],\n",
       "       [ 0.07769892,  0.8454772 ,  0.07682388],\n",
       "       [ 0.15825486,  0.47322233,  0.3685228 ],\n",
       "       [ 0.08766045,  0.90329442,  0.00904513],\n",
       "       [ 0.39166978,  0.45067787,  0.15765234],\n",
       "       [ 0.53344736,  0.32271812,  0.14383452],\n",
       "       [ 0.31493699,  0.66409205,  0.02097096],\n",
       "       [ 0.2694042 ,  0.22916579,  0.50143001],\n",
       "       [ 0.77851407,  0.10081961,  0.12066632],\n",
       "       [ 0.51627995,  0.0851348 ,  0.39858525],\n",
       "       [ 0.75680994,  0.11530893,  0.12788113],\n",
       "       [ 0.59071855,  0.19747751,  0.21180394],\n",
       "       [ 0.18177622,  0.08838385,  0.72983993],\n",
       "       [ 0.0522282 ,  0.85688394,  0.09088785],\n",
       "       [ 0.03722052,  0.88001779,  0.08276169],\n",
       "       [ 0.05252447,  0.93236633,  0.0151092 ],\n",
       "       [ 0.2116506 ,  0.07658695,  0.71176246],\n",
       "       [ 0.71500005,  0.19006433,  0.09493562]])"
      ]
     },
     "execution_count": 16,
     "metadata": {},
     "output_type": "execute_result"
    }
   ],
   "source": [
    "doctopic"
   ]
  },
  {
   "cell_type": "code",
   "execution_count": 17,
   "metadata": {},
   "outputs": [],
   "source": [
    "doctopic_orig = doctopic.copy()"
   ]
  },
  {
   "cell_type": "code",
   "execution_count": 18,
   "metadata": {},
   "outputs": [
    {
     "name": "stdout",
     "output_type": "stream",
     "text": [
      "26\n"
     ]
    }
   ],
   "source": [
    "num_groups = len(set(novel_names))\n",
    "print(num_groups)"
   ]
  },
  {
   "cell_type": "code",
   "execution_count": 19,
   "metadata": {},
   "outputs": [],
   "source": [
    "doctopic_grouped = np.zeros((num_groups, num_topics))"
   ]
  },
  {
   "cell_type": "code",
   "execution_count": 20,
   "metadata": {},
   "outputs": [],
   "source": [
    "for i, name in enumerate(sorted(set(novel_names))):\n",
    "    doctopic_grouped[i, :] = np.mean(doctopic[novel_names == name, :], axis=0)"
   ]
  },
  {
   "cell_type": "code",
   "execution_count": 21,
   "metadata": {},
   "outputs": [],
   "source": [
    "doctopic = doctopic_grouped"
   ]
  },
  {
   "cell_type": "code",
   "execution_count": 22,
   "metadata": {},
   "outputs": [
    {
     "data": {
      "text/plain": [
       "array([[ 0.06559837,  0.91279529,  0.02160634],\n",
       "       [ 0.4219277 ,  0.30211482,  0.27595749],\n",
       "       [ 0.14867219,  0.84427378,  0.00705403],\n",
       "       [ 0.55931145,  0.25333555,  0.187353  ],\n",
       "       [ 0.03905375,  0.95107231,  0.00987394],\n",
       "       [ 0.13564586,  0.10685505,  0.75749909],\n",
       "       [ 0.65775655,  0.07223581,  0.27000763],\n",
       "       [ 0.51410347,  0.19735151,  0.28854503],\n",
       "       [ 0.51242084,  0.0972342 ,  0.39034496],\n",
       "       [ 0.07769892,  0.8454772 ,  0.07682388],\n",
       "       [ 0.15825486,  0.47322233,  0.3685228 ],\n",
       "       [ 0.08766045,  0.90329442,  0.00904513],\n",
       "       [ 0.39166978,  0.45067787,  0.15765234],\n",
       "       [ 0.53344736,  0.32271812,  0.14383452],\n",
       "       [ 0.31493699,  0.66409205,  0.02097096],\n",
       "       [ 0.2694042 ,  0.22916579,  0.50143001],\n",
       "       [ 0.77851407,  0.10081961,  0.12066632],\n",
       "       [ 0.51627995,  0.0851348 ,  0.39858525],\n",
       "       [ 0.75680994,  0.11530893,  0.12788113],\n",
       "       [ 0.59071855,  0.19747751,  0.21180394],\n",
       "       [ 0.18177622,  0.08838385,  0.72983993],\n",
       "       [ 0.0522282 ,  0.85688394,  0.09088785],\n",
       "       [ 0.03722052,  0.88001779,  0.08276169],\n",
       "       [ 0.05252447,  0.93236633,  0.0151092 ],\n",
       "       [ 0.2116506 ,  0.07658695,  0.71176246],\n",
       "       [ 0.71500005,  0.19006433,  0.09493562]])"
      ]
     },
     "execution_count": 22,
     "metadata": {},
     "output_type": "execute_result"
    }
   ],
   "source": [
    "doctopic"
   ]
  },
  {
   "cell_type": "code",
   "execution_count": 23,
   "metadata": {},
   "outputs": [
    {
     "name": "stdout",
     "output_type": "stream",
     "text": [
      "3\n"
     ]
    }
   ],
   "source": [
    "N, K = doctopic.shape\n",
    "print(K)"
   ]
  },
  {
   "cell_type": "code",
   "execution_count": 24,
   "metadata": {},
   "outputs": [],
   "source": [
    "ind = np.arange(N)"
   ]
  },
  {
   "cell_type": "code",
   "execution_count": 25,
   "metadata": {},
   "outputs": [],
   "source": [
    "width = 0.5"
   ]
  },
  {
   "cell_type": "code",
   "execution_count": 26,
   "metadata": {},
   "outputs": [],
   "source": [
    "plt.rcParams[\"figure.figsize\"] = [16,9]"
   ]
  },
  {
   "cell_type": "code",
   "execution_count": 27,
   "metadata": {},
   "outputs": [
    {
     "data": {
      "text/plain": [
       "<Container object of 26 artists>"
      ]
     },
     "execution_count": 27,
     "metadata": {},
     "output_type": "execute_result"
    }
   ],
   "source": [
    "plt.bar(ind, doctopic[:,0], width=width)"
   ]
  },
  {
   "cell_type": "code",
   "execution_count": 28,
   "metadata": {},
   "outputs": [
    {
     "data": {
      "text/plain": [
       "([<matplotlib.axis.XTick at 0x7f6717bb2b38>,\n",
       "  <matplotlib.axis.XTick at 0x7f66e9de1dd8>,\n",
       "  <matplotlib.axis.XTick at 0x7f66e3d52e48>,\n",
       "  <matplotlib.axis.XTick at 0x7f66e1a717b8>,\n",
       "  <matplotlib.axis.XTick at 0x7f66e1aa62b0>,\n",
       "  <matplotlib.axis.XTick at 0x7f66e1a7b080>,\n",
       "  <matplotlib.axis.XTick at 0x7f66e1a7b710>,\n",
       "  <matplotlib.axis.XTick at 0x7f66e1a7bda0>,\n",
       "  <matplotlib.axis.XTick at 0x7f66e1a7e470>,\n",
       "  <matplotlib.axis.XTick at 0x7f66e1a7ea90>,\n",
       "  <matplotlib.axis.XTick at 0x7f66e1a82160>,\n",
       "  <matplotlib.axis.XTick at 0x7f66e1a827b8>,\n",
       "  <matplotlib.axis.XTick at 0x7f66e1a82e48>,\n",
       "  <matplotlib.axis.XTick at 0x7f66e1a86518>,\n",
       "  <matplotlib.axis.XTick at 0x7f66e1a86ba8>,\n",
       "  <matplotlib.axis.XTick at 0x7f66e1a89278>,\n",
       "  <matplotlib.axis.XTick at 0x7f66e1a89908>,\n",
       "  <matplotlib.axis.XTick at 0x7f66e1a89f60>,\n",
       "  <matplotlib.axis.XTick at 0x7f66e1a8d5c0>,\n",
       "  <matplotlib.axis.XTick at 0x7f66e1a8dc18>,\n",
       "  <matplotlib.axis.XTick at 0x7f66e1a112b0>,\n",
       "  <matplotlib.axis.XTick at 0x7f66e1a11908>,\n",
       "  <matplotlib.axis.XTick at 0x7f66e1a11f98>,\n",
       "  <matplotlib.axis.XTick at 0x7f66e1a16668>,\n",
       "  <matplotlib.axis.XTick at 0x7f66e1a16cf8>,\n",
       "  <matplotlib.axis.XTick at 0x7f66e1a193c8>],\n",
       " <a list of 25 Text xticklabel objects>)"
      ]
     },
     "execution_count": 28,
     "metadata": {},
     "output_type": "execute_result"
    }
   ],
   "source": [
    "plt.xticks(ind + width/2, range(1,len(novel_names)))"
   ]
  },
  {
   "cell_type": "code",
   "execution_count": 29,
   "metadata": {},
   "outputs": [
    {
     "data": {
      "text/plain": [
       "Text(0.5,1,'Share of Topic #0')"
      ]
     },
     "execution_count": 29,
     "metadata": {},
     "output_type": "execute_result"
    }
   ],
   "source": [
    "plt.title('Share of Topic #0')"
   ]
  },
  {
   "cell_type": "code",
   "execution_count": 30,
   "metadata": {},
   "outputs": [
    {
     "data": {
      "image/png": "[encoded data removed]",
      "text/plain": [
       "<matplotlib.figure.Figure at 0x7f66e3d41240>"
      ]
     },
     "metadata": {},
     "output_type": "display_data"
    }
   ],
   "source": [
    "plt.show()"
   ]
  },
  {
   "cell_type": "code",
   "execution_count": 31,
   "metadata": {},
   "outputs": [],
   "source": [
    "plots = []"
   ]
  },
  {
   "cell_type": "code",
   "execution_count": 32,
   "metadata": {},
   "outputs": [],
   "source": [
    "height_cumulative = np.zeros(N)"
   ]
  },
  {
   "cell_type": "code",
   "execution_count": 33,
   "metadata": {},
   "outputs": [],
   "source": [
    "for k in range(K):\n",
    "    color = plt.cm.coolwarm(k/K, 1)\n",
    "    if k == 0:\n",
    "        p = plt.bar(ind, doctopic[:, k], width, color=color)\n",
    "    else:\n",
    "        p = plt.bar(ind, doctopic[:, k], width, bottom=height_cumulative, color=color)\n",
    "    height_cumulative += doctopic[:, k]\n",
    "    plots.append(p)"
   ]
  },
  {
   "cell_type": "code",
   "execution_count": 34,
   "metadata": {},
   "outputs": [
    {
     "data": {
      "text/plain": [
       "(0, 1)"
      ]
     },
     "execution_count": 34,
     "metadata": {},
     "output_type": "execute_result"
    }
   ],
   "source": [
    "plt.ylim((0, 1))"
   ]
  },
  {
   "cell_type": "code",
   "execution_count": 35,
   "metadata": {},
   "outputs": [
    {
     "data": {
      "text/plain": [
       "Text(0,0.5,'Topics')"
      ]
     },
     "execution_count": 35,
     "metadata": {},
     "output_type": "execute_result"
    }
   ],
   "source": [
    "plt.ylabel('Topics')"
   ]
  },
  {
   "cell_type": "code",
   "execution_count": 36,
   "metadata": {},
   "outputs": [
    {
     "data": {
      "text/plain": [
       "Text(0.5,1,'Topics in novels')"
      ]
     },
     "execution_count": 36,
     "metadata": {},
     "output_type": "execute_result"
    }
   ],
   "source": [
    "plt.title('Topics in novels')"
   ]
  },
  {
   "cell_type": "code",
   "execution_count": 37,
   "metadata": {},
   "outputs": [
    {
     "name": "stdout",
     "output_type": "stream",
     "text": [
      "numero 1\n",
      "Au-bonheur-des-dames\n",
      "numero 2\n",
      "Black\n",
      "numero 3\n",
      "Germinal\n",
      "numero 4\n",
      "Jane\n",
      "numero 5\n",
      "L-assomoir\n",
      "numero 6\n",
      "La-Reine-Margot\n",
      "numero 7\n",
      "La-San-Felice\n",
      "numero 8\n",
      "La-Tulipe-noire\n",
      "numero 9\n",
      "La-comtesse-de-Charny\n",
      "numero 10\n",
      "La-curee\n",
      "numero 11\n",
      "La-dame-aux-camelias\n",
      "numero 12\n",
      "La-faute-de-l-abbe-Mouret\n",
      "numero 13\n",
      "La-femme-au-collier-de-velours\n",
      "numero 14\n",
      "La-fille-du-marquis-II\n",
      "numero 15\n",
      "La-fortune-des-Rougon\n",
      "numero 16\n",
      "Le-Comte-de-Monte-Cristo\n",
      "numero 17\n",
      "Le-docteur-mysterieux-II\n",
      "numero 18\n",
      "Le-page-du-duc-de-Savoie-I\n",
      "numero 19\n",
      "Les-Blancs-et-les-Bleus\n",
      "numero 20\n",
      "Les-Louves-de-Machecoul\n",
      "numero 21\n",
      "Les-Trois-Mousquetaires\n",
      "numero 22\n",
      "Nana\n",
      "numero 23\n",
      "Pot-Bouille\n",
      "numero 24\n",
      "Une-page-d-amour\n",
      "numero 25\n",
      "Vingt-ans-apres\n",
      "numero 26\n",
      "sultanetta\n"
     ]
    }
   ],
   "source": [
    "plt.xticks(rotation=90)\n",
    "plt.xticks(ind+width/2, novel_names)\n",
    "index=1\n",
    "for name in novel_names:\n",
    "    print('numero '+str(index))\n",
    "    print(name)\n",
    "    index+=1"
   ]
  },
  {
   "cell_type": "code",
   "execution_count": 38,
   "metadata": {},
   "outputs": [
    {
     "data": {
      "text/plain": [
       "([<matplotlib.axis.YTick at 0x7f66e17177b8>],\n",
       " <a list of 1 Text yticklabel objects>)"
      ]
     },
     "execution_count": 38,
     "metadata": {},
     "output_type": "execute_result"
    }
   ],
   "source": [
    "plt.yticks(np.arange(0, 1, 10))"
   ]
  },
  {
   "cell_type": "code",
   "execution_count": 39,
   "metadata": {},
   "outputs": [],
   "source": [
    "list_topics =['aventure','argent','mort']"
   ]
  },
  {
   "cell_type": "code",
   "execution_count": 40,
   "metadata": {},
   "outputs": [],
   "source": [
    "#Pour cette expérience, topic 0 : aventure ; topic 1 : argent ; topic 2 : mort\n",
    "topic_labels = [k for k in list_topics]"
   ]
  },
  {
   "cell_type": "code",
   "execution_count": 41,
   "metadata": {},
   "outputs": [
    {
     "data": {
      "text/plain": [
       "<matplotlib.legend.Legend at 0x7f66e1a6bcc0>"
      ]
     },
     "execution_count": 41,
     "metadata": {},
     "output_type": "execute_result"
    }
   ],
   "source": [
    "plt.legend([p[0] for p in plots], topic_labels)"
   ]
  },
  {
   "cell_type": "code",
   "execution_count": 42,
   "metadata": {},
   "outputs": [
    {
     "data": {
      "image/png": "[encoded data removed]",
      "text/plain": [
       "<matplotlib.figure.Figure at 0x7f66e1a86710>"
      ]
     },
     "metadata": {},
     "output_type": "display_data"
    }
   ],
   "source": [
    "plt.show()"
   ]
  },
  {
   "cell_type": "code",
   "execution_count": null,
   "metadata": {},
   "outputs": [],
   "source": []
  }
 ],
 "metadata": {
  "kernelspec": {
   "display_name": "Python 3",
   "language": "python",
   "name": "python3"
  },
  "language_info": {
   "codemirror_mode": {
    "name": "ipython",
    "version": 3
   },
   "file_extension": ".py",
   "mimetype": "text/x-python",
   "name": "python",
   "nbconvert_exporter": "python",
   "pygments_lexer": "ipython3",
   "version": "3.5.2"
  }
 },
 "nbformat": 4,
 "nbformat_minor": 2
}

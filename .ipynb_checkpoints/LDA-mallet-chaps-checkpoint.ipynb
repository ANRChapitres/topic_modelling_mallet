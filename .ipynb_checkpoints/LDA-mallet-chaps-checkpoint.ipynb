{
 "cells": [
  {
   "cell_type": "code",
   "execution_count": 1,
   "metadata": {},
   "outputs": [],
   "source": [
    "import os\n",
    "import itertools\n",
    "import numpy as np\n",
    "import operator\n",
    "import math\n",
    "from sklearn.feature_extraction.text import CountVectorizer\n",
    "import matplotlib.pyplot as plt"
   ]
  },
  {
   "cell_type": "code",
   "execution_count": 2,
   "metadata": {},
   "outputs": [],
   "source": [
    "def grouper(n, iterable, fillvalue=None):\n",
    "    args = [iter(iterable)] * n\n",
    "    return itertools.zip_longest(*args, fillvalue=fillvalue)"
   ]
  },
  {
   "cell_type": "code",
   "execution_count": 3,
   "metadata": {},
   "outputs": [],
   "source": [
    "doctopic_triples = []\n",
    "mallet_docnames = []"
   ]
  },
  {
   "cell_type": "code",
   "execution_count": 4,
   "metadata": {},
   "outputs": [],
   "source": [
    "#here you can put the strings you want to get rid off when showing the titles\n",
    "list_authors_to_replace=['Zola-Emile','Dumas-Alexandre-Pere','Dumas-Alexandre','Balzac-Honore-de','Verne-Jules','Sand-George','Flaubert-Gustave']\n",
    "list_authors_to_find=['Giono-Jean']"
   ]
  },
  {
   "cell_type": "code",
   "execution_count": 5,
   "metadata": {},
   "outputs": [],
   "source": [
    "def replace_all(text, dic):\n",
    "    for i in dic:\n",
    "        text = text.replace(i, \"\")\n",
    "    return text"
   ]
  },
  {
   "cell_type": "code",
   "execution_count": 6,
   "metadata": {},
   "outputs": [],
   "source": [
    "list_chaps=list()"
   ]
  },
  {
   "cell_type": "code",
   "execution_count": 7,
   "metadata": {},
   "outputs": [],
   "source": [
    "with open(\"/home/odysseus/Bureau/ANR/code/topic_modelling_mallet/results/doc-topics-chaps.txt\") as f:\n",
    "    f.readline()  # read one line in order to skip the header\n",
    "    \n",
    "    for line_split in f:\n",
    "        docnum_split, docname_split, *values_split = line_split.rstrip().split('\\t')\n",
    "        docname_split = os.path.basename(docname_split)\n",
    "        if docname_split.split('_')[1] in list_authors_to_find :\n",
    "            num_chap=docname_split.split('_')[3]\n",
    "            list_chaps.append(int(num_chap[:len(num_chap)-4]))"
   ]
  },
  {
   "cell_type": "code",
   "execution_count": 8,
   "metadata": {},
   "outputs": [
    {
     "name": "stdout",
     "output_type": "stream",
     "text": [
      "Giono-Jean_Le-Hussard-sur-le-toit_2\n",
      "Giono-Jean_Les-recits-de-la-demi-brigade_2\n",
      "Giono-Jean_Batailles-dans-la-montagne_1\n",
      "Giono-Jean_Batailles-dans-la-montagne_2\n",
      "Giono-Jean_Regain_1\n",
      "Giono-Jean_Regain_2\n",
      "Giono-Jean_Le-Hussard-sur-le-toit_1\n",
      "Giono-Jean_Les-recits-de-la-demi-brigade_1\n"
     ]
    }
   ],
   "source": [
    "with open(\"/home/odysseus/Bureau/ANR/code/topic_modelling_mallet/results/doc-topics-chaps.txt\") as f:\n",
    "    f.readline()  # read one line in order to skip the header\n",
    "    for line in f:\n",
    "        docnum, docname, *values = line.rstrip().split('\\t')\n",
    "        docname = os.path.basename(docname)\n",
    "        if docname.split('_')[1] in list_authors_to_find and ('_1.' in docname or '_2.' in docname):\n",
    "        #if docname.split('_')[1] in list_authors_to_find and ('_1.' in docname or '_'+str(max(list_chaps))+'.' in docname):\n",
    "            #docname=replace_all(docname, list_authors_to_replace)\n",
    "            docname=docname[5:len(docname)-4]\n",
    "            mallet_docnames.append(docname)\n",
    "            print(docname)\n",
    "            for topic, share in grouper(2, values):\n",
    "                triple = (docname, int(topic), float(share))\n",
    "                doctopic_triples.append(triple)"
   ]
  },
  {
   "cell_type": "code",
   "execution_count": 9,
   "metadata": {},
   "outputs": [
    {
     "name": "stdout",
     "output_type": "stream",
     "text": [
      "[('Giono-Jean_Le-Hussard-sur-le-toit_2', 2, 0.18908629441624367), ('Giono-Jean_Le-Hussard-sur-le-toit_2', 15, 0.1865482233502538), ('Giono-Jean_Le-Hussard-sur-le-toit_2', 14, 0.18401015228426396), ('Giono-Jean_Le-Hussard-sur-le-toit_2', 13, 0.1383248730964467), ('Giono-Jean_Le-Hussard-sur-le-toit_2', 7, 0.05203045685279188), ('Giono-Jean_Le-Hussard-sur-le-toit_2', 8, 0.02918781725888325), ('Giono-Jean_Le-Hussard-sur-le-toit_2', 5, 0.02918781725888325), ('Giono-Jean_Le-Hussard-sur-le-toit_2', 19, 0.021573604060913704), ('Giono-Jean_Le-Hussard-sur-le-toit_2', 11, 0.01903553299492386), ('Giono-Jean_Le-Hussard-sur-le-toit_2', 6, 0.01903553299492386), ('Giono-Jean_Le-Hussard-sur-le-toit_2', 4, 0.01903553299492386), ('Giono-Jean_Le-Hussard-sur-le-toit_2', 18, 0.01649746192893401), ('Giono-Jean_Le-Hussard-sur-le-toit_2', 17, 0.013959390862944163), ('Giono-Jean_Le-Hussard-sur-le-toit_2', 9, 0.013959390862944163), ('Giono-Jean_Le-Hussard-sur-le-toit_2', 0, 0.013959390862944163), ('Giono-Jean_Le-Hussard-sur-le-toit_2', 16, 0.011421319796954314), ('Giono-Jean_Le-Hussard-sur-le-toit_2', 12, 0.011421319796954314), ('Giono-Jean_Le-Hussard-sur-le-toit_2', 10, 0.011421319796954314), ('Giono-Jean_Le-Hussard-sur-le-toit_2', 3, 0.011421319796954314), ('Giono-Jean_Le-Hussard-sur-le-toit_2', 1, 0.008883248730964468), ('Giono-Jean_Les-recits-de-la-demi-brigade_2', 13, 0.1557377049180328), ('Giono-Jean_Les-recits-de-la-demi-brigade_2', 14, 0.11566484517304189), ('Giono-Jean_Les-recits-de-la-demi-brigade_2', 16, 0.10473588342440801), ('Giono-Jean_Les-recits-de-la-demi-brigade_2', 5, 0.09744990892531877), ('Giono-Jean_Les-recits-de-la-demi-brigade_2', 11, 0.09016393442622951), ('Giono-Jean_Les-recits-de-la-demi-brigade_2', 0, 0.07194899817850638), ('Giono-Jean_Les-recits-de-la-demi-brigade_2', 9, 0.07012750455373407), ('Giono-Jean_Les-recits-de-la-demi-brigade_2', 18, 0.05191256830601093), ('Giono-Jean_Les-recits-de-la-demi-brigade_2', 8, 0.040983606557377046), ('Giono-Jean_Les-recits-de-la-demi-brigade_2', 2, 0.031876138433515486), ('Giono-Jean_Les-recits-de-la-demi-brigade_2', 15, 0.028233151183970857), ('Giono-Jean_Les-recits-de-la-demi-brigade_2', 12, 0.028233151183970857), ('Giono-Jean_Les-recits-de-la-demi-brigade_2', 19, 0.02459016393442623), ('Giono-Jean_Les-recits-de-la-demi-brigade_2', 4, 0.017304189435336976), ('Giono-Jean_Les-recits-de-la-demi-brigade_2', 1, 0.017304189435336976), ('Giono-Jean_Les-recits-de-la-demi-brigade_2', 17, 0.015482695810564663), ('Giono-Jean_Les-recits-de-la-demi-brigade_2', 3, 0.011839708561020037), ('Giono-Jean_Les-recits-de-la-demi-brigade_2', 7, 0.010018214936247723), ('Giono-Jean_Les-recits-de-la-demi-brigade_2', 6, 0.010018214936247723), ('Giono-Jean_Les-recits-de-la-demi-brigade_2', 10, 0.006375227686703097), ('Giono-Jean_Batailles-dans-la-montagne_1', 1, 0.41946050096339116), ('Giono-Jean_Batailles-dans-la-montagne_1', 13, 0.19325626204238922), ('Giono-Jean_Batailles-dans-la-montagne_1', 14, 0.12928709055876686), ('Giono-Jean_Batailles-dans-la-montagne_1', 15, 0.10038535645472062), ('Giono-Jean_Batailles-dans-la-montagne_1', 17, 0.02909441233140655), ('Giono-Jean_Batailles-dans-la-montagne_1', 5, 0.028323699421965318), ('Giono-Jean_Batailles-dans-la-montagne_1', 7, 0.019460500963391136), ('Giono-Jean_Batailles-dans-la-montagne_1', 8, 0.009441233140655106), ('Giono-Jean_Batailles-dans-la-montagne_1', 12, 0.008285163776493257), ('Giono-Jean_Batailles-dans-la-montagne_1', 11, 0.008285163776493257), ('Giono-Jean_Batailles-dans-la-montagne_1', 6, 0.00789980732177264), ('Giono-Jean_Batailles-dans-la-montagne_1', 2, 0.00789980732177264), ('Giono-Jean_Batailles-dans-la-montagne_1', 4, 0.007129094412331407), ('Giono-Jean_Batailles-dans-la-montagne_1', 19, 0.006358381502890174), ('Giono-Jean_Batailles-dans-la-montagne_1', 16, 0.005973025048169557), ('Giono-Jean_Batailles-dans-la-montagne_1', 10, 0.005587668593448941), ('Giono-Jean_Batailles-dans-la-montagne_1', 18, 0.004816955684007707), ('Giono-Jean_Batailles-dans-la-montagne_1', 9, 0.004431599229287091), ('Giono-Jean_Batailles-dans-la-montagne_1', 3, 0.0025048169556840076), ('Giono-Jean_Batailles-dans-la-montagne_1', 0, 0.002119460500963391), ('Giono-Jean_Batailles-dans-la-montagne_2', 1, 0.39265734265734265), ('Giono-Jean_Batailles-dans-la-montagne_2', 13, 0.18286713286713285), ('Giono-Jean_Batailles-dans-la-montagne_2', 14, 0.13391608391608392), ('Giono-Jean_Batailles-dans-la-montagne_2', 15, 0.08636363636363636), ('Giono-Jean_Batailles-dans-la-montagne_2', 4, 0.07727272727272727), ('Giono-Jean_Batailles-dans-la-montagne_2', 5, 0.023426573426573425), ('Giono-Jean_Batailles-dans-la-montagne_2', 17, 0.02062937062937063), ('Giono-Jean_Batailles-dans-la-montagne_2', 19, 0.019230769230769232), ('Giono-Jean_Batailles-dans-la-montagne_2', 2, 0.015734265734265736), ('Giono-Jean_Batailles-dans-la-montagne_2', 12, 0.012237762237762238), ('Giono-Jean_Batailles-dans-la-montagne_2', 11, 0.005944055944055944), ('Giono-Jean_Batailles-dans-la-montagne_2', 10, 0.004545454545454545), ('Giono-Jean_Batailles-dans-la-montagne_2', 8, 0.004545454545454545), ('Giono-Jean_Batailles-dans-la-montagne_2', 16, 0.0038461538461538464), ('Giono-Jean_Batailles-dans-la-montagne_2', 9, 0.0038461538461538464), ('Giono-Jean_Batailles-dans-la-montagne_2', 6, 0.0038461538461538464), ('Giono-Jean_Batailles-dans-la-montagne_2', 18, 0.003146853146853147), ('Giono-Jean_Batailles-dans-la-montagne_2', 0, 0.0024475524475524478), ('Giono-Jean_Batailles-dans-la-montagne_2', 7, 0.0017482517482517483), ('Giono-Jean_Batailles-dans-la-montagne_2', 3, 0.0017482517482517483), ('Giono-Jean_Regain_1', 13, 0.2581699346405229), ('Giono-Jean_Regain_1', 1, 0.18845315904139434), ('Giono-Jean_Regain_1', 14, 0.1644880174291939), ('Giono-Jean_Regain_1', 0, 0.06427015250544663), ('Giono-Jean_Regain_1', 17, 0.05773420479302832), ('Giono-Jean_Regain_1', 2, 0.042483660130718956), ('Giono-Jean_Regain_1', 5, 0.03594771241830065), ('Giono-Jean_Regain_1', 15, 0.029411764705882353), ('Giono-Jean_Regain_1', 18, 0.027233115468409588), ('Giono-Jean_Regain_1', 19, 0.02287581699346405), ('Giono-Jean_Regain_1', 16, 0.020697167755991286), ('Giono-Jean_Regain_1', 12, 0.016339869281045753), ('Giono-Jean_Regain_1', 8, 0.014161220043572984), ('Giono-Jean_Regain_1', 6, 0.014161220043572984), ('Giono-Jean_Regain_1', 7, 0.011982570806100218), ('Giono-Jean_Regain_1', 4, 0.00980392156862745), ('Giono-Jean_Regain_1', 11, 0.0054466230936819175), ('Giono-Jean_Regain_1', 10, 0.0054466230936819175), ('Giono-Jean_Regain_1', 9, 0.0054466230936819175), ('Giono-Jean_Regain_1', 3, 0.0054466230936819175), ('Giono-Jean_Regain_2', 1, 0.2642023346303502), ('Giono-Jean_Regain_2', 14, 0.23696498054474707), ('Giono-Jean_Regain_2', 13, 0.1894941634241245), ('Giono-Jean_Regain_2', 15, 0.077431906614786), ('Giono-Jean_Regain_2', 4, 0.041634241245136185), ('Giono-Jean_Regain_2', 5, 0.04085603112840467), ('Giono-Jean_Regain_2', 17, 0.03618677042801557), ('Giono-Jean_Regain_2', 2, 0.03229571984435798), ('Giono-Jean_Regain_2', 6, 0.022957198443579768), ('Giono-Jean_Regain_2', 19, 0.019844357976653695), ('Giono-Jean_Regain_2', 16, 0.006614785992217899), ('Giono-Jean_Regain_2', 12, 0.004280155642023347), ('Giono-Jean_Regain_2', 11, 0.004280155642023347), ('Giono-Jean_Regain_2', 18, 0.003501945525291829), ('Giono-Jean_Regain_2', 10, 0.003501945525291829), ('Giono-Jean_Regain_2', 9, 0.003501945525291829), ('Giono-Jean_Regain_2', 3, 0.003501945525291829), ('Giono-Jean_Regain_2', 0, 0.003501945525291829), ('Giono-Jean_Regain_2', 8, 0.002723735408560311), ('Giono-Jean_Regain_2', 7, 0.002723735408560311), ('Giono-Jean_Le-Hussard-sur-le-toit_1', 1, 0.20954810495626822), ('Giono-Jean_Le-Hussard-sur-le-toit_1', 13, 0.1490524781341108), ('Giono-Jean_Le-Hussard-sur-le-toit_1', 14, 0.13301749271137026), ('Giono-Jean_Le-Hussard-sur-le-toit_1', 2, 0.05065597667638484), ('Giono-Jean_Le-Hussard-sur-le-toit_1', 5, 0.04774052478134111), ('Giono-Jean_Le-Hussard-sur-le-toit_1', 19, 0.044096209912536447), ('Giono-Jean_Le-Hussard-sur-le-toit_1', 11, 0.04263848396501458), ('Giono-Jean_Le-Hussard-sur-le-toit_1', 18, 0.04190962099125364), ('Giono-Jean_Le-Hussard-sur-le-toit_1', 7, 0.03972303206997085), ('Giono-Jean_Le-Hussard-sur-le-toit_1', 4, 0.037536443148688044), ('Giono-Jean_Le-Hussard-sur-le-toit_1', 0, 0.031705539358600585), ('Giono-Jean_Le-Hussard-sur-le-toit_1', 16, 0.02806122448979592), ('Giono-Jean_Le-Hussard-sur-le-toit_1', 6, 0.02806122448979592), ('Giono-Jean_Le-Hussard-sur-le-toit_1', 3, 0.02587463556851312), ('Giono-Jean_Le-Hussard-sur-le-toit_1', 15, 0.023688046647230322), ('Giono-Jean_Le-Hussard-sur-le-toit_1', 10, 0.022230320699708456), ('Giono-Jean_Le-Hussard-sur-le-toit_1', 8, 0.022230320699708456), ('Giono-Jean_Le-Hussard-sur-le-toit_1', 9, 0.014212827988338192), ('Giono-Jean_Le-Hussard-sur-le-toit_1', 17, 0.005466472303206997), ('Giono-Jean_Le-Hussard-sur-le-toit_1', 12, 0.002551020408163265), ('Giono-Jean_Les-recits-de-la-demi-brigade_1', 13, 0.21919431279620852), ('Giono-Jean_Les-recits-de-la-demi-brigade_1', 11, 0.12440758293838862), ('Giono-Jean_Les-recits-de-la-demi-brigade_1', 16, 0.07938388625592417), ('Giono-Jean_Les-recits-de-la-demi-brigade_1', 5, 0.07464454976303317), ('Giono-Jean_Les-recits-de-la-demi-brigade_1', 0, 0.06279620853080568), ('Giono-Jean_Les-recits-de-la-demi-brigade_1', 4, 0.0485781990521327), ('Giono-Jean_Les-recits-de-la-demi-brigade_1', 9, 0.0462085308056872), ('Giono-Jean_Les-recits-de-la-demi-brigade_1', 7, 0.0462085308056872), ('Giono-Jean_Les-recits-de-la-demi-brigade_1', 14, 0.034360189573459717), ('Giono-Jean_Les-recits-de-la-demi-brigade_1', 6, 0.02962085308056872), ('Giono-Jean_Les-recits-de-la-demi-brigade_1', 2, 0.02962085308056872), ('Giono-Jean_Les-recits-de-la-demi-brigade_1', 18, 0.027251184834123223), ('Giono-Jean_Les-recits-de-la-demi-brigade_1', 15, 0.027251184834123223), ('Giono-Jean_Les-recits-de-la-demi-brigade_1', 8, 0.027251184834123223), ('Giono-Jean_Les-recits-de-la-demi-brigade_1', 17, 0.024881516587677725), ('Giono-Jean_Les-recits-de-la-demi-brigade_1', 19, 0.02014218009478673), ('Giono-Jean_Les-recits-de-la-demi-brigade_1', 12, 0.02014218009478673), ('Giono-Jean_Les-recits-de-la-demi-brigade_1', 10, 0.02014218009478673), ('Giono-Jean_Les-recits-de-la-demi-brigade_1', 3, 0.02014218009478673), ('Giono-Jean_Les-recits-de-la-demi-brigade_1', 1, 0.017772511848341232)]\n"
     ]
    }
   ],
   "source": [
    "print(doctopic_triples)"
   ]
  },
  {
   "cell_type": "code",
   "execution_count": 10,
   "metadata": {},
   "outputs": [],
   "source": [
    "mallet_docnames = sorted(mallet_docnames)"
   ]
  },
  {
   "cell_type": "code",
   "execution_count": 11,
   "metadata": {},
   "outputs": [],
   "source": [
    "num_docs = len(mallet_docnames)"
   ]
  },
  {
   "cell_type": "code",
   "execution_count": 12,
   "metadata": {},
   "outputs": [],
   "source": [
    "doctopic_triples = sorted(doctopic_triples, key=operator.itemgetter(0,1))"
   ]
  },
  {
   "cell_type": "code",
   "execution_count": 13,
   "metadata": {},
   "outputs": [
    {
     "name": "stdout",
     "output_type": "stream",
     "text": [
      "160\n",
      "20\n"
     ]
    }
   ],
   "source": [
    "num_topics = len(doctopic_triples) // len(mallet_docnames)\n",
    "print(len(doctopic_triples))\n",
    "print(num_topics)"
   ]
  },
  {
   "cell_type": "code",
   "execution_count": 14,
   "metadata": {},
   "outputs": [],
   "source": [
    "doctopic = np.zeros((num_docs, num_topics))"
   ]
  },
  {
   "cell_type": "code",
   "execution_count": 15,
   "metadata": {},
   "outputs": [],
   "source": [
    "for triple in doctopic_triples:\n",
    "    docname, topic, share = triple\n",
    "    row_num = mallet_docnames.index(docname)\n",
    "    doctopic[row_num, topic] = share"
   ]
  },
  {
   "cell_type": "code",
   "execution_count": 16,
   "metadata": {},
   "outputs": [],
   "source": [
    "novel_names = []"
   ]
  },
  {
   "cell_type": "code",
   "execution_count": 17,
   "metadata": {},
   "outputs": [
    {
     "name": "stdout",
     "output_type": "stream",
     "text": [
      "8\n"
     ]
    }
   ],
   "source": [
    "for fn in mallet_docnames:\n",
    "    basename = os.path.basename(fn)\n",
    "    name, ext = os.path.splitext(basename)\n",
    "    novel_names.append(name)\n",
    "print(len(novel_names))"
   ]
  },
  {
   "cell_type": "code",
   "execution_count": 18,
   "metadata": {},
   "outputs": [],
   "source": [
    "novel_names = np.asarray(novel_names)"
   ]
  },
  {
   "cell_type": "code",
   "execution_count": 19,
   "metadata": {},
   "outputs": [
    {
     "data": {
      "text/plain": [
       "array([[ 0.00211946,  0.4194605 ,  0.00789981,  0.00250482,  0.00712909,\n",
       "         0.0283237 ,  0.00789981,  0.0194605 ,  0.00944123,  0.0044316 ,\n",
       "         0.00558767,  0.00828516,  0.00828516,  0.19325626,  0.12928709,\n",
       "         0.10038536,  0.00597303,  0.02909441,  0.00481696,  0.00635838],\n",
       "       [ 0.00244755,  0.39265734,  0.01573427,  0.00174825,  0.07727273,\n",
       "         0.02342657,  0.00384615,  0.00174825,  0.00454545,  0.00384615,\n",
       "         0.00454545,  0.00594406,  0.01223776,  0.18286713,  0.13391608,\n",
       "         0.08636364,  0.00384615,  0.02062937,  0.00314685,  0.01923077],\n",
       "       [ 0.03170554,  0.2095481 ,  0.05065598,  0.02587464,  0.03753644,\n",
       "         0.04774052,  0.02806122,  0.03972303,  0.02223032,  0.01421283,\n",
       "         0.02223032,  0.04263848,  0.00255102,  0.14905248,  0.13301749,\n",
       "         0.02368805,  0.02806122,  0.00546647,  0.04190962,  0.04409621],\n",
       "       [ 0.01395939,  0.00888325,  0.18908629,  0.01142132,  0.01903553,\n",
       "         0.02918782,  0.01903553,  0.05203046,  0.02918782,  0.01395939,\n",
       "         0.01142132,  0.01903553,  0.01142132,  0.13832487,  0.18401015,\n",
       "         0.18654822,  0.01142132,  0.01395939,  0.01649746,  0.0215736 ],\n",
       "       [ 0.06279621,  0.01777251,  0.02962085,  0.02014218,  0.0485782 ,\n",
       "         0.07464455,  0.02962085,  0.04620853,  0.02725118,  0.04620853,\n",
       "         0.02014218,  0.12440758,  0.02014218,  0.21919431,  0.03436019,\n",
       "         0.02725118,  0.07938389,  0.02488152,  0.02725118,  0.02014218],\n",
       "       [ 0.071949  ,  0.01730419,  0.03187614,  0.01183971,  0.01730419,\n",
       "         0.09744991,  0.01001821,  0.01001821,  0.04098361,  0.0701275 ,\n",
       "         0.00637523,  0.09016393,  0.02823315,  0.1557377 ,  0.11566485,\n",
       "         0.02823315,  0.10473588,  0.0154827 ,  0.05191257,  0.02459016],\n",
       "       [ 0.06427015,  0.18845316,  0.04248366,  0.00544662,  0.00980392,\n",
       "         0.03594771,  0.01416122,  0.01198257,  0.01416122,  0.00544662,\n",
       "         0.00544662,  0.00544662,  0.01633987,  0.25816993,  0.16448802,\n",
       "         0.02941176,  0.02069717,  0.0577342 ,  0.02723312,  0.02287582],\n",
       "       [ 0.00350195,  0.26420233,  0.03229572,  0.00350195,  0.04163424,\n",
       "         0.04085603,  0.0229572 ,  0.00272374,  0.00272374,  0.00350195,\n",
       "         0.00350195,  0.00428016,  0.00428016,  0.18949416,  0.23696498,\n",
       "         0.07743191,  0.00661479,  0.03618677,  0.00350195,  0.01984436]])"
      ]
     },
     "execution_count": 19,
     "metadata": {},
     "output_type": "execute_result"
    }
   ],
   "source": [
    "doctopic"
   ]
  },
  {
   "cell_type": "code",
   "execution_count": 20,
   "metadata": {},
   "outputs": [],
   "source": [
    "doctopic_orig = doctopic.copy()"
   ]
  },
  {
   "cell_type": "code",
   "execution_count": 21,
   "metadata": {},
   "outputs": [
    {
     "name": "stdout",
     "output_type": "stream",
     "text": [
      "8\n"
     ]
    }
   ],
   "source": [
    "num_groups = len(set(novel_names))\n",
    "print(num_groups)"
   ]
  },
  {
   "cell_type": "code",
   "execution_count": 22,
   "metadata": {},
   "outputs": [],
   "source": [
    "doctopic_grouped = np.zeros((num_groups, num_topics))"
   ]
  },
  {
   "cell_type": "code",
   "execution_count": 23,
   "metadata": {},
   "outputs": [],
   "source": [
    "for i, name in enumerate(sorted(set(novel_names))):\n",
    "    doctopic_grouped[i, :] = np.mean(doctopic[novel_names == name, :], axis=0)"
   ]
  },
  {
   "cell_type": "code",
   "execution_count": 24,
   "metadata": {},
   "outputs": [],
   "source": [
    "doctopic = doctopic_grouped"
   ]
  },
  {
   "cell_type": "code",
   "execution_count": 25,
   "metadata": {},
   "outputs": [
    {
     "data": {
      "text/plain": [
       "array([[ 0.00211946,  0.4194605 ,  0.00789981,  0.00250482,  0.00712909,\n",
       "         0.0283237 ,  0.00789981,  0.0194605 ,  0.00944123,  0.0044316 ,\n",
       "         0.00558767,  0.00828516,  0.00828516,  0.19325626,  0.12928709,\n",
       "         0.10038536,  0.00597303,  0.02909441,  0.00481696,  0.00635838],\n",
       "       [ 0.00244755,  0.39265734,  0.01573427,  0.00174825,  0.07727273,\n",
       "         0.02342657,  0.00384615,  0.00174825,  0.00454545,  0.00384615,\n",
       "         0.00454545,  0.00594406,  0.01223776,  0.18286713,  0.13391608,\n",
       "         0.08636364,  0.00384615,  0.02062937,  0.00314685,  0.01923077],\n",
       "       [ 0.03170554,  0.2095481 ,  0.05065598,  0.02587464,  0.03753644,\n",
       "         0.04774052,  0.02806122,  0.03972303,  0.02223032,  0.01421283,\n",
       "         0.02223032,  0.04263848,  0.00255102,  0.14905248,  0.13301749,\n",
       "         0.02368805,  0.02806122,  0.00546647,  0.04190962,  0.04409621],\n",
       "       [ 0.01395939,  0.00888325,  0.18908629,  0.01142132,  0.01903553,\n",
       "         0.02918782,  0.01903553,  0.05203046,  0.02918782,  0.01395939,\n",
       "         0.01142132,  0.01903553,  0.01142132,  0.13832487,  0.18401015,\n",
       "         0.18654822,  0.01142132,  0.01395939,  0.01649746,  0.0215736 ],\n",
       "       [ 0.06279621,  0.01777251,  0.02962085,  0.02014218,  0.0485782 ,\n",
       "         0.07464455,  0.02962085,  0.04620853,  0.02725118,  0.04620853,\n",
       "         0.02014218,  0.12440758,  0.02014218,  0.21919431,  0.03436019,\n",
       "         0.02725118,  0.07938389,  0.02488152,  0.02725118,  0.02014218],\n",
       "       [ 0.071949  ,  0.01730419,  0.03187614,  0.01183971,  0.01730419,\n",
       "         0.09744991,  0.01001821,  0.01001821,  0.04098361,  0.0701275 ,\n",
       "         0.00637523,  0.09016393,  0.02823315,  0.1557377 ,  0.11566485,\n",
       "         0.02823315,  0.10473588,  0.0154827 ,  0.05191257,  0.02459016],\n",
       "       [ 0.06427015,  0.18845316,  0.04248366,  0.00544662,  0.00980392,\n",
       "         0.03594771,  0.01416122,  0.01198257,  0.01416122,  0.00544662,\n",
       "         0.00544662,  0.00544662,  0.01633987,  0.25816993,  0.16448802,\n",
       "         0.02941176,  0.02069717,  0.0577342 ,  0.02723312,  0.02287582],\n",
       "       [ 0.00350195,  0.26420233,  0.03229572,  0.00350195,  0.04163424,\n",
       "         0.04085603,  0.0229572 ,  0.00272374,  0.00272374,  0.00350195,\n",
       "         0.00350195,  0.00428016,  0.00428016,  0.18949416,  0.23696498,\n",
       "         0.07743191,  0.00661479,  0.03618677,  0.00350195,  0.01984436]])"
      ]
     },
     "execution_count": 25,
     "metadata": {},
     "output_type": "execute_result"
    }
   ],
   "source": [
    "doctopic"
   ]
  },
  {
   "cell_type": "code",
   "execution_count": 26,
   "metadata": {},
   "outputs": [
    {
     "name": "stdout",
     "output_type": "stream",
     "text": [
      "20\n"
     ]
    }
   ],
   "source": [
    "N, K = doctopic.shape\n",
    "print(K)"
   ]
  },
  {
   "cell_type": "code",
   "execution_count": 27,
   "metadata": {},
   "outputs": [],
   "source": [
    "ind = np.arange(N)"
   ]
  },
  {
   "cell_type": "code",
   "execution_count": 28,
   "metadata": {},
   "outputs": [],
   "source": [
    "width = 0.5"
   ]
  },
  {
   "cell_type": "code",
   "execution_count": 29,
   "metadata": {},
   "outputs": [],
   "source": [
    "plt.rcParams[\"figure.figsize\"] = [16,9]"
   ]
  },
  {
   "cell_type": "code",
   "execution_count": 30,
   "metadata": {},
   "outputs": [
    {
     "data": {
      "text/plain": [
       "<Container object of 8 artists>"
      ]
     },
     "execution_count": 30,
     "metadata": {},
     "output_type": "execute_result"
    }
   ],
   "source": [
    "plt.bar(ind, doctopic[:,0], width=width)"
   ]
  },
  {
   "cell_type": "code",
   "execution_count": 31,
   "metadata": {},
   "outputs": [
    {
     "data": {
      "text/plain": [
       "([<matplotlib.axis.XTick at 0x7fd24fb84ba8>,\n",
       "  <matplotlib.axis.XTick at 0x7fd24fb84a20>,\n",
       "  <matplotlib.axis.XTick at 0x7fd24d8a3860>,\n",
       "  <matplotlib.axis.XTick at 0x7fd24d834f98>,\n",
       "  <matplotlib.axis.XTick at 0x7fd24d840630>,\n",
       "  <matplotlib.axis.XTick at 0x7fd24d840cc0>,\n",
       "  <matplotlib.axis.XTick at 0x7fd24d844400>,\n",
       "  <matplotlib.axis.XTick at 0x7fd24d844a90>],\n",
       " <a list of 8 Text xticklabel objects>)"
      ]
     },
     "execution_count": 31,
     "metadata": {},
     "output_type": "execute_result"
    }
   ],
   "source": [
    "plt.xticks(rotation=90)\n",
    "plt.xticks(ind + width/2, novel_names)"
   ]
  },
  {
   "cell_type": "code",
   "execution_count": 32,
   "metadata": {},
   "outputs": [
    {
     "data": {
      "text/plain": [
       "Text(0.5,1,'Share of Topic #0')"
      ]
     },
     "execution_count": 32,
     "metadata": {},
     "output_type": "execute_result"
    }
   ],
   "source": [
    "plt.title('Share of Topic #0')"
   ]
  },
  {
   "cell_type": "code",
   "execution_count": 33,
   "metadata": {},
   "outputs": [
    {
     "data": {
      "image/png": "[encoded data removed]",
      "text/plain": [
       "<matplotlib.figure.Figure at 0x7fd24fb3fbe0>"
      ]
     },
     "metadata": {},
     "output_type": "display_data"
    }
   ],
   "source": [
    "plt.show()"
   ]
  },
  {
   "cell_type": "code",
   "execution_count": 34,
   "metadata": {},
   "outputs": [],
   "source": [
    "plots = []"
   ]
  },
  {
   "cell_type": "code",
   "execution_count": 35,
   "metadata": {},
   "outputs": [],
   "source": [
    "height_cumulative = np.zeros(N)"
   ]
  },
  {
   "cell_type": "code",
   "execution_count": 36,
   "metadata": {},
   "outputs": [],
   "source": [
    "argsfig='giono_1_2'"
   ]
  },
  {
   "cell_type": "code",
   "execution_count": 37,
   "metadata": {},
   "outputs": [],
   "source": [
    "fig=plt.figure()"
   ]
  },
  {
   "cell_type": "code",
   "execution_count": 38,
   "metadata": {},
   "outputs": [],
   "source": [
    "for k in range(K):\n",
    "    color = plt.cm.tab20(k/K, 1)\n",
    "    if k == 0:\n",
    "        p = plt.bar(ind, doctopic[:, k], width, color=color)\n",
    "    else:\n",
    "        p = plt.bar(ind, doctopic[:, k], width, bottom=height_cumulative, color=color)\n",
    "    height_cumulative += doctopic[:, k]\n",
    "    plots.append(p)"
   ]
  },
  {
   "cell_type": "code",
   "execution_count": 39,
   "metadata": {},
   "outputs": [
    {
     "data": {
      "text/plain": [
       "(0, 1)"
      ]
     },
     "execution_count": 39,
     "metadata": {},
     "output_type": "execute_result"
    }
   ],
   "source": [
    "plt.ylim((0, 1))"
   ]
  },
  {
   "cell_type": "code",
   "execution_count": 40,
   "metadata": {},
   "outputs": [
    {
     "data": {
      "text/plain": [
       "Text(0,0.5,'Topics')"
      ]
     },
     "execution_count": 40,
     "metadata": {},
     "output_type": "execute_result"
    }
   ],
   "source": [
    "plt.ylabel('Topics')"
   ]
  },
  {
   "cell_type": "code",
   "execution_count": 41,
   "metadata": {},
   "outputs": [
    {
     "data": {
      "text/plain": [
       "Text(0.5,1,'Topics in novels')"
      ]
     },
     "execution_count": 41,
     "metadata": {},
     "output_type": "execute_result"
    }
   ],
   "source": [
    "plt.title('Topics in novels')"
   ]
  },
  {
   "cell_type": "code",
   "execution_count": 42,
   "metadata": {},
   "outputs": [],
   "source": [
    "list_topics =['espace domestique', 'vie conjugale', 'affaires/argent/mondanités', '?', 'noblesse', 'justice/crime', 'réflexions sur l\\'existence', 'police/intrigue/bureaucratie', 'corps public/théâtre/festivités', 'temps','armée','?','nature/éléments/cosmos','voyage','sentiment','corps (morbide ?)','marine','famille','nature/végétal','religion']"
   ]
  },
  {
   "cell_type": "code",
   "execution_count": 43,
   "metadata": {},
   "outputs": [
    {
     "name": "stdout",
     "output_type": "stream",
     "text": [
      "numero 1\n",
      "Giono-Jean_Batailles-dans-la-montagne_1\n",
      "numero 2\n",
      "Giono-Jean_Batailles-dans-la-montagne_2\n",
      "numero 3\n",
      "Giono-Jean_Le-Hussard-sur-le-toit_1\n",
      "numero 4\n",
      "Giono-Jean_Le-Hussard-sur-le-toit_2\n",
      "numero 5\n",
      "Giono-Jean_Les-recits-de-la-demi-brigade_1\n",
      "numero 6\n",
      "Giono-Jean_Les-recits-de-la-demi-brigade_2\n",
      "numero 7\n",
      "Giono-Jean_Regain_1\n",
      "numero 8\n",
      "Giono-Jean_Regain_2\n"
     ]
    }
   ],
   "source": [
    "plt.xticks(rotation=90)\n",
    "plt.xticks(ind+width/2, novel_names)\n",
    "index=1\n",
    "for name in novel_names:\n",
    "    print('numero '+str(index))\n",
    "    print(name)\n",
    "    index+=1"
   ]
  },
  {
   "cell_type": "code",
   "execution_count": 44,
   "metadata": {},
   "outputs": [
    {
     "data": {
      "text/plain": [
       "([<matplotlib.axis.YTick at 0x7fd24d539a20>],\n",
       " <a list of 1 Text yticklabel objects>)"
      ]
     },
     "execution_count": 44,
     "metadata": {},
     "output_type": "execute_result"
    }
   ],
   "source": [
    "plt.yticks(np.arange(0, 1, 10))"
   ]
  },
  {
   "cell_type": "code",
   "execution_count": 45,
   "metadata": {},
   "outputs": [],
   "source": [
    "#Pour cette expérience, topic 0 : aventure ; topic 1 : argent ; topic 2 : mort\n",
    "topic_labels = [k for k in list_topics]"
   ]
  },
  {
   "cell_type": "code",
   "execution_count": 46,
   "metadata": {},
   "outputs": [
    {
     "data": {
      "text/plain": [
       "<matplotlib.legend.Legend at 0x7fd24d8484a8>"
      ]
     },
     "execution_count": 46,
     "metadata": {},
     "output_type": "execute_result"
    }
   ],
   "source": [
    "plt.legend([p[0] for p in plots], topic_labels,bbox_to_anchor=(1,1), loc=\"upper left\")"
   ]
  },
  {
   "cell_type": "code",
   "execution_count": 47,
   "metadata": {},
   "outputs": [],
   "source": [
    "fig.savefig(argsfig+'.png',bbox_inches='tight')\n",
    "plt.close(fig)"
   ]
  },
  {
   "cell_type": "code",
   "execution_count": null,
   "metadata": {},
   "outputs": [],
   "source": []
  }
 ],
 "metadata": {
  "kernelspec": {
   "display_name": "Python 3",
   "language": "python",
   "name": "python3"
  },
  "language_info": {
   "codemirror_mode": {
    "name": "ipython",
    "version": 3
   },
   "file_extension": ".py",
   "mimetype": "text/x-python",
   "name": "python",
   "nbconvert_exporter": "python",
   "pygments_lexer": "ipython3",
   "version": "3.5.2"
  }
 },
 "nbformat": 4,
 "nbformat_minor": 2
}

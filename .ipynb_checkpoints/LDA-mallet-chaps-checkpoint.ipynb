{
 "cells": [
  {
   "cell_type": "code",
   "execution_count": 1,
   "metadata": {},
   "outputs": [],
   "source": [
    "import os\n",
    "import itertools\n",
    "import numpy as np\n",
    "import operator\n",
    "import math\n",
    "from sklearn.feature_extraction.text import CountVectorizer\n",
    "import matplotlib.pyplot as plt"
   ]
  },
  {
   "cell_type": "code",
   "execution_count": 2,
   "metadata": {},
   "outputs": [],
   "source": [
    "def grouper(n, iterable, fillvalue=None):\n",
    "    args = [iter(iterable)] * n\n",
    "    return itertools.zip_longest(*args, fillvalue=fillvalue)"
   ]
  },
  {
   "cell_type": "code",
   "execution_count": 3,
   "metadata": {},
   "outputs": [],
   "source": [
    "doctopic_triples = []\n",
    "mallet_docnames = []"
   ]
  },
  {
   "cell_type": "code",
   "execution_count": 4,
   "metadata": {},
   "outputs": [],
   "source": [
    "#here you can put the strings you want to get rid off when showing the titles\n",
    "list_authors_to_replace=['Zola-Emile','Dumas-Alexandre-Pere','Dumas-Alexandre','Balzac-Honore-de','Verne-Jules','Sand-George','Flaubert-Gustave']\n",
    "list_authors_to_find=['Zola-Emile','Balzac-Honore-de']"
   ]
  },
  {
   "cell_type": "code",
   "execution_count": 5,
   "metadata": {},
   "outputs": [],
   "source": [
    "def replace_all(text, dic):\n",
    "    for i in dic:\n",
    "        text = text.replace(i, \"\")\n",
    "    return text"
   ]
  },
  {
   "cell_type": "code",
   "execution_count": 6,
   "metadata": {},
   "outputs": [
    {
     "name": "stdout",
     "output_type": "stream",
     "text": [
      "_Zola-Emile_Germinal.xml\n",
      "Zola-Emile_La-curee.xml\n",
      "Zola-Emile_Nana.xml\n",
      "Balzac-Honore-de_Une-tenebreuse-affaire.xml\n",
      "_Zola-Emile_L-assomoir.xml\n",
      "Zola-Emile_La-faute-de-l-abbe-Mouret.xml\n",
      "_Zola-Emile_Une-page-d-amour.xml\n",
      "_Zola-Emile_Pot-Bouille.xml\n",
      "_Zola-Emile_Nana.xml\n",
      "_Zola-Emile_Germinal.xml\n",
      "Balzac-Honore-de_Une-tenebreuse-affaireFC.xml\n",
      "_Zola-Emile_La-faute-de-l-abbe-Mouret.xml\n",
      "Zola-Emile_Pot-Bouille.xml\n",
      "_Zola-Emile_La-faute-de-l-abbe-Mouret.xml\n",
      "_Zola-Emile_Une-page-d-amour.xml\n",
      "_Zola-Emile_La-faute-de-l-abbe-Mouret.xml\n",
      "Zola-Emile_Germinal.xml\n",
      "_Zola-Emile_Au-bonheur-des-dames.xml\n",
      "Zola-Emile_Au-bonheur-des-dames.xml\n",
      "_Zola-Emile_Germinal.xml\n",
      "Zola-Emile_L-assomoir.xml\n",
      "_Zola-Emile_La-faute-de-l-abbe-Mouret.xml\n",
      "Zola-Emile_Une-page-d-amour.xml\n",
      "_Zola-Emile_La-faute-de-l-abbe-Mouret.xml\n",
      "Zola-Emile_La-fortune-des-Rougon.xml\n"
     ]
    }
   ],
   "source": [
    "with open(\"/home/odysseus/Bureau/ANR/code/topic_modelling_mallet/results/doc-topic-chaps.txt\") as f:\n",
    "    f.readline()  # read one line in order to skip the header\n",
    "    for line in f:\n",
    "        docnum, docname, *values = line.rstrip().split('\\t')\n",
    "        docname = os.path.basename(docname)\n",
    "        if docname.split('_')[1] in list_authors_to_find:\n",
    "            #docname=replace_all(docname, list_authors_to_replace)\n",
    "            mallet_docnames.append(docname[5:-4])\n",
    "            print(docname[5:-4])\n",
    "            for topic, share in grouper(2, values):\n",
    "                triple = (docname[5:-4], int(topic), float(share))\n",
    "                doctopic_triples.append(triple)"
   ]
  },
  {
   "cell_type": "code",
   "execution_count": 7,
   "metadata": {},
   "outputs": [
    {
     "name": "stdout",
     "output_type": "stream",
     "text": [
      "[('_Zola-Emile_Germinal.xml', 14, 0.26325088339222613), ('_Zola-Emile_Germinal.xml', 5, 0.15724381625441697), ('_Zola-Emile_Germinal.xml', 9, 0.07832744405182568), ('_Zola-Emile_Germinal.xml', 4, 0.07832744405182568), ('_Zola-Emile_Germinal.xml', 0, 0.06301531213191991), ('_Zola-Emile_Germinal.xml', 16, 0.054770318021201414), ('_Zola-Emile_Germinal.xml', 10, 0.052414605418138985), ('_Zola-Emile_Germinal.xml', 17, 0.037102473498233215), ('_Zola-Emile_Germinal.xml', 8, 0.037102473498233215), ('_Zola-Emile_Germinal.xml', 11, 0.02767962308598351), ('_Zola-Emile_Germinal.xml', 12, 0.026501766784452298), ('_Zola-Emile_Germinal.xml', 15, 0.022968197879858657), ('_Zola-Emile_Germinal.xml', 1, 0.022968197879858657), ('_Zola-Emile_Germinal.xml', 7, 0.01707891637220259), ('_Zola-Emile_Germinal.xml', 6, 0.01707891637220259), ('_Zola-Emile_Germinal.xml', 2, 0.014723203769140165), ('_Zola-Emile_Germinal.xml', 3, 0.010011778563015312), ('_Zola-Emile_Germinal.xml', 18, 0.0088339222614841), ('_Zola-Emile_Germinal.xml', 13, 0.006478209658421673), ('_Zola-Emile_Germinal.xml', 19, 0.004122497055359246), ('Zola-Emile_La-curee.xml', 17, 0.2350779182593355), ('Zola-Emile_La-curee.xml', 2, 0.23478388709203177), ('Zola-Emile_La-curee.xml', 16, 0.09952955013231403), ('Zola-Emile_La-curee.xml', 18, 0.08394589826521612), ('Zola-Emile_La-curee.xml', 12, 0.07247868274037048), ('Zola-Emile_La-curee.xml', 14, 0.053366656865627755), ('Zola-Emile_La-curee.xml', 5, 0.048956189356071746), ('Zola-Emile_La-curee.xml', 13, 0.03102028815054396), ('Zola-Emile_La-curee.xml', 15, 0.023669508967950604), ('Zola-Emile_La-curee.xml', 9, 0.022493384298735666), ('Zola-Emile_La-curee.xml', 0, 0.021611290796824462), ('Zola-Emile_La-curee.xml', 10, 0.014554542781534842), ('Zola-Emile_La-curee.xml', 19, 0.012790355777712438), ('Zola-Emile_La-curee.xml', 8, 0.009850044104675095), ('Zola-Emile_La-curee.xml', 1, 0.009261981770067627), ('Zola-Emile_La-curee.xml', 7, 0.008967950602763893), ('Zola-Emile_La-curee.xml', 4, 0.007497794766245222), ('Zola-Emile_La-curee.xml', 6, 0.00455748309320788), ('Zola-Emile_La-curee.xml', 11, 0.0033813584239929433), ('Zola-Emile_La-curee.xml', 3, 0.0022052337547780066), ('Zola-Emile_Nana.xml', 2, 0.288795240456123), ('Zola-Emile_Nana.xml', 16, 0.17724343083787802), ('Zola-Emile_Nana.xml', 14, 0.09742191373326722), ('Zola-Emile_Nana.xml', 18, 0.06717897868120971), ('Zola-Emile_Nana.xml', 19, 0.05676747645017353), ('Zola-Emile_Nana.xml', 5, 0.04833911750123947), ('Zola-Emile_Nana.xml', 4, 0.03941497273177987), ('Zola-Emile_Nana.xml', 13, 0.036936043629152204), ('Zola-Emile_Nana.xml', 12, 0.03148239960337134), ('Zola-Emile_Nana.xml', 3, 0.029995042141794746), ('Zola-Emile_Nana.xml', 17, 0.025532969757064948), ('Zola-Emile_Nana.xml', 1, 0.02454139811601388), ('Zola-Emile_Nana.xml', 0, 0.014625681705503223), ('Zola-Emile_Nana.xml', 9, 0.01412989588497769), ('Zola-Emile_Nana.xml', 11, 0.011650966782350025), ('Zola-Emile_Nana.xml', 6, 0.010163609320773426), ('Zola-Emile_Nana.xml', 8, 0.008676251859196828), ('Zola-Emile_Nana.xml', 15, 0.007188894397620228), ('Zola-Emile_Nana.xml', 7, 0.006197322756569162), ('Zola-Emile_Nana.xml', 10, 0.0037183936539414973), ('Balzac-Honore-de_Une-tenebreuse-affaire.xml', 15, 0.17503556187766714), ('Balzac-Honore-de_Une-tenebreuse-affaire.xml', 12, 0.152275960170697), ('Balzac-Honore-de_Une-tenebreuse-affaire.xml', 1, 0.0906827880512091), ('Balzac-Honore-de_Une-tenebreuse-affaire.xml', 13, 0.07816500711237553), ('Balzac-Honore-de_Une-tenebreuse-affaire.xml', 2, 0.07361308677098151), ('Balzac-Honore-de_Une-tenebreuse-affaire.xml', 6, 0.05512091038406828), ('Balzac-Honore-de_Une-tenebreuse-affaire.xml', 0, 0.05327169274537696), ('Balzac-Honore-de_Une-tenebreuse-affaire.xml', 10, 0.04957325746799431), ('Balzac-Honore-de_Une-tenebreuse-affaire.xml', 14, 0.04743954480796586), ('Balzac-Honore-de_Une-tenebreuse-affaire.xml', 8, 0.04601706970128023), ('Balzac-Honore-de_Une-tenebreuse-affaire.xml', 16, 0.0445945945945946), ('Balzac-Honore-de_Une-tenebreuse-affaire.xml', 17, 0.0387624466571835), ('Balzac-Honore-de_Une-tenebreuse-affaire.xml', 5, 0.029516358463726886), ('Balzac-Honore-de_Une-tenebreuse-affaire.xml', 18, 0.022546230440967284), ('Balzac-Honore-de_Une-tenebreuse-affaire.xml', 4, 0.018705547652916075), ('Balzac-Honore-de_Une-tenebreuse-affaire.xml', 19, 0.01429587482219061), ('Balzac-Honore-de_Une-tenebreuse-affaire.xml', 9, 0.0059032716927453766), ('Balzac-Honore-de_Une-tenebreuse-affaire.xml', 7, 0.0027738264580369843), ('Balzac-Honore-de_Une-tenebreuse-affaire.xml', 3, 0.0010668563300142249), ('Balzac-Honore-de_Une-tenebreuse-affaire.xml', 11, 0.0006401137980085349), ('_Zola-Emile_L-assomoir.xml', 14, 0.36215722120658134), ('_Zola-Emile_L-assomoir.xml', 5, 0.12010968921389396), ('_Zola-Emile_L-assomoir.xml', 9, 0.10621572212065813), ('_Zola-Emile_L-assomoir.xml', 0, 0.07111517367458867), ('_Zola-Emile_L-assomoir.xml', 2, 0.06416819012797075), ('_Zola-Emile_L-assomoir.xml', 4, 0.06014625228519196), ('_Zola-Emile_L-assomoir.xml', 16, 0.04881170018281536), ('_Zola-Emile_L-assomoir.xml', 10, 0.03528336380255941), ('_Zola-Emile_L-assomoir.xml', 17, 0.024680073126142597), ('_Zola-Emile_L-assomoir.xml', 8, 0.023948811700182815), ('_Zola-Emile_L-assomoir.xml', 18, 0.021755027422303473), ('_Zola-Emile_L-assomoir.xml', 15, 0.014808043875685557), ('_Zola-Emile_L-assomoir.xml', 12, 0.013345521023765997), ('_Zola-Emile_L-assomoir.xml', 6, 0.008226691042047532), ('_Zola-Emile_L-assomoir.xml', 1, 0.006764168190127971), ('_Zola-Emile_L-assomoir.xml', 13, 0.00530164533820841), ('_Zola-Emile_L-assomoir.xml', 7, 0.003839122486288848), ('_Zola-Emile_L-assomoir.xml', 3, 0.003839122486288848), ('_Zola-Emile_L-assomoir.xml', 11, 0.003473491773308958), ('_Zola-Emile_L-assomoir.xml', 19, 0.0020109689213893968), ('Zola-Emile_La-faute-de-l-abbe-Mouret.xml', 8, 0.2608184965380811), ('Zola-Emile_La-faute-de-l-abbe-Mouret.xml', 17, 0.2029549950544016), ('Zola-Emile_La-faute-de-l-abbe-Mouret.xml', 14, 0.148553412462908), ('Zola-Emile_La-faute-de-l-abbe-Mouret.xml', 16, 0.1083704253214639), ('Zola-Emile_La-faute-de-l-abbe-Mouret.xml', 0, 0.05619436201780415), ('Zola-Emile_La-faute-de-l-abbe-Mouret.xml', 15, 0.03950296735905044), ('Zola-Emile_La-faute-de-l-abbe-Mouret.xml', 10, 0.03876112759643917), ('Zola-Emile_La-faute-de-l-abbe-Mouret.xml', 4, 0.03839020771513353), ('Zola-Emile_La-faute-de-l-abbe-Mouret.xml', 9, 0.031219090009891197), ('Zola-Emile_La-faute-de-l-abbe-Mouret.xml', 12, 0.021204253214638973), ('Zola-Emile_La-faute-de-l-abbe-Mouret.xml', 18, 0.01601137487636004), ('Zola-Emile_La-faute-de-l-abbe-Mouret.xml', 2, 0.011931256181998022), ('Zola-Emile_La-faute-de-l-abbe-Mouret.xml', 19, 0.01180761622156281), ('Zola-Emile_La-faute-de-l-abbe-Mouret.xml', 13, 0.005501978239366963), ('Zola-Emile_La-faute-de-l-abbe-Mouret.xml', 6, 0.004018298714144411), ('Zola-Emile_La-faute-de-l-abbe-Mouret.xml', 5, 0.0017927794263105836), ('Zola-Emile_La-faute-de-l-abbe-Mouret.xml', 1, 0.0015454995054401584), ('Zola-Emile_La-faute-de-l-abbe-Mouret.xml', 7, 0.0006800197823936696), ('Zola-Emile_La-faute-de-l-abbe-Mouret.xml', 3, 0.0004327398615232443), ('Zola-Emile_La-faute-de-l-abbe-Mouret.xml', 11, 0.0003090999010880316), ('_Zola-Emile_Une-page-d-amour.xml', 8, 0.25553416746871993), ('_Zola-Emile_Une-page-d-amour.xml', 2, 0.1631376323387873), ('_Zola-Emile_Une-page-d-amour.xml', 16, 0.12271414821944177), ('_Zola-Emile_Une-page-d-amour.xml', 0, 0.08325312800769971), ('_Zola-Emile_Une-page-d-amour.xml', 17, 0.08132820019249277), ('_Zola-Emile_Une-page-d-amour.xml', 9, 0.05726660250240616), ('_Zola-Emile_Une-page-d-amour.xml', 10, 0.0563041385948027), ('_Zola-Emile_Une-page-d-amour.xml', 4, 0.04090471607314726), ('_Zola-Emile_Une-page-d-amour.xml', 5, 0.0370548604427334), ('_Zola-Emile_Une-page-d-amour.xml', 18, 0.024542829643888354), ('_Zola-Emile_Une-page-d-amour.xml', 14, 0.01973051010587103), ('_Zola-Emile_Une-page-d-amour.xml', 6, 0.012993262752646775), ('_Zola-Emile_Une-page-d-amour.xml', 11, 0.01010587102983638), ('_Zola-Emile_Une-page-d-amour.xml', 13, 0.007218479307025986), ('_Zola-Emile_Une-page-d-amour.xml', 19, 0.006256015399422521), ('_Zola-Emile_Une-page-d-amour.xml', 1, 0.006256015399422521), ('_Zola-Emile_Une-page-d-amour.xml', 12, 0.004331087584215592), ('_Zola-Emile_Une-page-d-amour.xml', 3, 0.004331087584215592), ('_Zola-Emile_Une-page-d-amour.xml', 15, 0.003368623676612127), ('_Zola-Emile_Une-page-d-amour.xml', 7, 0.003368623676612127), ('_Zola-Emile_Pot-Bouille.xml', 5, 0.16813858695652173), ('_Zola-Emile_Pot-Bouille.xml', 4, 0.10971467391304347), ('_Zola-Emile_Pot-Bouille.xml', 2, 0.09952445652173914), ('_Zola-Emile_Pot-Bouille.xml', 12, 0.09748641304347826), ('_Zola-Emile_Pot-Bouille.xml', 0, 0.09001358695652174), ('_Zola-Emile_Pot-Bouille.xml', 14, 0.08729619565217392), ('_Zola-Emile_Pot-Bouille.xml', 16, 0.06827445652173914), ('_Zola-Emile_Pot-Bouille.xml', 8, 0.06827445652173914), ('_Zola-Emile_Pot-Bouille.xml', 10, 0.04789402173913043), ('_Zola-Emile_Pot-Bouille.xml', 9, 0.04789402173913043), ('_Zola-Emile_Pot-Bouille.xml', 6, 0.044497282608695655), ('_Zola-Emile_Pot-Bouille.xml', 11, 0.015285326086956522), ('_Zola-Emile_Pot-Bouille.xml', 19, 0.00985054347826087), ('_Zola-Emile_Pot-Bouille.xml', 1, 0.00985054347826087), ('_Zola-Emile_Pot-Bouille.xml', 3, 0.0078125), ('_Zola-Emile_Pot-Bouille.xml', 13, 0.007133152173913043), ('_Zola-Emile_Pot-Bouille.xml', 18, 0.00577445652173913), ('_Zola-Emile_Pot-Bouille.xml', 17, 0.00577445652173913), ('_Zola-Emile_Pot-Bouille.xml', 7, 0.005095108695652174), ('_Zola-Emile_Pot-Bouille.xml', 15, 0.004415760869565217), ('_Zola-Emile_Nana.xml', 2, 0.17474704890387857), ('_Zola-Emile_Nana.xml', 15, 0.14186340640809444), ('_Zola-Emile_Nana.xml', 5, 0.12879426644182124), ('_Zola-Emile_Nana.xml', 17, 0.0938026981450253), ('_Zola-Emile_Nana.xml', 16, 0.09253794266441821), ('_Zola-Emile_Nana.xml', 14, 0.08916526138279933), ('_Zola-Emile_Nana.xml', 13, 0.058811129848229345), ('_Zola-Emile_Nana.xml', 1, 0.058811129848229345), ('_Zola-Emile_Nana.xml', 9, 0.036888701517706575), ('_Zola-Emile_Nana.xml', 6, 0.01918212478920742), ('_Zola-Emile_Nana.xml', 18, 0.01876053962900506), ('_Zola-Emile_Nana.xml', 10, 0.017074198988195614), ('_Zola-Emile_Nana.xml', 3, 0.015387858347386173), ('_Zola-Emile_Nana.xml', 12, 0.01454468802698145), ('_Zola-Emile_Nana.xml', 7, 0.00948566610455312), ('_Zola-Emile_Nana.xml', 0, 0.008220910623946037), ('_Zola-Emile_Nana.xml', 8, 0.007377740303541315), ('_Zola-Emile_Nana.xml', 11, 0.0065345699831365935), ('_Zola-Emile_Nana.xml', 19, 0.00442664418212479), ('_Zola-Emile_Nana.xml', 4, 0.0035834738617200675), ('_Zola-Emile_Germinal.xml', 14, 0.20878459687123946), ('_Zola-Emile_Germinal.xml', 4, 0.12214199759326114), ('_Zola-Emile_Germinal.xml', 8, 0.08724428399518652), ('_Zola-Emile_Germinal.xml', 0, 0.07882069795427196), ('_Zola-Emile_Germinal.xml', 9, 0.07160048134777376), ('_Zola-Emile_Germinal.xml', 17, 0.060770156438026475), ('_Zola-Emile_Germinal.xml', 16, 0.05836341756919374), ('_Zola-Emile_Germinal.xml', 10, 0.05595667870036101), ('_Zola-Emile_Germinal.xml', 15, 0.048736462093862815), ('_Zola-Emile_Germinal.xml', 5, 0.043922984356197355), ('_Zola-Emile_Germinal.xml', 1, 0.03790613718411552), ('_Zola-Emile_Germinal.xml', 12, 0.025872442839951864), ('_Zola-Emile_Germinal.xml', 6, 0.0246690734055355), ('_Zola-Emile_Germinal.xml', 11, 0.019855595667870037), ('_Zola-Emile_Germinal.xml', 7, 0.013838748495788207), ('_Zola-Emile_Germinal.xml', 2, 0.01263537906137184), ('_Zola-Emile_Germinal.xml', 3, 0.009025270758122744), ('_Zola-Emile_Germinal.xml', 19, 0.006618531889290012), ('_Zola-Emile_Germinal.xml', 18, 0.006618531889290012), ('_Zola-Emile_Germinal.xml', 13, 0.006618531889290012), ('Balzac-Honore-de_Une-tenebreuse-affaireFC.xml', 15, 0.18342816500711237), ('Balzac-Honore-de_Une-tenebreuse-affaireFC.xml', 12, 0.15796586059743956), ('Balzac-Honore-de_Une-tenebreuse-affaireFC.xml', 1, 0.09139402560455193), ('Balzac-Honore-de_Une-tenebreuse-affaireFC.xml', 2, 0.07261735419630157), ('Balzac-Honore-de_Une-tenebreuse-affaireFC.xml', 13, 0.07219061166429587), ('Balzac-Honore-de_Une-tenebreuse-affaireFC.xml', 10, 0.05341394025604552), ('Balzac-Honore-de_Une-tenebreuse-affaireFC.xml', 6, 0.05327169274537696), ('Balzac-Honore-de_Une-tenebreuse-affaireFC.xml', 0, 0.048577524893314364), ('Balzac-Honore-de_Une-tenebreuse-affaireFC.xml', 16, 0.04559032716927454), ('Balzac-Honore-de_Une-tenebreuse-affaireFC.xml', 14, 0.041180654338549075), ('Balzac-Honore-de_Une-tenebreuse-affaireFC.xml', 8, 0.04004267425320057), ('Balzac-Honore-de_Une-tenebreuse-affaireFC.xml', 17, 0.031650071123755334), ('Balzac-Honore-de_Une-tenebreuse-affaireFC.xml', 5, 0.030085348506401138), ('Balzac-Honore-de_Une-tenebreuse-affaireFC.xml', 4, 0.02667140825035562), ('Balzac-Honore-de_Une-tenebreuse-affaireFC.xml', 18, 0.022972972972972974), ('Balzac-Honore-de_Une-tenebreuse-affaireFC.xml', 19, 0.013584637268847795), ('Balzac-Honore-de_Une-tenebreuse-affaireFC.xml', 9, 0.006614509246088193), ('Balzac-Honore-de_Une-tenebreuse-affaireFC.xml', 7, 0.006187766714082503), ('Balzac-Honore-de_Une-tenebreuse-affaireFC.xml', 3, 0.002062588904694168), ('Balzac-Honore-de_Une-tenebreuse-affaireFC.xml', 11, 0.0004978662873399715), ('_Zola-Emile_La-faute-de-l-abbe-Mouret.xml', 17, 0.3756218905472637), ('_Zola-Emile_La-faute-de-l-abbe-Mouret.xml', 11, 0.09701492537313433), ('_Zola-Emile_La-faute-de-l-abbe-Mouret.xml', 4, 0.09701492537313433), ('_Zola-Emile_La-faute-de-l-abbe-Mouret.xml', 16, 0.08208955223880597), ('_Zola-Emile_La-faute-de-l-abbe-Mouret.xml', 9, 0.08208955223880597), ('_Zola-Emile_La-faute-de-l-abbe-Mouret.xml', 0, 0.03731343283582089), ('_Zola-Emile_La-faute-de-l-abbe-Mouret.xml', 18, 0.03233830845771144), ('_Zola-Emile_La-faute-de-l-abbe-Mouret.xml', 10, 0.022388059701492536), ('_Zola-Emile_La-faute-de-l-abbe-Mouret.xml', 7, 0.022388059701492536), ('_Zola-Emile_La-faute-de-l-abbe-Mouret.xml', 6, 0.017412935323383085), ('_Zola-Emile_La-faute-de-l-abbe-Mouret.xml', 5, 0.017412935323383085), ('_Zola-Emile_La-faute-de-l-abbe-Mouret.xml', 1, 0.017412935323383085), ('_Zola-Emile_La-faute-de-l-abbe-Mouret.xml', 19, 0.012437810945273632), ('_Zola-Emile_La-faute-de-l-abbe-Mouret.xml', 15, 0.012437810945273632), ('_Zola-Emile_La-faute-de-l-abbe-Mouret.xml', 14, 0.012437810945273632), ('_Zola-Emile_La-faute-de-l-abbe-Mouret.xml', 13, 0.012437810945273632), ('_Zola-Emile_La-faute-de-l-abbe-Mouret.xml', 12, 0.012437810945273632), ('_Zola-Emile_La-faute-de-l-abbe-Mouret.xml', 8, 0.012437810945273632), ('_Zola-Emile_La-faute-de-l-abbe-Mouret.xml', 3, 0.012437810945273632), ('_Zola-Emile_La-faute-de-l-abbe-Mouret.xml', 2, 0.012437810945273632), ('Zola-Emile_Pot-Bouille.xml', 2, 0.2848194546794399), ('Zola-Emile_Pot-Bouille.xml', 5, 0.19123065585851143), ('Zola-Emile_Pot-Bouille.xml', 4, 0.1374355195283714), ('Zola-Emile_Pot-Bouille.xml', 16, 0.06595431098010317), ('Zola-Emile_Pot-Bouille.xml', 14, 0.059322033898305086), ('Zola-Emile_Pot-Bouille.xml', 12, 0.0578481945467944), ('Zola-Emile_Pot-Bouille.xml', 0, 0.051952837140751655), ('Zola-Emile_Pot-Bouille.xml', 18, 0.034266764922623434), ('Zola-Emile_Pot-Bouille.xml', 17, 0.023949889462048637), ('Zola-Emile_Pot-Bouille.xml', 10, 0.019528371407516582), ('Zola-Emile_Pot-Bouille.xml', 9, 0.018054532056005896), ('Zola-Emile_Pot-Bouille.xml', 6, 0.009948415622697125), ('Zola-Emile_Pot-Bouille.xml', 8, 0.00847457627118644), ('Zola-Emile_Pot-Bouille.xml', 15, 0.007737656595431098), ('Zola-Emile_Pot-Bouille.xml', 13, 0.007737656595431098), ('Zola-Emile_Pot-Bouille.xml', 19, 0.007000736919675755), ('Zola-Emile_Pot-Bouille.xml', 1, 0.006263817243920413), ('Zola-Emile_Pot-Bouille.xml', 7, 0.0040530582166543845), ('Zola-Emile_Pot-Bouille.xml', 3, 0.002579218865143699), ('Zola-Emile_Pot-Bouille.xml', 11, 0.0018422991893883567), ('_Zola-Emile_La-faute-de-l-abbe-Mouret.xml', 17, 0.3978599221789883), ('_Zola-Emile_La-faute-de-l-abbe-Mouret.xml', 16, 0.20525291828793774), ('_Zola-Emile_La-faute-de-l-abbe-Mouret.xml', 18, 0.13715953307392997), ('_Zola-Emile_La-faute-de-l-abbe-Mouret.xml', 11, 0.04377431906614786), ('_Zola-Emile_La-faute-de-l-abbe-Mouret.xml', 14, 0.03404669260700389), ('_Zola-Emile_La-faute-de-l-abbe-Mouret.xml', 10, 0.02821011673151751), ('_Zola-Emile_La-faute-de-l-abbe-Mouret.xml', 15, 0.024319066147859923), ('_Zola-Emile_La-faute-de-l-abbe-Mouret.xml', 6, 0.016536964980544747), ('_Zola-Emile_La-faute-de-l-abbe-Mouret.xml', 5, 0.016536964980544747), ('_Zola-Emile_La-faute-de-l-abbe-Mouret.xml', 7, 0.014591439688715954), ('_Zola-Emile_La-faute-de-l-abbe-Mouret.xml', 4, 0.014591439688715954), ('_Zola-Emile_La-faute-de-l-abbe-Mouret.xml', 8, 0.010700389105058366), ('_Zola-Emile_La-faute-de-l-abbe-Mouret.xml', 0, 0.010700389105058366), ('_Zola-Emile_La-faute-de-l-abbe-Mouret.xml', 9, 0.008754863813229572), ('_Zola-Emile_La-faute-de-l-abbe-Mouret.xml', 3, 0.008754863813229572), ('_Zola-Emile_La-faute-de-l-abbe-Mouret.xml', 19, 0.006809338521400778), ('_Zola-Emile_La-faute-de-l-abbe-Mouret.xml', 13, 0.006809338521400778), ('_Zola-Emile_La-faute-de-l-abbe-Mouret.xml', 12, 0.0048638132295719845), ('_Zola-Emile_La-faute-de-l-abbe-Mouret.xml', 2, 0.0048638132295719845), ('_Zola-Emile_La-faute-de-l-abbe-Mouret.xml', 1, 0.0048638132295719845), ('_Zola-Emile_Une-page-d-amour.xml', 14, 0.2331571994715984), ('_Zola-Emile_Une-page-d-amour.xml', 16, 0.20277410832232498), ('_Zola-Emile_Une-page-d-amour.xml', 2, 0.12483487450462351), ('_Zola-Emile_Une-page-d-amour.xml', 4, 0.0891677675033025), ('_Zola-Emile_Une-page-d-amour.xml', 0, 0.07067371202113606), ('_Zola-Emile_Une-page-d-amour.xml', 17, 0.0653896961690885), ('_Zola-Emile_Une-page-d-amour.xml', 9, 0.0653896961690885), ('_Zola-Emile_Une-page-d-amour.xml', 1, 0.027080581241743725), ('_Zola-Emile_Une-page-d-amour.xml', 11, 0.01915455746367239), ('_Zola-Emile_Une-page-d-amour.xml', 10, 0.0178335535006605), ('_Zola-Emile_Une-page-d-amour.xml', 12, 0.013870541611624834), ('_Zola-Emile_Une-page-d-amour.xml', 6, 0.013870541611624834), ('_Zola-Emile_Une-page-d-amour.xml', 18, 0.012549537648612946), ('_Zola-Emile_Une-page-d-amour.xml', 5, 0.011228533685601057), ('_Zola-Emile_Une-page-d-amour.xml', 19, 0.008586525759577279), ('_Zola-Emile_Une-page-d-amour.xml', 3, 0.00726552179656539), ('_Zola-Emile_Une-page-d-amour.xml', 15, 0.0059445178335535), ('_Zola-Emile_Une-page-d-amour.xml', 7, 0.004623513870541612), ('_Zola-Emile_Une-page-d-amour.xml', 13, 0.0033025099075297227), ('_Zola-Emile_Une-page-d-amour.xml', 8, 0.0033025099075297227), ('_Zola-Emile_La-faute-de-l-abbe-Mouret.xml', 8, 0.31640625), ('_Zola-Emile_La-faute-de-l-abbe-Mouret.xml', 17, 0.17317708333333334), ('_Zola-Emile_La-faute-de-l-abbe-Mouret.xml', 14, 0.08463541666666667), ('_Zola-Emile_La-faute-de-l-abbe-Mouret.xml', 4, 0.07421875), ('_Zola-Emile_La-faute-de-l-abbe-Mouret.xml', 18, 0.06640625), ('_Zola-Emile_La-faute-de-l-abbe-Mouret.xml', 9, 0.045572916666666664), ('_Zola-Emile_La-faute-de-l-abbe-Mouret.xml', 12, 0.037760416666666664), ('_Zola-Emile_La-faute-de-l-abbe-Mouret.xml', 11, 0.029947916666666668), ('_Zola-Emile_La-faute-de-l-abbe-Mouret.xml', 15, 0.022135416666666668), ('_Zola-Emile_La-faute-de-l-abbe-Mouret.xml', 19, 0.01953125), ('_Zola-Emile_La-faute-de-l-abbe-Mouret.xml', 16, 0.016927083333333332), ('_Zola-Emile_La-faute-de-l-abbe-Mouret.xml', 5, 0.016927083333333332), ('_Zola-Emile_La-faute-de-l-abbe-Mouret.xml', 0, 0.016927083333333332), ('_Zola-Emile_La-faute-de-l-abbe-Mouret.xml', 13, 0.014322916666666666), ('_Zola-Emile_La-faute-de-l-abbe-Mouret.xml', 6, 0.014322916666666666), ('_Zola-Emile_La-faute-de-l-abbe-Mouret.xml', 2, 0.014322916666666666), ('_Zola-Emile_La-faute-de-l-abbe-Mouret.xml', 7, 0.01171875), ('_Zola-Emile_La-faute-de-l-abbe-Mouret.xml', 3, 0.01171875), ('_Zola-Emile_La-faute-de-l-abbe-Mouret.xml', 10, 0.006510416666666667), ('_Zola-Emile_La-faute-de-l-abbe-Mouret.xml', 1, 0.006510416666666667), ('Zola-Emile_Germinal.xml', 14, 0.20584415584415586), ('Zola-Emile_Germinal.xml', 17, 0.1279220779220779), ('Zola-Emile_Germinal.xml', 15, 0.1279220779220779), ('Zola-Emile_Germinal.xml', 18, 0.09415584415584416), ('Zola-Emile_Germinal.xml', 5, 0.08506493506493507), ('Zola-Emile_Germinal.xml', 16, 0.06818181818181818), ('Zola-Emile_Germinal.xml', 4, 0.05389610389610389), ('Zola-Emile_Germinal.xml', 9, 0.048701298701298704), ('Zola-Emile_Germinal.xml', 0, 0.04350649350649351), ('Zola-Emile_Germinal.xml', 7, 0.03571428571428571), ('Zola-Emile_Germinal.xml', 11, 0.025324675324675326), ('Zola-Emile_Germinal.xml', 1, 0.02142857142857143), ('Zola-Emile_Germinal.xml', 8, 0.013636363636363636), ('Zola-Emile_Germinal.xml', 19, 0.012337662337662338), ('Zola-Emile_Germinal.xml', 12, 0.008441558441558441), ('Zola-Emile_Germinal.xml', 6, 0.007142857142857143), ('Zola-Emile_Germinal.xml', 2, 0.007142857142857143), ('Zola-Emile_Germinal.xml', 10, 0.005844155844155844), ('Zola-Emile_Germinal.xml', 3, 0.004545454545454545), ('Zola-Emile_Germinal.xml', 13, 0.003246753246753247), ('_Zola-Emile_Au-bonheur-des-dames.xml', 2, 0.2627410468319559), ('_Zola-Emile_Au-bonheur-des-dames.xml', 5, 0.19455922865013775), ('_Zola-Emile_Au-bonheur-des-dames.xml', 16, 0.11673553719008264), ('_Zola-Emile_Au-bonheur-des-dames.xml', 10, 0.09538567493112948), ('_Zola-Emile_Au-bonheur-des-dames.xml', 13, 0.05337465564738292), ('_Zola-Emile_Au-bonheur-des-dames.xml', 12, 0.043732782369146), ('_Zola-Emile_Au-bonheur-des-dames.xml', 6, 0.042355371900826444), ('_Zola-Emile_Au-bonheur-des-dames.xml', 9, 0.040977961432506885), ('_Zola-Emile_Au-bonheur-des-dames.xml', 4, 0.028581267217630855), ('_Zola-Emile_Au-bonheur-des-dames.xml', 18, 0.01893939393939394), ('_Zola-Emile_Au-bonheur-des-dames.xml', 14, 0.01825068870523416), ('_Zola-Emile_Au-bonheur-des-dames.xml', 19, 0.015495867768595042), ('_Zola-Emile_Au-bonheur-des-dames.xml', 11, 0.014118457300275482), ('_Zola-Emile_Au-bonheur-des-dames.xml', 0, 0.014118457300275482), ('_Zola-Emile_Au-bonheur-des-dames.xml', 17, 0.012052341597796144), ('_Zola-Emile_Au-bonheur-des-dames.xml', 7, 0.007231404958677686), ('_Zola-Emile_Au-bonheur-des-dames.xml', 15, 0.0065426997245179065), ('_Zola-Emile_Au-bonheur-des-dames.xml', 3, 0.005853994490358127), ('_Zola-Emile_Au-bonheur-des-dames.xml', 8, 0.005165289256198347), ('_Zola-Emile_Au-bonheur-des-dames.xml', 1, 0.003787878787878788), ('Zola-Emile_Au-bonheur-des-dames.xml', 5, 0.2894610202117421), ('Zola-Emile_Au-bonheur-des-dames.xml', 2, 0.15760346487006738), ('Zola-Emile_Au-bonheur-des-dames.xml', 16, 0.09648700673724735), ('Zola-Emile_Au-bonheur-des-dames.xml', 14, 0.0868623676612127), ('Zola-Emile_Au-bonheur-des-dames.xml', 0, 0.08253128007699712), ('Zola-Emile_Au-bonheur-des-dames.xml', 17, 0.06328200192492782), ('Zola-Emile_Au-bonheur-des-dames.xml', 10, 0.06087584215591915), ('Zola-Emile_Au-bonheur-des-dames.xml', 18, 0.02815206929740135), ('Zola-Emile_Au-bonheur-des-dames.xml', 9, 0.027189605389797884), ('Zola-Emile_Au-bonheur-des-dames.xml', 4, 0.02622714148219442), ('Zola-Emile_Au-bonheur-des-dames.xml', 12, 0.023339749759384024), ('Zola-Emile_Au-bonheur-des-dames.xml', 6, 0.016121270452358036), ('Zola-Emile_Au-bonheur-des-dames.xml', 8, 0.009384023099133783), ('Zola-Emile_Au-bonheur-des-dames.xml', 11, 0.00890279114533205), ('Zola-Emile_Au-bonheur-des-dames.xml', 19, 0.00697786333012512), ('Zola-Emile_Au-bonheur-des-dames.xml', 7, 0.005534167468719923), ('Zola-Emile_Au-bonheur-des-dames.xml', 3, 0.0040904716073147255), ('Zola-Emile_Au-bonheur-des-dames.xml', 13, 0.0031280076997112606), ('Zola-Emile_Au-bonheur-des-dames.xml', 15, 0.0026467757459095282), ('Zola-Emile_Au-bonheur-des-dames.xml', 1, 0.001203079884504331), ('_Zola-Emile_Germinal.xml', 14, 0.17095588235294118), ('_Zola-Emile_Germinal.xml', 9, 0.17095588235294118), ('_Zola-Emile_Germinal.xml', 0, 0.10845588235294118), ('_Zola-Emile_Germinal.xml', 17, 0.10723039215686274), ('_Zola-Emile_Germinal.xml', 15, 0.07904411764705882), ('_Zola-Emile_Germinal.xml', 4, 0.05821078431372549), ('_Zola-Emile_Germinal.xml', 10, 0.0545343137254902), ('_Zola-Emile_Germinal.xml', 16, 0.04718137254901961), ('_Zola-Emile_Germinal.xml', 5, 0.04718137254901961), ('_Zola-Emile_Germinal.xml', 6, 0.03370098039215686), ('_Zola-Emile_Germinal.xml', 18, 0.032475490196078434), ('_Zola-Emile_Germinal.xml', 11, 0.02389705882352941), ('_Zola-Emile_Germinal.xml', 7, 0.02267156862745098), ('_Zola-Emile_Germinal.xml', 2, 0.014093137254901961), ('_Zola-Emile_Germinal.xml', 3, 0.009191176470588236), ('_Zola-Emile_Germinal.xml', 19, 0.0055147058823529415), ('_Zola-Emile_Germinal.xml', 8, 0.00428921568627451), ('_Zola-Emile_Germinal.xml', 1, 0.00428921568627451), ('_Zola-Emile_Germinal.xml', 13, 0.0030637254901960784), ('_Zola-Emile_Germinal.xml', 12, 0.0030637254901960784), ('Zola-Emile_L-assomoir.xml', 19, 0.215625), ('Zola-Emile_L-assomoir.xml', 11, 0.159375), ('Zola-Emile_L-assomoir.xml', 14, 0.071875), ('Zola-Emile_L-assomoir.xml', 1, 0.071875), ('Zola-Emile_L-assomoir.xml', 8, 0.053125), ('Zola-Emile_L-assomoir.xml', 6, 0.053125), ('Zola-Emile_L-assomoir.xml', 18, 0.046875), ('Zola-Emile_L-assomoir.xml', 13, 0.040625), ('Zola-Emile_L-assomoir.xml', 16, 0.028125), ('Zola-Emile_L-assomoir.xml', 12, 0.028125), ('Zola-Emile_L-assomoir.xml', 10, 0.028125), ('Zola-Emile_L-assomoir.xml', 5, 0.028125), ('Zola-Emile_L-assomoir.xml', 3, 0.028125), ('Zola-Emile_L-assomoir.xml', 2, 0.028125), ('Zola-Emile_L-assomoir.xml', 15, 0.021875), ('Zola-Emile_L-assomoir.xml', 9, 0.021875), ('Zola-Emile_L-assomoir.xml', 7, 0.021875), ('Zola-Emile_L-assomoir.xml', 0, 0.021875), ('Zola-Emile_L-assomoir.xml', 17, 0.015625), ('Zola-Emile_L-assomoir.xml', 4, 0.015625), ('_Zola-Emile_La-faute-de-l-abbe-Mouret.xml', 17, 0.4617304492512479), ('_Zola-Emile_La-faute-de-l-abbe-Mouret.xml', 4, 0.11730449251247921), ('_Zola-Emile_La-faute-de-l-abbe-Mouret.xml', 16, 0.0956738768718802), ('_Zola-Emile_La-faute-de-l-abbe-Mouret.xml', 10, 0.06405990016638935), ('_Zola-Emile_La-faute-de-l-abbe-Mouret.xml', 11, 0.042429284525790346), ('_Zola-Emile_La-faute-de-l-abbe-Mouret.xml', 14, 0.039101497504159734), ('_Zola-Emile_La-faute-de-l-abbe-Mouret.xml', 2, 0.03577371048252912), ('_Zola-Emile_La-faute-de-l-abbe-Mouret.xml', 0, 0.030782029950083195), ('_Zola-Emile_La-faute-de-l-abbe-Mouret.xml', 15, 0.01747088186356073), ('_Zola-Emile_La-faute-de-l-abbe-Mouret.xml', 8, 0.01747088186356073), ('_Zola-Emile_La-faute-de-l-abbe-Mouret.xml', 19, 0.014143094841930116), ('_Zola-Emile_La-faute-de-l-abbe-Mouret.xml', 13, 0.014143094841930116), ('_Zola-Emile_La-faute-de-l-abbe-Mouret.xml', 9, 0.014143094841930116), ('_Zola-Emile_La-faute-de-l-abbe-Mouret.xml', 18, 0.0074875207986688855), ('_Zola-Emile_La-faute-de-l-abbe-Mouret.xml', 12, 0.005823627287853577), ('_Zola-Emile_La-faute-de-l-abbe-Mouret.xml', 6, 0.005823627287853577), ('_Zola-Emile_La-faute-de-l-abbe-Mouret.xml', 7, 0.004159733777038269), ('_Zola-Emile_La-faute-de-l-abbe-Mouret.xml', 5, 0.004159733777038269), ('_Zola-Emile_La-faute-de-l-abbe-Mouret.xml', 3, 0.004159733777038269), ('_Zola-Emile_La-faute-de-l-abbe-Mouret.xml', 1, 0.004159733777038269), ('Zola-Emile_Une-page-d-amour.xml', 4, 0.2971698113207547), ('Zola-Emile_Une-page-d-amour.xml', 16, 0.2742587601078167), ('Zola-Emile_Une-page-d-amour.xml', 0, 0.09231805929919137), ('Zola-Emile_Une-page-d-amour.xml', 2, 0.07210242587601078), ('Zola-Emile_Une-page-d-amour.xml', 14, 0.0545822102425876), ('Zola-Emile_Une-page-d-amour.xml', 17, 0.03571428571428571), ('Zola-Emile_Une-page-d-amour.xml', 12, 0.028975741239892182), ('Zola-Emile_Une-page-d-amour.xml', 9, 0.02358490566037736), ('Zola-Emile_Une-page-d-amour.xml', 11, 0.01954177897574124), ('Zola-Emile_Une-page-d-amour.xml', 5, 0.018194070080862535), ('Zola-Emile_Une-page-d-amour.xml', 18, 0.01549865229110512), ('Zola-Emile_Une-page-d-amour.xml', 10, 0.01549865229110512), ('Zola-Emile_Une-page-d-amour.xml', 8, 0.014150943396226415), ('Zola-Emile_Une-page-d-amour.xml', 13, 0.007412398921832884), ('Zola-Emile_Une-page-d-amour.xml', 19, 0.006064690026954178), ('Zola-Emile_Une-page-d-amour.xml', 15, 0.006064690026954178), ('Zola-Emile_Une-page-d-amour.xml', 7, 0.006064690026954178), ('Zola-Emile_Une-page-d-amour.xml', 6, 0.0047169811320754715), ('Zola-Emile_Une-page-d-amour.xml', 3, 0.0047169811320754715), ('Zola-Emile_Une-page-d-amour.xml', 1, 0.0033692722371967657), ('_Zola-Emile_La-faute-de-l-abbe-Mouret.xml', 16, 0.16666666666666666), ('_Zola-Emile_La-faute-de-l-abbe-Mouret.xml', 14, 0.1380952380952381), ('_Zola-Emile_La-faute-de-l-abbe-Mouret.xml', 17, 0.12222222222222222), ('_Zola-Emile_La-faute-de-l-abbe-Mouret.xml', 8, 0.11587301587301588), ('_Zola-Emile_La-faute-de-l-abbe-Mouret.xml', 12, 0.08095238095238096), ('_Zola-Emile_La-faute-de-l-abbe-Mouret.xml', 0, 0.05555555555555555), ('_Zola-Emile_La-faute-de-l-abbe-Mouret.xml', 15, 0.049206349206349205), ('_Zola-Emile_La-faute-de-l-abbe-Mouret.xml', 9, 0.046031746031746035), ('_Zola-Emile_La-faute-de-l-abbe-Mouret.xml', 11, 0.03968253968253968), ('_Zola-Emile_La-faute-de-l-abbe-Mouret.xml', 6, 0.03015873015873016), ('_Zola-Emile_La-faute-de-l-abbe-Mouret.xml', 2, 0.023809523809523808), ('_Zola-Emile_La-faute-de-l-abbe-Mouret.xml', 1, 0.023809523809523808), ('_Zola-Emile_La-faute-de-l-abbe-Mouret.xml', 5, 0.020634920634920634), ('_Zola-Emile_La-faute-de-l-abbe-Mouret.xml', 19, 0.01746031746031746), ('_Zola-Emile_La-faute-de-l-abbe-Mouret.xml', 18, 0.014285714285714285), ('_Zola-Emile_La-faute-de-l-abbe-Mouret.xml', 10, 0.014285714285714285), ('_Zola-Emile_La-faute-de-l-abbe-Mouret.xml', 13, 0.011111111111111112), ('_Zola-Emile_La-faute-de-l-abbe-Mouret.xml', 7, 0.011111111111111112), ('_Zola-Emile_La-faute-de-l-abbe-Mouret.xml', 4, 0.011111111111111112), ('_Zola-Emile_La-faute-de-l-abbe-Mouret.xml', 3, 0.007936507936507936), ('Zola-Emile_La-fortune-des-Rougon.xml', 19, 0.23795180722891565), ('Zola-Emile_La-fortune-des-Rougon.xml', 11, 0.1536144578313253), ('Zola-Emile_La-fortune-des-Rougon.xml', 10, 0.09939759036144578), ('Zola-Emile_La-fortune-des-Rougon.xml', 1, 0.05120481927710843), ('Zola-Emile_La-fortune-des-Rougon.xml', 12, 0.045180722891566265), ('Zola-Emile_La-fortune-des-Rougon.xml', 5, 0.045180722891566265), ('Zola-Emile_La-fortune-des-Rougon.xml', 16, 0.0391566265060241), ('Zola-Emile_La-fortune-des-Rougon.xml', 7, 0.0391566265060241), ('Zola-Emile_La-fortune-des-Rougon.xml', 6, 0.0391566265060241), ('Zola-Emile_La-fortune-des-Rougon.xml', 18, 0.03313253012048193), ('Zola-Emile_La-fortune-des-Rougon.xml', 8, 0.03313253012048193), ('Zola-Emile_La-fortune-des-Rougon.xml', 9, 0.02710843373493976), ('Zola-Emile_La-fortune-des-Rougon.xml', 4, 0.02710843373493976), ('Zola-Emile_La-fortune-des-Rougon.xml', 2, 0.02710843373493976), ('Zola-Emile_La-fortune-des-Rougon.xml', 14, 0.02108433734939759), ('Zola-Emile_La-fortune-des-Rougon.xml', 0, 0.02108433734939759), ('Zola-Emile_La-fortune-des-Rougon.xml', 17, 0.015060240963855422), ('Zola-Emile_La-fortune-des-Rougon.xml', 15, 0.015060240963855422), ('Zola-Emile_La-fortune-des-Rougon.xml', 13, 0.015060240963855422), ('Zola-Emile_La-fortune-des-Rougon.xml', 3, 0.015060240963855422)]\n"
     ]
    }
   ],
   "source": [
    "print(doctopic_triples)"
   ]
  },
  {
   "cell_type": "code",
   "execution_count": 8,
   "metadata": {},
   "outputs": [],
   "source": [
    "mallet_docnames = sorted(mallet_docnames)"
   ]
  },
  {
   "cell_type": "code",
   "execution_count": 9,
   "metadata": {},
   "outputs": [],
   "source": [
    "num_docs = len(mallet_docnames)"
   ]
  },
  {
   "cell_type": "code",
   "execution_count": 10,
   "metadata": {},
   "outputs": [],
   "source": [
    "doctopic_triples = sorted(doctopic_triples, key=operator.itemgetter(0,1))"
   ]
  },
  {
   "cell_type": "code",
   "execution_count": 11,
   "metadata": {},
   "outputs": [
    {
     "name": "stdout",
     "output_type": "stream",
     "text": [
      "500\n",
      "20\n"
     ]
    }
   ],
   "source": [
    "num_topics = len(doctopic_triples) // len(mallet_docnames)\n",
    "print(len(doctopic_triples))\n",
    "print(num_topics)"
   ]
  },
  {
   "cell_type": "code",
   "execution_count": 12,
   "metadata": {},
   "outputs": [],
   "source": [
    "doctopic = np.zeros((num_docs, num_topics))"
   ]
  },
  {
   "cell_type": "code",
   "execution_count": 13,
   "metadata": {},
   "outputs": [],
   "source": [
    "for triple in doctopic_triples:\n",
    "    docname, topic, share = triple\n",
    "    row_num = mallet_docnames.index(docname)\n",
    "    doctopic[row_num, topic] = share"
   ]
  },
  {
   "cell_type": "code",
   "execution_count": 14,
   "metadata": {},
   "outputs": [],
   "source": [
    "novel_names = []"
   ]
  },
  {
   "cell_type": "code",
   "execution_count": 15,
   "metadata": {},
   "outputs": [
    {
     "name": "stdout",
     "output_type": "stream",
     "text": [
      "25\n"
     ]
    }
   ],
   "source": [
    "for fn in mallet_docnames:\n",
    "    basename = os.path.basename(fn)\n",
    "    name, ext = os.path.splitext(basename)\n",
    "    name = name.rstrip('0123456789')\n",
    "    novel_names.append(name)\n",
    "print(len(novel_names))"
   ]
  },
  {
   "cell_type": "code",
   "execution_count": 16,
   "metadata": {},
   "outputs": [],
   "source": [
    "novel_names = np.asarray(novel_names)"
   ]
  },
  {
   "cell_type": "code",
   "execution_count": 17,
   "metadata": {},
   "outputs": [
    {
     "data": {
      "text/plain": [
       "array([[  5.32716927e-02,   9.06827881e-02,   7.36130868e-02,\n",
       "          1.06685633e-03,   1.87055477e-02,   2.95163585e-02,\n",
       "          5.51209104e-02,   2.77382646e-03,   4.60170697e-02,\n",
       "          5.90327169e-03,   4.95732575e-02,   6.40113798e-04,\n",
       "          1.52275960e-01,   7.81650071e-02,   4.74395448e-02,\n",
       "          1.75035562e-01,   4.45945946e-02,   3.87624467e-02,\n",
       "          2.25462304e-02,   1.42958748e-02],\n",
       "       [  4.85775249e-02,   9.13940256e-02,   7.26173542e-02,\n",
       "          2.06258890e-03,   2.66714083e-02,   3.00853485e-02,\n",
       "          5.32716927e-02,   6.18776671e-03,   4.00426743e-02,\n",
       "          6.61450925e-03,   5.34139403e-02,   4.97866287e-04,\n",
       "          1.57965861e-01,   7.21906117e-02,   4.11806543e-02,\n",
       "          1.83428165e-01,   4.55903272e-02,   3.16500711e-02,\n",
       "          2.29729730e-02,   1.35846373e-02],\n",
       "       [  8.25312801e-02,   1.20307988e-03,   1.57603465e-01,\n",
       "          4.09047161e-03,   2.62271415e-02,   2.89461020e-01,\n",
       "          1.61212705e-02,   5.53416747e-03,   9.38402310e-03,\n",
       "          2.71896054e-02,   6.08758422e-02,   8.90279115e-03,\n",
       "          2.33397498e-02,   3.12800770e-03,   8.68623677e-02,\n",
       "          2.64677575e-03,   9.64870067e-02,   6.32820019e-02,\n",
       "          2.81520693e-02,   6.97786333e-03],\n",
       "       [  4.35064935e-02,   2.14285714e-02,   7.14285714e-03,\n",
       "          4.54545455e-03,   5.38961039e-02,   8.50649351e-02,\n",
       "          7.14285714e-03,   3.57142857e-02,   1.36363636e-02,\n",
       "          4.87012987e-02,   5.84415584e-03,   2.53246753e-02,\n",
       "          8.44155844e-03,   3.24675325e-03,   2.05844156e-01,\n",
       "          1.27922078e-01,   6.81818182e-02,   1.27922078e-01,\n",
       "          9.41558442e-02,   1.23376623e-02],\n",
       "       [  2.18750000e-02,   7.18750000e-02,   2.81250000e-02,\n",
       "          2.81250000e-02,   1.56250000e-02,   2.81250000e-02,\n",
       "          5.31250000e-02,   2.18750000e-02,   5.31250000e-02,\n",
       "          2.18750000e-02,   2.81250000e-02,   1.59375000e-01,\n",
       "          2.81250000e-02,   4.06250000e-02,   7.18750000e-02,\n",
       "          2.18750000e-02,   2.81250000e-02,   1.56250000e-02,\n",
       "          4.68750000e-02,   2.15625000e-01],\n",
       "       [  2.16112908e-02,   9.26198177e-03,   2.34783887e-01,\n",
       "          2.20523375e-03,   7.49779477e-03,   4.89561894e-02,\n",
       "          4.55748309e-03,   8.96795060e-03,   9.85004410e-03,\n",
       "          2.24933843e-02,   1.45545428e-02,   3.38135842e-03,\n",
       "          7.24786827e-02,   3.10202882e-02,   5.33666569e-02,\n",
       "          2.36695090e-02,   9.95295501e-02,   2.35077918e-01,\n",
       "          8.39458983e-02,   1.27903558e-02],\n",
       "       [  5.61943620e-02,   1.54549951e-03,   1.19312562e-02,\n",
       "          4.32739862e-04,   3.83902077e-02,   1.79277943e-03,\n",
       "          4.01829871e-03,   6.80019782e-04,   2.60818497e-01,\n",
       "          3.12190900e-02,   3.87611276e-02,   3.09099901e-04,\n",
       "          2.12042532e-02,   5.50197824e-03,   1.48553412e-01,\n",
       "          3.95029674e-02,   1.08370425e-01,   2.02954995e-01,\n",
       "          1.60113749e-02,   1.18076162e-02],\n",
       "       [  2.10843373e-02,   5.12048193e-02,   2.71084337e-02,\n",
       "          1.50602410e-02,   2.71084337e-02,   4.51807229e-02,\n",
       "          3.91566265e-02,   3.91566265e-02,   3.31325301e-02,\n",
       "          2.71084337e-02,   9.93975904e-02,   1.53614458e-01,\n",
       "          4.51807229e-02,   1.50602410e-02,   2.10843373e-02,\n",
       "          1.50602410e-02,   3.91566265e-02,   1.50602410e-02,\n",
       "          3.31325301e-02,   2.37951807e-01],\n",
       "       [  1.46256817e-02,   2.45413981e-02,   2.88795240e-01,\n",
       "          2.99950421e-02,   3.94149727e-02,   4.83391175e-02,\n",
       "          1.01636093e-02,   6.19732276e-03,   8.67625186e-03,\n",
       "          1.41298959e-02,   3.71839365e-03,   1.16509668e-02,\n",
       "          3.14823996e-02,   3.69360436e-02,   9.74219137e-02,\n",
       "          7.18889440e-03,   1.77243431e-01,   2.55329698e-02,\n",
       "          6.71789787e-02,   5.67674765e-02],\n",
       "       [  5.19528371e-02,   6.26381724e-03,   2.84819455e-01,\n",
       "          2.57921887e-03,   1.37435520e-01,   1.91230656e-01,\n",
       "          9.94841562e-03,   4.05305822e-03,   8.47457627e-03,\n",
       "          1.80545321e-02,   1.95283714e-02,   1.84229919e-03,\n",
       "          5.78481945e-02,   7.73765660e-03,   5.93220339e-02,\n",
       "          7.73765660e-03,   6.59543110e-02,   2.39498895e-02,\n",
       "          3.42667649e-02,   7.00073692e-03],\n",
       "       [  9.23180593e-02,   3.36927224e-03,   7.21024259e-02,\n",
       "          4.71698113e-03,   2.97169811e-01,   1.81940701e-02,\n",
       "          4.71698113e-03,   6.06469003e-03,   1.41509434e-02,\n",
       "          2.35849057e-02,   1.54986523e-02,   1.95417790e-02,\n",
       "          2.89757412e-02,   7.41239892e-03,   5.45822102e-02,\n",
       "          6.06469003e-03,   2.74258760e-01,   3.57142857e-02,\n",
       "          1.54986523e-02,   6.06469003e-03],\n",
       "       [  1.41184573e-02,   3.78787879e-03,   2.62741047e-01,\n",
       "          5.85399449e-03,   2.85812672e-02,   1.94559229e-01,\n",
       "          4.23553719e-02,   7.23140496e-03,   5.16528926e-03,\n",
       "          4.09779614e-02,   9.53856749e-02,   1.41184573e-02,\n",
       "          4.37327824e-02,   5.33746556e-02,   1.82506887e-02,\n",
       "          6.54269972e-03,   1.16735537e-01,   1.20523416e-02,\n",
       "          1.89393939e-02,   1.54958678e-02],\n",
       "       [  1.08455882e-01,   4.28921569e-03,   1.40931373e-02,\n",
       "          9.19117647e-03,   5.82107843e-02,   4.71813725e-02,\n",
       "          3.37009804e-02,   2.26715686e-02,   4.28921569e-03,\n",
       "          1.70955882e-01,   5.45343137e-02,   2.38970588e-02,\n",
       "          3.06372549e-03,   3.06372549e-03,   1.70955882e-01,\n",
       "          7.90441176e-02,   4.71813725e-02,   1.07230392e-01,\n",
       "          3.24754902e-02,   5.51470588e-03],\n",
       "       [  0.00000000e+00,   0.00000000e+00,   0.00000000e+00,\n",
       "          0.00000000e+00,   0.00000000e+00,   0.00000000e+00,\n",
       "          0.00000000e+00,   0.00000000e+00,   0.00000000e+00,\n",
       "          0.00000000e+00,   0.00000000e+00,   0.00000000e+00,\n",
       "          0.00000000e+00,   0.00000000e+00,   0.00000000e+00,\n",
       "          0.00000000e+00,   0.00000000e+00,   0.00000000e+00,\n",
       "          0.00000000e+00,   0.00000000e+00],\n",
       "       [  0.00000000e+00,   0.00000000e+00,   0.00000000e+00,\n",
       "          0.00000000e+00,   0.00000000e+00,   0.00000000e+00,\n",
       "          0.00000000e+00,   0.00000000e+00,   0.00000000e+00,\n",
       "          0.00000000e+00,   0.00000000e+00,   0.00000000e+00,\n",
       "          0.00000000e+00,   0.00000000e+00,   0.00000000e+00,\n",
       "          0.00000000e+00,   0.00000000e+00,   0.00000000e+00,\n",
       "          0.00000000e+00,   0.00000000e+00],\n",
       "       [  7.11151737e-02,   6.76416819e-03,   6.41681901e-02,\n",
       "          3.83912249e-03,   6.01462523e-02,   1.20109689e-01,\n",
       "          8.22669104e-03,   3.83912249e-03,   2.39488117e-02,\n",
       "          1.06215722e-01,   3.52833638e-02,   3.47349177e-03,\n",
       "          1.33455210e-02,   5.30164534e-03,   3.62157221e-01,\n",
       "          1.48080439e-02,   4.88117002e-02,   2.46800731e-02,\n",
       "          2.17550274e-02,   2.01096892e-03],\n",
       "       [  5.55555556e-02,   2.38095238e-02,   2.38095238e-02,\n",
       "          7.93650794e-03,   1.11111111e-02,   2.06349206e-02,\n",
       "          3.01587302e-02,   1.11111111e-02,   1.15873016e-01,\n",
       "          4.60317460e-02,   1.42857143e-02,   3.96825397e-02,\n",
       "          8.09523810e-02,   1.11111111e-02,   1.38095238e-01,\n",
       "          4.92063492e-02,   1.66666667e-01,   1.22222222e-01,\n",
       "          1.42857143e-02,   1.74603175e-02],\n",
       "       [  0.00000000e+00,   0.00000000e+00,   0.00000000e+00,\n",
       "          0.00000000e+00,   0.00000000e+00,   0.00000000e+00,\n",
       "          0.00000000e+00,   0.00000000e+00,   0.00000000e+00,\n",
       "          0.00000000e+00,   0.00000000e+00,   0.00000000e+00,\n",
       "          0.00000000e+00,   0.00000000e+00,   0.00000000e+00,\n",
       "          0.00000000e+00,   0.00000000e+00,   0.00000000e+00,\n",
       "          0.00000000e+00,   0.00000000e+00],\n",
       "       [  0.00000000e+00,   0.00000000e+00,   0.00000000e+00,\n",
       "          0.00000000e+00,   0.00000000e+00,   0.00000000e+00,\n",
       "          0.00000000e+00,   0.00000000e+00,   0.00000000e+00,\n",
       "          0.00000000e+00,   0.00000000e+00,   0.00000000e+00,\n",
       "          0.00000000e+00,   0.00000000e+00,   0.00000000e+00,\n",
       "          0.00000000e+00,   0.00000000e+00,   0.00000000e+00,\n",
       "          0.00000000e+00,   0.00000000e+00],\n",
       "       [  0.00000000e+00,   0.00000000e+00,   0.00000000e+00,\n",
       "          0.00000000e+00,   0.00000000e+00,   0.00000000e+00,\n",
       "          0.00000000e+00,   0.00000000e+00,   0.00000000e+00,\n",
       "          0.00000000e+00,   0.00000000e+00,   0.00000000e+00,\n",
       "          0.00000000e+00,   0.00000000e+00,   0.00000000e+00,\n",
       "          0.00000000e+00,   0.00000000e+00,   0.00000000e+00,\n",
       "          0.00000000e+00,   0.00000000e+00],\n",
       "       [  0.00000000e+00,   0.00000000e+00,   0.00000000e+00,\n",
       "          0.00000000e+00,   0.00000000e+00,   0.00000000e+00,\n",
       "          0.00000000e+00,   0.00000000e+00,   0.00000000e+00,\n",
       "          0.00000000e+00,   0.00000000e+00,   0.00000000e+00,\n",
       "          0.00000000e+00,   0.00000000e+00,   0.00000000e+00,\n",
       "          0.00000000e+00,   0.00000000e+00,   0.00000000e+00,\n",
       "          0.00000000e+00,   0.00000000e+00],\n",
       "       [  8.22091062e-03,   5.88111298e-02,   1.74747049e-01,\n",
       "          1.53878583e-02,   3.58347386e-03,   1.28794266e-01,\n",
       "          1.91821248e-02,   9.48566610e-03,   7.37774030e-03,\n",
       "          3.68887015e-02,   1.70741990e-02,   6.53456998e-03,\n",
       "          1.45446880e-02,   5.88111298e-02,   8.91652614e-02,\n",
       "          1.41863406e-01,   9.25379427e-02,   9.38026981e-02,\n",
       "          1.87605396e-02,   4.42664418e-03],\n",
       "       [  9.00135870e-02,   9.85054348e-03,   9.95244565e-02,\n",
       "          7.81250000e-03,   1.09714674e-01,   1.68138587e-01,\n",
       "          4.44972826e-02,   5.09510870e-03,   6.82744565e-02,\n",
       "          4.78940217e-02,   4.78940217e-02,   1.52853261e-02,\n",
       "          9.74864130e-02,   7.13315217e-03,   8.72961957e-02,\n",
       "          4.41576087e-03,   6.82744565e-02,   5.77445652e-03,\n",
       "          5.77445652e-03,   9.85054348e-03],\n",
       "       [  7.06737120e-02,   2.70805812e-02,   1.24834875e-01,\n",
       "          7.26552180e-03,   8.91677675e-02,   1.12285337e-02,\n",
       "          1.38705416e-02,   4.62351387e-03,   3.30250991e-03,\n",
       "          6.53896962e-02,   1.78335535e-02,   1.91545575e-02,\n",
       "          1.38705416e-02,   3.30250991e-03,   2.33157199e-01,\n",
       "          5.94451783e-03,   2.02774108e-01,   6.53896962e-02,\n",
       "          1.25495376e-02,   8.58652576e-03],\n",
       "       [  0.00000000e+00,   0.00000000e+00,   0.00000000e+00,\n",
       "          0.00000000e+00,   0.00000000e+00,   0.00000000e+00,\n",
       "          0.00000000e+00,   0.00000000e+00,   0.00000000e+00,\n",
       "          0.00000000e+00,   0.00000000e+00,   0.00000000e+00,\n",
       "          0.00000000e+00,   0.00000000e+00,   0.00000000e+00,\n",
       "          0.00000000e+00,   0.00000000e+00,   0.00000000e+00,\n",
       "          0.00000000e+00,   0.00000000e+00]])"
      ]
     },
     "execution_count": 17,
     "metadata": {},
     "output_type": "execute_result"
    }
   ],
   "source": [
    "doctopic"
   ]
  },
  {
   "cell_type": "code",
   "execution_count": 18,
   "metadata": {},
   "outputs": [],
   "source": [
    "doctopic_orig = doctopic.copy()"
   ]
  },
  {
   "cell_type": "code",
   "execution_count": 19,
   "metadata": {},
   "outputs": [
    {
     "name": "stdout",
     "output_type": "stream",
     "text": [
      "18\n"
     ]
    }
   ],
   "source": [
    "num_groups = len(set(novel_names))\n",
    "print(num_groups)"
   ]
  },
  {
   "cell_type": "code",
   "execution_count": 20,
   "metadata": {},
   "outputs": [],
   "source": [
    "doctopic_grouped = np.zeros((num_groups, num_topics))"
   ]
  },
  {
   "cell_type": "code",
   "execution_count": 21,
   "metadata": {},
   "outputs": [],
   "source": [
    "for i, name in enumerate(sorted(set(novel_names))):\n",
    "    doctopic_grouped[i, :] = np.mean(doctopic[novel_names == name, :], axis=0)"
   ]
  },
  {
   "cell_type": "code",
   "execution_count": 22,
   "metadata": {},
   "outputs": [],
   "source": [
    "doctopic = doctopic_grouped"
   ]
  },
  {
   "cell_type": "code",
   "execution_count": 23,
   "metadata": {},
   "outputs": [
    {
     "data": {
      "text/plain": [
       "array([[  5.32716927e-02,   9.06827881e-02,   7.36130868e-02,\n",
       "          1.06685633e-03,   1.87055477e-02,   2.95163585e-02,\n",
       "          5.51209104e-02,   2.77382646e-03,   4.60170697e-02,\n",
       "          5.90327169e-03,   4.95732575e-02,   6.40113798e-04,\n",
       "          1.52275960e-01,   7.81650071e-02,   4.74395448e-02,\n",
       "          1.75035562e-01,   4.45945946e-02,   3.87624467e-02,\n",
       "          2.25462304e-02,   1.42958748e-02],\n",
       "       [  4.85775249e-02,   9.13940256e-02,   7.26173542e-02,\n",
       "          2.06258890e-03,   2.66714083e-02,   3.00853485e-02,\n",
       "          5.32716927e-02,   6.18776671e-03,   4.00426743e-02,\n",
       "          6.61450925e-03,   5.34139403e-02,   4.97866287e-04,\n",
       "          1.57965861e-01,   7.21906117e-02,   4.11806543e-02,\n",
       "          1.83428165e-01,   4.55903272e-02,   3.16500711e-02,\n",
       "          2.29729730e-02,   1.35846373e-02],\n",
       "       [  8.25312801e-02,   1.20307988e-03,   1.57603465e-01,\n",
       "          4.09047161e-03,   2.62271415e-02,   2.89461020e-01,\n",
       "          1.61212705e-02,   5.53416747e-03,   9.38402310e-03,\n",
       "          2.71896054e-02,   6.08758422e-02,   8.90279115e-03,\n",
       "          2.33397498e-02,   3.12800770e-03,   8.68623677e-02,\n",
       "          2.64677575e-03,   9.64870067e-02,   6.32820019e-02,\n",
       "          2.81520693e-02,   6.97786333e-03],\n",
       "       [  4.35064935e-02,   2.14285714e-02,   7.14285714e-03,\n",
       "          4.54545455e-03,   5.38961039e-02,   8.50649351e-02,\n",
       "          7.14285714e-03,   3.57142857e-02,   1.36363636e-02,\n",
       "          4.87012987e-02,   5.84415584e-03,   2.53246753e-02,\n",
       "          8.44155844e-03,   3.24675325e-03,   2.05844156e-01,\n",
       "          1.27922078e-01,   6.81818182e-02,   1.27922078e-01,\n",
       "          9.41558442e-02,   1.23376623e-02],\n",
       "       [  2.18750000e-02,   7.18750000e-02,   2.81250000e-02,\n",
       "          2.81250000e-02,   1.56250000e-02,   2.81250000e-02,\n",
       "          5.31250000e-02,   2.18750000e-02,   5.31250000e-02,\n",
       "          2.18750000e-02,   2.81250000e-02,   1.59375000e-01,\n",
       "          2.81250000e-02,   4.06250000e-02,   7.18750000e-02,\n",
       "          2.18750000e-02,   2.81250000e-02,   1.56250000e-02,\n",
       "          4.68750000e-02,   2.15625000e-01],\n",
       "       [  2.16112908e-02,   9.26198177e-03,   2.34783887e-01,\n",
       "          2.20523375e-03,   7.49779477e-03,   4.89561894e-02,\n",
       "          4.55748309e-03,   8.96795060e-03,   9.85004410e-03,\n",
       "          2.24933843e-02,   1.45545428e-02,   3.38135842e-03,\n",
       "          7.24786827e-02,   3.10202882e-02,   5.33666569e-02,\n",
       "          2.36695090e-02,   9.95295501e-02,   2.35077918e-01,\n",
       "          8.39458983e-02,   1.27903558e-02],\n",
       "       [  5.61943620e-02,   1.54549951e-03,   1.19312562e-02,\n",
       "          4.32739862e-04,   3.83902077e-02,   1.79277943e-03,\n",
       "          4.01829871e-03,   6.80019782e-04,   2.60818497e-01,\n",
       "          3.12190900e-02,   3.87611276e-02,   3.09099901e-04,\n",
       "          2.12042532e-02,   5.50197824e-03,   1.48553412e-01,\n",
       "          3.95029674e-02,   1.08370425e-01,   2.02954995e-01,\n",
       "          1.60113749e-02,   1.18076162e-02],\n",
       "       [  2.10843373e-02,   5.12048193e-02,   2.71084337e-02,\n",
       "          1.50602410e-02,   2.71084337e-02,   4.51807229e-02,\n",
       "          3.91566265e-02,   3.91566265e-02,   3.31325301e-02,\n",
       "          2.71084337e-02,   9.93975904e-02,   1.53614458e-01,\n",
       "          4.51807229e-02,   1.50602410e-02,   2.10843373e-02,\n",
       "          1.50602410e-02,   3.91566265e-02,   1.50602410e-02,\n",
       "          3.31325301e-02,   2.37951807e-01],\n",
       "       [  1.46256817e-02,   2.45413981e-02,   2.88795240e-01,\n",
       "          2.99950421e-02,   3.94149727e-02,   4.83391175e-02,\n",
       "          1.01636093e-02,   6.19732276e-03,   8.67625186e-03,\n",
       "          1.41298959e-02,   3.71839365e-03,   1.16509668e-02,\n",
       "          3.14823996e-02,   3.69360436e-02,   9.74219137e-02,\n",
       "          7.18889440e-03,   1.77243431e-01,   2.55329698e-02,\n",
       "          6.71789787e-02,   5.67674765e-02],\n",
       "       [  5.19528371e-02,   6.26381724e-03,   2.84819455e-01,\n",
       "          2.57921887e-03,   1.37435520e-01,   1.91230656e-01,\n",
       "          9.94841562e-03,   4.05305822e-03,   8.47457627e-03,\n",
       "          1.80545321e-02,   1.95283714e-02,   1.84229919e-03,\n",
       "          5.78481945e-02,   7.73765660e-03,   5.93220339e-02,\n",
       "          7.73765660e-03,   6.59543110e-02,   2.39498895e-02,\n",
       "          3.42667649e-02,   7.00073692e-03],\n",
       "       [  9.23180593e-02,   3.36927224e-03,   7.21024259e-02,\n",
       "          4.71698113e-03,   2.97169811e-01,   1.81940701e-02,\n",
       "          4.71698113e-03,   6.06469003e-03,   1.41509434e-02,\n",
       "          2.35849057e-02,   1.54986523e-02,   1.95417790e-02,\n",
       "          2.89757412e-02,   7.41239892e-03,   5.45822102e-02,\n",
       "          6.06469003e-03,   2.74258760e-01,   3.57142857e-02,\n",
       "          1.54986523e-02,   6.06469003e-03],\n",
       "       [  1.41184573e-02,   3.78787879e-03,   2.62741047e-01,\n",
       "          5.85399449e-03,   2.85812672e-02,   1.94559229e-01,\n",
       "          4.23553719e-02,   7.23140496e-03,   5.16528926e-03,\n",
       "          4.09779614e-02,   9.53856749e-02,   1.41184573e-02,\n",
       "          4.37327824e-02,   5.33746556e-02,   1.82506887e-02,\n",
       "          6.54269972e-03,   1.16735537e-01,   1.20523416e-02,\n",
       "          1.89393939e-02,   1.54958678e-02],\n",
       "       [  3.61519608e-02,   1.42973856e-03,   4.69771242e-03,\n",
       "          3.06372549e-03,   1.94035948e-02,   1.57271242e-02,\n",
       "          1.12336601e-02,   7.55718954e-03,   1.42973856e-03,\n",
       "          5.69852941e-02,   1.81781046e-02,   7.96568627e-03,\n",
       "          1.02124183e-03,   1.02124183e-03,   5.69852941e-02,\n",
       "          2.63480392e-02,   1.57271242e-02,   3.57434641e-02,\n",
       "          1.08251634e-02,   1.83823529e-03],\n",
       "       [  7.11151737e-02,   6.76416819e-03,   6.41681901e-02,\n",
       "          3.83912249e-03,   6.01462523e-02,   1.20109689e-01,\n",
       "          8.22669104e-03,   3.83912249e-03,   2.39488117e-02,\n",
       "          1.06215722e-01,   3.52833638e-02,   3.47349177e-03,\n",
       "          1.33455210e-02,   5.30164534e-03,   3.62157221e-01,\n",
       "          1.48080439e-02,   4.88117002e-02,   2.46800731e-02,\n",
       "          2.17550274e-02,   2.01096892e-03],\n",
       "       [  1.11111111e-02,   4.76190476e-03,   4.76190476e-03,\n",
       "          1.58730159e-03,   2.22222222e-03,   4.12698413e-03,\n",
       "          6.03174603e-03,   2.22222222e-03,   2.31746032e-02,\n",
       "          9.20634921e-03,   2.85714286e-03,   7.93650794e-03,\n",
       "          1.61904762e-02,   2.22222222e-03,   2.76190476e-02,\n",
       "          9.84126984e-03,   3.33333333e-02,   2.44444444e-02,\n",
       "          2.85714286e-03,   3.49206349e-03],\n",
       "       [  8.22091062e-03,   5.88111298e-02,   1.74747049e-01,\n",
       "          1.53878583e-02,   3.58347386e-03,   1.28794266e-01,\n",
       "          1.91821248e-02,   9.48566610e-03,   7.37774030e-03,\n",
       "          3.68887015e-02,   1.70741990e-02,   6.53456998e-03,\n",
       "          1.45446880e-02,   5.88111298e-02,   8.91652614e-02,\n",
       "          1.41863406e-01,   9.25379427e-02,   9.38026981e-02,\n",
       "          1.87605396e-02,   4.42664418e-03],\n",
       "       [  9.00135870e-02,   9.85054348e-03,   9.95244565e-02,\n",
       "          7.81250000e-03,   1.09714674e-01,   1.68138587e-01,\n",
       "          4.44972826e-02,   5.09510870e-03,   6.82744565e-02,\n",
       "          4.78940217e-02,   4.78940217e-02,   1.52853261e-02,\n",
       "          9.74864130e-02,   7.13315217e-03,   8.72961957e-02,\n",
       "          4.41576087e-03,   6.82744565e-02,   5.77445652e-03,\n",
       "          5.77445652e-03,   9.85054348e-03],\n",
       "       [  3.53368560e-02,   1.35402906e-02,   6.24174373e-02,\n",
       "          3.63276090e-03,   4.45838838e-02,   5.61426684e-03,\n",
       "          6.93527081e-03,   2.31175694e-03,   1.65125495e-03,\n",
       "          3.26948481e-02,   8.91677675e-03,   9.57727873e-03,\n",
       "          6.93527081e-03,   1.65125495e-03,   1.16578600e-01,\n",
       "          2.97225892e-03,   1.01387054e-01,   3.26948481e-02,\n",
       "          6.27476882e-03,   4.29326288e-03]])"
      ]
     },
     "execution_count": 23,
     "metadata": {},
     "output_type": "execute_result"
    }
   ],
   "source": [
    "doctopic"
   ]
  },
  {
   "cell_type": "code",
   "execution_count": 24,
   "metadata": {},
   "outputs": [
    {
     "name": "stdout",
     "output_type": "stream",
     "text": [
      "20\n"
     ]
    }
   ],
   "source": [
    "N, K = doctopic.shape\n",
    "print(K)"
   ]
  },
  {
   "cell_type": "code",
   "execution_count": 25,
   "metadata": {},
   "outputs": [],
   "source": [
    "ind = np.arange(N)"
   ]
  },
  {
   "cell_type": "code",
   "execution_count": 26,
   "metadata": {},
   "outputs": [],
   "source": [
    "width = 0.5"
   ]
  },
  {
   "cell_type": "code",
   "execution_count": 27,
   "metadata": {},
   "outputs": [],
   "source": [
    "plt.rcParams[\"figure.figsize\"] = [16,9]"
   ]
  },
  {
   "cell_type": "code",
   "execution_count": 28,
   "metadata": {},
   "outputs": [
    {
     "data": {
      "text/plain": [
       "<Container object of 18 artists>"
      ]
     },
     "execution_count": 28,
     "metadata": {},
     "output_type": "execute_result"
    }
   ],
   "source": [
    "plt.bar(ind, doctopic[:,0], width=width)"
   ]
  },
  {
   "cell_type": "code",
   "execution_count": 29,
   "metadata": {},
   "outputs": [
    {
     "data": {
      "text/plain": [
       "([<matplotlib.axis.XTick at 0x7f72de764a90>,\n",
       "  <matplotlib.axis.XTick at 0x7f72f17e8048>,\n",
       "  <matplotlib.axis.XTick at 0x7f72bafe4470>,\n",
       "  <matplotlib.axis.XTick at 0x7f72b8d0a898>,\n",
       "  <matplotlib.axis.XTick at 0x7f72b8d0aef0>,\n",
       "  <matplotlib.axis.XTick at 0x7f72b8d17588>,\n",
       "  <matplotlib.axis.XTick at 0x7f72b8d17be0>,\n",
       "  <matplotlib.axis.XTick at 0x7f72b8d1a2b0>,\n",
       "  <matplotlib.axis.XTick at 0x7f72b8d1a940>,\n",
       "  <matplotlib.axis.XTick at 0x7f72b8d1afd0>,\n",
       "  <matplotlib.axis.XTick at 0x7f72b8d1a860>,\n",
       "  <matplotlib.axis.XTick at 0x7f72b8d17518>,\n",
       "  <matplotlib.axis.XTick at 0x7f72b8d0ad30>,\n",
       "  <matplotlib.axis.XTick at 0x7f72b8d1e390>,\n",
       "  <matplotlib.axis.XTick at 0x7f72b8d1ea58>,\n",
       "  <matplotlib.axis.XTick at 0x7f72b8ca5128>,\n",
       "  <matplotlib.axis.XTick at 0x7f72b8ca57b8>,\n",
       "  <matplotlib.axis.XTick at 0x7f72b8ca5e48>],\n",
       " <a list of 18 Text xticklabel objects>)"
      ]
     },
     "execution_count": 29,
     "metadata": {},
     "output_type": "execute_result"
    }
   ],
   "source": [
    "plt.xticks(rotation=90)\n",
    "plt.xticks(ind + width/2, novel_names)"
   ]
  },
  {
   "cell_type": "code",
   "execution_count": 30,
   "metadata": {},
   "outputs": [
    {
     "data": {
      "text/plain": [
       "Text(0.5,1,'Share of Topic #0')"
      ]
     },
     "execution_count": 30,
     "metadata": {},
     "output_type": "execute_result"
    }
   ],
   "source": [
    "plt.title('Share of Topic #0')"
   ]
  },
  {
   "cell_type": "code",
   "execution_count": 31,
   "metadata": {},
   "outputs": [
    {
     "data": {
      "image/png": "[encoded data removed]",
      "text/plain": [
       "<matplotlib.figure.Figure at 0x7f72bb036c50>"
      ]
     },
     "metadata": {},
     "output_type": "display_data"
    }
   ],
   "source": [
    "plt.show()"
   ]
  },
  {
   "cell_type": "code",
   "execution_count": 32,
   "metadata": {},
   "outputs": [],
   "source": [
    "plots = []"
   ]
  },
  {
   "cell_type": "code",
   "execution_count": 33,
   "metadata": {},
   "outputs": [],
   "source": [
    "height_cumulative = np.zeros(N)"
   ]
  },
  {
   "cell_type": "code",
   "execution_count": 34,
   "metadata": {},
   "outputs": [],
   "source": [
    "for k in range(K):\n",
    "    color = plt.cm.tab20(k/K, 1)\n",
    "    if k == 0:\n",
    "        p = plt.bar(ind, doctopic[:, k], width, color=color)\n",
    "    else:\n",
    "        p = plt.bar(ind, doctopic[:, k], width, bottom=height_cumulative, color=color)\n",
    "    height_cumulative += doctopic[:, k]\n",
    "    plots.append(p)"
   ]
  },
  {
   "cell_type": "code",
   "execution_count": 35,
   "metadata": {},
   "outputs": [
    {
     "data": {
      "text/plain": [
       "(0, 1)"
      ]
     },
     "execution_count": 35,
     "metadata": {},
     "output_type": "execute_result"
    }
   ],
   "source": [
    "plt.ylim((0, 1))"
   ]
  },
  {
   "cell_type": "code",
   "execution_count": 36,
   "metadata": {},
   "outputs": [
    {
     "data": {
      "text/plain": [
       "Text(0,0.5,'Topics')"
      ]
     },
     "execution_count": 36,
     "metadata": {},
     "output_type": "execute_result"
    }
   ],
   "source": [
    "plt.ylabel('Topics')"
   ]
  },
  {
   "cell_type": "code",
   "execution_count": 37,
   "metadata": {},
   "outputs": [
    {
     "data": {
      "text/plain": [
       "Text(0.5,1,'Topics in novels')"
      ]
     },
     "execution_count": 37,
     "metadata": {},
     "output_type": "execute_result"
    }
   ],
   "source": [
    "plt.title('Topics in novels')"
   ]
  },
  {
   "cell_type": "code",
   "execution_count": 38,
   "metadata": {},
   "outputs": [],
   "source": [
    "list_topics =['transports', 'nature', 'corps médical', 'noblesse', 'parties de la maison', '?', 'religion', 'lettres/livres', '?', 'argent/position sociale','sentiment','armée','féminin','noblesse féminine','?','corps','justice/crime','famille','noblesse','marine']"
   ]
  },
  {
   "cell_type": "code",
   "execution_count": 39,
   "metadata": {},
   "outputs": [
    {
     "name": "stdout",
     "output_type": "stream",
     "text": [
      "numero 1\n",
      "Balzac-Honore-de_Une-tenebreuse-affaire\n",
      "numero 2\n",
      "Balzac-Honore-de_Une-tenebreuse-affaireFC\n",
      "numero 3\n",
      "Zola-Emile_Au-bonheur-des-dames\n",
      "numero 4\n",
      "Zola-Emile_Germinal\n",
      "numero 5\n",
      "Zola-Emile_L-assomoir\n",
      "numero 6\n",
      "Zola-Emile_La-curee\n",
      "numero 7\n",
      "Zola-Emile_La-faute-de-l-abbe-Mouret\n",
      "numero 8\n",
      "Zola-Emile_La-fortune-des-Rougon\n",
      "numero 9\n",
      "Zola-Emile_Nana\n",
      "numero 10\n",
      "Zola-Emile_Pot-Bouille\n",
      "numero 11\n",
      "Zola-Emile_Une-page-d-amour\n",
      "numero 12\n",
      "_Zola-Emile_Au-bonheur-des-dames\n",
      "numero 13\n",
      "_Zola-Emile_Germinal\n",
      "numero 14\n",
      "_Zola-Emile_Germinal\n",
      "numero 15\n",
      "_Zola-Emile_Germinal\n",
      "numero 16\n",
      "_Zola-Emile_L-assomoir\n",
      "numero 17\n",
      "_Zola-Emile_La-faute-de-l-abbe-Mouret\n",
      "numero 18\n",
      "_Zola-Emile_La-faute-de-l-abbe-Mouret\n",
      "numero 19\n",
      "_Zola-Emile_La-faute-de-l-abbe-Mouret\n",
      "numero 20\n",
      "_Zola-Emile_La-faute-de-l-abbe-Mouret\n",
      "numero 21\n",
      "_Zola-Emile_La-faute-de-l-abbe-Mouret\n",
      "numero 22\n",
      "_Zola-Emile_Nana\n",
      "numero 23\n",
      "_Zola-Emile_Pot-Bouille\n",
      "numero 24\n",
      "_Zola-Emile_Une-page-d-amour\n",
      "numero 25\n",
      "_Zola-Emile_Une-page-d-amour\n"
     ]
    }
   ],
   "source": [
    "plt.xticks(rotation=90)\n",
    "plt.xticks(ind+width/2, novel_names)\n",
    "index=1\n",
    "for name in novel_names:\n",
    "    print('numero '+str(index))\n",
    "    print(name)\n",
    "    index+=1"
   ]
  },
  {
   "cell_type": "code",
   "execution_count": 40,
   "metadata": {},
   "outputs": [
    {
     "data": {
      "text/plain": [
       "([<matplotlib.axis.YTick at 0x7f72b89a1860>],\n",
       " <a list of 1 Text yticklabel objects>)"
      ]
     },
     "execution_count": 40,
     "metadata": {},
     "output_type": "execute_result"
    }
   ],
   "source": [
    "plt.yticks(np.arange(0, 1, 10))"
   ]
  },
  {
   "cell_type": "code",
   "execution_count": 41,
   "metadata": {},
   "outputs": [],
   "source": [
    "#Pour cette expérience, topic 0 : aventure ; topic 1 : argent ; topic 2 : mort\n",
    "topic_labels = [k for k in list_topics]"
   ]
  },
  {
   "cell_type": "code",
   "execution_count": 42,
   "metadata": {},
   "outputs": [
    {
     "data": {
      "text/plain": [
       "<matplotlib.legend.Legend at 0x7f72b8d1ab38>"
      ]
     },
     "execution_count": 42,
     "metadata": {},
     "output_type": "execute_result"
    }
   ],
   "source": [
    "plt.legend([p[0] for p in plots], topic_labels)"
   ]
  },
  {
   "cell_type": "code",
   "execution_count": 43,
   "metadata": {},
   "outputs": [
    {
     "data": {
      "image/png": "[encoded data removed]",
      "text/plain": [
       "<matplotlib.figure.Figure at 0x7f72b8cd5ef0>"
      ]
     },
     "metadata": {},
     "output_type": "display_data"
    }
   ],
   "source": [
    "plt.show()"
   ]
  },
  {
   "cell_type": "code",
   "execution_count": null,
   "metadata": {},
   "outputs": [],
   "source": []
  }
 ],
 "metadata": {
  "kernelspec": {
   "display_name": "Python 3",
   "language": "python",
   "name": "python3"
  },
  "language_info": {
   "codemirror_mode": {
    "name": "ipython",
    "version": 3
   },
   "file_extension": ".py",
   "mimetype": "text/x-python",
   "name": "python",
   "nbconvert_exporter": "python",
   "pygments_lexer": "ipython3",
   "version": "3.5.2"
  }
 },
 "nbformat": 4,
 "nbformat_minor": 2
}

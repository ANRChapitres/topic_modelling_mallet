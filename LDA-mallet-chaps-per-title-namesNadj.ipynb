{
 "cells": [
  {
   "cell_type": "code",
   "execution_count": 1,
   "metadata": {},
   "outputs": [],
   "source": [
    "import os\n",
    "import itertools\n",
    "import numpy as np\n",
    "import operator\n",
    "import math\n",
    "from sklearn.feature_extraction.text import CountVectorizer\n",
    "import matplotlib.pyplot as plt"
   ]
  },
  {
   "cell_type": "code",
   "execution_count": 2,
   "metadata": {},
   "outputs": [],
   "source": [
    "def grouper(n, iterable, fillvalue=None):\n",
    "    args = [iter(iterable)] * n\n",
    "    return itertools.zip_longest(*args, fillvalue=fillvalue)"
   ]
  },
  {
   "cell_type": "code",
   "execution_count": 3,
   "metadata": {},
   "outputs": [],
   "source": [
    "doctopic_triples = []\n",
    "mallet_docnames = []"
   ]
  },
  {
   "cell_type": "code",
   "execution_count": 4,
   "metadata": {},
   "outputs": [],
   "source": [
    "#here you can put the strings you want to get rid off when showing the titles\n",
    "list_authors_to_replace=['Zola-Emile','Dumas-Alexandre-Pere','Dumas-Alexandre','Balzac-Honore-de','Verne-Jules','Sand-George','Flaubert-Gustave']\n",
    "list_authors_to_find=['Giono-Jean']\n",
    "list_titles_to_find=['Le-Hussard-sur-le-toit']\n",
    "argsfig='./figs/indiv_chaps/names/giono_le-hussard-sur-le-toit'"
   ]
  },
  {
   "cell_type": "code",
   "execution_count": 5,
   "metadata": {},
   "outputs": [],
   "source": [
    "def replace_all(text, dic):\n",
    "    for i in dic:\n",
    "        text = text.replace(i, \"\")\n",
    "    return text"
   ]
  },
  {
   "cell_type": "code",
   "execution_count": 6,
   "metadata": {},
   "outputs": [],
   "source": [
    "list_chaps=list()"
   ]
  },
  {
   "cell_type": "code",
   "execution_count": 7,
   "metadata": {},
   "outputs": [],
   "source": [
    "with open(\"/home/odysseus/Bureau/chapitres/code/topic_modelling_mallet/results/doc-topics-glob-chaps.txt\") as f:\n",
    "    f.readline()  # read one line in order to skip the header\n",
    "    for line in f:\n",
    "        docnum, docname, *values = line.rstrip().split('\\t')\n",
    "        docname = os.path.basename(docname)\n",
    "        if docname.split('_')[2] in list_titles_to_find:\n",
    "        #if docname.split('_')[1] in list_authors_to_find and ('_1.' in docname or '_'+str(max(list_chaps))+'.' in docname):\n",
    "            #docname=replace_all(docname, list_authors_to_replace)\n",
    "            docname=docname.split('_')[3].replace('.txt','')\n",
    "            mallet_docnames.append(int(docname))\n",
    "            for topic, share in grouper(2, values):\n",
    "                triple = (int(docname), int(topic), float(share))\n",
    "                doctopic_triples.append(triple)"
   ]
  },
  {
   "cell_type": "code",
   "execution_count": 8,
   "metadata": {},
   "outputs": [
    {
     "name": "stdout",
     "output_type": "stream",
     "text": [
      "[(2, 16, 0.2550761421319797), (2, 13, 0.20431472081218274), (2, 17, 0.16624365482233502), (2, 10, 0.05710659898477157), (2, 11, 0.05456852791878172), (2, 2, 0.03680203045685279), (2, 0, 0.02918781725888325), (2, 12, 0.0266497461928934), (2, 4, 0.0266497461928934), (2, 6, 0.021573604060913704), (2, 18, 0.01903553299492386), (2, 14, 0.01903553299492386), (2, 1, 0.013959390862944163), (2, 19, 0.011421319796954314), (2, 9, 0.011421319796954314), (2, 8, 0.011421319796954314), (2, 5, 0.011421319796954314), (2, 3, 0.011421319796954314), (2, 15, 0.006345177664974619), (2, 7, 0.006345177664974619), (9, 16, 0.1424778761061947), (9, 10, 0.10353982300884956), (9, 9, 0.09292035398230089), (9, 13, 0.08584070796460178), (9, 4, 0.07345132743362832), (9, 17, 0.06991150442477877), (9, 3, 0.06814159292035399), (9, 19, 0.048672566371681415), (9, 18, 0.048672566371681415), (9, 0, 0.046902654867256637), (9, 1, 0.04336283185840708), (9, 11, 0.03982300884955752), (9, 8, 0.036283185840707964), (9, 5, 0.023893805309734513), (9, 12, 0.022123893805309734), (9, 14, 0.01504424778761062), (9, 15, 0.011504424778761062), (9, 7, 0.009734513274336283), (9, 6, 0.009734513274336283), (9, 2, 0.007964601769911504), (14, 16, 0.11971830985915492), (14, 10, 0.11971830985915492), (14, 18, 0.06338028169014084), (14, 8, 0.06338028169014084), (14, 19, 0.04929577464788732), (14, 17, 0.04929577464788732), (14, 14, 0.04929577464788732), (14, 5, 0.04929577464788732), (14, 3, 0.04929577464788732), (14, 15, 0.035211267605633804), (14, 13, 0.035211267605633804), (14, 12, 0.035211267605633804), (14, 11, 0.035211267605633804), (14, 9, 0.035211267605633804), (14, 7, 0.035211267605633804), (14, 6, 0.035211267605633804), (14, 4, 0.035211267605633804), (14, 2, 0.035211267605633804), (14, 1, 0.035211267605633804), (14, 0, 0.035211267605633804), (10, 4, 0.2111650485436893), (10, 16, 0.1383495145631068), (10, 17, 0.10436893203883495), (10, 10, 0.08495145631067962), (10, 7, 0.07524271844660194), (10, 11, 0.050970873786407765), (10, 12, 0.04611650485436893), (10, 1, 0.0412621359223301), (10, 18, 0.03155339805825243), (10, 8, 0.02669902912621359), (10, 2, 0.02669902912621359), (10, 19, 0.021844660194174758), (10, 15, 0.021844660194174758), (10, 9, 0.021844660194174758), (10, 14, 0.01699029126213592), (10, 13, 0.01699029126213592), (10, 6, 0.01699029126213592), (10, 3, 0.01699029126213592), (10, 0, 0.01699029126213592), (10, 5, 0.012135922330097087), (5, 17, 0.125), (5, 16, 0.058333333333333334), (5, 12, 0.058333333333333334), (5, 11, 0.058333333333333334), (5, 4, 0.058333333333333334), (5, 0, 0.058333333333333334), (5, 19, 0.041666666666666664), (5, 18, 0.041666666666666664), (5, 15, 0.041666666666666664), (5, 14, 0.041666666666666664), (5, 13, 0.041666666666666664), (5, 10, 0.041666666666666664), (5, 9, 0.041666666666666664), (5, 8, 0.041666666666666664), (5, 7, 0.041666666666666664), (5, 6, 0.041666666666666664), (5, 5, 0.041666666666666664), (5, 3, 0.041666666666666664), (5, 2, 0.041666666666666664), (5, 1, 0.041666666666666664), (12, 16, 0.15816326530612246), (12, 4, 0.141156462585034), (12, 8, 0.07993197278911565), (12, 6, 0.07993197278911565), (12, 15, 0.07312925170068027), (12, 2, 0.05272108843537415), (12, 10, 0.04931972789115646), (12, 0, 0.04591836734693878), (12, 11, 0.04251700680272109), (12, 17, 0.0391156462585034), (12, 9, 0.03571428571428571), (12, 3, 0.03571428571428571), (12, 12, 0.03231292517006803), (12, 7, 0.03231292517006803), (12, 18, 0.02891156462585034), (12, 1, 0.01870748299319728), (12, 14, 0.015306122448979591), (12, 13, 0.015306122448979591), (12, 5, 0.015306122448979591), (12, 19, 0.008503401360544218), (8, 10, 0.14352469959946595), (8, 14, 0.13951935914552738), (8, 16, 0.11281708945260348), (8, 17, 0.09813084112149532), (8, 15, 0.07676902536715621), (8, 9, 0.07409879839786382), (8, 11, 0.05807743658210948), (8, 8, 0.04606141522029372), (8, 4, 0.04606141522029372), (8, 3, 0.030040053404539385), (8, 12, 0.02336448598130841), (8, 6, 0.02336448598130841), (8, 1, 0.02336448598130841), (8, 0, 0.02069425901201602), (8, 18, 0.018024032042723633), (8, 13, 0.018024032042723633), (8, 5, 0.018024032042723633), (8, 19, 0.012683578104138851), (8, 2, 0.010013351134846462), (8, 7, 0.007343124165554072), (11, 10, 0.1389496717724289), (11, 16, 0.13676148796498905), (11, 4, 0.12144420131291028), (11, 14, 0.07330415754923414), (11, 1, 0.07330415754923414), (11, 9, 0.0711159737417943), (11, 17, 0.05579868708971553), (11, 12, 0.038293216630196934), (11, 7, 0.03391684901531729), (11, 3, 0.03391684901531729), (11, 13, 0.03172866520787746), (11, 2, 0.02954048140043764), (11, 19, 0.02735229759299781), (11, 0, 0.02735229759299781), (11, 15, 0.02516411378555799), (11, 5, 0.02516411378555799), (11, 11, 0.018599562363238512), (11, 18, 0.016411378555798686), (11, 6, 0.016411378555798686), (11, 8, 0.005470459518599562), (4, 10, 0.17592592592592593), (4, 8, 0.10555555555555556), (4, 16, 0.10185185185185185), (4, 18, 0.07962962962962963), (4, 12, 0.07222222222222222), (4, 13, 0.06111111111111111), (4, 11, 0.06111111111111111), (4, 0, 0.053703703703703705), (4, 17, 0.05), (4, 15, 0.03888888888888889), (4, 7, 0.03518518518518519), (4, 3, 0.027777777777777776), (4, 4, 0.024074074074074074), (4, 6, 0.020370370370370372), (4, 1, 0.020370370370370372), (4, 14, 0.016666666666666666), (4, 9, 0.016666666666666666), (4, 2, 0.016666666666666666), (4, 19, 0.012962962962962963), (4, 5, 0.009259259259259259), (6, 0, 0.11785216178521618), (6, 16, 0.099721059972106), (6, 4, 0.09693165969316597), (6, 9, 0.07601115760111576), (6, 6, 0.06903765690376569), (6, 2, 0.06624825662482567), (6, 19, 0.05230125523012552), (6, 13, 0.05230125523012552), (6, 10, 0.05230125523012552), (6, 1, 0.05230125523012552), (6, 17, 0.0397489539748954), (6, 14, 0.03417015341701534), (6, 3, 0.03417015341701534), (6, 15, 0.03277545327754533), (6, 11, 0.03138075313807531), (6, 8, 0.027196652719665274), (6, 12, 0.021617852161785217), (6, 7, 0.01603905160390516), (6, 18, 0.014644351464435146), (6, 5, 0.013249651324965132), (3, 16, 0.25934579439252337), (3, 17, 0.21261682242990654), (3, 4, 0.07710280373831775), (3, 12, 0.05841121495327103), (3, 15, 0.04439252336448598), (3, 10, 0.04439252336448598), (3, 19, 0.0397196261682243), (3, 5, 0.035046728971962614), (3, 1, 0.035046728971962614), (3, 8, 0.030373831775700934), (3, 13, 0.02570093457943925), (3, 11, 0.02102803738317757), (3, 2, 0.02102803738317757), (3, 18, 0.016355140186915886), (3, 7, 0.016355140186915886), (3, 3, 0.016355140186915886), (3, 14, 0.011682242990654205), (3, 9, 0.011682242990654205), (3, 6, 0.011682242990654205), (3, 0, 0.011682242990654205), (7, 16, 0.16826923076923078), (7, 13, 0.1201923076923077), (7, 9, 0.10288461538461538), (7, 4, 0.06634615384615385), (7, 18, 0.05480769230769231), (7, 0, 0.05480769230769231), (7, 1, 0.04903846153846154), (7, 14, 0.047115384615384615), (7, 6, 0.047115384615384615), (7, 15, 0.04519230769230769), (7, 2, 0.041346153846153845), (7, 11, 0.035576923076923075), (7, 10, 0.02980769230769231), (7, 19, 0.027884615384615386), (7, 12, 0.027884615384615386), (7, 8, 0.027884615384615386), (7, 17, 0.01826923076923077), (7, 3, 0.01826923076923077), (7, 5, 0.010576923076923078), (7, 7, 0.006730769230769231), (1, 10, 0.19642857142857142), (1, 14, 0.1825801749271137), (1, 16, 0.11115160349854228), (1, 11, 0.049927113702623906), (1, 4, 0.049927113702623906), (1, 2, 0.049198250728862976), (1, 3, 0.04628279883381924), (1, 9, 0.04336734693877551), (1, 1, 0.03826530612244898), (1, 7, 0.036078717201166184), (1, 5, 0.03462099125364432), (1, 19, 0.027332361516034985), (1, 15, 0.02587463556851312), (1, 0, 0.02295918367346939), (1, 13, 0.02077259475218659), (1, 17, 0.019314868804664723), (1, 6, 0.01639941690962099), (1, 12, 0.014212827988338192), (1, 18, 0.009110787172011662), (1, 8, 0.00619533527696793), (13, 14, 0.13857938718662952), (13, 0, 0.11629526462395544), (13, 13, 0.10933147632311978), (13, 9, 0.10236768802228412), (13, 6, 0.09540389972144847), (13, 16, 0.0745125348189415), (13, 1, 0.056406685236768804), (13, 17, 0.05222841225626741), (13, 2, 0.04247910863509749), (13, 8, 0.03969359331476323), (13, 3, 0.027158774373259052), (13, 10, 0.02437325905292479), (13, 11, 0.02298050139275766), (13, 5, 0.02158774373259053), (13, 4, 0.0201949860724234), (13, 12, 0.016016713091922007), (13, 7, 0.016016713091922007), (13, 18, 0.013231197771587743), (13, 15, 0.006267409470752089), (13, 19, 0.004874651810584958)]\n"
     ]
    }
   ],
   "source": [
    "print(doctopic_triples)"
   ]
  },
  {
   "cell_type": "code",
   "execution_count": 9,
   "metadata": {},
   "outputs": [],
   "source": [
    "mallet_docnames = sorted(mallet_docnames)"
   ]
  },
  {
   "cell_type": "code",
   "execution_count": 10,
   "metadata": {},
   "outputs": [],
   "source": [
    "num_docs = len(mallet_docnames)"
   ]
  },
  {
   "cell_type": "code",
   "execution_count": 11,
   "metadata": {},
   "outputs": [],
   "source": [
    "doctopic_triples = sorted(doctopic_triples, key=operator.itemgetter(0,1))"
   ]
  },
  {
   "cell_type": "code",
   "execution_count": 12,
   "metadata": {},
   "outputs": [
    {
     "name": "stdout",
     "output_type": "stream",
     "text": [
      "280\n",
      "20\n"
     ]
    }
   ],
   "source": [
    "num_topics = len(doctopic_triples) // len(mallet_docnames)\n",
    "print(len(doctopic_triples))\n",
    "print(num_topics)"
   ]
  },
  {
   "cell_type": "code",
   "execution_count": 13,
   "metadata": {},
   "outputs": [],
   "source": [
    "doctopic = np.zeros((num_docs, num_topics))"
   ]
  },
  {
   "cell_type": "code",
   "execution_count": 14,
   "metadata": {},
   "outputs": [],
   "source": [
    "for triple in doctopic_triples:\n",
    "    docname, topic, share = triple\n",
    "    row_num = mallet_docnames.index(docname)\n",
    "    doctopic[row_num, topic] = share"
   ]
  },
  {
   "cell_type": "code",
   "execution_count": 15,
   "metadata": {},
   "outputs": [],
   "source": [
    "novel_names = []"
   ]
  },
  {
   "cell_type": "code",
   "execution_count": 16,
   "metadata": {},
   "outputs": [
    {
     "name": "stdout",
     "output_type": "stream",
     "text": [
      "14\n"
     ]
    }
   ],
   "source": [
    "for fn in mallet_docnames:\n",
    "    basename = os.path.basename(str(fn))\n",
    "    name, ext = os.path.splitext(basename)\n",
    "    novel_names.append(name)\n",
    "print(len(novel_names))"
   ]
  },
  {
   "cell_type": "code",
   "execution_count": 17,
   "metadata": {},
   "outputs": [],
   "source": [
    "novel_names = np.asarray(novel_names)"
   ]
  },
  {
   "cell_type": "code",
   "execution_count": 18,
   "metadata": {},
   "outputs": [
    {
     "data": {
      "text/plain": [
       "array([[0.02295918, 0.03826531, 0.04919825, 0.0462828 , 0.04992711,\n",
       "        0.03462099, 0.01639942, 0.03607872, 0.00619534, 0.04336735,\n",
       "        0.19642857, 0.04992711, 0.01421283, 0.02077259, 0.18258017,\n",
       "        0.02587464, 0.1111516 , 0.01931487, 0.00911079, 0.02733236],\n",
       "       [0.02918782, 0.01395939, 0.03680203, 0.01142132, 0.02664975,\n",
       "        0.01142132, 0.0215736 , 0.00634518, 0.01142132, 0.01142132,\n",
       "        0.0571066 , 0.05456853, 0.02664975, 0.20431472, 0.01903553,\n",
       "        0.00634518, 0.25507614, 0.16624365, 0.01903553, 0.01142132],\n",
       "       [0.01168224, 0.03504673, 0.02102804, 0.01635514, 0.0771028 ,\n",
       "        0.03504673, 0.01168224, 0.01635514, 0.03037383, 0.01168224,\n",
       "        0.04439252, 0.02102804, 0.05841121, 0.02570093, 0.01168224,\n",
       "        0.04439252, 0.25934579, 0.21261682, 0.01635514, 0.03971963],\n",
       "       [0.0537037 , 0.02037037, 0.01666667, 0.02777778, 0.02407407,\n",
       "        0.00925926, 0.02037037, 0.03518519, 0.10555556, 0.01666667,\n",
       "        0.17592593, 0.06111111, 0.07222222, 0.06111111, 0.01666667,\n",
       "        0.03888889, 0.10185185, 0.05      , 0.07962963, 0.01296296],\n",
       "       [0.05833333, 0.04166667, 0.04166667, 0.04166667, 0.05833333,\n",
       "        0.04166667, 0.04166667, 0.04166667, 0.04166667, 0.04166667,\n",
       "        0.04166667, 0.05833333, 0.05833333, 0.04166667, 0.04166667,\n",
       "        0.04166667, 0.05833333, 0.125     , 0.04166667, 0.04166667],\n",
       "       [0.11785216, 0.05230126, 0.06624826, 0.03417015, 0.09693166,\n",
       "        0.01324965, 0.06903766, 0.01603905, 0.02719665, 0.07601116,\n",
       "        0.05230126, 0.03138075, 0.02161785, 0.05230126, 0.03417015,\n",
       "        0.03277545, 0.09972106, 0.03974895, 0.01464435, 0.05230126],\n",
       "       [0.05480769, 0.04903846, 0.04134615, 0.01826923, 0.06634615,\n",
       "        0.01057692, 0.04711538, 0.00673077, 0.02788462, 0.10288462,\n",
       "        0.02980769, 0.03557692, 0.02788462, 0.12019231, 0.04711538,\n",
       "        0.04519231, 0.16826923, 0.01826923, 0.05480769, 0.02788462],\n",
       "       [0.02069426, 0.02336449, 0.01001335, 0.03004005, 0.04606142,\n",
       "        0.01802403, 0.02336449, 0.00734312, 0.04606142, 0.0740988 ,\n",
       "        0.1435247 , 0.05807744, 0.02336449, 0.01802403, 0.13951936,\n",
       "        0.07676903, 0.11281709, 0.09813084, 0.01802403, 0.01268358],\n",
       "       [0.04690265, 0.04336283, 0.0079646 , 0.06814159, 0.07345133,\n",
       "        0.02389381, 0.00973451, 0.00973451, 0.03628319, 0.09292035,\n",
       "        0.10353982, 0.03982301, 0.02212389, 0.08584071, 0.01504425,\n",
       "        0.01150442, 0.14247788, 0.0699115 , 0.04867257, 0.04867257],\n",
       "       [0.01699029, 0.04126214, 0.02669903, 0.01699029, 0.21116505,\n",
       "        0.01213592, 0.01699029, 0.07524272, 0.02669903, 0.02184466,\n",
       "        0.08495146, 0.05097087, 0.0461165 , 0.01699029, 0.01699029,\n",
       "        0.02184466, 0.13834951, 0.10436893, 0.0315534 , 0.02184466],\n",
       "       [0.0273523 , 0.07330416, 0.02954048, 0.03391685, 0.1214442 ,\n",
       "        0.02516411, 0.01641138, 0.03391685, 0.00547046, 0.07111597,\n",
       "        0.13894967, 0.01859956, 0.03829322, 0.03172867, 0.07330416,\n",
       "        0.02516411, 0.13676149, 0.05579869, 0.01641138, 0.0273523 ],\n",
       "       [0.04591837, 0.01870748, 0.05272109, 0.03571429, 0.14115646,\n",
       "        0.01530612, 0.07993197, 0.03231293, 0.07993197, 0.03571429,\n",
       "        0.04931973, 0.04251701, 0.03231293, 0.01530612, 0.01530612,\n",
       "        0.07312925, 0.15816327, 0.03911565, 0.02891156, 0.0085034 ],\n",
       "       [0.11629526, 0.05640669, 0.04247911, 0.02715877, 0.02019499,\n",
       "        0.02158774, 0.0954039 , 0.01601671, 0.03969359, 0.10236769,\n",
       "        0.02437326, 0.0229805 , 0.01601671, 0.10933148, 0.13857939,\n",
       "        0.00626741, 0.07451253, 0.05222841, 0.0132312 , 0.00487465],\n",
       "       [0.03521127, 0.03521127, 0.03521127, 0.04929577, 0.03521127,\n",
       "        0.04929577, 0.03521127, 0.03521127, 0.06338028, 0.03521127,\n",
       "        0.11971831, 0.03521127, 0.03521127, 0.03521127, 0.04929577,\n",
       "        0.03521127, 0.11971831, 0.04929577, 0.06338028, 0.04929577]])"
      ]
     },
     "execution_count": 18,
     "metadata": {},
     "output_type": "execute_result"
    }
   ],
   "source": [
    "doctopic"
   ]
  },
  {
   "cell_type": "code",
   "execution_count": 19,
   "metadata": {},
   "outputs": [],
   "source": [
    "doctopic_orig = doctopic.copy()"
   ]
  },
  {
   "cell_type": "code",
   "execution_count": 20,
   "metadata": {},
   "outputs": [
    {
     "name": "stdout",
     "output_type": "stream",
     "text": [
      "14\n"
     ]
    }
   ],
   "source": [
    "num_groups = len(set(novel_names))\n",
    "print(num_groups)"
   ]
  },
  {
   "cell_type": "code",
   "execution_count": 21,
   "metadata": {},
   "outputs": [],
   "source": [
    "doctopic_grouped = np.zeros((num_groups, num_topics))"
   ]
  },
  {
   "cell_type": "code",
   "execution_count": 22,
   "metadata": {},
   "outputs": [],
   "source": [
    "for i, name in enumerate(sorted(set(novel_names))):\n",
    "    doctopic_grouped[i, :] = np.mean(doctopic[novel_names == name, :], axis=0)"
   ]
  },
  {
   "cell_type": "code",
   "execution_count": 23,
   "metadata": {},
   "outputs": [],
   "source": [
    "doctopic = doctopic_grouped"
   ]
  },
  {
   "cell_type": "code",
   "execution_count": 24,
   "metadata": {},
   "outputs": [
    {
     "data": {
      "text/plain": [
       "array([[0.02295918, 0.03826531, 0.04919825, 0.0462828 , 0.04992711,\n",
       "        0.03462099, 0.01639942, 0.03607872, 0.00619534, 0.04336735,\n",
       "        0.19642857, 0.04992711, 0.01421283, 0.02077259, 0.18258017,\n",
       "        0.02587464, 0.1111516 , 0.01931487, 0.00911079, 0.02733236],\n",
       "       [0.01699029, 0.04126214, 0.02669903, 0.01699029, 0.21116505,\n",
       "        0.01213592, 0.01699029, 0.07524272, 0.02669903, 0.02184466,\n",
       "        0.08495146, 0.05097087, 0.0461165 , 0.01699029, 0.01699029,\n",
       "        0.02184466, 0.13834951, 0.10436893, 0.0315534 , 0.02184466],\n",
       "       [0.0273523 , 0.07330416, 0.02954048, 0.03391685, 0.1214442 ,\n",
       "        0.02516411, 0.01641138, 0.03391685, 0.00547046, 0.07111597,\n",
       "        0.13894967, 0.01859956, 0.03829322, 0.03172867, 0.07330416,\n",
       "        0.02516411, 0.13676149, 0.05579869, 0.01641138, 0.0273523 ],\n",
       "       [0.04591837, 0.01870748, 0.05272109, 0.03571429, 0.14115646,\n",
       "        0.01530612, 0.07993197, 0.03231293, 0.07993197, 0.03571429,\n",
       "        0.04931973, 0.04251701, 0.03231293, 0.01530612, 0.01530612,\n",
       "        0.07312925, 0.15816327, 0.03911565, 0.02891156, 0.0085034 ],\n",
       "       [0.11629526, 0.05640669, 0.04247911, 0.02715877, 0.02019499,\n",
       "        0.02158774, 0.0954039 , 0.01601671, 0.03969359, 0.10236769,\n",
       "        0.02437326, 0.0229805 , 0.01601671, 0.10933148, 0.13857939,\n",
       "        0.00626741, 0.07451253, 0.05222841, 0.0132312 , 0.00487465],\n",
       "       [0.03521127, 0.03521127, 0.03521127, 0.04929577, 0.03521127,\n",
       "        0.04929577, 0.03521127, 0.03521127, 0.06338028, 0.03521127,\n",
       "        0.11971831, 0.03521127, 0.03521127, 0.03521127, 0.04929577,\n",
       "        0.03521127, 0.11971831, 0.04929577, 0.06338028, 0.04929577],\n",
       "       [0.02918782, 0.01395939, 0.03680203, 0.01142132, 0.02664975,\n",
       "        0.01142132, 0.0215736 , 0.00634518, 0.01142132, 0.01142132,\n",
       "        0.0571066 , 0.05456853, 0.02664975, 0.20431472, 0.01903553,\n",
       "        0.00634518, 0.25507614, 0.16624365, 0.01903553, 0.01142132],\n",
       "       [0.01168224, 0.03504673, 0.02102804, 0.01635514, 0.0771028 ,\n",
       "        0.03504673, 0.01168224, 0.01635514, 0.03037383, 0.01168224,\n",
       "        0.04439252, 0.02102804, 0.05841121, 0.02570093, 0.01168224,\n",
       "        0.04439252, 0.25934579, 0.21261682, 0.01635514, 0.03971963],\n",
       "       [0.0537037 , 0.02037037, 0.01666667, 0.02777778, 0.02407407,\n",
       "        0.00925926, 0.02037037, 0.03518519, 0.10555556, 0.01666667,\n",
       "        0.17592593, 0.06111111, 0.07222222, 0.06111111, 0.01666667,\n",
       "        0.03888889, 0.10185185, 0.05      , 0.07962963, 0.01296296],\n",
       "       [0.05833333, 0.04166667, 0.04166667, 0.04166667, 0.05833333,\n",
       "        0.04166667, 0.04166667, 0.04166667, 0.04166667, 0.04166667,\n",
       "        0.04166667, 0.05833333, 0.05833333, 0.04166667, 0.04166667,\n",
       "        0.04166667, 0.05833333, 0.125     , 0.04166667, 0.04166667],\n",
       "       [0.11785216, 0.05230126, 0.06624826, 0.03417015, 0.09693166,\n",
       "        0.01324965, 0.06903766, 0.01603905, 0.02719665, 0.07601116,\n",
       "        0.05230126, 0.03138075, 0.02161785, 0.05230126, 0.03417015,\n",
       "        0.03277545, 0.09972106, 0.03974895, 0.01464435, 0.05230126],\n",
       "       [0.05480769, 0.04903846, 0.04134615, 0.01826923, 0.06634615,\n",
       "        0.01057692, 0.04711538, 0.00673077, 0.02788462, 0.10288462,\n",
       "        0.02980769, 0.03557692, 0.02788462, 0.12019231, 0.04711538,\n",
       "        0.04519231, 0.16826923, 0.01826923, 0.05480769, 0.02788462],\n",
       "       [0.02069426, 0.02336449, 0.01001335, 0.03004005, 0.04606142,\n",
       "        0.01802403, 0.02336449, 0.00734312, 0.04606142, 0.0740988 ,\n",
       "        0.1435247 , 0.05807744, 0.02336449, 0.01802403, 0.13951936,\n",
       "        0.07676903, 0.11281709, 0.09813084, 0.01802403, 0.01268358],\n",
       "       [0.04690265, 0.04336283, 0.0079646 , 0.06814159, 0.07345133,\n",
       "        0.02389381, 0.00973451, 0.00973451, 0.03628319, 0.09292035,\n",
       "        0.10353982, 0.03982301, 0.02212389, 0.08584071, 0.01504425,\n",
       "        0.01150442, 0.14247788, 0.0699115 , 0.04867257, 0.04867257]])"
      ]
     },
     "execution_count": 24,
     "metadata": {},
     "output_type": "execute_result"
    }
   ],
   "source": [
    "doctopic"
   ]
  },
  {
   "cell_type": "code",
   "execution_count": 25,
   "metadata": {},
   "outputs": [
    {
     "name": "stdout",
     "output_type": "stream",
     "text": [
      "20\n"
     ]
    }
   ],
   "source": [
    "N, K = doctopic.shape\n",
    "print(K)"
   ]
  },
  {
   "cell_type": "code",
   "execution_count": 26,
   "metadata": {},
   "outputs": [],
   "source": [
    "ind = np.arange(N)"
   ]
  },
  {
   "cell_type": "code",
   "execution_count": 27,
   "metadata": {},
   "outputs": [],
   "source": [
    "width = 0.5"
   ]
  },
  {
   "cell_type": "code",
   "execution_count": 28,
   "metadata": {},
   "outputs": [],
   "source": [
    "plt.rcParams[\"figure.figsize\"] = [16,9]"
   ]
  },
  {
   "cell_type": "code",
   "execution_count": 29,
   "metadata": {},
   "outputs": [
    {
     "data": {
      "image/png": "[encoded data removed]",
      "text/plain": [
       "<Figure size 1152x648 with 1 Axes>"
      ]
     },
     "metadata": {},
     "output_type": "display_data"
    }
   ],
   "source": [
    "plt.bar(ind, doctopic[:,0], width=width)\n",
    "plt.xticks(rotation=90)\n",
    "plt.xticks(ind + width/2, novel_names)\n",
    "plt.title('Share of Topic #0')\n",
    "plt.show()"
   ]
  },
  {
   "cell_type": "code",
   "execution_count": 30,
   "metadata": {},
   "outputs": [],
   "source": [
    "plots = []"
   ]
  },
  {
   "cell_type": "code",
   "execution_count": 31,
   "metadata": {},
   "outputs": [],
   "source": [
    "height_cumulative = np.zeros(N)"
   ]
  },
  {
   "cell_type": "code",
   "execution_count": 32,
   "metadata": {},
   "outputs": [],
   "source": [
    "list_topics =['espace domestique', 'vie conjugale', 'affaires/argent/mondanités', '?', 'noblesse', 'justice/crime', 'réflexions sur l\\'existence', 'police/intrigue/bureaucratie', 'corps public/théâtre/festivités', 'temps','armée','?','nature/éléments/cosmos','voyage','sentiment','corps (morbide ?)','marine','famille','nature/végétal','religion']"
   ]
  },
  {
   "cell_type": "code",
   "execution_count": 33,
   "metadata": {},
   "outputs": [],
   "source": [
    "list_topics_glob =['monde domestique', 'temps', 'famille', 'marine', 'corps (entier)', 'réflexions sur l\\'existence', '?', 'famille (proche) ?', 'crime/affaire','armée', 'religion','sentiment','corps (visage)','mondanités','noblesse/titres','argot','nature','noblesse/lieux de noblesse','vie/mort','?']"
   ]
  },
  {
   "cell_type": "code",
   "execution_count": 34,
   "metadata": {},
   "outputs": [],
   "source": [
    "list_topics_glob_chaps =['savoir (universitaire ?)', '?', 'judiciaire', '? (monde de la ville et de la nuit)', 'armée', 'marine', 'sentiments', 'noblesse (de salon)', 'arts','religion', 'nature','police','argent/affaires','corps','nature/éléments','monde domestique','troquets ?','chasse/homme et animal','famille','noblesse masculine/haute noblesse']"
   ]
  },
  {
   "cell_type": "code",
   "execution_count": 35,
   "metadata": {},
   "outputs": [],
   "source": [
    "list_topics_glob_adj =['drame/crime', 'nature', 'religion', '?', 'haute noblesse/noblesse masculine', '?', 'famille', 'marine', 'mondanités/salons','corps intime/visage', 'affaires/argent','armée','espace domestique/espace du boudoir ?','réflexions existencielles/savoir','sentiments','noblesse (versant galanterie)','temps','couleur','?','technologie ?']"
   ]
  },
  {
   "cell_type": "code",
   "execution_count": 36,
   "metadata": {
    "scrolled": false
   },
   "outputs": [
    {
     "data": {
      "image/png": "[encoded data removed]",
      "text/plain": [
       "<Figure size 1152x648 with 1 Axes>"
      ]
     },
     "metadata": {},
     "output_type": "display_data"
    }
   ],
   "source": [
    "fig=plt.figure()\n",
    "for k in range(K):\n",
    "    color = plt.cm.tab20(k/K, 1)\n",
    "    if k == 0:\n",
    "        p = plt.bar(ind, doctopic[:, k], width, color=color)\n",
    "    else:\n",
    "        p = plt.bar(ind, doctopic[:, k], width, bottom=height_cumulative, color=color)\n",
    "    height_cumulative += doctopic[:, k]\n",
    "    plots.append(p)\n",
    "\n",
    "plt.ylim((0, 1))\n",
    "plt.ylabel('Topics')\n",
    "plt.title('Topics in '+', '.join(list_titles_to_find))\n",
    "#ici mettre fontsize à 2 pour les romans à beaucoup de chapitres, et 6 ou 8 pour les autres\n",
    "plt.xticks(rotation=90,fontsize =8)\n",
    "plt.xticks(ind+width/2, novel_names)\n",
    "plt.yticks(np.arange(0, 1, 10))\n",
    "topic_labels = [k for k in list_topics_glob_chaps]\n",
    "plt.legend([p[0] for p in plots], topic_labels,bbox_to_anchor=(1,1), loc=\"upper left\")\n",
    "fig.savefig(argsfig+'.png',bbox_inches='tight',dpi=300)\n",
    "plt.close(fig)\n",
    "display(fig)"
   ]
  }
 ],
 "metadata": {
  "kernelspec": {
   "display_name": "Python 3",
   "language": "python",
   "name": "python3"
  },
  "language_info": {
   "codemirror_mode": {
    "name": "ipython",
    "version": 3
   },
   "file_extension": ".py",
   "mimetype": "text/x-python",
   "name": "python",
   "nbconvert_exporter": "python",
   "pygments_lexer": "ipython3",
   "version": "3.6.4"
  }
 },
 "nbformat": 4,
 "nbformat_minor": 2
}

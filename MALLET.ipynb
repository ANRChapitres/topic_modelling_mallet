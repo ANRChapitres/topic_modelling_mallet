{
 "cells": [
  {
   "cell_type": "code",
   "execution_count": 1,
   "metadata": {},
   "outputs": [],
   "source": [
    "import os\n",
    "import itertools\n",
    "import numpy as np\n",
    "import operator\n",
    "import math\n",
    "from sklearn.feature_extraction.text import CountVectorizer\n",
    "import matplotlib.pyplot as plt"
   ]
  },
  {
   "cell_type": "code",
   "execution_count": 2,
   "metadata": {},
   "outputs": [],
   "source": [
    "def grouper(n, iterable, fillvalue=None):\n",
    "    args = [iter(iterable)] * n\n",
    "    return itertools.zip_longest(*args, fillvalue=fillvalue)"
   ]
  },
  {
   "cell_type": "code",
   "execution_count": 12,
   "metadata": {},
   "outputs": [],
   "source": [
    "doctopic_triples = []\n",
    "mallet_docnames = []"
   ]
  },
  {
   "cell_type": "code",
   "execution_count": 13,
   "metadata": {},
   "outputs": [
    {
     "name": "stdout",
     "output_type": "stream",
     "text": [
      "Le-Comte-de-Monte-Cristo\n",
      "Les-Trois-Mousquetaires\n",
      "La-dame-aux-camelias\n",
      "Vingt-ans-apres\n",
      "La-Reine-Margot\n"
     ]
    }
   ],
   "source": [
    "with open(\"/home/odysseus/Bureau/ANR/code/topic_modelling/test-llda-doc-topics.txt\") as f:\n",
    "    f.readline()  # read one line in order to skip the header\n",
    "    for line in f:\n",
    "        docnum, docname, *values = line.rstrip().split('\\t')\n",
    "        if '184' in docname:\n",
    "            mallet_docnames.append(docname[21:-4])\n",
    "            print(docname[21:-4])\n",
    "            index_topic=0\n",
    "            for share in grouper(1, values):\n",
    "                triple = (docname[21:-4], index_topic, float(share[0]))\n",
    "                doctopic_triples.append(triple)\n",
    "                index_topic+=1"
   ]
  },
  {
   "cell_type": "code",
   "execution_count": 14,
   "metadata": {},
   "outputs": [
    {
     "name": "stdout",
     "output_type": "stream",
     "text": [
      "[('Le-Comte-de-Monte-Cristo', 0, 0.28266987531238014), ('Le-Comte-de-Monte-Cristo', 1, 0.70611590791892), ('Le-Comte-de-Monte-Cristo', 2, 0.006569437649578865), ('Le-Comte-de-Monte-Cristo', 3, 0.001227571434238189), ('Le-Comte-de-Monte-Cristo', 4, 0.003417207684882783), ('Les-Trois-Mousquetaires', 0, 0.42336649377887364), ('Les-Trois-Mousquetaires', 1, 0.5683088172774424), ('Les-Trois-Mousquetaires', 2, 0.001429583652183771), ('Les-Trois-Mousquetaires', 3, 0.006893971601054333), ('Les-Trois-Mousquetaires', 4, 1.133690445823768e-06), ('La-dame-aux-camelias', 0, 0.0013914475823056417), ('La-dame-aux-camelias', 1, 0.8266369015366609), ('La-dame-aux-camelias', 2, 0.0003077656646221201), ('La-dame-aux-camelias', 3, 0.17165955048874054), ('La-dame-aux-camelias', 4, 4.334727670734086e-06), ('Vingt-ans-apres', 0, 0.4718041336942471), ('Vingt-ans-apres', 1, 0.5128528255317999), ('Vingt-ans-apres', 2, 0.006342414729607394), ('Vingt-ans-apres', 3, 0.007702597408446645), ('Vingt-ans-apres', 4, 0.0012980286358989142), ('La-Reine-Margot', 0, 0.003624487783837077), ('La-Reine-Margot', 1, 0.5230809994762301), ('La-Reine-Margot', 2, 0.0011843361986628462), ('La-Reine-Margot', 3, 0.4718131681917614), ('La-Reine-Margot', 4, 0.0002970083495085806)]\n"
     ]
    }
   ],
   "source": [
    "print(doctopic_triples)"
   ]
  },
  {
   "cell_type": "code",
   "execution_count": 15,
   "metadata": {},
   "outputs": [],
   "source": [
    "mallet_docnames = sorted(mallet_docnames)"
   ]
  },
  {
   "cell_type": "code",
   "execution_count": 16,
   "metadata": {},
   "outputs": [],
   "source": [
    "num_docs = len(mallet_docnames)"
   ]
  },
  {
   "cell_type": "code",
   "execution_count": 17,
   "metadata": {},
   "outputs": [],
   "source": [
    "doctopic_triples = sorted(doctopic_triples, key=operator.itemgetter(0,1))"
   ]
  },
  {
   "cell_type": "code",
   "execution_count": 18,
   "metadata": {},
   "outputs": [
    {
     "name": "stdout",
     "output_type": "stream",
     "text": [
      "25\n",
      "5\n"
     ]
    }
   ],
   "source": [
    "num_topics = len(doctopic_triples) // len(mallet_docnames)\n",
    "print(len(doctopic_triples))\n",
    "print(num_topics)"
   ]
  },
  {
   "cell_type": "code",
   "execution_count": 19,
   "metadata": {},
   "outputs": [],
   "source": [
    "doctopic = np.zeros((num_docs, num_topics))"
   ]
  },
  {
   "cell_type": "code",
   "execution_count": 20,
   "metadata": {},
   "outputs": [],
   "source": [
    "for triple in doctopic_triples:\n",
    "    docname, topic, share = triple\n",
    "    row_num = mallet_docnames.index(docname)\n",
    "    doctopic[row_num, topic] = share"
   ]
  },
  {
   "cell_type": "code",
   "execution_count": 21,
   "metadata": {},
   "outputs": [],
   "source": [
    "novel_names = []"
   ]
  },
  {
   "cell_type": "code",
   "execution_count": 23,
   "metadata": {},
   "outputs": [
    {
     "name": "stdout",
     "output_type": "stream",
     "text": [
      "5\n"
     ]
    }
   ],
   "source": [
    "for fn in mallet_docnames:\n",
    "    basename = os.path.basename(fn)\n",
    "    name, ext = os.path.splitext(basename)\n",
    "    name = name.rstrip('0123456789')\n",
    "    novel_names.append(name)\n",
    "print(len(novel_names))"
   ]
  },
  {
   "cell_type": "code",
   "execution_count": 24,
   "metadata": {},
   "outputs": [],
   "source": [
    "novel_names = np.asarray(novel_names)"
   ]
  },
  {
   "cell_type": "code",
   "execution_count": 25,
   "metadata": {},
   "outputs": [
    {
     "data": {
      "text/plain": [
       "array([[  3.62448778e-03,   5.23080999e-01,   1.18433620e-03,\n",
       "          4.71813168e-01,   2.97008350e-04],\n",
       "       [  1.39144758e-03,   8.26636902e-01,   3.07765665e-04,\n",
       "          1.71659550e-01,   4.33472767e-06],\n",
       "       [  2.82669875e-01,   7.06115908e-01,   6.56943765e-03,\n",
       "          1.22757143e-03,   3.41720768e-03],\n",
       "       [  4.23366494e-01,   5.68308817e-01,   1.42958365e-03,\n",
       "          6.89397160e-03,   1.13369045e-06],\n",
       "       [  4.71804134e-01,   5.12852826e-01,   6.34241473e-03,\n",
       "          7.70259741e-03,   1.29802864e-03]])"
      ]
     },
     "execution_count": 25,
     "metadata": {},
     "output_type": "execute_result"
    }
   ],
   "source": [
    "doctopic"
   ]
  },
  {
   "cell_type": "code",
   "execution_count": 26,
   "metadata": {},
   "outputs": [],
   "source": [
    "doctopic_orig = doctopic.copy()"
   ]
  },
  {
   "cell_type": "code",
   "execution_count": 27,
   "metadata": {},
   "outputs": [
    {
     "name": "stdout",
     "output_type": "stream",
     "text": [
      "5\n"
     ]
    }
   ],
   "source": [
    "num_groups = len(set(novel_names))\n",
    "print(num_groups)"
   ]
  },
  {
   "cell_type": "code",
   "execution_count": 28,
   "metadata": {},
   "outputs": [],
   "source": [
    "doctopic_grouped = np.zeros((num_groups, num_topics))"
   ]
  },
  {
   "cell_type": "code",
   "execution_count": 29,
   "metadata": {},
   "outputs": [],
   "source": [
    "for i, name in enumerate(sorted(set(novel_names))):\n",
    "    doctopic_grouped[i, :] = np.mean(doctopic[novel_names == name, :], axis=0)"
   ]
  },
  {
   "cell_type": "code",
   "execution_count": 30,
   "metadata": {},
   "outputs": [],
   "source": [
    "doctopic = doctopic_grouped"
   ]
  },
  {
   "cell_type": "code",
   "execution_count": 31,
   "metadata": {},
   "outputs": [
    {
     "data": {
      "text/plain": [
       "array([[  3.62448778e-03,   5.23080999e-01,   1.18433620e-03,\n",
       "          4.71813168e-01,   2.97008350e-04],\n",
       "       [  1.39144758e-03,   8.26636902e-01,   3.07765665e-04,\n",
       "          1.71659550e-01,   4.33472767e-06],\n",
       "       [  2.82669875e-01,   7.06115908e-01,   6.56943765e-03,\n",
       "          1.22757143e-03,   3.41720768e-03],\n",
       "       [  4.23366494e-01,   5.68308817e-01,   1.42958365e-03,\n",
       "          6.89397160e-03,   1.13369045e-06],\n",
       "       [  4.71804134e-01,   5.12852826e-01,   6.34241473e-03,\n",
       "          7.70259741e-03,   1.29802864e-03]])"
      ]
     },
     "execution_count": 31,
     "metadata": {},
     "output_type": "execute_result"
    }
   ],
   "source": [
    "doctopic"
   ]
  },
  {
   "cell_type": "code",
   "execution_count": 32,
   "metadata": {},
   "outputs": [
    {
     "name": "stdout",
     "output_type": "stream",
     "text": [
      "txt/dumas\n"
     ]
    }
   ],
   "source": [
    "CORPUS_PATH = os.path.join('txt', 'dumas')\n",
    "print(CORPUS_PATH)\n",
    "filenames = sorted([os.path.join(CORPUS_PATH, fn) for fn in os.listdir(CORPUS_PATH)])"
   ]
  },
  {
   "cell_type": "code",
   "execution_count": 33,
   "metadata": {},
   "outputs": [
    {
     "name": "stdout",
     "output_type": "stream",
     "text": [
      "5\n"
     ]
    }
   ],
   "source": [
    "N, K = doctopic.shape\n",
    "print(K)"
   ]
  },
  {
   "cell_type": "code",
   "execution_count": 34,
   "metadata": {},
   "outputs": [],
   "source": [
    "ind = np.arange(N)"
   ]
  },
  {
   "cell_type": "code",
   "execution_count": 35,
   "metadata": {},
   "outputs": [],
   "source": [
    "width = 0.5"
   ]
  },
  {
   "cell_type": "code",
   "execution_count": 36,
   "metadata": {},
   "outputs": [],
   "source": [
    "plt.rcParams[\"figure.figsize\"] = [16,9]"
   ]
  },
  {
   "cell_type": "code",
   "execution_count": 37,
   "metadata": {},
   "outputs": [
    {
     "data": {
      "text/plain": [
       "<Container object of 5 artists>"
      ]
     },
     "execution_count": 37,
     "metadata": {},
     "output_type": "execute_result"
    }
   ],
   "source": [
    "plt.bar(ind, doctopic[:,0], width=width)"
   ]
  },
  {
   "cell_type": "code",
   "execution_count": 38,
   "metadata": {},
   "outputs": [
    {
     "data": {
      "text/plain": [
       "([<matplotlib.axis.XTick at 0x7f55dc1fc5c0>,\n",
       "  <matplotlib.axis.XTick at 0x7f55abf7b978>,\n",
       "  <matplotlib.axis.XTick at 0x7f55ac277550>,\n",
       "  <matplotlib.axis.XTick at 0x7f55abf9fcc0>,\n",
       "  <matplotlib.axis.XTick at 0x7f55a9f27390>],\n",
       " <a list of 5 Text xticklabel objects>)"
      ]
     },
     "execution_count": 38,
     "metadata": {},
     "output_type": "execute_result"
    }
   ],
   "source": [
    "plt.xticks(ind + width/2, novel_names)"
   ]
  },
  {
   "cell_type": "code",
   "execution_count": 39,
   "metadata": {},
   "outputs": [
    {
     "data": {
      "text/plain": [
       "Text(0.5,1,'Share of Topic #0')"
      ]
     },
     "execution_count": 39,
     "metadata": {},
     "output_type": "execute_result"
    }
   ],
   "source": [
    "plt.title('Share of Topic #0')"
   ]
  },
  {
   "cell_type": "code",
   "execution_count": 40,
   "metadata": {},
   "outputs": [
    {
     "data": {
      "image/png": "[encoded data removed]",
      "text/plain": [
       "<matplotlib.figure.Figure at 0x7f55ac211668>"
      ]
     },
     "metadata": {},
     "output_type": "display_data"
    }
   ],
   "source": [
    "plt.show()"
   ]
  },
  {
   "cell_type": "code",
   "execution_count": 41,
   "metadata": {},
   "outputs": [],
   "source": [
    "plots = []"
   ]
  },
  {
   "cell_type": "code",
   "execution_count": 42,
   "metadata": {},
   "outputs": [],
   "source": [
    "height_cumulative = np.zeros(N)"
   ]
  },
  {
   "cell_type": "code",
   "execution_count": 43,
   "metadata": {},
   "outputs": [
    {
     "name": "stdout",
     "output_type": "stream",
     "text": [
      "5\n",
      "5\n",
      "5\n",
      "5\n",
      "5\n"
     ]
    }
   ],
   "source": [
    "for k in range(K):\n",
    "    print(K)\n",
    "    color = plt.cm.coolwarm(k/K, 1)\n",
    "    if k == 0:\n",
    "        p = plt.bar(ind, doctopic[:, k], width, color=color)\n",
    "    else:\n",
    "        p = plt.bar(ind, doctopic[:, k], width, bottom=height_cumulative, color=color)\n",
    "        height_cumulative += doctopic[:, k]\n",
    "    plots.append(p)"
   ]
  },
  {
   "cell_type": "code",
   "execution_count": 44,
   "metadata": {},
   "outputs": [
    {
     "data": {
      "text/plain": [
       "(0, 1)"
      ]
     },
     "execution_count": 44,
     "metadata": {},
     "output_type": "execute_result"
    }
   ],
   "source": [
    "plt.ylim((0, 1))"
   ]
  },
  {
   "cell_type": "code",
   "execution_count": 45,
   "metadata": {},
   "outputs": [
    {
     "data": {
      "text/plain": [
       "Text(0,0.5,'Topics')"
      ]
     },
     "execution_count": 45,
     "metadata": {},
     "output_type": "execute_result"
    }
   ],
   "source": [
    "plt.ylabel('Topics')"
   ]
  },
  {
   "cell_type": "code",
   "execution_count": 46,
   "metadata": {},
   "outputs": [
    {
     "data": {
      "text/plain": [
       "Text(0.5,1,'Topics in novels')"
      ]
     },
     "execution_count": 46,
     "metadata": {},
     "output_type": "execute_result"
    }
   ],
   "source": [
    "plt.title('Topics in novels')"
   ]
  },
  {
   "cell_type": "code",
   "execution_count": 47,
   "metadata": {},
   "outputs": [
    {
     "data": {
      "text/plain": [
       "([<matplotlib.axis.XTick at 0x7f55a9ee81d0>,\n",
       "  <matplotlib.axis.XTick at 0x7f55a9f5ee10>,\n",
       "  <matplotlib.axis.XTick at 0x7f55a9f62ac8>,\n",
       "  <matplotlib.axis.XTick at 0x7f55a9f4ca90>,\n",
       "  <matplotlib.axis.XTick at 0x7f55a9f20be0>],\n",
       " <a list of 5 Text xticklabel objects>)"
      ]
     },
     "execution_count": 47,
     "metadata": {},
     "output_type": "execute_result"
    }
   ],
   "source": [
    "plt.xticks(ind+width/2, novel_names)"
   ]
  },
  {
   "cell_type": "code",
   "execution_count": 48,
   "metadata": {},
   "outputs": [
    {
     "data": {
      "text/plain": [
       "([<matplotlib.axis.YTick at 0x7f55a9ee8a90>],\n",
       " <a list of 1 Text yticklabel objects>)"
      ]
     },
     "execution_count": 48,
     "metadata": {},
     "output_type": "execute_result"
    }
   ],
   "source": [
    "plt.yticks(np.arange(0, 1, 10))"
   ]
  },
  {
   "cell_type": "code",
   "execution_count": 49,
   "metadata": {},
   "outputs": [],
   "source": [
    "topic_labels = ['Topic #{}'.format(k) for k in range(K)]"
   ]
  },
  {
   "cell_type": "code",
   "execution_count": 50,
   "metadata": {},
   "outputs": [
    {
     "data": {
      "text/plain": [
       "<matplotlib.legend.Legend at 0x7f55a9ef9438>"
      ]
     },
     "execution_count": 50,
     "metadata": {},
     "output_type": "execute_result"
    }
   ],
   "source": [
    "plt.legend([p[0] for p in plots], topic_labels)"
   ]
  },
  {
   "cell_type": "code",
   "execution_count": 51,
   "metadata": {},
   "outputs": [
    {
     "data": {
      "image/png": "[encoded data removed]",
      "text/plain": [
       "<matplotlib.figure.Figure at 0x7f55a9f27470>"
      ]
     },
     "metadata": {},
     "output_type": "display_data"
    }
   ],
   "source": [
    "plt.show()"
   ]
  },
  {
   "cell_type": "code",
   "execution_count": null,
   "metadata": {},
   "outputs": [],
   "source": []
  }
 ],
 "metadata": {
  "kernelspec": {
   "display_name": "Python 3",
   "language": "python",
   "name": "python3"
  },
  "language_info": {
   "codemirror_mode": {
    "name": "ipython",
    "version": 3
   },
   "file_extension": ".py",
   "mimetype": "text/x-python",
   "name": "python",
   "nbconvert_exporter": "python",
   "pygments_lexer": "ipython3",
   "version": "3.5.2"
  }
 },
 "nbformat": 4,
 "nbformat_minor": 2
}

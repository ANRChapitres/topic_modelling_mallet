{
 "cells": [
  {
   "cell_type": "code",
   "execution_count": 1,
   "metadata": {},
   "outputs": [],
   "source": [
    "import os\n",
    "import itertools\n",
    "import numpy as np\n",
    "import operator\n",
    "import math\n",
    "from sklearn.feature_extraction.text import CountVectorizer\n",
    "import matplotlib.pyplot as plt"
   ]
  },
  {
   "cell_type": "code",
   "execution_count": 2,
   "metadata": {},
   "outputs": [],
   "source": [
    "def grouper(n, iterable, fillvalue=None):\n",
    "    args = [iter(iterable)] * n\n",
    "    return itertools.zip_longest(*args, fillvalue=fillvalue)"
   ]
  },
  {
   "cell_type": "code",
   "execution_count": 3,
   "metadata": {},
   "outputs": [],
   "source": [
    "doctopic_triples = []\n",
    "mallet_docnames = []"
   ]
  },
  {
   "cell_type": "code",
   "execution_count": 4,
   "metadata": {},
   "outputs": [],
   "source": [
    "#here you can put the strings you want to get rid off when showing the titles\n",
    "list_authors_to_replace=['Zola-Emile','Dumas-Alexandre-Pere','Dumas-Alexandre','Balzac-Honore-de','Verne-Jules','Sand-George','Flaubert-Gustave']\n",
    "list_authors_to_find=['Zola-Emile','Balzac-Honore-de']"
   ]
  },
  {
   "cell_type": "code",
   "execution_count": 5,
   "metadata": {},
   "outputs": [],
   "source": [
    "def replace_all(text, dic):\n",
    "    for i in dic:\n",
    "        text = text.replace(i, \"\")\n",
    "    return text"
   ]
  },
  {
   "cell_type": "code",
   "execution_count": 6,
   "metadata": {},
   "outputs": [
    {
     "name": "stdout",
     "output_type": "stream",
     "text": [
      "Zola-Emile_La-curee\n",
      "Balzac-Honore-de_Les-Parents-pauvres-La-Cousine-BetteFC\n",
      "Zola-Emile_Pot-Bouille\n",
      "Balzac-Honore-de_Illusions-perdues\n",
      "Zola-Emile_Germinal\n",
      "Zola-Emile_L-assomoir\n",
      "Zola-Emile_La-faute-de-l-abbe-Mouret\n",
      "Zola-Emile_Nana\n",
      "Balzac-Honore-de_Une-tenebreuse-affaire\n",
      "Zola-Emile_Une-page-d-amour\n",
      "Zola-Emile_La-fortune-des-Rougon\n",
      "Zola-Emile_Au-bonheur-des-dames\n",
      "Balzac-Honore-de_Splendeurs-et-miseres-des-courtisanesFC\n",
      "Balzac-Honore-de_Les-Parents-pauvres-Le-Cousin-PonsFC\n",
      "Balzac-Honore-de_Une-tenebreuse-affaireFC\n"
     ]
    }
   ],
   "source": [
    "with open(\"test_dumas_etc-llda-doc-topics.txt\") as f:\n",
    "    f.readline()  # read one line in order to skip the header\n",
    "    for line in f:\n",
    "        docnum, docname, *values = line.rstrip().split('\\t')\n",
    "        if docname.split('_')[1] in list_authors_to_find:\n",
    "            #docname=replace_all(docname, list_authors_to_replace)\n",
    "            mallet_docnames.append(docname[5:-4])\n",
    "            print(docname[5:-4])\n",
    "            index_topic=0\n",
    "            for share in grouper(1, values):\n",
    "                triple = (docname[5:-4], index_topic, float(share[0]))\n",
    "                doctopic_triples.append(triple)\n",
    "                index_topic+=1"
   ]
  },
  {
   "cell_type": "code",
   "execution_count": 7,
   "metadata": {},
   "outputs": [
    {
     "name": "stdout",
     "output_type": "stream",
     "text": [
      "[('Zola-Emile_La-curee', 0, 0.0006953814696956439), ('Zola-Emile_La-curee', 1, 4.6051752959976424e-06), ('Zola-Emile_La-curee', 2, 0.008892593496571446), ('Zola-Emile_La-curee', 3, 0.10781175885460079), ('Zola-Emile_La-curee', 4, 0.002537451588094701), ('Zola-Emile_La-curee', 5, 0.004978194494973451), ('Zola-Emile_La-curee', 6, 0.03316186730647902), ('Zola-Emile_La-curee', 7, 0.10288422128788331), ('Zola-Emile_La-curee', 8, 0.09289099089556843), ('Zola-Emile_La-curee', 9, 0.011241232897530243), ('Zola-Emile_La-curee', 10, 0.02482650002072329), ('Zola-Emile_La-curee', 11, 0.11881812781203516), ('Zola-Emile_La-curee', 12, 0.0020769340584949367), ('Zola-Emile_La-curee', 13, 0.4451408492864281), ('Zola-Emile_La-curee', 14, 0.039793319732715625), ('Zola-Emile_La-curee', 15, 0.004241366447613828), ('Zola-Emile_La-curee', 16, 4.6051752959976424e-06), ('Balzac-Honore-de_Les-Parents-pauvres-La-Cousine-BetteFC', 0, 0.00018411751751824026), ('Balzac-Honore-de_Les-Parents-pauvres-La-Cousine-BetteFC', 1, 0.00018411751751824026), ('Balzac-Honore-de_Les-Parents-pauvres-La-Cousine-BetteFC', 2, 0.08289259450463361), ('Balzac-Honore-de_Les-Parents-pauvres-La-Cousine-BetteFC', 3, 0.008487456542850644), ('Balzac-Honore-de_Les-Parents-pauvres-La-Cousine-BetteFC', 4, 0.00332494575753528), ('Balzac-Honore-de_Les-Parents-pauvres-La-Cousine-BetteFC', 5, 3.6101474023184367e-06), ('Balzac-Honore-de_Les-Parents-pauvres-La-Cousine-BetteFC', 6, 0.11444528280089676), ('Balzac-Honore-de_Les-Parents-pauvres-La-Cousine-BetteFC', 7, 0.10812752484683949), ('Balzac-Honore-de_Les-Parents-pauvres-La-Cousine-BetteFC', 8, 0.34596403571157813), ('Balzac-Honore-de_Les-Parents-pauvres-La-Cousine-BetteFC', 9, 0.0020613941667238273), ('Balzac-Honore-de_Les-Parents-pauvres-La-Cousine-BetteFC', 10, 0.049643136929280816), ('Balzac-Honore-de_Les-Parents-pauvres-La-Cousine-BetteFC', 11, 0.021231276873034725), ('Balzac-Honore-de_Les-Parents-pauvres-La-Cousine-BetteFC', 12, 0.02094246508084925), ('Balzac-Honore-de_Les-Parents-pauvres-La-Cousine-BetteFC', 13, 0.12372336162485513), ('Balzac-Honore-de_Les-Parents-pauvres-La-Cousine-BetteFC', 14, 0.11498680491124452), ('Balzac-Honore-de_Les-Parents-pauvres-La-Cousine-BetteFC', 15, 0.0015198720563760618), ('Balzac-Honore-de_Les-Parents-pauvres-La-Cousine-BetteFC', 16, 0.0022780030108629336), ('Zola-Emile_Pot-Bouille', 0, 4.0805167566420615e-06), ('Zola-Emile_Pot-Bouille', 1, 4.0805167566420615e-06), ('Zola-Emile_Pot-Bouille', 2, 0.03934026205078611), ('Zola-Emile_Pot-Bouille', 3, 0.1288259945239465), ('Zola-Emile_Pot-Bouille', 4, 4.0805167566420615e-06), ('Zola-Emile_Pot-Bouille', 5, 4.0805167566420615e-06), ('Zola-Emile_Pot-Bouille', 6, 0.014041058159605333), ('Zola-Emile_Pot-Bouille', 7, 0.12409259508624171), ('Zola-Emile_Pot-Bouille', 8, 0.03925865171565327), ('Zola-Emile_Pot-Bouille', 9, 4.0805167566420615e-06), ('Zola-Emile_Pot-Bouille', 10, 0.051949058828810075), ('Zola-Emile_Pot-Bouille', 11, 0.006777738332782463), ('Zola-Emile_Pot-Bouille', 12, 0.0001264960194559039), ('Zola-Emile_Pot-Bouille', 13, 0.569317778403457), ('Zola-Emile_Pot-Bouille', 14, 0.026241803261965096), ('Zola-Emile_Pot-Bouille', 15, 4.0805167566420615e-06), ('Zola-Emile_Pot-Bouille', 16, 4.0805167566420615e-06), ('Balzac-Honore-de_Illusions-perdues', 0, 0.0013213054802476245), ('Balzac-Honore-de_Illusions-perdues', 1, 0.0009155302847781044), ('Balzac-Honore-de_Illusions-perdues', 2, 0.0562024006675002), ('Balzac-Honore-de_Illusions-perdues', 3, 0.006976797267104059), ('Balzac-Honore-de_Illusions-perdues', 4, 0.002513270116939339), ('Balzac-Honore-de_Illusions-perdues', 5, 7.86189441222195e-05), ('Balzac-Honore-de_Illusions-perdues', 6, 0.0381707654188234), ('Balzac-Honore-de_Illusions-perdues', 7, 0.1444585056821208), ('Balzac-Honore-de_Illusions-perdues', 8, 0.4320263145214262), ('Balzac-Honore-de_Illusions-perdues', 9, 0.013164868998014239), ('Balzac-Honore-de_Illusions-perdues', 10, 0.04714854161858653), ('Balzac-Honore-de_Illusions-perdues', 11, 0.02447585257172711), ('Balzac-Honore-de_Illusions-perdues', 12, 0.02569317815813567), ('Balzac-Honore-de_Illusions-perdues', 13, 0.06485048452094434), ('Balzac-Honore-de_Illusions-perdues', 14, 0.136900942666501), ('Balzac-Honore-de_Illusions-perdues', 15, 0.002969767211842549), ('Balzac-Honore-de_Illusions-perdues', 16, 0.0021328558711866644), ('Zola-Emile_Germinal', 0, 9.801224836936075e-05), ('Zola-Emile_Germinal', 1, 0.0024692763218216365), ('Zola-Emile_Germinal', 2, 0.03048180924287119), ('Zola-Emile_Germinal', 3, 0.5776747068327184), ('Zola-Emile_Germinal', 4, 0.00645299996522146), ('Zola-Emile_Germinal', 5, 0.005725812316029429), ('Zola-Emile_Germinal', 6, 0.0028486785735740007), ('Zola-Emile_Germinal', 7, 0.11208491022394218), ('Zola-Emile_Germinal', 8, 0.0069272527799119155), ('Zola-Emile_Germinal', 9, 0.02466430804933494), ('Zola-Emile_Germinal', 10, 0.04363442063695314), ('Zola-Emile_Germinal', 11, 0.02475915861227303), ('Zola-Emile_Germinal', 12, 0.031936184541255255), ('Zola-Emile_Germinal', 13, 0.11173712482650251), ('Zola-Emile_Germinal', 14, 0.01407266185458144), ('Zola-Emile_Germinal', 15, 0.004429521289208851), ('Zola-Emile_Germinal', 16, 3.161685431269701e-06), ('Zola-Emile_L-assomoir', 0, 3.3232859321983207e-06), ('Zola-Emile_L-assomoir', 1, 6.978900457616473e-05), ('Zola-Emile_L-assomoir', 2, 0.038420508662144776), ('Zola-Emile_L-assomoir', 3, 0.4510729228632102), ('Zola-Emile_L-assomoir', 4, 0.0003356518791520303), ('Zola-Emile_L-assomoir', 5, 3.3232859321983207e-06), ('Zola-Emile_L-assomoir', 6, 0.0019640619859292072), ('Zola-Emile_L-assomoir', 7, 0.0797289527993699), ('Zola-Emile_L-assomoir', 8, 0.024429474887589852), ('Zola-Emile_L-assomoir', 9, 0.001232939080845577), ('Zola-Emile_L-assomoir', 10, 0.002429322016436972), ('Zola-Emile_L-assomoir', 11, 0.03685856427401157), ('Zola-Emile_L-assomoir', 12, 0.0026619520316908543), ('Zola-Emile_L-assomoir', 13, 0.35788798532436933), ('Zola-Emile_L-assomoir', 14, 0.002894582046944737), ('Zola-Emile_L-assomoir', 15, 3.3232859321983207e-06), ('Zola-Emile_L-assomoir', 16, 3.3232859321983207e-06), ('Zola-Emile_La-faute-de-l-abbe-Mouret', 0, 9.171226804438873e-05), ('Zola-Emile_La-faute-de-l-abbe-Mouret', 1, 4.367250859256606e-06), ('Zola-Emile_La-faute-de-l-abbe-Mouret', 2, 0.05743371605008363), ('Zola-Emile_La-faute-de-l-abbe-Mouret', 3, 0.24033418203575033), ('Zola-Emile_La-faute-de-l-abbe-Mouret', 4, 0.007909091306113714), ('Zola-Emile_La-faute-de-l-abbe-Mouret', 5, 4.367250859256606e-06), ('Zola-Emile_La-faute-de-l-abbe-Mouret', 6, 4.367250859256606e-06), ('Zola-Emile_La-faute-de-l-abbe-Mouret', 7, 0.04070714525913083), ('Zola-Emile_La-faute-de-l-abbe-Mouret', 8, 9.171226804438873e-05), ('Zola-Emile_La-faute-de-l-abbe-Mouret', 9, 0.028129462784471804), ('Zola-Emile_La-faute-de-l-abbe-Mouret', 10, 0.04450665350668408), ('Zola-Emile_La-faute-de-l-abbe-Mouret', 11, 0.4575175672665814), ('Zola-Emile_La-faute-de-l-abbe-Mouret', 12, 4.367250859256606e-06), ('Zola-Emile_La-faute-de-l-abbe-Mouret', 13, 0.09093053014058179), ('Zola-Emile_La-faute-de-l-abbe-Mouret', 14, 0.032322023609358146), ('Zola-Emile_La-faute-de-l-abbe-Mouret', 15, 4.367250859256606e-06), ('Zola-Emile_La-faute-de-l-abbe-Mouret', 16, 4.367250859256606e-06), ('Zola-Emile_Nana', 0, 4.144577950091746e-05), ('Zola-Emile_Nana', 1, 3.7677981364470417e-06), ('Zola-Emile_Nana', 2, 3.7677981364470417e-06), ('Zola-Emile_Nana', 3, 0.178898823316642), ('Zola-Emile_Nana', 4, 3.7677981364470417e-06), ('Zola-Emile_Nana', 5, 3.7677981364470417e-06), ('Zola-Emile_Nana', 6, 0.0490981775160414), ('Zola-Emile_Nana', 7, 0.11205808437607147), ('Zola-Emile_Nana', 8, 0.02743333823147091), ('Zola-Emile_Nana', 9, 0.01646904565441002), ('Zola-Emile_Nana', 10, 0.023966963945939633), ('Zola-Emile_Nana', 11, 0.04740266835464023), ('Zola-Emile_Nana', 12, 0.002754260437742787), ('Zola-Emile_Nana', 13, 0.49185213652993326), ('Zola-Emile_Nana', 14, 0.045669481211874585), ('Zola-Emile_Nana', 15, 3.7677981364470417e-06), ('Zola-Emile_Nana', 16, 0.004336735655050545), ('Balzac-Honore-de_Une-tenebreuse-affaire', 0, 0.002761162936860466), ('Balzac-Honore-de_Une-tenebreuse-affaire', 1, 7.06179779248201e-06), ('Balzac-Honore-de_Une-tenebreuse-affaire', 2, 0.0002189157315669423), ('Balzac-Honore-de_Une-tenebreuse-affaire', 3, 0.014978073117854342), ('Balzac-Honore-de_Une-tenebreuse-affaire', 4, 0.0003601516874165825), ('Balzac-Honore-de_Une-tenebreuse-affaire', 5, 7.06179779248201e-06), ('Balzac-Honore-de_Une-tenebreuse-affaire', 6, 0.3987161651613268), ('Balzac-Honore-de_Une-tenebreuse-affaire', 7, 0.1280374557754913), ('Balzac-Honore-de_Une-tenebreuse-affaire', 8, 0.031643915908111886), ('Balzac-Honore-de_Une-tenebreuse-affaire', 9, 0.187427175210265), ('Balzac-Honore-de_Une-tenebreuse-affaire', 10, 0.08891509600514098), ('Balzac-Honore-de_Une-tenebreuse-affaire', 11, 7.06179779248201e-06), ('Balzac-Honore-de_Une-tenebreuse-affaire', 12, 0.07973475887491437), ('Balzac-Honore-de_Une-tenebreuse-affaire', 13, 0.0003601516874165825), ('Balzac-Honore-de_Une-tenebreuse-affaire', 14, 0.06165655652616043), ('Balzac-Honore-de_Une-tenebreuse-affaire', 15, 7.06179779248201e-06), ('Balzac-Honore-de_Une-tenebreuse-affaire', 16, 0.005162174186304349), ('Zola-Emile_Une-page-d-amour', 0, 5.299220484666706e-06), ('Zola-Emile_Une-page-d-amour', 1, 0.0027079016676646865), ('Zola-Emile_Une-page-d-amour', 2, 0.030846762441244895), ('Zola-Emile_Une-page-d-amour', 3, 0.1657649159808592), ('Zola-Emile_Une-page-d-amour', 4, 0.010073818141351406), ('Zola-Emile_Une-page-d-amour', 5, 5.299220484666706e-06), ('Zola-Emile_Une-page-d-amour', 6, 5.299220484666706e-06), ('Zola-Emile_Une-page-d-amour', 7, 0.08484581917999862), ('Zola-Emile_Une-page-d-amour', 8, 5.299220484666706e-06), ('Zola-Emile_Une-page-d-amour', 9, 0.0036617613549046932), ('Zola-Emile_Une-page-d-amour', 10, 0.06661650071274515), ('Zola-Emile_Une-page-d-amour', 11, 0.14430307301795905), ('Zola-Emile_Une-page-d-amour', 12, 0.00016427583502466787), ('Zola-Emile_Une-page-d-amour', 13, 0.4617793722543414), ('Zola-Emile_Une-page-d-amour', 14, 0.02772022235529154), ('Zola-Emile_Une-page-d-amour', 15, 0.001224119931958009), ('Zola-Emile_Une-page-d-amour', 16, 0.00027026024471800197), ('Zola-Emile_La-fortune-des-Rougon', 0, 0.0001342822613132805), ('Zola-Emile_La-fortune-des-Rougon', 1, 9.096540282512552e-05), ('Zola-Emile_La-fortune-des-Rougon', 2, 0.05493010824882936), ('Zola-Emile_La-fortune-des-Rougon', 3, 0.30958991930069263), ('Zola-Emile_La-fortune-des-Rougon', 4, 0.00043750027073036554), ('Zola-Emile_La-fortune-des-Rougon', 5, 4.3316858488155e-06), ('Zola-Emile_La-fortune-des-Rougon', 6, 0.006112008732678671), ('Zola-Emile_La-fortune-des-Rougon', 7, 0.12506010214115232), ('Zola-Emile_La-fortune-des-Rougon', 8, 0.04297465530609858), ('Zola-Emile_La-fortune-des-Rougon', 9, 0.051854611296170354), ('Zola-Emile_La-fortune-des-Rougon', 10, 0.06939793898387313), ('Zola-Emile_La-fortune-des-Rougon', 11, 0.02040657203376982), ('Zola-Emile_La-fortune-des-Rougon', 12, 0.11782618677363042), ('Zola-Emile_La-fortune-des-Rougon', 13, 0.13212075007472157), ('Zola-Emile_La-fortune-des-Rougon', 14, 0.06129768644658814), ('Zola-Emile_La-fortune-des-Rougon', 15, 0.007758049355228561), ('Zola-Emile_La-fortune-des-Rougon', 16, 4.3316858488155e-06), ('Zola-Emile_Au-bonheur-des-dames', 0, 3.418020487614803e-06), ('Zola-Emile_Au-bonheur-des-dames', 1, 0.0022593115423133843), ('Zola-Emile_Au-bonheur-des-dames', 2, 0.01083854296622654), ('Zola-Emile_Au-bonheur-des-dames', 3, 0.1350835876910246), ('Zola-Emile_Au-bonheur-des-dames', 4, 3.759822536376283e-05), ('Zola-Emile_Au-bonheur-des-dames', 5, 3.418020487614803e-06), ('Zola-Emile_Au-bonheur-des-dames', 6, 0.00048194088875368716), ('Zola-Emile_Au-bonheur-des-dames', 7, 0.1152932490677349), ('Zola-Emile_Au-bonheur-des-dames', 8, 0.04590743316915441), ('Zola-Emile_Au-bonheur-des-dames', 9, 0.005301349776290559), ('Zola-Emile_Au-bonheur-des-dames', 10, 0.006771098585964924), ('Zola-Emile_Au-bonheur-des-dames', 11, 0.027894465199424404), ('Zola-Emile_Au-bonheur-des-dames', 12, 0.006155854898194259), ('Zola-Emile_Au-bonheur-des-dames', 13, 0.5977126606896881), ('Zola-Emile_Au-bonheur-des-dames', 14, 0.04160072735475976), ('Zola-Emile_Au-bonheur-des-dames', 15, 0.004651925883643746), ('Zola-Emile_Au-bonheur-des-dames', 16, 3.418020487614803e-06), ('Balzac-Honore-de_Splendeurs-et-miseres-des-courtisanesFC', 0, 0.0008019017342195157), ('Balzac-Honore-de_Splendeurs-et-miseres-des-courtisanesFC', 1, 0.0017436368669328259), ('Balzac-Honore-de_Splendeurs-et-miseres-des-courtisanesFC', 2, 0.021434462369120222), ('Balzac-Honore-de_Splendeurs-et-miseres-des-courtisanesFC', 3, 0.010561702200521095), ('Balzac-Honore-de_Splendeurs-et-miseres-des-courtisanesFC', 4, 0.0046259171216008355), ('Balzac-Honore-de_Splendeurs-et-miseres-des-courtisanesFC', 5, 0.00017407831241064218), ('Balzac-Honore-de_Splendeurs-et-miseres-des-courtisanesFC', 6, 0.3330061041559057), ('Balzac-Honore-de_Splendeurs-et-miseres-des-courtisanesFC', 7, 0.15413350379690485), ('Balzac-Honore-de_Splendeurs-et-miseres-des-courtisanesFC', 8, 0.1857815117417249), ('Balzac-Honore-de_Splendeurs-et-miseres-des-courtisanesFC', 9, 0.007707959374117125), ('Balzac-Honore-de_Splendeurs-et-miseres-des-courtisanesFC', 10, 0.0698624781331956), ('Balzac-Honore-de_Splendeurs-et-miseres-des-courtisanesFC', 11, 0.02269010921273797), ('Balzac-Honore-de_Splendeurs-et-miseres-des-courtisanesFC', 12, 0.01390058130741374), ('Balzac-Honore-de_Splendeurs-et-miseres-des-courtisanesFC', 13, 0.06723703473290395), ('Balzac-Honore-de_Splendeurs-et-miseres-des-courtisanesFC', 14, 0.09583153785347173), ('Balzac-Honore-de_Splendeurs-et-miseres-des-courtisanesFC', 15, 2.8537428264039704e-06), ('Balzac-Honore-de_Splendeurs-et-miseres-des-courtisanesFC', 16, 0.010504627343993015), ('Balzac-Honore-de_Les-Parents-pauvres-Le-Cousin-PonsFC', 0, 4.861519613800882e-06), ('Balzac-Honore-de_Les-Parents-pauvres-Le-Cousin-PonsFC', 1, 0.001609162992168092), ('Balzac-Honore-de_Les-Parents-pauvres-Le-Cousin-PonsFC', 2, 0.05085635667997102), ('Balzac-Honore-de_Les-Parents-pauvres-Le-Cousin-PonsFC', 3, 0.011769738985011935), ('Balzac-Honore-de_Les-Parents-pauvres-Le-Cousin-PonsFC', 4, 0.013568501242118261), ('Balzac-Honore-de_Les-Parents-pauvres-Le-Cousin-PonsFC', 5, 5.34767157518097e-05), ('Balzac-Honore-de_Les-Parents-pauvres-Le-Cousin-PonsFC', 6, 0.07934486161684419), ('Balzac-Honore-de_Les-Parents-pauvres-Le-Cousin-PonsFC', 7, 0.1379261729631448), ('Balzac-Honore-de_Les-Parents-pauvres-Le-Cousin-PonsFC', 8, 0.4279158179263674), ('Balzac-Honore-de_Les-Parents-pauvres-Le-Cousin-PonsFC', 9, 0.001609162992168092), ('Balzac-Honore-de_Les-Parents-pauvres-Le-Cousin-PonsFC', 10, 0.051731430210455176), ('Balzac-Honore-de_Les-Parents-pauvres-Le-Cousin-PonsFC', 11, 0.01444357477260242), ('Balzac-Honore-de_Les-Parents-pauvres-Le-Cousin-PonsFC', 12, 0.00700544976348707), ('Balzac-Honore-de_Les-Parents-pauvres-Le-Cousin-PonsFC', 13, 0.11006966557606576), ('Balzac-Honore-de_Les-Parents-pauvres-Le-Cousin-PonsFC', 14, 0.08595652829161339), ('Balzac-Honore-de_Les-Parents-pauvres-Le-Cousin-PonsFC', 15, 4.861519613800882e-06), ('Balzac-Honore-de_Les-Parents-pauvres-Le-Cousin-PonsFC', 16, 0.006130376233002912), ('Balzac-Honore-de_Une-tenebreuse-affaireFC', 0, 0.0008547793468355503), ('Balzac-Honore-de_Une-tenebreuse-affaireFC', 1, 7.064292122607854e-06), ('Balzac-Honore-de_Une-tenebreuse-affaireFC', 2, 7.064292122607854e-06), ('Balzac-Honore-de_Une-tenebreuse-affaireFC', 3, 0.010674145397260467), ('Balzac-Honore-de_Une-tenebreuse-affaireFC', 4, 0.00021899305580084347), ('Balzac-Honore-de_Une-tenebreuse-affaireFC', 5, 7.064292122607854e-06), ('Balzac-Honore-de_Une-tenebreuse-affaireFC', 6, 0.4036607161779354), ('Balzac-Honore-de_Une-tenebreuse-affaireFC', 7, 0.1287891096872638), ('Balzac-Honore-de_Une-tenebreuse-affaireFC', 8, 0.025933016382093433), ('Balzac-Honore-de_Une-tenebreuse-affaireFC', 9, 0.18424380284973543), ('Balzac-Honore-de_Une-tenebreuse-affaireFC', 10, 0.09064193222518137), ('Balzac-Honore-de_Une-tenebreuse-affaireFC', 11, 0.00014835013457476493), ('Balzac-Honore-de_Une-tenebreuse-affaireFC', 12, 0.08103449493843469), ('Balzac-Honore-de_Une-tenebreuse-affaireFC', 13, 0.00021899305580084347), ('Balzac-Honore-de_Une-tenebreuse-affaireFC', 14, 0.06690591069321898), ('Balzac-Honore-de_Une-tenebreuse-affaireFC', 15, 7.064292122607854e-06), ('Balzac-Honore-de_Une-tenebreuse-affaireFC', 16, 0.00664749888737399)]\n"
     ]
    }
   ],
   "source": [
    "print(doctopic_triples)"
   ]
  },
  {
   "cell_type": "code",
   "execution_count": 8,
   "metadata": {},
   "outputs": [],
   "source": [
    "mallet_docnames = sorted(mallet_docnames)"
   ]
  },
  {
   "cell_type": "code",
   "execution_count": 9,
   "metadata": {},
   "outputs": [],
   "source": [
    "num_docs = len(mallet_docnames)"
   ]
  },
  {
   "cell_type": "code",
   "execution_count": 10,
   "metadata": {},
   "outputs": [],
   "source": [
    "doctopic_triples = sorted(doctopic_triples, key=operator.itemgetter(0,1))"
   ]
  },
  {
   "cell_type": "code",
   "execution_count": 11,
   "metadata": {},
   "outputs": [
    {
     "name": "stdout",
     "output_type": "stream",
     "text": [
      "255\n",
      "17\n"
     ]
    }
   ],
   "source": [
    "num_topics = len(doctopic_triples) // len(mallet_docnames)\n",
    "print(len(doctopic_triples))\n",
    "print(num_topics)"
   ]
  },
  {
   "cell_type": "code",
   "execution_count": 12,
   "metadata": {},
   "outputs": [],
   "source": [
    "doctopic = np.zeros((num_docs, num_topics))"
   ]
  },
  {
   "cell_type": "code",
   "execution_count": 13,
   "metadata": {},
   "outputs": [],
   "source": [
    "for triple in doctopic_triples:\n",
    "    docname, topic, share = triple\n",
    "    row_num = mallet_docnames.index(docname)\n",
    "    doctopic[row_num, topic] = share"
   ]
  },
  {
   "cell_type": "code",
   "execution_count": 14,
   "metadata": {},
   "outputs": [],
   "source": [
    "novel_names = []"
   ]
  },
  {
   "cell_type": "code",
   "execution_count": 15,
   "metadata": {},
   "outputs": [
    {
     "name": "stdout",
     "output_type": "stream",
     "text": [
      "15\n"
     ]
    }
   ],
   "source": [
    "for fn in mallet_docnames:\n",
    "    basename = os.path.basename(fn)\n",
    "    name, ext = os.path.splitext(basename)\n",
    "    name = name.rstrip('0123456789')\n",
    "    novel_names.append(name)\n",
    "print(len(novel_names))"
   ]
  },
  {
   "cell_type": "code",
   "execution_count": 16,
   "metadata": {},
   "outputs": [],
   "source": [
    "novel_names = np.asarray(novel_names)"
   ]
  },
  {
   "cell_type": "code",
   "execution_count": 17,
   "metadata": {},
   "outputs": [
    {
     "data": {
      "text/plain": [
       "array([[  1.32130548e-03,   9.15530285e-04,   5.62024007e-02,\n",
       "          6.97679727e-03,   2.51327012e-03,   7.86189441e-05,\n",
       "          3.81707654e-02,   1.44458506e-01,   4.32026315e-01,\n",
       "          1.31648690e-02,   4.71485416e-02,   2.44758526e-02,\n",
       "          2.56931782e-02,   6.48504845e-02,   1.36900943e-01,\n",
       "          2.96976721e-03,   2.13285587e-03],\n",
       "       [  1.84117518e-04,   1.84117518e-04,   8.28925945e-02,\n",
       "          8.48745654e-03,   3.32494576e-03,   3.61014740e-06,\n",
       "          1.14445283e-01,   1.08127525e-01,   3.45964036e-01,\n",
       "          2.06139417e-03,   4.96431369e-02,   2.12312769e-02,\n",
       "          2.09424651e-02,   1.23723362e-01,   1.14986805e-01,\n",
       "          1.51987206e-03,   2.27800301e-03],\n",
       "       [  4.86151961e-06,   1.60916299e-03,   5.08563567e-02,\n",
       "          1.17697390e-02,   1.35685012e-02,   5.34767158e-05,\n",
       "          7.93448616e-02,   1.37926173e-01,   4.27915818e-01,\n",
       "          1.60916299e-03,   5.17314302e-02,   1.44435748e-02,\n",
       "          7.00544976e-03,   1.10069666e-01,   8.59565283e-02,\n",
       "          4.86151961e-06,   6.13037623e-03],\n",
       "       [  8.01901734e-04,   1.74363687e-03,   2.14344624e-02,\n",
       "          1.05617022e-02,   4.62591712e-03,   1.74078312e-04,\n",
       "          3.33006104e-01,   1.54133504e-01,   1.85781512e-01,\n",
       "          7.70795937e-03,   6.98624781e-02,   2.26901092e-02,\n",
       "          1.39005813e-02,   6.72370347e-02,   9.58315379e-02,\n",
       "          2.85374283e-06,   1.05046273e-02],\n",
       "       [  2.76116294e-03,   7.06179779e-06,   2.18915732e-04,\n",
       "          1.49780731e-02,   3.60151687e-04,   7.06179779e-06,\n",
       "          3.98716165e-01,   1.28037456e-01,   3.16439159e-02,\n",
       "          1.87427175e-01,   8.89150960e-02,   7.06179779e-06,\n",
       "          7.97347589e-02,   3.60151687e-04,   6.16565565e-02,\n",
       "          7.06179779e-06,   5.16217419e-03],\n",
       "       [  8.54779347e-04,   7.06429212e-06,   7.06429212e-06,\n",
       "          1.06741454e-02,   2.18993056e-04,   7.06429212e-06,\n",
       "          4.03660716e-01,   1.28789110e-01,   2.59330164e-02,\n",
       "          1.84243803e-01,   9.06419322e-02,   1.48350135e-04,\n",
       "          8.10344949e-02,   2.18993056e-04,   6.69059107e-02,\n",
       "          7.06429212e-06,   6.64749889e-03],\n",
       "       [  3.41802049e-06,   2.25931154e-03,   1.08385430e-02,\n",
       "          1.35083588e-01,   3.75982254e-05,   3.41802049e-06,\n",
       "          4.81940889e-04,   1.15293249e-01,   4.59074332e-02,\n",
       "          5.30134978e-03,   6.77109859e-03,   2.78944652e-02,\n",
       "          6.15585490e-03,   5.97712661e-01,   4.16007274e-02,\n",
       "          4.65192588e-03,   3.41802049e-06],\n",
       "       [  9.80122484e-05,   2.46927632e-03,   3.04818092e-02,\n",
       "          5.77674707e-01,   6.45299997e-03,   5.72581232e-03,\n",
       "          2.84867857e-03,   1.12084910e-01,   6.92725278e-03,\n",
       "          2.46643080e-02,   4.36344206e-02,   2.47591586e-02,\n",
       "          3.19361845e-02,   1.11737125e-01,   1.40726619e-02,\n",
       "          4.42952129e-03,   3.16168543e-06],\n",
       "       [  3.32328593e-06,   6.97890046e-05,   3.84205087e-02,\n",
       "          4.51072923e-01,   3.35651879e-04,   3.32328593e-06,\n",
       "          1.96406199e-03,   7.97289528e-02,   2.44294749e-02,\n",
       "          1.23293908e-03,   2.42932202e-03,   3.68585643e-02,\n",
       "          2.66195203e-03,   3.57887985e-01,   2.89458205e-03,\n",
       "          3.32328593e-06,   3.32328593e-06],\n",
       "       [  6.95381470e-04,   4.60517530e-06,   8.89259350e-03,\n",
       "          1.07811759e-01,   2.53745159e-03,   4.97819449e-03,\n",
       "          3.31618673e-02,   1.02884221e-01,   9.28909909e-02,\n",
       "          1.12412329e-02,   2.48265000e-02,   1.18818128e-01,\n",
       "          2.07693406e-03,   4.45140849e-01,   3.97933197e-02,\n",
       "          4.24136645e-03,   4.60517530e-06],\n",
       "       [  9.17122680e-05,   4.36725086e-06,   5.74337161e-02,\n",
       "          2.40334182e-01,   7.90909131e-03,   4.36725086e-06,\n",
       "          4.36725086e-06,   4.07071453e-02,   9.17122680e-05,\n",
       "          2.81294628e-02,   4.45066535e-02,   4.57517567e-01,\n",
       "          4.36725086e-06,   9.09305301e-02,   3.23220236e-02,\n",
       "          4.36725086e-06,   4.36725086e-06],\n",
       "       [  1.34282261e-04,   9.09654028e-05,   5.49301082e-02,\n",
       "          3.09589919e-01,   4.37500271e-04,   4.33168585e-06,\n",
       "          6.11200873e-03,   1.25060102e-01,   4.29746553e-02,\n",
       "          5.18546113e-02,   6.93979390e-02,   2.04065720e-02,\n",
       "          1.17826187e-01,   1.32120750e-01,   6.12976864e-02,\n",
       "          7.75804936e-03,   4.33168585e-06],\n",
       "       [  4.14457795e-05,   3.76779814e-06,   3.76779814e-06,\n",
       "          1.78898823e-01,   3.76779814e-06,   3.76779814e-06,\n",
       "          4.90981775e-02,   1.12058084e-01,   2.74333382e-02,\n",
       "          1.64690457e-02,   2.39669639e-02,   4.74026684e-02,\n",
       "          2.75426044e-03,   4.91852137e-01,   4.56694812e-02,\n",
       "          3.76779814e-06,   4.33673566e-03],\n",
       "       [  4.08051676e-06,   4.08051676e-06,   3.93402621e-02,\n",
       "          1.28825995e-01,   4.08051676e-06,   4.08051676e-06,\n",
       "          1.40410582e-02,   1.24092595e-01,   3.92586517e-02,\n",
       "          4.08051676e-06,   5.19490588e-02,   6.77773833e-03,\n",
       "          1.26496019e-04,   5.69317778e-01,   2.62418033e-02,\n",
       "          4.08051676e-06,   4.08051676e-06],\n",
       "       [  5.29922048e-06,   2.70790167e-03,   3.08467624e-02,\n",
       "          1.65764916e-01,   1.00738181e-02,   5.29922048e-06,\n",
       "          5.29922048e-06,   8.48458192e-02,   5.29922048e-06,\n",
       "          3.66176135e-03,   6.66165007e-02,   1.44303073e-01,\n",
       "          1.64275835e-04,   4.61779372e-01,   2.77202224e-02,\n",
       "          1.22411993e-03,   2.70260245e-04]])"
      ]
     },
     "execution_count": 17,
     "metadata": {},
     "output_type": "execute_result"
    }
   ],
   "source": [
    "doctopic"
   ]
  },
  {
   "cell_type": "code",
   "execution_count": 18,
   "metadata": {},
   "outputs": [],
   "source": [
    "doctopic_orig = doctopic.copy()"
   ]
  },
  {
   "cell_type": "code",
   "execution_count": 19,
   "metadata": {},
   "outputs": [
    {
     "name": "stdout",
     "output_type": "stream",
     "text": [
      "15\n"
     ]
    }
   ],
   "source": [
    "num_groups = len(set(novel_names))\n",
    "print(num_groups)"
   ]
  },
  {
   "cell_type": "code",
   "execution_count": 20,
   "metadata": {},
   "outputs": [],
   "source": [
    "doctopic_grouped = np.zeros((num_groups, num_topics))"
   ]
  },
  {
   "cell_type": "code",
   "execution_count": 21,
   "metadata": {},
   "outputs": [],
   "source": [
    "for i, name in enumerate(sorted(set(novel_names))):\n",
    "    doctopic_grouped[i, :] = np.mean(doctopic[novel_names == name, :], axis=0)"
   ]
  },
  {
   "cell_type": "code",
   "execution_count": 22,
   "metadata": {},
   "outputs": [],
   "source": [
    "doctopic = doctopic_grouped"
   ]
  },
  {
   "cell_type": "code",
   "execution_count": 23,
   "metadata": {},
   "outputs": [
    {
     "data": {
      "text/plain": [
       "array([[  1.32130548e-03,   9.15530285e-04,   5.62024007e-02,\n",
       "          6.97679727e-03,   2.51327012e-03,   7.86189441e-05,\n",
       "          3.81707654e-02,   1.44458506e-01,   4.32026315e-01,\n",
       "          1.31648690e-02,   4.71485416e-02,   2.44758526e-02,\n",
       "          2.56931782e-02,   6.48504845e-02,   1.36900943e-01,\n",
       "          2.96976721e-03,   2.13285587e-03],\n",
       "       [  1.84117518e-04,   1.84117518e-04,   8.28925945e-02,\n",
       "          8.48745654e-03,   3.32494576e-03,   3.61014740e-06,\n",
       "          1.14445283e-01,   1.08127525e-01,   3.45964036e-01,\n",
       "          2.06139417e-03,   4.96431369e-02,   2.12312769e-02,\n",
       "          2.09424651e-02,   1.23723362e-01,   1.14986805e-01,\n",
       "          1.51987206e-03,   2.27800301e-03],\n",
       "       [  4.86151961e-06,   1.60916299e-03,   5.08563567e-02,\n",
       "          1.17697390e-02,   1.35685012e-02,   5.34767158e-05,\n",
       "          7.93448616e-02,   1.37926173e-01,   4.27915818e-01,\n",
       "          1.60916299e-03,   5.17314302e-02,   1.44435748e-02,\n",
       "          7.00544976e-03,   1.10069666e-01,   8.59565283e-02,\n",
       "          4.86151961e-06,   6.13037623e-03],\n",
       "       [  8.01901734e-04,   1.74363687e-03,   2.14344624e-02,\n",
       "          1.05617022e-02,   4.62591712e-03,   1.74078312e-04,\n",
       "          3.33006104e-01,   1.54133504e-01,   1.85781512e-01,\n",
       "          7.70795937e-03,   6.98624781e-02,   2.26901092e-02,\n",
       "          1.39005813e-02,   6.72370347e-02,   9.58315379e-02,\n",
       "          2.85374283e-06,   1.05046273e-02],\n",
       "       [  2.76116294e-03,   7.06179779e-06,   2.18915732e-04,\n",
       "          1.49780731e-02,   3.60151687e-04,   7.06179779e-06,\n",
       "          3.98716165e-01,   1.28037456e-01,   3.16439159e-02,\n",
       "          1.87427175e-01,   8.89150960e-02,   7.06179779e-06,\n",
       "          7.97347589e-02,   3.60151687e-04,   6.16565565e-02,\n",
       "          7.06179779e-06,   5.16217419e-03],\n",
       "       [  8.54779347e-04,   7.06429212e-06,   7.06429212e-06,\n",
       "          1.06741454e-02,   2.18993056e-04,   7.06429212e-06,\n",
       "          4.03660716e-01,   1.28789110e-01,   2.59330164e-02,\n",
       "          1.84243803e-01,   9.06419322e-02,   1.48350135e-04,\n",
       "          8.10344949e-02,   2.18993056e-04,   6.69059107e-02,\n",
       "          7.06429212e-06,   6.64749889e-03],\n",
       "       [  3.41802049e-06,   2.25931154e-03,   1.08385430e-02,\n",
       "          1.35083588e-01,   3.75982254e-05,   3.41802049e-06,\n",
       "          4.81940889e-04,   1.15293249e-01,   4.59074332e-02,\n",
       "          5.30134978e-03,   6.77109859e-03,   2.78944652e-02,\n",
       "          6.15585490e-03,   5.97712661e-01,   4.16007274e-02,\n",
       "          4.65192588e-03,   3.41802049e-06],\n",
       "       [  9.80122484e-05,   2.46927632e-03,   3.04818092e-02,\n",
       "          5.77674707e-01,   6.45299997e-03,   5.72581232e-03,\n",
       "          2.84867857e-03,   1.12084910e-01,   6.92725278e-03,\n",
       "          2.46643080e-02,   4.36344206e-02,   2.47591586e-02,\n",
       "          3.19361845e-02,   1.11737125e-01,   1.40726619e-02,\n",
       "          4.42952129e-03,   3.16168543e-06],\n",
       "       [  3.32328593e-06,   6.97890046e-05,   3.84205087e-02,\n",
       "          4.51072923e-01,   3.35651879e-04,   3.32328593e-06,\n",
       "          1.96406199e-03,   7.97289528e-02,   2.44294749e-02,\n",
       "          1.23293908e-03,   2.42932202e-03,   3.68585643e-02,\n",
       "          2.66195203e-03,   3.57887985e-01,   2.89458205e-03,\n",
       "          3.32328593e-06,   3.32328593e-06],\n",
       "       [  6.95381470e-04,   4.60517530e-06,   8.89259350e-03,\n",
       "          1.07811759e-01,   2.53745159e-03,   4.97819449e-03,\n",
       "          3.31618673e-02,   1.02884221e-01,   9.28909909e-02,\n",
       "          1.12412329e-02,   2.48265000e-02,   1.18818128e-01,\n",
       "          2.07693406e-03,   4.45140849e-01,   3.97933197e-02,\n",
       "          4.24136645e-03,   4.60517530e-06],\n",
       "       [  9.17122680e-05,   4.36725086e-06,   5.74337161e-02,\n",
       "          2.40334182e-01,   7.90909131e-03,   4.36725086e-06,\n",
       "          4.36725086e-06,   4.07071453e-02,   9.17122680e-05,\n",
       "          2.81294628e-02,   4.45066535e-02,   4.57517567e-01,\n",
       "          4.36725086e-06,   9.09305301e-02,   3.23220236e-02,\n",
       "          4.36725086e-06,   4.36725086e-06],\n",
       "       [  1.34282261e-04,   9.09654028e-05,   5.49301082e-02,\n",
       "          3.09589919e-01,   4.37500271e-04,   4.33168585e-06,\n",
       "          6.11200873e-03,   1.25060102e-01,   4.29746553e-02,\n",
       "          5.18546113e-02,   6.93979390e-02,   2.04065720e-02,\n",
       "          1.17826187e-01,   1.32120750e-01,   6.12976864e-02,\n",
       "          7.75804936e-03,   4.33168585e-06],\n",
       "       [  4.14457795e-05,   3.76779814e-06,   3.76779814e-06,\n",
       "          1.78898823e-01,   3.76779814e-06,   3.76779814e-06,\n",
       "          4.90981775e-02,   1.12058084e-01,   2.74333382e-02,\n",
       "          1.64690457e-02,   2.39669639e-02,   4.74026684e-02,\n",
       "          2.75426044e-03,   4.91852137e-01,   4.56694812e-02,\n",
       "          3.76779814e-06,   4.33673566e-03],\n",
       "       [  4.08051676e-06,   4.08051676e-06,   3.93402621e-02,\n",
       "          1.28825995e-01,   4.08051676e-06,   4.08051676e-06,\n",
       "          1.40410582e-02,   1.24092595e-01,   3.92586517e-02,\n",
       "          4.08051676e-06,   5.19490588e-02,   6.77773833e-03,\n",
       "          1.26496019e-04,   5.69317778e-01,   2.62418033e-02,\n",
       "          4.08051676e-06,   4.08051676e-06],\n",
       "       [  5.29922048e-06,   2.70790167e-03,   3.08467624e-02,\n",
       "          1.65764916e-01,   1.00738181e-02,   5.29922048e-06,\n",
       "          5.29922048e-06,   8.48458192e-02,   5.29922048e-06,\n",
       "          3.66176135e-03,   6.66165007e-02,   1.44303073e-01,\n",
       "          1.64275835e-04,   4.61779372e-01,   2.77202224e-02,\n",
       "          1.22411993e-03,   2.70260245e-04]])"
      ]
     },
     "execution_count": 23,
     "metadata": {},
     "output_type": "execute_result"
    }
   ],
   "source": [
    "doctopic"
   ]
  },
  {
   "cell_type": "code",
   "execution_count": 24,
   "metadata": {},
   "outputs": [
    {
     "name": "stdout",
     "output_type": "stream",
     "text": [
      "17\n"
     ]
    }
   ],
   "source": [
    "N, K = doctopic.shape\n",
    "print(K)"
   ]
  },
  {
   "cell_type": "code",
   "execution_count": 25,
   "metadata": {},
   "outputs": [],
   "source": [
    "ind = np.arange(N)"
   ]
  },
  {
   "cell_type": "code",
   "execution_count": 26,
   "metadata": {},
   "outputs": [],
   "source": [
    "width = 0.5"
   ]
  },
  {
   "cell_type": "code",
   "execution_count": 27,
   "metadata": {},
   "outputs": [],
   "source": [
    "plt.rcParams[\"figure.figsize\"] = [16,9]"
   ]
  },
  {
   "cell_type": "code",
   "execution_count": 28,
   "metadata": {},
   "outputs": [
    {
     "data": {
      "text/plain": [
       "<Container object of 15 artists>"
      ]
     },
     "execution_count": 28,
     "metadata": {},
     "output_type": "execute_result"
    }
   ],
   "source": [
    "plt.bar(ind, doctopic[:,0], width=width)"
   ]
  },
  {
   "cell_type": "code",
   "execution_count": 29,
   "metadata": {},
   "outputs": [
    {
     "data": {
      "text/plain": [
       "([<matplotlib.axis.XTick at 0x7f3373fa8eb8>,\n",
       "  <matplotlib.axis.XTick at 0x7f3373f7d198>,\n",
       "  <matplotlib.axis.XTick at 0x7f3371ca6828>,\n",
       "  <matplotlib.axis.XTick at 0x7f3371cb1240>,\n",
       "  <matplotlib.axis.XTick at 0x7f3371cb1898>,\n",
       "  <matplotlib.axis.XTick at 0x7f3371cb1f28>,\n",
       "  <matplotlib.axis.XTick at 0x7f3371cb45f8>,\n",
       "  <matplotlib.axis.XTick at 0x7f3371cb4c88>,\n",
       "  <matplotlib.axis.XTick at 0x7f3373ce9f60>,\n",
       "  <matplotlib.axis.XTick at 0x7f3371cb8208>,\n",
       "  <matplotlib.axis.XTick at 0x7f3373ced048>,\n",
       "  <matplotlib.axis.XTick at 0x7f3371cb11d0>,\n",
       "  <matplotlib.axis.XTick at 0x7f3371cb87f0>,\n",
       "  <matplotlib.axis.XTick at 0x7f3371cb8cc0>,\n",
       "  <matplotlib.axis.XTick at 0x7f3371cc1390>],\n",
       " <a list of 15 Text xticklabel objects>)"
      ]
     },
     "execution_count": 29,
     "metadata": {},
     "output_type": "execute_result"
    }
   ],
   "source": [
    "plt.xticks(rotation=90)\n",
    "plt.xticks(ind + width/2, novel_names)"
   ]
  },
  {
   "cell_type": "code",
   "execution_count": 30,
   "metadata": {},
   "outputs": [
    {
     "data": {
      "text/plain": [
       "Text(0.5,1,'Share of Topic #0')"
      ]
     },
     "execution_count": 30,
     "metadata": {},
     "output_type": "execute_result"
    }
   ],
   "source": [
    "plt.title('Share of Topic #0')"
   ]
  },
  {
   "cell_type": "code",
   "execution_count": 31,
   "metadata": {},
   "outputs": [
    {
     "data": {
      "image/png": "[encoded data removed]",
      "text/plain": [
       "<matplotlib.figure.Figure at 0x7f3373fa8668>"
      ]
     },
     "metadata": {},
     "output_type": "display_data"
    }
   ],
   "source": [
    "plt.show()"
   ]
  },
  {
   "cell_type": "code",
   "execution_count": 32,
   "metadata": {},
   "outputs": [],
   "source": [
    "plots = []"
   ]
  },
  {
   "cell_type": "code",
   "execution_count": 33,
   "metadata": {},
   "outputs": [],
   "source": [
    "height_cumulative = np.zeros(N)"
   ]
  },
  {
   "cell_type": "code",
   "execution_count": 34,
   "metadata": {},
   "outputs": [],
   "source": [
    "for k in range(K):\n",
    "    color = plt.cm.Accent(k/K, 1)\n",
    "    if k == 0:\n",
    "        p = plt.bar(ind, doctopic[:, k], width, color=color)\n",
    "    else:\n",
    "        p = plt.bar(ind, doctopic[:, k], width, bottom=height_cumulative, color=color)\n",
    "    height_cumulative += doctopic[:, k]\n",
    "    plots.append(p)"
   ]
  },
  {
   "cell_type": "code",
   "execution_count": 35,
   "metadata": {},
   "outputs": [
    {
     "data": {
      "text/plain": [
       "(0, 1)"
      ]
     },
     "execution_count": 35,
     "metadata": {},
     "output_type": "execute_result"
    }
   ],
   "source": [
    "plt.ylim((0, 1))"
   ]
  },
  {
   "cell_type": "code",
   "execution_count": 36,
   "metadata": {},
   "outputs": [
    {
     "data": {
      "text/plain": [
       "Text(0,0.5,'Topics')"
      ]
     },
     "execution_count": 36,
     "metadata": {},
     "output_type": "execute_result"
    }
   ],
   "source": [
    "plt.ylabel('Topics')"
   ]
  },
  {
   "cell_type": "code",
   "execution_count": 37,
   "metadata": {},
   "outputs": [
    {
     "data": {
      "text/plain": [
       "Text(0.5,1,'Topics in novels')"
      ]
     },
     "execution_count": 37,
     "metadata": {},
     "output_type": "execute_result"
    }
   ],
   "source": [
    "plt.title('Topics in novels')"
   ]
  },
  {
   "cell_type": "code",
   "execution_count": 38,
   "metadata": {},
   "outputs": [
    {
     "name": "stdout",
     "output_type": "stream",
     "text": [
      "numero 1\n",
      "Balzac-Honore-de_Illusions-perdues\n",
      "numero 2\n",
      "Balzac-Honore-de_Les-Parents-pauvres-La-Cousine-BetteFC\n",
      "numero 3\n",
      "Balzac-Honore-de_Les-Parents-pauvres-Le-Cousin-PonsFC\n",
      "numero 4\n",
      "Balzac-Honore-de_Splendeurs-et-miseres-des-courtisanesFC\n",
      "numero 5\n",
      "Balzac-Honore-de_Une-tenebreuse-affaire\n",
      "numero 6\n",
      "Balzac-Honore-de_Une-tenebreuse-affaireFC\n",
      "numero 7\n",
      "Zola-Emile_Au-bonheur-des-dames\n",
      "numero 8\n",
      "Zola-Emile_Germinal\n",
      "numero 9\n",
      "Zola-Emile_L-assomoir\n",
      "numero 10\n",
      "Zola-Emile_La-curee\n",
      "numero 11\n",
      "Zola-Emile_La-faute-de-l-abbe-Mouret\n",
      "numero 12\n",
      "Zola-Emile_La-fortune-des-Rougon\n",
      "numero 13\n",
      "Zola-Emile_Nana\n",
      "numero 14\n",
      "Zola-Emile_Pot-Bouille\n",
      "numero 15\n",
      "Zola-Emile_Une-page-d-amour\n"
     ]
    }
   ],
   "source": [
    "plt.xticks(rotation=90)\n",
    "plt.xticks(ind+width/2, novel_names)\n",
    "index=1\n",
    "for name in novel_names:\n",
    "    print('numero '+str(index))\n",
    "    print(name)\n",
    "    index+=1"
   ]
  },
  {
   "cell_type": "code",
   "execution_count": 39,
   "metadata": {},
   "outputs": [
    {
     "data": {
      "text/plain": [
       "([<matplotlib.axis.YTick at 0x7f3371c515f8>],\n",
       " <a list of 1 Text yticklabel objects>)"
      ]
     },
     "execution_count": 39,
     "metadata": {},
     "output_type": "execute_result"
    }
   ],
   "source": [
    "plt.yticks(np.arange(0, 1, 10))"
   ]
  },
  {
   "cell_type": "code",
   "execution_count": 40,
   "metadata": {},
   "outputs": [],
   "source": [
    "list_topics =['aventure' ,'argent' ,'mort', 'amitié' ,'amour' ,'art' ,'crime' ,'éducation' ,'enfance' ,'famille' ,'folie' ,'guerre' ,'maladie' ,'nature' ,'politique' ,'dieu' ,'ville']"
   ]
  },
  {
   "cell_type": "code",
   "execution_count": 41,
   "metadata": {},
   "outputs": [],
   "source": [
    "#Pour cette expérience, topic 0 : aventure ; topic 1 : argent ; topic 2 : mort\n",
    "topic_labels = [k for k in list_topics]"
   ]
  },
  {
   "cell_type": "code",
   "execution_count": 42,
   "metadata": {},
   "outputs": [
    {
     "data": {
      "text/plain": [
       "<matplotlib.legend.Legend at 0x7f3371cb8e10>"
      ]
     },
     "execution_count": 42,
     "metadata": {},
     "output_type": "execute_result"
    }
   ],
   "source": [
    "plt.legend([p[0] for p in plots], topic_labels)"
   ]
  },
  {
   "cell_type": "code",
   "execution_count": 43,
   "metadata": {},
   "outputs": [
    {
     "data": {
      "image/png": "[encoded data removed]",
      "text/plain": [
       "<matplotlib.figure.Figure at 0x7f337198e588>"
      ]
     },
     "metadata": {},
     "output_type": "display_data"
    }
   ],
   "source": [
    "plt.show()"
   ]
  },
  {
   "cell_type": "code",
   "execution_count": null,
   "metadata": {},
   "outputs": [],
   "source": []
  }
 ],
 "metadata": {
  "kernelspec": {
   "display_name": "Python 3",
   "language": "python",
   "name": "python3"
  },
  "language_info": {
   "codemirror_mode": {
    "name": "ipython",
    "version": 3
   },
   "file_extension": ".py",
   "mimetype": "text/x-python",
   "name": "python",
   "nbconvert_exporter": "python",
   "pygments_lexer": "ipython3",
   "version": "3.5.2"
  }
 },
 "nbformat": 4,
 "nbformat_minor": 2
}

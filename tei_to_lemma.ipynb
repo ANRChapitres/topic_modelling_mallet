{
 "cells": [
  {
   "cell_type": "code",
   "execution_count": 1,
   "metadata": {},
   "outputs": [],
   "source": [
    "import sys\n",
    "import os\n",
    "import os.path\n",
    "import fnmatch\n",
    "from lxml import etree"
   ]
  },
  {
   "cell_type": "code",
   "execution_count": 2,
   "metadata": {},
   "outputs": [],
   "source": [
    "stopwords=[line.strip() for line in open('stopwords.txt')]"
   ]
  },
  {
   "cell_type": "code",
   "execution_count": 4,
   "metadata": {},
   "outputs": [],
   "source": [
    "path_to_folder='/home/odysseus/Bureau/ANR/corpus/tagged_rest/'\n",
    "files_list=fnmatch.filter(os.listdir(path_to_folder), '*.xml')\n",
    "\n",
    "for file in files_list:\n",
    "    tmpFile=file.replace(\"/\",\":\")\n",
    "    full_path=path_to_folder+tmpFile\n",
    "    tree=etree.parse(full_path)\n",
    "    words=tree.xpath('//word/@lemma')\n",
    "    txt = open('txt/'+os.path.splitext(file)[0]+'.txt', 'w')\n",
    "    for word in words:\n",
    "        if word not in stopwords and len(word)>1:\n",
    "            txt.write(\"%s \" % word)"
   ]
  },
  {
   "cell_type": "code",
   "execution_count": 4,
   "metadata": {},
   "outputs": [],
   "source": [
    "# for MALLET LLDA\n",
    "path_to_folder='/home/odysseus/Bureau/ANR/corpus/tagged_rest/'\n",
    "files_list=fnmatch.filter(os.listdir(path_to_folder), '*.xml')\n",
    "\n",
    "txt = open('txt/test_dumas_etc.txt', 'w')\n",
    "for file in files_list:\n",
    "    if 'Dumas' in file or 'Zola' in file or 'Verne-J' in file or 'Sand-G' in file or 'Flaubert' in file or 'Balzac' in file:\n",
    "        tmpFile=file.replace(\"/\",\":\")\n",
    "        full_path=path_to_folder+tmpFile\n",
    "        tree=etree.parse(full_path)\n",
    "        words=tree.findall('.//word')\n",
    "        \n",
    "        txt.write(file+'\\taventure argent mort amitié amour art crime éducation enfance famille folie guerre maladie nature politique dieu ville\\t')\n",
    "        for word in words:\n",
    "            if word.attrib['postag']=='SUB':\n",
    "                if word.attrib['lemma'] not in stopwords and len(word.attrib['lemma'])>1:\n",
    "                    txt.write(\"%s \" % word.attrib['lemma'])\n",
    "        txt.write(\"\\n\")"
   ]
  },
  {
   "cell_type": "code",
   "execution_count": null,
   "metadata": {},
   "outputs": [],
   "source": []
  }
 ],
 "metadata": {
  "kernelspec": {
   "display_name": "Python 3",
   "language": "python",
   "name": "python3"
  },
  "language_info": {
   "codemirror_mode": {
    "name": "ipython",
    "version": 3
   },
   "file_extension": ".py",
   "mimetype": "text/x-python",
   "name": "python",
   "nbconvert_exporter": "python",
   "pygments_lexer": "ipython3",
   "version": "3.5.2"
  }
 },
 "nbformat": 4,
 "nbformat_minor": 2
}

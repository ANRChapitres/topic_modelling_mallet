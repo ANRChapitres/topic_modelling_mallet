{
 "cells": [
  {
   "cell_type": "code",
   "execution_count": 1,
   "metadata": {},
   "outputs": [],
   "source": [
    "import os\n",
    "import itertools\n",
    "import numpy as np\n",
    "import operator\n",
    "import math\n",
    "from sklearn.feature_extraction.text import CountVectorizer\n",
    "import matplotlib.pyplot as plt"
   ]
  },
  {
   "cell_type": "code",
   "execution_count": 2,
   "metadata": {},
   "outputs": [],
   "source": [
    "def grouper(n, iterable, fillvalue=None):\n",
    "    args = [iter(iterable)] * n\n",
    "    return itertools.zip_longest(*args, fillvalue=fillvalue)"
   ]
  },
  {
   "cell_type": "code",
   "execution_count": 3,
   "metadata": {},
   "outputs": [],
   "source": [
    "doctopic_triples = []\n",
    "mallet_docnames = []"
   ]
  },
  {
   "cell_type": "code",
   "execution_count": 4,
   "metadata": {},
   "outputs": [],
   "source": [
    "#here you can put the strings you want to get rid off when showing the titles\n",
    "zola='Zola-Emile'\n",
    "dumas='Dumas-Alexandre'\n",
    "dumas_pere='Dumas-Alexandre-Pere'"
   ]
  },
  {
   "cell_type": "code",
   "execution_count": 5,
   "metadata": {},
   "outputs": [
    {
     "name": "stdout",
     "output_type": "stream",
     "text": [
      "home/odysseus/Bureau/ANR/code/topic_modelling/txt/dumas/1864__La-San-Felice\n",
      "home/odysseus/Bureau/ANR/code/topic_modelling/txt/dumas/1845__Vingt-ans-apres\n",
      "home/odysseus/Bureau/ANR/code/topic_modelling/txt/dumas/1850__La-Tulipe-noire\n",
      "home/odysseus/Bureau/ANR/code/topic_modelling/txt/dumas/1850__La-femme-au-collier-de-velours\n",
      "home/odysseus/Bureau/ANR/code/topic_modelling/txt/dumas/1871__La-fille-du-marquis-II\n",
      "home/odysseus/Bureau/ANR/code/topic_modelling/txt/dumas/1871__Le-docteur-mysterieux-II\n",
      "home/odysseus/Bureau/ANR/code/topic_modelling/txt/dumas/1867__Les-Blancs-et-les-Bleus\n",
      "home/odysseus/Bureau/ANR/code/topic_modelling/txt/dumas/1858__sultanetta\n",
      "home/odysseus/Bureau/ANR/code/topic_modelling/txt/dumas/1858__Jane\n",
      "home/odysseus/Bureau/ANR/code/topic_modelling/txt/dumas/1852__La-comtesse-de-Charny\n",
      "home/odysseus/Bureau/ANR/code/topic_modelling/txt/dumas/1845__Le-Comte-de-Monte-Cristo\n",
      "home/odysseus/Bureau/ANR/code/topic_modelling/txt/dumas/1858__Black\n",
      "home/odysseus/Bureau/ANR/code/topic_modelling/txt/dumas/1854__Le-page-du-duc-de-Savoie-I\n",
      "home/odysseus/Bureau/ANR/code/topic_modelling/txt/dumas/1848__La-dame-aux-camelias\n",
      "home/odysseus/Bureau/ANR/code/topic_modelling/txt/dumas/1845__La-Reine-Margot\n",
      "home/odysseus/Bureau/ANR/code/topic_modelling/txt/dumas/1844__Les-Trois-Mousquetaires\n",
      "home/odysseus/Bureau/ANR/code/topic_modelling/txt/dumas/1859__Les-Louves-de-Machecoul\n",
      "home/odysseus/Bureau/ANR/code/topic_modelling/txt/dumas/1850__Le-Vicomte-de-Bragelonne\n"
     ]
    }
   ],
   "source": [
    "with open(\"/home/odysseus/Bureau/ANR/code/topic_modelling/doc-topics-dumas.txt\") as f:\n",
    "    f.readline()  # read one line in order to skip the header\n",
    "    for line in f:\n",
    "        docnum, docname, *values = line.rstrip().split('\\t')\n",
    "        docname=docname.replace(zola,'').replace(dumas_pere,'').replace(dumas,'')\n",
    "        mallet_docnames.append(docname[6:-4])\n",
    "        print(docname[6:-4])\n",
    "        for topic, share in grouper(2, values):\n",
    "            triple = (docname[6:-4], int(topic), float(share))\n",
    "            doctopic_triples.append(triple)"
   ]
  },
  {
   "cell_type": "code",
   "execution_count": 6,
   "metadata": {},
   "outputs": [
    {
     "name": "stdout",
     "output_type": "stream",
     "text": [
      "[('home/odysseus/Bureau/ANR/code/topic_modelling/txt/dumas/1864__La-San-Felice', 5, 0.21588368600265218), ('home/odysseus/Bureau/ANR/code/topic_modelling/txt/dumas/1864__La-San-Felice', 8, 0.15408853101795766), ('home/odysseus/Bureau/ANR/code/topic_modelling/txt/dumas/1864__La-San-Felice', 11, 0.14509632324560232), ('home/odysseus/Bureau/ANR/code/topic_modelling/txt/dumas/1864__La-San-Felice', 3, 0.10510717656905044), ('home/odysseus/Bureau/ANR/code/topic_modelling/txt/dumas/1864__La-San-Felice', 1, 0.09984484333380467), ('home/odysseus/Bureau/ANR/code/topic_modelling/txt/dumas/1864__La-San-Felice', 17, 0.09826270392974384), ('home/odysseus/Bureau/ANR/code/topic_modelling/txt/dumas/1864__La-San-Felice', 18, 0.08842210256390659), ('home/odysseus/Bureau/ANR/code/topic_modelling/txt/dumas/1864__La-San-Felice', 12, 0.08583106267029973), ('home/odysseus/Bureau/ANR/code/topic_modelling/txt/dumas/1864__La-San-Felice', 6, 0.004071907089436735), ('home/odysseus/Bureau/ANR/code/topic_modelling/txt/dumas/1864__La-San-Felice', 13, 0.0008388396115733115), ('home/odysseus/Bureau/ANR/code/topic_modelling/txt/dumas/1864__La-San-Felice', 7, 0.0005445769687890519), ('home/odysseus/Bureau/ANR/code/topic_modelling/txt/dumas/1864__La-San-Felice', 10, 0.0005331121904987561), ('home/odysseus/Bureau/ANR/code/topic_modelling/txt/dumas/1864__La-San-Felice', 16, 0.00047578829904727695), ('home/odysseus/Bureau/ANR/code/topic_modelling/txt/dumas/1864__La-San-Felice', 4, 0.0003076382174562714), ('home/odysseus/Bureau/ANR/code/topic_modelling/txt/dumas/1864__La-San-Felice', 15, 0.00021974158389733673), ('home/odysseus/Bureau/ANR/code/topic_modelling/txt/dumas/1864__La-San-Felice', 19, 0.00017006087797272147), ('home/odysseus/Bureau/ANR/code/topic_modelling/txt/dumas/1864__La-San-Felice', 9, 0.0001012722082309465), ('home/odysseus/Bureau/ANR/code/topic_modelling/txt/dumas/1864__La-San-Felice', 0, 7.452105888692289e-05), ('home/odysseus/Bureau/ANR/code/topic_modelling/txt/dumas/1864__La-San-Felice', 2, 6.6877873360059e-05), ('home/odysseus/Bureau/ANR/code/topic_modelling/txt/dumas/1864__La-San-Felice', 14, 5.923468783319512e-05), ('home/odysseus/Bureau/ANR/code/topic_modelling/txt/dumas/1845__Vingt-ans-apres', 0, 0.2694708395778196), ('home/odysseus/Bureau/ANR/code/topic_modelling/txt/dumas/1845__Vingt-ans-apres', 8, 0.1823881572653933), ('home/odysseus/Bureau/ANR/code/topic_modelling/txt/dumas/1845__Vingt-ans-apres', 18, 0.1543995727177067), ('home/odysseus/Bureau/ANR/code/topic_modelling/txt/dumas/1845__Vingt-ans-apres', 1, 0.12627546953222155), ('home/odysseus/Bureau/ANR/code/topic_modelling/txt/dumas/1845__Vingt-ans-apres', 3, 0.11554558209240777), ('home/odysseus/Bureau/ANR/code/topic_modelling/txt/dumas/1845__Vingt-ans-apres', 17, 0.07217164631229872), ('home/odysseus/Bureau/ANR/code/topic_modelling/txt/dumas/1845__Vingt-ans-apres', 11, 0.051198144191830615), ('home/odysseus/Bureau/ANR/code/topic_modelling/txt/dumas/1845__Vingt-ans-apres', 12, 0.016035043525397787), ('home/odysseus/Bureau/ANR/code/topic_modelling/txt/dumas/1845__Vingt-ans-apres', 9, 0.006253786550173782), ('home/odysseus/Bureau/ANR/code/topic_modelling/txt/dumas/1845__Vingt-ans-apres', 6, 0.00418912024489015), ('home/odysseus/Bureau/ANR/code/topic_modelling/txt/dumas/1845__Vingt-ans-apres', 19, 0.00047431523229488857), ('home/odysseus/Bureau/ANR/code/topic_modelling/txt/dumas/1845__Vingt-ans-apres', 16, 0.0003706833328018877), ('home/odysseus/Bureau/ANR/code/topic_modelling/txt/dumas/1845__Vingt-ans-apres', 4, 0.00034676827907273363), ('home/odysseus/Bureau/ANR/code/topic_modelling/txt/dumas/1845__Vingt-ans-apres', 10, 0.00017936290296865533), ('home/odysseus/Bureau/ANR/code/topic_modelling/txt/dumas/1845__Vingt-ans-apres', 15, 0.00014747616466311662), ('home/odysseus/Bureau/ANR/code/topic_modelling/txt/dumas/1845__Vingt-ans-apres', 7, 0.00013950448008673194), ('home/odysseus/Bureau/ANR/code/topic_modelling/txt/dumas/1845__Vingt-ans-apres', 5, 0.00012356111093396257), ('home/odysseus/Bureau/ANR/code/topic_modelling/txt/dumas/1845__Vingt-ans-apres', 2, 0.00011558942635757789), ('home/odysseus/Bureau/ANR/code/topic_modelling/txt/dumas/1845__Vingt-ans-apres', 13, 9.964605720480852e-05), ('home/odysseus/Bureau/ANR/code/topic_modelling/txt/dumas/1845__Vingt-ans-apres', 14, 7.573100347565448e-05), ('home/odysseus/Bureau/ANR/code/topic_modelling/txt/dumas/1850__La-Tulipe-noire', 14, 0.26217057907571173), ('home/odysseus/Bureau/ANR/code/topic_modelling/txt/dumas/1850__La-Tulipe-noire', 18, 0.1392455269265799), ('home/odysseus/Bureau/ANR/code/topic_modelling/txt/dumas/1850__La-Tulipe-noire', 3, 0.13680700414255076), ('home/odysseus/Bureau/ANR/code/topic_modelling/txt/dumas/1850__La-Tulipe-noire', 1, 0.13621940829097748), ('home/odysseus/Bureau/ANR/code/topic_modelling/txt/dumas/1850__La-Tulipe-noire', 8, 0.12411493374856773), ('home/odysseus/Bureau/ANR/code/topic_modelling/txt/dumas/1850__La-Tulipe-noire', 17, 0.1141551840644005), ('home/odysseus/Bureau/ANR/code/topic_modelling/txt/dumas/1850__La-Tulipe-noire', 11, 0.0637394599994124), ('home/odysseus/Bureau/ANR/code/topic_modelling/txt/dumas/1850__La-Tulipe-noire', 12, 0.017730704821223964), ('home/odysseus/Bureau/ANR/code/topic_modelling/txt/dumas/1850__La-Tulipe-noire', 6, 0.002306313717425155), ('home/odysseus/Bureau/ANR/code/topic_modelling/txt/dumas/1850__La-Tulipe-noire', 9, 0.0005435261627052913), ('home/odysseus/Bureau/ANR/code/topic_modelling/txt/dumas/1850__La-Tulipe-noire', 15, 0.0004847665775479625), ('home/odysseus/Bureau/ANR/code/topic_modelling/txt/dumas/1850__La-Tulipe-noire', 19, 0.0004553867849692981), ('home/odysseus/Bureau/ANR/code/topic_modelling/txt/dumas/1850__La-Tulipe-noire', 4, 0.0004553867849692981), ('home/odysseus/Bureau/ANR/code/topic_modelling/txt/dumas/1850__La-Tulipe-noire', 10, 0.00042600699239063374), ('home/odysseus/Bureau/ANR/code/topic_modelling/txt/dumas/1850__La-Tulipe-noire', 2, 0.00036724740723330493), ('home/odysseus/Bureau/ANR/code/topic_modelling/txt/dumas/1850__La-Tulipe-noire', 13, 0.00022034844433998295), ('home/odysseus/Bureau/ANR/code/topic_modelling/txt/dumas/1850__La-Tulipe-noire', 5, 0.00022034844433998295), ('home/odysseus/Bureau/ANR/code/topic_modelling/txt/dumas/1850__La-Tulipe-noire', 16, 0.00019096865176131857), ('home/odysseus/Bureau/ANR/code/topic_modelling/txt/dumas/1850__La-Tulipe-noire', 7, 7.344948144666099e-05), ('home/odysseus/Bureau/ANR/code/topic_modelling/txt/dumas/1850__La-Tulipe-noire', 0, 7.344948144666099e-05), ('home/odysseus/Bureau/ANR/code/topic_modelling/txt/dumas/1850__La-femme-au-collier-de-velours', 2, 0.22295438918175567), ('home/odysseus/Bureau/ANR/code/topic_modelling/txt/dumas/1850__La-femme-au-collier-de-velours', 3, 0.16233096493238597), ('home/odysseus/Bureau/ANR/code/topic_modelling/txt/dumas/1850__La-femme-au-collier-de-velours', 17, 0.16118496447398578), ('home/odysseus/Bureau/ANR/code/topic_modelling/txt/dumas/1850__La-femme-au-collier-de-velours', 1, 0.14040415616166246), ('home/odysseus/Bureau/ANR/code/topic_modelling/txt/dumas/1850__La-femme-au-collier-de-velours', 18, 0.10457254182901674), ('home/odysseus/Bureau/ANR/code/topic_modelling/txt/dumas/1850__La-femme-au-collier-de-velours', 8, 0.09158453663381465), ('home/odysseus/Bureau/ANR/code/topic_modelling/txt/dumas/1850__La-femme-au-collier-de-velours', 12, 0.04753991901596761), ('home/odysseus/Bureau/ANR/code/topic_modelling/txt/dumas/1850__La-femme-au-collier-de-velours', 11, 0.041084116433646574), ('home/odysseus/Bureau/ANR/code/topic_modelling/txt/dumas/1850__La-femme-au-collier-de-velours', 10, 0.00849950339980136), ('home/odysseus/Bureau/ANR/code/topic_modelling/txt/dumas/1850__La-femme-au-collier-de-velours', 6, 0.00762090304836122), ('home/odysseus/Bureau/ANR/code/topic_modelling/txt/dumas/1850__La-femme-au-collier-de-velours', 14, 0.0025403010161204062), ('home/odysseus/Bureau/ANR/code/topic_modelling/txt/dumas/1850__La-femme-au-collier-de-velours', 4, 0.0021965008786003514), ('home/odysseus/Bureau/ANR/code/topic_modelling/txt/dumas/1850__La-femme-au-collier-de-velours', 13, 0.001699900679960272), ('home/odysseus/Bureau/ANR/code/topic_modelling/txt/dumas/1850__La-femme-au-collier-de-velours', 16, 0.0015089006035602414), ('home/odysseus/Bureau/ANR/code/topic_modelling/txt/dumas/1850__La-femme-au-collier-de-velours', 19, 0.0013179005271602108), ('home/odysseus/Bureau/ANR/code/topic_modelling/txt/dumas/1850__La-femme-au-collier-de-velours', 15, 0.001050500420200168), ('home/odysseus/Bureau/ANR/code/topic_modelling/txt/dumas/1850__La-femme-au-collier-de-velours', 5, 0.000668500267400107), ('home/odysseus/Bureau/ANR/code/topic_modelling/txt/dumas/1850__La-femme-au-collier-de-velours', 7, 0.0005539002215600886), ('home/odysseus/Bureau/ANR/code/topic_modelling/txt/dumas/1850__La-femme-au-collier-de-velours', 9, 0.0004393001757200703), ('home/odysseus/Bureau/ANR/code/topic_modelling/txt/dumas/1850__La-femme-au-collier-de-velours', 0, 0.00024830009932003973), ('home/odysseus/Bureau/ANR/code/topic_modelling/txt/dumas/1871__La-fille-du-marquis-II', 10, 0.19535524141729393), ('home/odysseus/Bureau/ANR/code/topic_modelling/txt/dumas/1871__La-fille-du-marquis-II', 17, 0.1821369561226363), ('home/odysseus/Bureau/ANR/code/topic_modelling/txt/dumas/1871__La-fille-du-marquis-II', 1, 0.13653387185606755), ('home/odysseus/Bureau/ANR/code/topic_modelling/txt/dumas/1871__La-fille-du-marquis-II', 8, 0.13620341472370112), ('home/odysseus/Bureau/ANR/code/topic_modelling/txt/dumas/1871__La-fille-du-marquis-II', 3, 0.12302184688819534), ('home/odysseus/Bureau/ANR/code/topic_modelling/txt/dumas/1871__La-fille-du-marquis-II', 18, 0.10767394896273177), ('home/odysseus/Bureau/ANR/code/topic_modelling/txt/dumas/1871__La-fille-du-marquis-II', 11, 0.058876445749954105), ('home/odysseus/Bureau/ANR/code/topic_modelling/txt/dumas/1871__La-fille-du-marquis-II', 12, 0.05204699834771434), ('home/odysseus/Bureau/ANR/code/topic_modelling/txt/dumas/1871__La-fille-du-marquis-II', 6, 0.0017073618505599412), ('home/odysseus/Bureau/ANR/code/topic_modelling/txt/dumas/1871__La-fille-du-marquis-II', 16, 0.0011933174224343676), ('home/odysseus/Bureau/ANR/code/topic_modelling/txt/dumas/1871__La-fille-du-marquis-II', 15, 0.0010831650449788875), ('home/odysseus/Bureau/ANR/code/topic_modelling/txt/dumas/1871__La-fille-du-marquis-II', 13, 0.000899577749219754), ('home/odysseus/Bureau/ANR/code/topic_modelling/txt/dumas/1871__La-fille-du-marquis-II', 2, 0.0007894253717642739), ('home/odysseus/Bureau/ANR/code/topic_modelling/txt/dumas/1871__La-fille-du-marquis-II', 14, 0.0006058380760051405), ('home/odysseus/Bureau/ANR/code/topic_modelling/txt/dumas/1871__La-fille-du-marquis-II', 19, 0.000532403157701487), ('home/odysseus/Bureau/ANR/code/topic_modelling/txt/dumas/1871__La-fille-du-marquis-II', 4, 0.000532403157701487), ('home/odysseus/Bureau/ANR/code/topic_modelling/txt/dumas/1871__La-fille-du-marquis-II', 7, 0.00023866348448687351), ('home/odysseus/Bureau/ANR/code/topic_modelling/txt/dumas/1871__La-fille-du-marquis-II', 5, 0.00020194602533504683), ('home/odysseus/Bureau/ANR/code/topic_modelling/txt/dumas/1871__La-fille-du-marquis-II', 0, 0.00020194602533504683), ('home/odysseus/Bureau/ANR/code/topic_modelling/txt/dumas/1871__La-fille-du-marquis-II', 9, 0.0001652285661832201), ('home/odysseus/Bureau/ANR/code/topic_modelling/txt/dumas/1871__Le-docteur-mysterieux-II', 10, 0.20341531351881745), ('home/odysseus/Bureau/ANR/code/topic_modelling/txt/dumas/1871__Le-docteur-mysterieux-II', 12, 0.18752571772228024), ('home/odysseus/Bureau/ANR/code/topic_modelling/txt/dumas/1871__Le-docteur-mysterieux-II', 8, 0.13745133415630045), ('home/odysseus/Bureau/ANR/code/topic_modelling/txt/dumas/1871__Le-docteur-mysterieux-II', 17, 0.10535561675054601), ('home/odysseus/Bureau/ANR/code/topic_modelling/txt/dumas/1871__Le-docteur-mysterieux-II', 11, 0.10241192669262178), ('home/odysseus/Bureau/ANR/code/topic_modelling/txt/dumas/1871__Le-docteur-mysterieux-II', 3, 0.09285284714968506), ('home/odysseus/Bureau/ANR/code/topic_modelling/txt/dumas/1871__Le-docteur-mysterieux-II', 1, 0.07756465039723989), ('home/odysseus/Bureau/ANR/code/topic_modelling/txt/dumas/1871__Le-docteur-mysterieux-II', 18, 0.06692938309119109), ('home/odysseus/Bureau/ANR/code/topic_modelling/txt/dumas/1871__Le-docteur-mysterieux-II', 16, 0.014037919792359067), ('home/odysseus/Bureau/ANR/code/topic_modelling/txt/dumas/1871__Le-docteur-mysterieux-II', 13, 0.006441300288038489), ('home/odysseus/Bureau/ANR/code/topic_modelling/txt/dumas/1871__Le-docteur-mysterieux-II', 6, 0.0021998543981261672), ('home/odysseus/Bureau/ANR/code/topic_modelling/txt/dumas/1871__Le-docteur-mysterieux-II', 5, 0.0008704459848700661), ('home/odysseus/Bureau/ANR/code/topic_modelling/txt/dumas/1871__Le-docteur-mysterieux-II', 7, 0.0008071408223340613), ('home/odysseus/Bureau/ANR/code/topic_modelling/txt/dumas/1871__Le-docteur-mysterieux-II', 9, 0.0006805304972620517), ('home/odysseus/Bureau/ANR/code/topic_modelling/txt/dumas/1871__Le-docteur-mysterieux-II', 4, 0.00045896242838603486), ('home/odysseus/Bureau/ANR/code/topic_modelling/txt/dumas/1871__Le-docteur-mysterieux-II', 14, 0.00030069952204602287), ('home/odysseus/Bureau/ANR/code/topic_modelling/txt/dumas/1871__Le-docteur-mysterieux-II', 2, 0.00030069952204602287), ('home/odysseus/Bureau/ANR/code/topic_modelling/txt/dumas/1871__Le-docteur-mysterieux-II', 15, 0.00017408919697401324), ('home/odysseus/Bureau/ANR/code/topic_modelling/txt/dumas/1871__Le-docteur-mysterieux-II', 19, 0.00011078403443800842), ('home/odysseus/Bureau/ANR/code/topic_modelling/txt/dumas/1871__Le-docteur-mysterieux-II', 0, 0.00011078403443800842), ('home/odysseus/Bureau/ANR/code/topic_modelling/txt/dumas/1867__Les-Blancs-et-les-Bleus', 13, 0.21804869137131977), ('home/odysseus/Bureau/ANR/code/topic_modelling/txt/dumas/1867__Les-Blancs-et-les-Bleus', 8, 0.16899194246264496), ('home/odysseus/Bureau/ANR/code/topic_modelling/txt/dumas/1867__Les-Blancs-et-les-Bleus', 12, 0.12470433260898829), ('home/odysseus/Bureau/ANR/code/topic_modelling/txt/dumas/1867__Les-Blancs-et-les-Bleus', 3, 0.1061085363743005), ('home/odysseus/Bureau/ANR/code/topic_modelling/txt/dumas/1867__Les-Blancs-et-les-Bleus', 11, 0.10444510682486875), ('home/odysseus/Bureau/ANR/code/topic_modelling/txt/dumas/1867__Les-Blancs-et-les-Bleus', 1, 0.09123382242649179), ('home/odysseus/Bureau/ANR/code/topic_modelling/txt/dumas/1867__Les-Blancs-et-les-Bleus', 17, 0.08975308167150632), ('home/odysseus/Bureau/ANR/code/topic_modelling/txt/dumas/1867__Les-Blancs-et-les-Bleus', 18, 0.0805609507509471), ('home/odysseus/Bureau/ANR/code/topic_modelling/txt/dumas/1867__Les-Blancs-et-les-Bleus', 6, 0.007927732158996942), ('home/odysseus/Bureau/ANR/code/topic_modelling/txt/dumas/1867__Les-Blancs-et-les-Bleus', 10, 0.0036105074902405723), ('home/odysseus/Bureau/ANR/code/topic_modelling/txt/dumas/1867__Les-Blancs-et-les-Bleus', 16, 0.0018797715428549452), ('home/odysseus/Bureau/ANR/code/topic_modelling/txt/dumas/1867__Les-Blancs-et-les-Bleus', 5, 0.0006105651814388185), ('home/odysseus/Bureau/ANR/code/topic_modelling/txt/dumas/1867__Les-Blancs-et-les-Bleus', 19, 0.0004759523855310475), ('home/odysseus/Bureau/ANR/code/topic_modelling/txt/dumas/1867__Les-Blancs-et-les-Bleus', 2, 0.00037018518874637024), ('home/odysseus/Bureau/ANR/code/topic_modelling/txt/dumas/1867__Les-Blancs-et-les-Bleus', 7, 0.0003413395896232765), ('home/odysseus/Bureau/ANR/code/topic_modelling/txt/dumas/1867__Les-Blancs-et-les-Bleus', 0, 0.000274033191669391), ('home/odysseus/Bureau/ANR/code/topic_modelling/txt/dumas/1867__Les-Blancs-et-les-Bleus', 14, 0.0002548027922539951), ('home/odysseus/Bureau/ANR/code/topic_modelling/txt/dumas/1867__Les-Blancs-et-les-Bleus', 15, 0.0001490355954693179), ('home/odysseus/Bureau/ANR/code/topic_modelling/txt/dumas/1867__Les-Blancs-et-les-Bleus', 4, 0.00013942039576161997), ('home/odysseus/Bureau/ANR/code/topic_modelling/txt/dumas/1867__Les-Blancs-et-les-Bleus', 9, 0.00012018999634622411), ('home/odysseus/Bureau/ANR/code/topic_modelling/txt/dumas/1858__sultanetta', 2, 0.2411369445131503), ('home/odysseus/Bureau/ANR/code/topic_modelling/txt/dumas/1858__sultanetta', 3, 0.18560887130018963), ('home/odysseus/Bureau/ANR/code/topic_modelling/txt/dumas/1858__sultanetta', 8, 0.16380163245115015), ('home/odysseus/Bureau/ANR/code/topic_modelling/txt/dumas/1858__sultanetta', 17, 0.11049962898837497), ('home/odysseus/Bureau/ANR/code/topic_modelling/txt/dumas/1858__sultanetta', 18, 0.10126556187649435), ('home/odysseus/Bureau/ANR/code/topic_modelling/txt/dumas/1858__sultanetta', 1, 0.0950408112787534), ('home/odysseus/Bureau/ANR/code/topic_modelling/txt/dumas/1858__sultanetta', 11, 0.06585456344298787), ('home/odysseus/Bureau/ANR/code/topic_modelling/txt/dumas/1858__sultanetta', 12, 0.0220751916893396), ('home/odysseus/Bureau/ANR/code/topic_modelling/txt/dumas/1858__sultanetta', 6, 0.01143952510511996), ('home/odysseus/Bureau/ANR/code/topic_modelling/txt/dumas/1858__sultanetta', 19, 0.0007214114931156732), ('home/odysseus/Bureau/ANR/code/topic_modelling/txt/dumas/1858__sultanetta', 4, 0.0003916233819770797), ('home/odysseus/Bureau/ANR/code/topic_modelling/txt/dumas/1858__sultanetta', 16, 0.0003091763541924314), ('home/odysseus/Bureau/ANR/code/topic_modelling/txt/dumas/1858__sultanetta', 7, 0.0003091763541924314), ('home/odysseus/Bureau/ANR/code/topic_modelling/txt/dumas/1858__sultanetta', 15, 0.0002679528403001072), ('home/odysseus/Bureau/ANR/code/topic_modelling/txt/dumas/1858__sultanetta', 14, 0.0002679528403001072), ('home/odysseus/Bureau/ANR/code/topic_modelling/txt/dumas/1858__sultanetta', 10, 0.0002679528403001072), ('home/odysseus/Bureau/ANR/code/topic_modelling/txt/dumas/1858__sultanetta', 5, 0.0002679528403001072), ('home/odysseus/Bureau/ANR/code/topic_modelling/txt/dumas/1858__sultanetta', 13, 0.0001855058125154588), ('home/odysseus/Bureau/ANR/code/topic_modelling/txt/dumas/1858__sultanetta', 9, 0.00014428229862313463), ('home/odysseus/Bureau/ANR/code/topic_modelling/txt/dumas/1858__sultanetta', 0, 0.00014428229862313463), ('home/odysseus/Bureau/ANR/code/topic_modelling/txt/dumas/1858__Jane', 6, 0.283521197846568), ('home/odysseus/Bureau/ANR/code/topic_modelling/txt/dumas/1858__Jane', 3, 0.13740746971736204), ('home/odysseus/Bureau/ANR/code/topic_modelling/txt/dumas/1858__Jane', 1, 0.1350521534320323), ('home/odysseus/Bureau/ANR/code/topic_modelling/txt/dumas/1858__Jane', 18, 0.13025740242261102), ('home/odysseus/Bureau/ANR/code/topic_modelling/txt/dumas/1858__Jane', 8, 0.1257150067294751), ('home/odysseus/Bureau/ANR/code/topic_modelling/txt/dumas/1858__Jane', 17, 0.12041554508748317), ('home/odysseus/Bureau/ANR/code/topic_modelling/txt/dumas/1858__Jane', 11, 0.0459707267833109), ('home/odysseus/Bureau/ANR/code/topic_modelling/txt/dumas/1858__Jane', 12, 0.007949192462987887), ('home/odysseus/Bureau/ANR/code/topic_modelling/txt/dumas/1858__Jane', 2, 0.0046685733512786005), ('home/odysseus/Bureau/ANR/code/topic_modelling/txt/dumas/1858__Jane', 9, 0.0014720726783310901), ('home/odysseus/Bureau/ANR/code/topic_modelling/txt/dumas/1858__Jane', 14, 0.0013879542395693137), ('home/odysseus/Bureau/ANR/code/topic_modelling/txt/dumas/1858__Jane', 13, 0.001303835800807537), ('home/odysseus/Bureau/ANR/code/topic_modelling/txt/dumas/1858__Jane', 10, 0.0011355989232839838), ('home/odysseus/Bureau/ANR/code/topic_modelling/txt/dumas/1858__Jane', 5, 0.0007991251682368775), ('home/odysseus/Bureau/ANR/code/topic_modelling/txt/dumas/1858__Jane', 15, 0.0006308882907133243), ('home/odysseus/Bureau/ANR/code/topic_modelling/txt/dumas/1858__Jane', 7, 0.0006308882907133243), ('home/odysseus/Bureau/ANR/code/topic_modelling/txt/dumas/1858__Jane', 19, 0.0004626514131897712), ('home/odysseus/Bureau/ANR/code/topic_modelling/txt/dumas/1858__Jane', 0, 0.0004626514131897712), ('home/odysseus/Bureau/ANR/code/topic_modelling/txt/dumas/1858__Jane', 16, 0.0003785329744279946), ('home/odysseus/Bureau/ANR/code/topic_modelling/txt/dumas/1858__Jane', 4, 0.0003785329744279946), ('home/odysseus/Bureau/ANR/code/topic_modelling/txt/dumas/1852__La-comtesse-de-Charny', 16, 0.23563320589194156), ('home/odysseus/Bureau/ANR/code/topic_modelling/txt/dumas/1852__La-comtesse-de-Charny', 8, 0.14191085876868753), ('home/odysseus/Bureau/ANR/code/topic_modelling/txt/dumas/1852__La-comtesse-de-Charny', 17, 0.12146942888473963), ('home/odysseus/Bureau/ANR/code/topic_modelling/txt/dumas/1852__La-comtesse-de-Charny', 3, 0.11453424616934886), ('home/odysseus/Bureau/ANR/code/topic_modelling/txt/dumas/1852__La-comtesse-de-Charny', 1, 0.10922912776740464), ('home/odysseus/Bureau/ANR/code/topic_modelling/txt/dumas/1852__La-comtesse-de-Charny', 18, 0.10121429206518563), ('home/odysseus/Bureau/ANR/code/topic_modelling/txt/dumas/1852__La-comtesse-de-Charny', 12, 0.09265751290291167), ('home/odysseus/Bureau/ANR/code/topic_modelling/txt/dumas/1852__La-comtesse-de-Charny', 11, 0.07615364097092558), ('home/odysseus/Bureau/ANR/code/topic_modelling/txt/dumas/1852__La-comtesse-de-Charny', 10, 0.0037068085881102686), ('home/odysseus/Bureau/ANR/code/topic_modelling/txt/dumas/1852__La-comtesse-de-Charny', 6, 0.0014162506827217417), ('home/odysseus/Bureau/ANR/code/topic_modelling/txt/dumas/1852__La-comtesse-de-Charny', 13, 0.0007345874243713668), ('home/odysseus/Bureau/ANR/code/topic_modelling/txt/dumas/1852__La-comtesse-de-Charny', 4, 0.0004678496276255679), ('home/odysseus/Bureau/ANR/code/topic_modelling/txt/dumas/1852__La-comtesse-de-Charny', 15, 0.0003069601629217527), ('home/odysseus/Bureau/ANR/code/topic_modelling/txt/dumas/1852__La-comtesse-de-Charny', 9, 0.0001757082311896929), ('home/odysseus/Bureau/ANR/code/topic_modelling/txt/dumas/1852__La-comtesse-de-Charny', 7, 0.0001206670985278614), ('home/odysseus/Bureau/ANR/code/topic_modelling/txt/dumas/1852__La-comtesse-de-Charny', 19, 8.256169899274727e-05), ('home/odysseus/Bureau/ANR/code/topic_modelling/txt/dumas/1852__La-comtesse-de-Charny', 5, 6.562596586602988e-05), ('home/odysseus/Bureau/ANR/code/topic_modelling/txt/dumas/1852__La-comtesse-de-Charny', 14, 5.7158099302671186e-05), ('home/odysseus/Bureau/ANR/code/topic_modelling/txt/dumas/1852__La-comtesse-de-Charny', 2, 3.1754499612595105e-05), ('home/odysseus/Bureau/ANR/code/topic_modelling/txt/dumas/1852__La-comtesse-de-Charny', 0, 3.1754499612595105e-05), ('home/odysseus/Bureau/ANR/code/topic_modelling/txt/dumas/1845__Le-Comte-de-Monte-Cristo', 15, 0.22465305340377192), ('home/odysseus/Bureau/ANR/code/topic_modelling/txt/dumas/1845__Le-Comte-de-Monte-Cristo', 1, 0.16035502148742234), ('home/odysseus/Bureau/ANR/code/topic_modelling/txt/dumas/1845__Le-Comte-de-Monte-Cristo', 18, 0.14429648080730664), ('home/odysseus/Bureau/ANR/code/topic_modelling/txt/dumas/1845__Le-Comte-de-Monte-Cristo', 17, 0.13980282666812655), ('home/odysseus/Bureau/ANR/code/topic_modelling/txt/dumas/1845__Le-Comte-de-Monte-Cristo', 8, 0.13063759705836733), ('home/odysseus/Bureau/ANR/code/topic_modelling/txt/dumas/1845__Le-Comte-de-Monte-Cristo', 3, 0.12759468608290223), ('home/odysseus/Bureau/ANR/code/topic_modelling/txt/dumas/1845__Le-Comte-de-Monte-Cristo', 11, 0.04547258642870829), ('home/odysseus/Bureau/ANR/code/topic_modelling/txt/dumas/1845__Le-Comte-de-Monte-Cristo', 12, 0.01569129280376646), ('home/odysseus/Bureau/ANR/code/topic_modelling/txt/dumas/1845__Le-Comte-de-Monte-Cristo', 6, 0.009400177008914315), ('home/odysseus/Bureau/ANR/code/topic_modelling/txt/dumas/1845__Le-Comte-de-Monte-Cristo', 2, 0.0004904241827023969), ('home/odysseus/Bureau/ANR/code/topic_modelling/txt/dumas/1845__Le-Comte-de-Monte-Cristo', 13, 0.0003398753638263123), ('home/odysseus/Bureau/ANR/code/topic_modelling/txt/dumas/1845__Le-Comte-de-Monte-Cristo', 16, 0.00028969242420095076), ('home/odysseus/Bureau/ANR/code/topic_modelling/txt/dumas/1845__Le-Comte-de-Monte-Cristo', 5, 0.00020301280121168988), ('home/odysseus/Bureau/ANR/code/topic_modelling/txt/dumas/1845__Le-Comte-de-Monte-Cristo', 14, 0.00018476445952974024), ('home/odysseus/Bureau/ANR/code/topic_modelling/txt/dumas/1845__Le-Comte-de-Monte-Cristo', 4, 0.00014826777616584093), ('home/odysseus/Bureau/ANR/code/topic_modelling/txt/dumas/1845__Le-Comte-de-Monte-Cristo', 10, 0.00013458151990437868), ('home/odysseus/Bureau/ANR/code/topic_modelling/txt/dumas/1845__Le-Comte-de-Monte-Cristo', 7, 0.00013458151990437868), ('home/odysseus/Bureau/ANR/code/topic_modelling/txt/dumas/1845__Le-Comte-de-Monte-Cristo', 9, 9.352275111999197e-05), ('home/odysseus/Bureau/ANR/code/topic_modelling/txt/dumas/1845__Le-Comte-de-Monte-Cristo', 19, 5.702606775609267e-05), ('home/odysseus/Bureau/ANR/code/topic_modelling/txt/dumas/1845__Le-Comte-de-Monte-Cristo', 0, 2.0529384392193358e-05), ('home/odysseus/Bureau/ANR/code/topic_modelling/txt/dumas/1858__Black', 17, 0.1836507119574541), ('home/odysseus/Bureau/ANR/code/topic_modelling/txt/dumas/1858__Black', 1, 0.16024284706734526), ('home/odysseus/Bureau/ANR/code/topic_modelling/txt/dumas/1858__Black', 14, 0.1477192581155525), ('home/odysseus/Bureau/ANR/code/topic_modelling/txt/dumas/1858__Black', 3, 0.1405139055679457), ('home/odysseus/Bureau/ANR/code/topic_modelling/txt/dumas/1858__Black', 18, 0.13605344922895102), ('home/odysseus/Bureau/ANR/code/topic_modelling/txt/dumas/1858__Black', 8, 0.11253121366348334), ('home/odysseus/Bureau/ANR/code/topic_modelling/txt/dumas/1858__Black', 6, 0.04772116429347515), ('home/odysseus/Bureau/ANR/code/topic_modelling/txt/dumas/1858__Black', 11, 0.04358475820133051), ('home/odysseus/Bureau/ANR/code/topic_modelling/txt/dumas/1858__Black', 12, 0.023017098415966147), ('home/odysseus/Bureau/ANR/code/topic_modelling/txt/dumas/1858__Black', 16, 0.0012866700977869274), ('home/odysseus/Bureau/ANR/code/topic_modelling/txt/dumas/1858__Black', 19, 0.0012485465393339815), ('home/odysseus/Bureau/ANR/code/topic_modelling/txt/dumas/1858__Black', 9, 0.0005432607079544805), ('home/odysseus/Bureau/ANR/code/topic_modelling/txt/dumas/1858__Black', 5, 0.0003335811364632775), ('home/odysseus/Bureau/ANR/code/topic_modelling/txt/dumas/1858__Black', 2, 0.0003335811364632775), ('home/odysseus/Bureau/ANR/code/topic_modelling/txt/dumas/1858__Black', 10, 0.00031451935723680446), ('home/odysseus/Bureau/ANR/code/topic_modelling/txt/dumas/1858__Black', 4, 0.0002573340195573855), ('home/odysseus/Bureau/ANR/code/topic_modelling/txt/dumas/1858__Black', 0, 0.0002192104611044395), ('home/odysseus/Bureau/ANR/code/topic_modelling/txt/dumas/1858__Black', 13, 0.00020014868187796648), ('home/odysseus/Bureau/ANR/code/topic_modelling/txt/dumas/1858__Black', 15, 0.0001429633441985475), ('home/odysseus/Bureau/ANR/code/topic_modelling/txt/dumas/1858__Black', 7, 8.577800651912849e-05), ('home/odysseus/Bureau/ANR/code/topic_modelling/txt/dumas/1854__Le-page-du-duc-de-Savoie-I', 7, 0.25383757100351634), ('home/odysseus/Bureau/ANR/code/topic_modelling/txt/dumas/1854__Le-page-du-duc-de-Savoie-I', 8, 0.15639369759264268), ('home/odysseus/Bureau/ANR/code/topic_modelling/txt/dumas/1854__Le-page-du-duc-de-Savoie-I', 3, 0.12680889910738435), ('home/odysseus/Bureau/ANR/code/topic_modelling/txt/dumas/1854__Le-page-du-duc-de-Savoie-I', 1, 0.12160197457397891), ('home/odysseus/Bureau/ANR/code/topic_modelling/txt/dumas/1854__Le-page-du-duc-de-Savoie-I', 17, 0.10368203949147958), ('home/odysseus/Bureau/ANR/code/topic_modelling/txt/dumas/1854__Le-page-du-duc-de-Savoie-I', 18, 0.09397822558831485), ('home/odysseus/Bureau/ANR/code/topic_modelling/txt/dumas/1854__Le-page-du-duc-de-Savoie-I', 11, 0.08721598593454152), ('home/odysseus/Bureau/ANR/code/topic_modelling/txt/dumas/1854__Le-page-du-duc-de-Savoie-I', 12, 0.044918176900189344), ('home/odysseus/Bureau/ANR/code/topic_modelling/txt/dumas/1854__Le-page-du-duc-de-Savoie-I', 4, 0.0038713822017852314), ('home/odysseus/Bureau/ANR/code/topic_modelling/txt/dumas/1854__Le-page-du-duc-de-Savoie-I', 6, 0.0029584798485258316), ('home/odysseus/Bureau/ANR/code/topic_modelling/txt/dumas/1854__Le-page-du-duc-de-Savoie-I', 5, 0.0012679199350824992), ('home/odysseus/Bureau/ANR/code/topic_modelling/txt/dumas/1854__Le-page-du-duc-de-Savoie-I', 15, 0.0008621855558560996), ('home/odysseus/Bureau/ANR/code/topic_modelling/txt/dumas/1854__Le-page-du-duc-de-Savoie-I', 10, 0.00045645117662969977), ('home/odysseus/Bureau/ANR/code/topic_modelling/txt/dumas/1854__Le-page-du-duc-de-Savoie-I', 9, 0.0004226399783608331), ('home/odysseus/Bureau/ANR/code/topic_modelling/txt/dumas/1854__Le-page-du-duc-de-Savoie-I', 2, 0.00038882878009196647), ('home/odysseus/Bureau/ANR/code/topic_modelling/txt/dumas/1854__Le-page-du-duc-de-Savoie-I', 19, 0.0003212063835542332), ('home/odysseus/Bureau/ANR/code/topic_modelling/txt/dumas/1854__Le-page-du-duc-de-Savoie-I', 14, 0.0003212063835542332), ('home/odysseus/Bureau/ANR/code/topic_modelling/txt/dumas/1854__Le-page-du-duc-de-Savoie-I', 0, 0.0002873951852853665), ('home/odysseus/Bureau/ANR/code/topic_modelling/txt/dumas/1854__Le-page-du-duc-de-Savoie-I', 16, 0.00021977278874763323), ('home/odysseus/Bureau/ANR/code/topic_modelling/txt/dumas/1854__Le-page-du-duc-de-Savoie-I', 13, 0.00018596159047876658), ('home/odysseus/Bureau/ANR/code/topic_modelling/txt/dumas/1848__La-dame-aux-camelias', 18, 0.29963946869070207), ('home/odysseus/Bureau/ANR/code/topic_modelling/txt/dumas/1848__La-dame-aux-camelias', 17, 0.2972106261859582), ('home/odysseus/Bureau/ANR/code/topic_modelling/txt/dumas/1848__La-dame-aux-camelias', 1, 0.1427134724857685), ('home/odysseus/Bureau/ANR/code/topic_modelling/txt/dumas/1848__La-dame-aux-camelias', 2, 0.10829222011385199), ('home/odysseus/Bureau/ANR/code/topic_modelling/txt/dumas/1848__La-dame-aux-camelias', 8, 0.06905123339658444), ('home/odysseus/Bureau/ANR/code/topic_modelling/txt/dumas/1848__La-dame-aux-camelias', 3, 0.0605123339658444), ('home/odysseus/Bureau/ANR/code/topic_modelling/txt/dumas/1848__La-dame-aux-camelias', 11, 0.014819734345351044), ('home/odysseus/Bureau/ANR/code/topic_modelling/txt/dumas/1848__La-dame-aux-camelias', 12, 0.0024857685009487666), ('home/odysseus/Bureau/ANR/code/topic_modelling/txt/dumas/1848__La-dame-aux-camelias', 15, 0.0014231499051233396), ('home/odysseus/Bureau/ANR/code/topic_modelling/txt/dumas/1848__La-dame-aux-camelias', 6, 0.0008538899430740038), ('home/odysseus/Bureau/ANR/code/topic_modelling/txt/dumas/1848__La-dame-aux-camelias', 10, 0.0005123339658444023), ('home/odysseus/Bureau/ANR/code/topic_modelling/txt/dumas/1848__La-dame-aux-camelias', 4, 0.0004364326375711575), ('home/odysseus/Bureau/ANR/code/topic_modelling/txt/dumas/1848__La-dame-aux-camelias', 9, 0.0003984819734345351), ('home/odysseus/Bureau/ANR/code/topic_modelling/txt/dumas/1848__La-dame-aux-camelias', 19, 0.0003225806451612903), ('home/odysseus/Bureau/ANR/code/topic_modelling/txt/dumas/1848__La-dame-aux-camelias', 16, 0.0003225806451612903), ('home/odysseus/Bureau/ANR/code/topic_modelling/txt/dumas/1848__La-dame-aux-camelias', 7, 0.0003225806451612903), ('home/odysseus/Bureau/ANR/code/topic_modelling/txt/dumas/1848__La-dame-aux-camelias', 0, 0.0002846299810246679), ('home/odysseus/Bureau/ANR/code/topic_modelling/txt/dumas/1848__La-dame-aux-camelias', 14, 0.00013282732447817837), ('home/odysseus/Bureau/ANR/code/topic_modelling/txt/dumas/1848__La-dame-aux-camelias', 13, 0.00013282732447817837), ('home/odysseus/Bureau/ANR/code/topic_modelling/txt/dumas/1848__La-dame-aux-camelias', 5, 0.00013282732447817837), ('home/odysseus/Bureau/ANR/code/topic_modelling/txt/dumas/1845__La-Reine-Margot', 4, 0.28489878154082315), ('home/odysseus/Bureau/ANR/code/topic_modelling/txt/dumas/1845__La-Reine-Margot', 3, 0.1613685545854787), ('home/odysseus/Bureau/ANR/code/topic_modelling/txt/dumas/1845__La-Reine-Margot', 18, 0.14788342021384332), ('home/odysseus/Bureau/ANR/code/topic_modelling/txt/dumas/1845__La-Reine-Margot', 8, 0.13912074791859882), ('home/odysseus/Bureau/ANR/code/topic_modelling/txt/dumas/1845__La-Reine-Margot', 1, 0.1220537912948927), ('home/odysseus/Bureau/ANR/code/topic_modelling/txt/dumas/1845__La-Reine-Margot', 17, 0.09923033462321575), ('home/odysseus/Bureau/ANR/code/topic_modelling/txt/dumas/1845__La-Reine-Margot', 11, 0.03760380355410577), ('home/odysseus/Bureau/ANR/code/topic_modelling/txt/dumas/1845__La-Reine-Margot', 12, 0.004791753280672018), ('home/odysseus/Bureau/ANR/code/topic_modelling/txt/dumas/1845__La-Reine-Margot', 6, 0.001380493992985598), ('home/odysseus/Bureau/ANR/code/topic_modelling/txt/dumas/1845__La-Reine-Margot', 9, 0.00030381528030957176), ('home/odysseus/Bureau/ANR/code/topic_modelling/txt/dumas/1845__La-Reine-Margot', 7, 0.00021853379811741127), ('home/odysseus/Bureau/ANR/code/topic_modelling/txt/dumas/1845__La-Reine-Margot', 0, 0.0002078736128433912), ('home/odysseus/Bureau/ANR/code/topic_modelling/txt/dumas/1845__La-Reine-Margot', 5, 0.00016523287174731097), ('home/odysseus/Bureau/ANR/code/topic_modelling/txt/dumas/1845__La-Reine-Margot', 2, 0.00014391250119927083), ('home/odysseus/Bureau/ANR/code/topic_modelling/txt/dumas/1845__La-Reine-Margot', 16, 0.00013325231592525077), ('home/odysseus/Bureau/ANR/code/topic_modelling/txt/dumas/1845__La-Reine-Margot', 15, 0.00013325231592525077), ('home/odysseus/Bureau/ANR/code/topic_modelling/txt/dumas/1845__La-Reine-Margot', 19, 0.0001012717601031906), ('home/odysseus/Bureau/ANR/code/topic_modelling/txt/dumas/1845__La-Reine-Margot', 14, 0.0001012717601031906), ('home/odysseus/Bureau/ANR/code/topic_modelling/txt/dumas/1845__La-Reine-Margot', 13, 9.061157482917053e-05), ('home/odysseus/Bureau/ANR/code/topic_modelling/txt/dumas/1845__La-Reine-Margot', 10, 6.929120428113041e-05), ('home/odysseus/Bureau/ANR/code/topic_modelling/txt/dumas/1844__Les-Trois-Mousquetaires', 0, 0.23908547794117646), ('home/odysseus/Bureau/ANR/code/topic_modelling/txt/dumas/1844__Les-Trois-Mousquetaires', 18, 0.16559602781329924), ('home/odysseus/Bureau/ANR/code/topic_modelling/txt/dumas/1844__Les-Trois-Mousquetaires', 8, 0.15199908088235295), ('home/odysseus/Bureau/ANR/code/topic_modelling/txt/dumas/1844__Les-Trois-Mousquetaires', 1, 0.14280790441176472), ('home/odysseus/Bureau/ANR/code/topic_modelling/txt/dumas/1844__Les-Trois-Mousquetaires', 3, 0.12701306745524296), ('home/odysseus/Bureau/ANR/code/topic_modelling/txt/dumas/1844__Les-Trois-Mousquetaires', 17, 0.1070122682225064), ('home/odysseus/Bureau/ANR/code/topic_modelling/txt/dumas/1844__Les-Trois-Mousquetaires', 11, 0.051615449168797956), ('home/odysseus/Bureau/ANR/code/topic_modelling/txt/dumas/1844__Les-Trois-Mousquetaires', 12, 0.009515864769820971), ('home/odysseus/Bureau/ANR/code/topic_modelling/txt/dumas/1844__Les-Trois-Mousquetaires', 6, 0.003381753516624041), ('home/odysseus/Bureau/ANR/code/topic_modelling/txt/dumas/1844__Les-Trois-Mousquetaires', 4, 0.0004046115728900256), ('home/odysseus/Bureau/ANR/code/topic_modelling/txt/dumas/1844__Les-Trois-Mousquetaires', 19, 0.00034466911764705885), ('home/odysseus/Bureau/ANR/code/topic_modelling/txt/dumas/1844__Les-Trois-Mousquetaires', 9, 0.0002147937979539642), ('home/odysseus/Bureau/ANR/code/topic_modelling/txt/dumas/1844__Les-Trois-Mousquetaires', 7, 0.0002147937979539642), ('home/odysseus/Bureau/ANR/code/topic_modelling/txt/dumas/1844__Les-Trois-Mousquetaires', 10, 0.00020480338874680307), ('home/odysseus/Bureau/ANR/code/topic_modelling/txt/dumas/1844__Les-Trois-Mousquetaires', 16, 0.0001748321611253197), ('home/odysseus/Bureau/ANR/code/topic_modelling/txt/dumas/1844__Les-Trois-Mousquetaires', 14, 0.00015485134271099745), ('home/odysseus/Bureau/ANR/code/topic_modelling/txt/dumas/1844__Les-Trois-Mousquetaires', 13, 9.490888746803068e-05), ('home/odysseus/Bureau/ANR/code/topic_modelling/txt/dumas/1844__Les-Trois-Mousquetaires', 2, 8.491847826086956e-05), ('home/odysseus/Bureau/ANR/code/topic_modelling/txt/dumas/1844__Les-Trois-Mousquetaires', 15, 4.4956841432225065e-05), ('home/odysseus/Bureau/ANR/code/topic_modelling/txt/dumas/1844__Les-Trois-Mousquetaires', 5, 3.496643222506394e-05), ('home/odysseus/Bureau/ANR/code/topic_modelling/txt/dumas/1859__Les-Louves-de-Machecoul', 19, 0.27557437295441206), ('home/odysseus/Bureau/ANR/code/topic_modelling/txt/dumas/1859__Les-Louves-de-Machecoul', 3, 0.14624898474504033), ('home/odysseus/Bureau/ANR/code/topic_modelling/txt/dumas/1859__Les-Louves-de-Machecoul', 8, 0.14565390461026273), ('home/odysseus/Bureau/ANR/code/topic_modelling/txt/dumas/1859__Les-Louves-de-Machecoul', 18, 0.12888711973173145), ('home/odysseus/Bureau/ANR/code/topic_modelling/txt/dumas/1859__Les-Louves-de-Machecoul', 1, 0.12421493651138292), ('home/odysseus/Bureau/ANR/code/topic_modelling/txt/dumas/1859__Les-Louves-de-Machecoul', 17, 0.09666433459586822), ('home/odysseus/Bureau/ANR/code/topic_modelling/txt/dumas/1859__Les-Louves-de-Machecoul', 11, 0.05013550135501355), ('home/odysseus/Bureau/ANR/code/topic_modelling/txt/dumas/1859__Les-Louves-de-Machecoul', 12, 0.01947279116708081), ('home/odysseus/Bureau/ANR/code/topic_modelling/txt/dumas/1859__Les-Louves-de-Machecoul', 6, 0.0115598336992272), ('home/odysseus/Bureau/ANR/code/topic_modelling/txt/dumas/1859__Les-Louves-de-Machecoul', 13, 0.00048651821829791), ('home/odysseus/Bureau/ANR/code/topic_modelling/txt/dumas/1859__Les-Louves-de-Machecoul', 16, 0.00020506139779498685), ('home/odysseus/Bureau/ANR/code/topic_modelling/txt/dumas/1859__Les-Louves-de-Machecoul', 0, 0.00018093652746616488), ('home/odysseus/Bureau/ANR/code/topic_modelling/txt/dumas/1859__Les-Louves-de-Machecoul', 9, 0.00017289490402322421), ('home/odysseus/Bureau/ANR/code/topic_modelling/txt/dumas/1859__Les-Louves-de-Machecoul', 5, 0.00012464516336558026), ('home/odysseus/Bureau/ANR/code/topic_modelling/txt/dumas/1859__Les-Louves-de-Machecoul', 10, 9.24786695938176e-05), ('home/odysseus/Bureau/ANR/code/topic_modelling/txt/dumas/1859__Les-Louves-de-Machecoul', 15, 8.443704615087693e-05), ('home/odysseus/Bureau/ANR/code/topic_modelling/txt/dumas/1859__Les-Louves-de-Machecoul', 14, 8.443704615087693e-05), ('home/odysseus/Bureau/ANR/code/topic_modelling/txt/dumas/1859__Les-Louves-de-Machecoul', 7, 8.443704615087693e-05), ('home/odysseus/Bureau/ANR/code/topic_modelling/txt/dumas/1859__Les-Louves-de-Machecoul', 2, 4.422892893617363e-05), ('home/odysseus/Bureau/ANR/code/topic_modelling/txt/dumas/1859__Les-Louves-de-Machecoul', 4, 2.814568205029231e-05), ('home/odysseus/Bureau/ANR/code/topic_modelling/txt/dumas/1850__Le-Vicomte-de-Bragelonne', 9, 0.2560254290571222), ('home/odysseus/Bureau/ANR/code/topic_modelling/txt/dumas/1850__Le-Vicomte-de-Bragelonne', 18, 0.20338754694761493), ('home/odysseus/Bureau/ANR/code/topic_modelling/txt/dumas/1850__Le-Vicomte-de-Bragelonne', 1, 0.14404975366016745), ('home/odysseus/Bureau/ANR/code/topic_modelling/txt/dumas/1850__Le-Vicomte-de-Bragelonne', 3, 0.12097265145491864), ('home/odysseus/Bureau/ANR/code/topic_modelling/txt/dumas/1850__Le-Vicomte-de-Bragelonne', 8, 0.1042827535503874), ('home/odysseus/Bureau/ANR/code/topic_modelling/txt/dumas/1850__Le-Vicomte-de-Bragelonne', 17, 0.0987471764897655), ('home/odysseus/Bureau/ANR/code/topic_modelling/txt/dumas/1850__Le-Vicomte-de-Bragelonne', 11, 0.05365750612938746), ('home/odysseus/Bureau/ANR/code/topic_modelling/txt/dumas/1850__Le-Vicomte-de-Bragelonne', 12, 0.006694921174580258), ('home/odysseus/Bureau/ANR/code/topic_modelling/txt/dumas/1850__Le-Vicomte-de-Bragelonne', 0, 0.005547220401795071), ('home/odysseus/Bureau/ANR/code/topic_modelling/txt/dumas/1850__Le-Vicomte-de-Bragelonne', 6, 0.005334313591771151), ('home/odysseus/Bureau/ANR/code/topic_modelling/txt/dumas/1850__Le-Vicomte-de-Bragelonne', 4, 0.0005638703796727224), ('home/odysseus/Bureau/ANR/code/topic_modelling/txt/dumas/1850__Le-Vicomte-de-Bragelonne', 19, 0.000148036766344756), ('home/odysseus/Bureau/ANR/code/topic_modelling/txt/dumas/1850__Le-Vicomte-de-Bragelonne', 7, 0.0001347300907182611), ('home/odysseus/Bureau/ANR/code/topic_modelling/txt/dumas/1850__Le-Vicomte-de-Bragelonne', 14, 0.00010479007055864751), ('home/odysseus/Bureau/ANR/code/topic_modelling/txt/dumas/1850__Le-Vicomte-de-Bragelonne', 16, 8.815672602552885e-05), ('home/odysseus/Bureau/ANR/code/topic_modelling/txt/dumas/1850__Le-Vicomte-de-Bragelonne', 13, 7.485005039903394e-05), ('home/odysseus/Bureau/ANR/code/topic_modelling/txt/dumas/1850__Le-Vicomte-de-Bragelonne', 15, 6.487004367916274e-05), ('home/odysseus/Bureau/ANR/code/topic_modelling/txt/dumas/1850__Le-Vicomte-de-Bragelonne', 10, 5.8216705865915285e-05), ('home/odysseus/Bureau/ANR/code/topic_modelling/txt/dumas/1850__Le-Vicomte-de-Bragelonne', 5, 4.158336133279663e-05), ('home/odysseus/Bureau/ANR/code/topic_modelling/txt/dumas/1850__Le-Vicomte-de-Bragelonne', 2, 2.162334789305425e-05)]\n"
     ]
    }
   ],
   "source": [
    "print(doctopic_triples)"
   ]
  },
  {
   "cell_type": "code",
   "execution_count": 7,
   "metadata": {},
   "outputs": [],
   "source": [
    "mallet_docnames = sorted(mallet_docnames)"
   ]
  },
  {
   "cell_type": "code",
   "execution_count": 8,
   "metadata": {},
   "outputs": [],
   "source": [
    "num_docs = len(mallet_docnames)"
   ]
  },
  {
   "cell_type": "code",
   "execution_count": 9,
   "metadata": {},
   "outputs": [],
   "source": [
    "doctopic_triples = sorted(doctopic_triples, key=operator.itemgetter(0,1))"
   ]
  },
  {
   "cell_type": "code",
   "execution_count": 10,
   "metadata": {},
   "outputs": [
    {
     "name": "stdout",
     "output_type": "stream",
     "text": [
      "360\n",
      "20\n"
     ]
    }
   ],
   "source": [
    "num_topics = len(doctopic_triples) // len(mallet_docnames)\n",
    "print(len(doctopic_triples))\n",
    "print(num_topics)"
   ]
  },
  {
   "cell_type": "code",
   "execution_count": 11,
   "metadata": {},
   "outputs": [],
   "source": [
    "doctopic = np.zeros((num_docs, num_topics))"
   ]
  },
  {
   "cell_type": "code",
   "execution_count": 12,
   "metadata": {},
   "outputs": [],
   "source": [
    "for triple in doctopic_triples:\n",
    "    docname, topic, share = triple\n",
    "    row_num = mallet_docnames.index(docname)\n",
    "    doctopic[row_num, topic] = share"
   ]
  },
  {
   "cell_type": "code",
   "execution_count": 13,
   "metadata": {},
   "outputs": [],
   "source": [
    "novel_names = []"
   ]
  },
  {
   "cell_type": "code",
   "execution_count": 14,
   "metadata": {},
   "outputs": [
    {
     "name": "stdout",
     "output_type": "stream",
     "text": [
      "18\n"
     ]
    }
   ],
   "source": [
    "for fn in mallet_docnames:\n",
    "    basename = os.path.basename(fn)\n",
    "    name, ext = os.path.splitext(basename)\n",
    "    name = name.rstrip('0123456789')\n",
    "    novel_names.append(name)\n",
    "print(len(novel_names))"
   ]
  },
  {
   "cell_type": "code",
   "execution_count": 15,
   "metadata": {},
   "outputs": [],
   "source": [
    "novel_names = np.asarray(novel_names)"
   ]
  },
  {
   "cell_type": "code",
   "execution_count": 16,
   "metadata": {},
   "outputs": [
    {
     "data": {
      "text/plain": [
       "array([[  2.39085478e-01,   1.42807904e-01,   8.49184783e-05,\n",
       "          1.27013067e-01,   4.04611573e-04,   3.49664322e-05,\n",
       "          3.38175352e-03,   2.14793798e-04,   1.51999081e-01,\n",
       "          2.14793798e-04,   2.04803389e-04,   5.16154492e-02,\n",
       "          9.51586477e-03,   9.49088875e-05,   1.54851343e-04,\n",
       "          4.49568414e-05,   1.74832161e-04,   1.07012268e-01,\n",
       "          1.65596028e-01,   3.44669118e-04],\n",
       "       [  2.07873613e-04,   1.22053791e-01,   1.43912501e-04,\n",
       "          1.61368555e-01,   2.84898782e-01,   1.65232872e-04,\n",
       "          1.38049399e-03,   2.18533798e-04,   1.39120748e-01,\n",
       "          3.03815280e-04,   6.92912043e-05,   3.76038036e-02,\n",
       "          4.79175328e-03,   9.06115748e-05,   1.01271760e-04,\n",
       "          1.33252316e-04,   1.33252316e-04,   9.92303346e-02,\n",
       "          1.47883420e-01,   1.01271760e-04],\n",
       "       [  2.05293844e-05,   1.60355021e-01,   4.90424183e-04,\n",
       "          1.27594686e-01,   1.48267776e-04,   2.03012801e-04,\n",
       "          9.40017701e-03,   1.34581520e-04,   1.30637597e-01,\n",
       "          9.35227511e-05,   1.34581520e-04,   4.54725864e-02,\n",
       "          1.56912928e-02,   3.39875364e-04,   1.84764460e-04,\n",
       "          2.24653053e-01,   2.89692424e-04,   1.39802827e-01,\n",
       "          1.44296481e-01,   5.70260678e-05],\n",
       "       [  2.69470840e-01,   1.26275470e-01,   1.15589426e-04,\n",
       "          1.15545582e-01,   3.46768279e-04,   1.23561111e-04,\n",
       "          4.18912024e-03,   1.39504480e-04,   1.82388157e-01,\n",
       "          6.25378655e-03,   1.79362903e-04,   5.11981442e-02,\n",
       "          1.60350435e-02,   9.96460572e-05,   7.57310035e-05,\n",
       "          1.47476165e-04,   3.70683333e-04,   7.21716463e-02,\n",
       "          1.54399573e-01,   4.74315232e-04],\n",
       "       [  2.84629981e-04,   1.42713472e-01,   1.08292220e-01,\n",
       "          6.05123340e-02,   4.36432638e-04,   1.32827324e-04,\n",
       "          8.53889943e-04,   3.22580645e-04,   6.90512334e-02,\n",
       "          3.98481973e-04,   5.12333966e-04,   1.48197343e-02,\n",
       "          2.48576850e-03,   1.32827324e-04,   1.32827324e-04,\n",
       "          1.42314991e-03,   3.22580645e-04,   2.97210626e-01,\n",
       "          2.99639469e-01,   3.22580645e-04],\n",
       "       [  7.34494814e-05,   1.36219408e-01,   3.67247407e-04,\n",
       "          1.36807004e-01,   4.55386785e-04,   2.20348444e-04,\n",
       "          2.30631372e-03,   7.34494814e-05,   1.24114934e-01,\n",
       "          5.43526163e-04,   4.26006992e-04,   6.37394600e-02,\n",
       "          1.77307048e-02,   2.20348444e-04,   2.62170579e-01,\n",
       "          4.84766578e-04,   1.90968652e-04,   1.14155184e-01,\n",
       "          1.39245527e-01,   4.55386785e-04],\n",
       "       [  2.48300099e-04,   1.40404156e-01,   2.22954389e-01,\n",
       "          1.62330965e-01,   2.19650088e-03,   6.68500267e-04,\n",
       "          7.62090305e-03,   5.53900222e-04,   9.15845366e-02,\n",
       "          4.39300176e-04,   8.49950340e-03,   4.10841164e-02,\n",
       "          4.75399190e-02,   1.69990068e-03,   2.54030102e-03,\n",
       "          1.05050042e-03,   1.50890060e-03,   1.61184964e-01,\n",
       "          1.04572542e-01,   1.31790053e-03],\n",
       "       [  5.54722040e-03,   1.44049754e-01,   2.16233479e-05,\n",
       "          1.20972651e-01,   5.63870380e-04,   4.15833613e-05,\n",
       "          5.33431359e-03,   1.34730091e-04,   1.04282754e-01,\n",
       "          2.56025429e-01,   5.82167059e-05,   5.36575061e-02,\n",
       "          6.69492117e-03,   7.48500504e-05,   1.04790071e-04,\n",
       "          6.48700437e-05,   8.81567260e-05,   9.87471765e-02,\n",
       "          2.03387547e-01,   1.48036766e-04],\n",
       "       [  3.17544996e-05,   1.09229128e-01,   3.17544996e-05,\n",
       "          1.14534246e-01,   4.67849628e-04,   6.56259659e-05,\n",
       "          1.41625068e-03,   1.20667099e-04,   1.41910859e-01,\n",
       "          1.75708231e-04,   3.70680859e-03,   7.61536410e-02,\n",
       "          9.26575129e-02,   7.34587424e-04,   5.71580993e-05,\n",
       "          3.06960163e-04,   2.35633206e-01,   1.21469429e-01,\n",
       "          1.01214292e-01,   8.25616990e-05],\n",
       "       [  2.87395185e-04,   1.21601975e-01,   3.88828780e-04,\n",
       "          1.26808899e-01,   3.87138220e-03,   1.26791994e-03,\n",
       "          2.95847985e-03,   2.53837571e-01,   1.56393698e-01,\n",
       "          4.22639978e-04,   4.56451177e-04,   8.72159859e-02,\n",
       "          4.49181769e-02,   1.85961590e-04,   3.21206384e-04,\n",
       "          8.62185556e-04,   2.19772789e-04,   1.03682039e-01,\n",
       "          9.39782256e-02,   3.21206384e-04],\n",
       "       [  2.19210461e-04,   1.60242847e-01,   3.33581136e-04,\n",
       "          1.40513906e-01,   2.57334020e-04,   3.33581136e-04,\n",
       "          4.77211643e-02,   8.57780065e-05,   1.12531214e-01,\n",
       "          5.43260708e-04,   3.14519357e-04,   4.35847582e-02,\n",
       "          2.30170984e-02,   2.00148682e-04,   1.47719258e-01,\n",
       "          1.42963344e-04,   1.28667010e-03,   1.83650712e-01,\n",
       "          1.36053449e-01,   1.24854654e-03],\n",
       "       [  4.62651413e-04,   1.35052153e-01,   4.66857335e-03,\n",
       "          1.37407470e-01,   3.78532974e-04,   7.99125168e-04,\n",
       "          2.83521198e-01,   6.30888291e-04,   1.25715007e-01,\n",
       "          1.47207268e-03,   1.13559892e-03,   4.59707268e-02,\n",
       "          7.94919246e-03,   1.30383580e-03,   1.38795424e-03,\n",
       "          6.30888291e-04,   3.78532974e-04,   1.20415545e-01,\n",
       "          1.30257402e-01,   4.62651413e-04],\n",
       "       [  1.44282299e-04,   9.50408113e-02,   2.41136945e-01,\n",
       "          1.85608871e-01,   3.91623382e-04,   2.67952840e-04,\n",
       "          1.14395251e-02,   3.09176354e-04,   1.63801632e-01,\n",
       "          1.44282299e-04,   2.67952840e-04,   6.58545634e-02,\n",
       "          2.20751917e-02,   1.85505813e-04,   2.67952840e-04,\n",
       "          2.67952840e-04,   3.09176354e-04,   1.10499629e-01,\n",
       "          1.01265562e-01,   7.21411493e-04],\n",
       "       [  1.80936527e-04,   1.24214937e-01,   4.42289289e-05,\n",
       "          1.46248985e-01,   2.81456821e-05,   1.24645163e-04,\n",
       "          1.15598337e-02,   8.44370462e-05,   1.45653905e-01,\n",
       "          1.72894904e-04,   9.24786696e-05,   5.01355014e-02,\n",
       "          1.94727912e-02,   4.86518218e-04,   8.44370462e-05,\n",
       "          8.44370462e-05,   2.05061398e-04,   9.66643346e-02,\n",
       "          1.28887120e-01,   2.75574373e-01],\n",
       "       [  7.45210589e-05,   9.98448433e-02,   6.68778734e-05,\n",
       "          1.05107177e-01,   3.07638217e-04,   2.15883686e-01,\n",
       "          4.07190709e-03,   5.44576969e-04,   1.54088531e-01,\n",
       "          1.01272208e-04,   5.33112190e-04,   1.45096323e-01,\n",
       "          8.58310627e-02,   8.38839612e-04,   5.92346878e-05,\n",
       "          2.19741584e-04,   4.75788299e-04,   9.82627039e-02,\n",
       "          8.84221026e-02,   1.70060878e-04],\n",
       "       [  2.74033192e-04,   9.12338224e-02,   3.70185189e-04,\n",
       "          1.06108536e-01,   1.39420396e-04,   6.10565181e-04,\n",
       "          7.92773216e-03,   3.41339590e-04,   1.68991942e-01,\n",
       "          1.20189996e-04,   3.61050749e-03,   1.04445107e-01,\n",
       "          1.24704333e-01,   2.18048691e-01,   2.54802792e-04,\n",
       "          1.49035595e-04,   1.87977154e-03,   8.97530817e-02,\n",
       "          8.05609508e-02,   4.75952386e-04],\n",
       "       [  2.01946025e-04,   1.36533872e-01,   7.89425372e-04,\n",
       "          1.23021847e-01,   5.32403158e-04,   2.01946025e-04,\n",
       "          1.70736185e-03,   2.38663484e-04,   1.36203415e-01,\n",
       "          1.65228566e-04,   1.95355241e-01,   5.88764457e-02,\n",
       "          5.20469983e-02,   8.99577749e-04,   6.05838076e-04,\n",
       "          1.08316504e-03,   1.19331742e-03,   1.82136956e-01,\n",
       "          1.07673949e-01,   5.32403158e-04],\n",
       "       [  1.10784034e-04,   7.75646504e-02,   3.00699522e-04,\n",
       "          9.28528471e-02,   4.58962428e-04,   8.70445985e-04,\n",
       "          2.19985440e-03,   8.07140822e-04,   1.37451334e-01,\n",
       "          6.80530497e-04,   2.03415314e-01,   1.02411927e-01,\n",
       "          1.87525718e-01,   6.44130029e-03,   3.00699522e-04,\n",
       "          1.74089197e-04,   1.40379198e-02,   1.05355617e-01,\n",
       "          6.69293831e-02,   1.10784034e-04]])"
      ]
     },
     "execution_count": 16,
     "metadata": {},
     "output_type": "execute_result"
    }
   ],
   "source": [
    "doctopic"
   ]
  },
  {
   "cell_type": "code",
   "execution_count": 17,
   "metadata": {},
   "outputs": [],
   "source": [
    "doctopic_orig = doctopic.copy()"
   ]
  },
  {
   "cell_type": "code",
   "execution_count": 18,
   "metadata": {},
   "outputs": [
    {
     "name": "stdout",
     "output_type": "stream",
     "text": [
      "18\n"
     ]
    }
   ],
   "source": [
    "num_groups = len(set(novel_names))\n",
    "print(num_groups)"
   ]
  },
  {
   "cell_type": "code",
   "execution_count": 19,
   "metadata": {},
   "outputs": [],
   "source": [
    "doctopic_grouped = np.zeros((num_groups, num_topics))"
   ]
  },
  {
   "cell_type": "code",
   "execution_count": 20,
   "metadata": {},
   "outputs": [],
   "source": [
    "for i, name in enumerate(sorted(set(novel_names))):\n",
    "    doctopic_grouped[i, :] = np.mean(doctopic[novel_names == name, :], axis=0)"
   ]
  },
  {
   "cell_type": "code",
   "execution_count": 21,
   "metadata": {},
   "outputs": [],
   "source": [
    "doctopic = doctopic_grouped"
   ]
  },
  {
   "cell_type": "code",
   "execution_count": 22,
   "metadata": {},
   "outputs": [
    {
     "data": {
      "text/plain": [
       "array([[  2.39085478e-01,   1.42807904e-01,   8.49184783e-05,\n",
       "          1.27013067e-01,   4.04611573e-04,   3.49664322e-05,\n",
       "          3.38175352e-03,   2.14793798e-04,   1.51999081e-01,\n",
       "          2.14793798e-04,   2.04803389e-04,   5.16154492e-02,\n",
       "          9.51586477e-03,   9.49088875e-05,   1.54851343e-04,\n",
       "          4.49568414e-05,   1.74832161e-04,   1.07012268e-01,\n",
       "          1.65596028e-01,   3.44669118e-04],\n",
       "       [  2.07873613e-04,   1.22053791e-01,   1.43912501e-04,\n",
       "          1.61368555e-01,   2.84898782e-01,   1.65232872e-04,\n",
       "          1.38049399e-03,   2.18533798e-04,   1.39120748e-01,\n",
       "          3.03815280e-04,   6.92912043e-05,   3.76038036e-02,\n",
       "          4.79175328e-03,   9.06115748e-05,   1.01271760e-04,\n",
       "          1.33252316e-04,   1.33252316e-04,   9.92303346e-02,\n",
       "          1.47883420e-01,   1.01271760e-04],\n",
       "       [  2.05293844e-05,   1.60355021e-01,   4.90424183e-04,\n",
       "          1.27594686e-01,   1.48267776e-04,   2.03012801e-04,\n",
       "          9.40017701e-03,   1.34581520e-04,   1.30637597e-01,\n",
       "          9.35227511e-05,   1.34581520e-04,   4.54725864e-02,\n",
       "          1.56912928e-02,   3.39875364e-04,   1.84764460e-04,\n",
       "          2.24653053e-01,   2.89692424e-04,   1.39802827e-01,\n",
       "          1.44296481e-01,   5.70260678e-05],\n",
       "       [  2.69470840e-01,   1.26275470e-01,   1.15589426e-04,\n",
       "          1.15545582e-01,   3.46768279e-04,   1.23561111e-04,\n",
       "          4.18912024e-03,   1.39504480e-04,   1.82388157e-01,\n",
       "          6.25378655e-03,   1.79362903e-04,   5.11981442e-02,\n",
       "          1.60350435e-02,   9.96460572e-05,   7.57310035e-05,\n",
       "          1.47476165e-04,   3.70683333e-04,   7.21716463e-02,\n",
       "          1.54399573e-01,   4.74315232e-04],\n",
       "       [  2.84629981e-04,   1.42713472e-01,   1.08292220e-01,\n",
       "          6.05123340e-02,   4.36432638e-04,   1.32827324e-04,\n",
       "          8.53889943e-04,   3.22580645e-04,   6.90512334e-02,\n",
       "          3.98481973e-04,   5.12333966e-04,   1.48197343e-02,\n",
       "          2.48576850e-03,   1.32827324e-04,   1.32827324e-04,\n",
       "          1.42314991e-03,   3.22580645e-04,   2.97210626e-01,\n",
       "          2.99639469e-01,   3.22580645e-04],\n",
       "       [  7.34494814e-05,   1.36219408e-01,   3.67247407e-04,\n",
       "          1.36807004e-01,   4.55386785e-04,   2.20348444e-04,\n",
       "          2.30631372e-03,   7.34494814e-05,   1.24114934e-01,\n",
       "          5.43526163e-04,   4.26006992e-04,   6.37394600e-02,\n",
       "          1.77307048e-02,   2.20348444e-04,   2.62170579e-01,\n",
       "          4.84766578e-04,   1.90968652e-04,   1.14155184e-01,\n",
       "          1.39245527e-01,   4.55386785e-04],\n",
       "       [  2.48300099e-04,   1.40404156e-01,   2.22954389e-01,\n",
       "          1.62330965e-01,   2.19650088e-03,   6.68500267e-04,\n",
       "          7.62090305e-03,   5.53900222e-04,   9.15845366e-02,\n",
       "          4.39300176e-04,   8.49950340e-03,   4.10841164e-02,\n",
       "          4.75399190e-02,   1.69990068e-03,   2.54030102e-03,\n",
       "          1.05050042e-03,   1.50890060e-03,   1.61184964e-01,\n",
       "          1.04572542e-01,   1.31790053e-03],\n",
       "       [  5.54722040e-03,   1.44049754e-01,   2.16233479e-05,\n",
       "          1.20972651e-01,   5.63870380e-04,   4.15833613e-05,\n",
       "          5.33431359e-03,   1.34730091e-04,   1.04282754e-01,\n",
       "          2.56025429e-01,   5.82167059e-05,   5.36575061e-02,\n",
       "          6.69492117e-03,   7.48500504e-05,   1.04790071e-04,\n",
       "          6.48700437e-05,   8.81567260e-05,   9.87471765e-02,\n",
       "          2.03387547e-01,   1.48036766e-04],\n",
       "       [  3.17544996e-05,   1.09229128e-01,   3.17544996e-05,\n",
       "          1.14534246e-01,   4.67849628e-04,   6.56259659e-05,\n",
       "          1.41625068e-03,   1.20667099e-04,   1.41910859e-01,\n",
       "          1.75708231e-04,   3.70680859e-03,   7.61536410e-02,\n",
       "          9.26575129e-02,   7.34587424e-04,   5.71580993e-05,\n",
       "          3.06960163e-04,   2.35633206e-01,   1.21469429e-01,\n",
       "          1.01214292e-01,   8.25616990e-05],\n",
       "       [  2.87395185e-04,   1.21601975e-01,   3.88828780e-04,\n",
       "          1.26808899e-01,   3.87138220e-03,   1.26791994e-03,\n",
       "          2.95847985e-03,   2.53837571e-01,   1.56393698e-01,\n",
       "          4.22639978e-04,   4.56451177e-04,   8.72159859e-02,\n",
       "          4.49181769e-02,   1.85961590e-04,   3.21206384e-04,\n",
       "          8.62185556e-04,   2.19772789e-04,   1.03682039e-01,\n",
       "          9.39782256e-02,   3.21206384e-04],\n",
       "       [  2.19210461e-04,   1.60242847e-01,   3.33581136e-04,\n",
       "          1.40513906e-01,   2.57334020e-04,   3.33581136e-04,\n",
       "          4.77211643e-02,   8.57780065e-05,   1.12531214e-01,\n",
       "          5.43260708e-04,   3.14519357e-04,   4.35847582e-02,\n",
       "          2.30170984e-02,   2.00148682e-04,   1.47719258e-01,\n",
       "          1.42963344e-04,   1.28667010e-03,   1.83650712e-01,\n",
       "          1.36053449e-01,   1.24854654e-03],\n",
       "       [  4.62651413e-04,   1.35052153e-01,   4.66857335e-03,\n",
       "          1.37407470e-01,   3.78532974e-04,   7.99125168e-04,\n",
       "          2.83521198e-01,   6.30888291e-04,   1.25715007e-01,\n",
       "          1.47207268e-03,   1.13559892e-03,   4.59707268e-02,\n",
       "          7.94919246e-03,   1.30383580e-03,   1.38795424e-03,\n",
       "          6.30888291e-04,   3.78532974e-04,   1.20415545e-01,\n",
       "          1.30257402e-01,   4.62651413e-04],\n",
       "       [  1.44282299e-04,   9.50408113e-02,   2.41136945e-01,\n",
       "          1.85608871e-01,   3.91623382e-04,   2.67952840e-04,\n",
       "          1.14395251e-02,   3.09176354e-04,   1.63801632e-01,\n",
       "          1.44282299e-04,   2.67952840e-04,   6.58545634e-02,\n",
       "          2.20751917e-02,   1.85505813e-04,   2.67952840e-04,\n",
       "          2.67952840e-04,   3.09176354e-04,   1.10499629e-01,\n",
       "          1.01265562e-01,   7.21411493e-04],\n",
       "       [  1.80936527e-04,   1.24214937e-01,   4.42289289e-05,\n",
       "          1.46248985e-01,   2.81456821e-05,   1.24645163e-04,\n",
       "          1.15598337e-02,   8.44370462e-05,   1.45653905e-01,\n",
       "          1.72894904e-04,   9.24786696e-05,   5.01355014e-02,\n",
       "          1.94727912e-02,   4.86518218e-04,   8.44370462e-05,\n",
       "          8.44370462e-05,   2.05061398e-04,   9.66643346e-02,\n",
       "          1.28887120e-01,   2.75574373e-01],\n",
       "       [  7.45210589e-05,   9.98448433e-02,   6.68778734e-05,\n",
       "          1.05107177e-01,   3.07638217e-04,   2.15883686e-01,\n",
       "          4.07190709e-03,   5.44576969e-04,   1.54088531e-01,\n",
       "          1.01272208e-04,   5.33112190e-04,   1.45096323e-01,\n",
       "          8.58310627e-02,   8.38839612e-04,   5.92346878e-05,\n",
       "          2.19741584e-04,   4.75788299e-04,   9.82627039e-02,\n",
       "          8.84221026e-02,   1.70060878e-04],\n",
       "       [  2.74033192e-04,   9.12338224e-02,   3.70185189e-04,\n",
       "          1.06108536e-01,   1.39420396e-04,   6.10565181e-04,\n",
       "          7.92773216e-03,   3.41339590e-04,   1.68991942e-01,\n",
       "          1.20189996e-04,   3.61050749e-03,   1.04445107e-01,\n",
       "          1.24704333e-01,   2.18048691e-01,   2.54802792e-04,\n",
       "          1.49035595e-04,   1.87977154e-03,   8.97530817e-02,\n",
       "          8.05609508e-02,   4.75952386e-04],\n",
       "       [  2.01946025e-04,   1.36533872e-01,   7.89425372e-04,\n",
       "          1.23021847e-01,   5.32403158e-04,   2.01946025e-04,\n",
       "          1.70736185e-03,   2.38663484e-04,   1.36203415e-01,\n",
       "          1.65228566e-04,   1.95355241e-01,   5.88764457e-02,\n",
       "          5.20469983e-02,   8.99577749e-04,   6.05838076e-04,\n",
       "          1.08316504e-03,   1.19331742e-03,   1.82136956e-01,\n",
       "          1.07673949e-01,   5.32403158e-04],\n",
       "       [  1.10784034e-04,   7.75646504e-02,   3.00699522e-04,\n",
       "          9.28528471e-02,   4.58962428e-04,   8.70445985e-04,\n",
       "          2.19985440e-03,   8.07140822e-04,   1.37451334e-01,\n",
       "          6.80530497e-04,   2.03415314e-01,   1.02411927e-01,\n",
       "          1.87525718e-01,   6.44130029e-03,   3.00699522e-04,\n",
       "          1.74089197e-04,   1.40379198e-02,   1.05355617e-01,\n",
       "          6.69293831e-02,   1.10784034e-04]])"
      ]
     },
     "execution_count": 22,
     "metadata": {},
     "output_type": "execute_result"
    }
   ],
   "source": [
    "doctopic"
   ]
  },
  {
   "cell_type": "code",
   "execution_count": 23,
   "metadata": {},
   "outputs": [
    {
     "name": "stdout",
     "output_type": "stream",
     "text": [
      "20\n"
     ]
    }
   ],
   "source": [
    "N, K = doctopic.shape\n",
    "print(K)"
   ]
  },
  {
   "cell_type": "code",
   "execution_count": 24,
   "metadata": {},
   "outputs": [],
   "source": [
    "ind = np.arange(N)"
   ]
  },
  {
   "cell_type": "code",
   "execution_count": 25,
   "metadata": {},
   "outputs": [],
   "source": [
    "width = 0.5"
   ]
  },
  {
   "cell_type": "code",
   "execution_count": 26,
   "metadata": {},
   "outputs": [],
   "source": [
    "plt.rcParams[\"figure.figsize\"] = [16,9]"
   ]
  },
  {
   "cell_type": "code",
   "execution_count": 27,
   "metadata": {},
   "outputs": [
    {
     "data": {
      "text/plain": [
       "<Container object of 18 artists>"
      ]
     },
     "execution_count": 27,
     "metadata": {},
     "output_type": "execute_result"
    }
   ],
   "source": [
    "plt.bar(ind, doctopic[:,0], width=width)"
   ]
  },
  {
   "cell_type": "code",
   "execution_count": 28,
   "metadata": {},
   "outputs": [
    {
     "data": {
      "text/plain": [
       "([<matplotlib.axis.XTick at 0x7fb164c11470>,\n",
       "  <matplotlib.axis.XTick at 0x7fb1946958d0>,\n",
       "  <matplotlib.axis.XTick at 0x7fb164bf4e48>,\n",
       "  <matplotlib.axis.XTick at 0x7fb162bd1b00>,\n",
       "  <matplotlib.axis.XTick at 0x7fb164c11780>,\n",
       "  <matplotlib.axis.XTick at 0x7fb162bd91d0>,\n",
       "  <matplotlib.axis.XTick at 0x7fb162bd9860>,\n",
       "  <matplotlib.axis.XTick at 0x7fb162bd9ef0>,\n",
       "  <matplotlib.axis.XTick at 0x7fb162bdd5c0>,\n",
       "  <matplotlib.axis.XTick at 0x7fb162bddc50>,\n",
       "  <matplotlib.axis.XTick at 0x7fb162be1320>,\n",
       "  <matplotlib.axis.XTick at 0x7fb162be19b0>,\n",
       "  <matplotlib.axis.XTick at 0x7fb162be5080>,\n",
       "  <matplotlib.axis.XTick at 0x7fb162be5710>,\n",
       "  <matplotlib.axis.XTick at 0x7fb162be5da0>,\n",
       "  <matplotlib.axis.XTick at 0x7fb162be9470>,\n",
       "  <matplotlib.axis.XTick at 0x7fb162be9b00>,\n",
       "  <matplotlib.axis.XTick at 0x7fb162b6d1d0>],\n",
       " <a list of 17 Text xticklabel objects>)"
      ]
     },
     "execution_count": 28,
     "metadata": {},
     "output_type": "execute_result"
    }
   ],
   "source": [
    "plt.xticks(ind + width/2, range(1,len(novel_names)))"
   ]
  },
  {
   "cell_type": "code",
   "execution_count": 29,
   "metadata": {},
   "outputs": [
    {
     "data": {
      "text/plain": [
       "Text(0.5,1,'Share of Topic #0')"
      ]
     },
     "execution_count": 29,
     "metadata": {},
     "output_type": "execute_result"
    }
   ],
   "source": [
    "plt.title('Share of Topic #0')"
   ]
  },
  {
   "cell_type": "code",
   "execution_count": 30,
   "metadata": {},
   "outputs": [
    {
     "data": {
      "image/png": "[encoded data removed]",
      "text/plain": [
       "<matplotlib.figure.Figure at 0x7fb164bf4978>"
      ]
     },
     "metadata": {},
     "output_type": "display_data"
    }
   ],
   "source": [
    "plt.show()"
   ]
  },
  {
   "cell_type": "code",
   "execution_count": 31,
   "metadata": {},
   "outputs": [],
   "source": [
    "plots = []"
   ]
  },
  {
   "cell_type": "code",
   "execution_count": 32,
   "metadata": {},
   "outputs": [],
   "source": [
    "height_cumulative = np.zeros(N)"
   ]
  },
  {
   "cell_type": "code",
   "execution_count": 33,
   "metadata": {},
   "outputs": [],
   "source": [
    "for k in range(K):\n",
    "    color = plt.cm.coolwarm(k/K, 1)\n",
    "    if k == 0:\n",
    "        p = plt.bar(ind, doctopic[:, k], width, color=color)\n",
    "    else:\n",
    "        p = plt.bar(ind, doctopic[:, k], width, bottom=height_cumulative, color=color)\n",
    "    height_cumulative += doctopic[:, k]\n",
    "    plots.append(p)"
   ]
  },
  {
   "cell_type": "code",
   "execution_count": 34,
   "metadata": {},
   "outputs": [
    {
     "data": {
      "text/plain": [
       "(0, 1)"
      ]
     },
     "execution_count": 34,
     "metadata": {},
     "output_type": "execute_result"
    }
   ],
   "source": [
    "plt.ylim((0, 1))"
   ]
  },
  {
   "cell_type": "code",
   "execution_count": 35,
   "metadata": {},
   "outputs": [
    {
     "data": {
      "text/plain": [
       "Text(0,0.5,'Topics')"
      ]
     },
     "execution_count": 35,
     "metadata": {},
     "output_type": "execute_result"
    }
   ],
   "source": [
    "plt.ylabel('Topics')"
   ]
  },
  {
   "cell_type": "code",
   "execution_count": 36,
   "metadata": {},
   "outputs": [
    {
     "data": {
      "text/plain": [
       "Text(0.5,1,'Topics in novels')"
      ]
     },
     "execution_count": 36,
     "metadata": {},
     "output_type": "execute_result"
    }
   ],
   "source": [
    "plt.title('Topics in novels')"
   ]
  },
  {
   "cell_type": "code",
   "execution_count": 37,
   "metadata": {},
   "outputs": [
    {
     "name": "stdout",
     "output_type": "stream",
     "text": [
      "numero 1\n",
      "1844__Les-Trois-Mousquetaires\n",
      "numero 2\n",
      "1845__La-Reine-Margot\n",
      "numero 3\n",
      "1845__Le-Comte-de-Monte-Cristo\n",
      "numero 4\n",
      "1845__Vingt-ans-apres\n",
      "numero 5\n",
      "1848__La-dame-aux-camelias\n",
      "numero 6\n",
      "1850__La-Tulipe-noire\n",
      "numero 7\n",
      "1850__La-femme-au-collier-de-velours\n",
      "numero 8\n",
      "1850__Le-Vicomte-de-Bragelonne\n",
      "numero 9\n",
      "1852__La-comtesse-de-Charny\n",
      "numero 10\n",
      "1854__Le-page-du-duc-de-Savoie-I\n",
      "numero 11\n",
      "1858__Black\n",
      "numero 12\n",
      "1858__Jane\n",
      "numero 13\n",
      "1858__sultanetta\n",
      "numero 14\n",
      "1859__Les-Louves-de-Machecoul\n",
      "numero 15\n",
      "1864__La-San-Felice\n",
      "numero 16\n",
      "1867__Les-Blancs-et-les-Bleus\n",
      "numero 17\n",
      "1871__La-fille-du-marquis-II\n",
      "numero 18\n",
      "1871__Le-docteur-mysterieux-II\n"
     ]
    }
   ],
   "source": [
    "plt.xticks(ind+width/2, range(1,len(novel_names)))\n",
    "index=1\n",
    "for name in novel_names:\n",
    "    print('numero '+str(index))\n",
    "    print(name)\n",
    "    index+=1"
   ]
  },
  {
   "cell_type": "code",
   "execution_count": 38,
   "metadata": {},
   "outputs": [
    {
     "data": {
      "text/plain": [
       "([<matplotlib.axis.YTick at 0x7fb16266b588>],\n",
       " <a list of 1 Text yticklabel objects>)"
      ]
     },
     "execution_count": 38,
     "metadata": {},
     "output_type": "execute_result"
    }
   ],
   "source": [
    "plt.yticks(np.arange(0, 1, 10))"
   ]
  },
  {
   "cell_type": "code",
   "execution_count": 39,
   "metadata": {},
   "outputs": [],
   "source": [
    "#Pour cette expérience, topic 0 : aventure ; topic 1 : argent ; topic 2 : mort\n",
    "topic_labels = ['Topic #{}'.format(k) for k in range(K)]"
   ]
  },
  {
   "cell_type": "code",
   "execution_count": 40,
   "metadata": {},
   "outputs": [
    {
     "data": {
      "text/plain": [
       "<matplotlib.legend.Legend at 0x7fb16266e550>"
      ]
     },
     "execution_count": 40,
     "metadata": {},
     "output_type": "execute_result"
    }
   ],
   "source": [
    "plt.legend([p[0] for p in plots], topic_labels)"
   ]
  },
  {
   "cell_type": "code",
   "execution_count": 41,
   "metadata": {},
   "outputs": [
    {
     "data": {
      "image/png": "[encoded data removed]",
      "text/plain": [
       "<matplotlib.figure.Figure at 0x7fb162bdd470>"
      ]
     },
     "metadata": {},
     "output_type": "display_data"
    }
   ],
   "source": [
    "plt.show()"
   ]
  },
  {
   "cell_type": "code",
   "execution_count": null,
   "metadata": {},
   "outputs": [],
   "source": []
  }
 ],
 "metadata": {
  "kernelspec": {
   "display_name": "Python 3",
   "language": "python",
   "name": "python3"
  },
  "language_info": {
   "codemirror_mode": {
    "name": "ipython",
    "version": 3
   },
   "file_extension": ".py",
   "mimetype": "text/x-python",
   "name": "python",
   "nbconvert_exporter": "python",
   "pygments_lexer": "ipython3",
   "version": "3.5.2"
  }
 },
 "nbformat": 4,
 "nbformat_minor": 2
}

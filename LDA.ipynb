{
 "cells": [
  {
   "cell_type": "code",
   "execution_count": 1,
   "metadata": {},
   "outputs": [],
   "source": [
    "import gensim\n",
    "from gensim import corpora\n",
    "import sys\n",
    "import os\n",
    "import os.path\n",
    "import fnmatch\n",
    "from lxml import etree\n",
    "import pickle"
   ]
  },
  {
   "cell_type": "code",
   "execution_count": 2,
   "metadata": {},
   "outputs": [
    {
     "name": "stdout",
     "output_type": "stream",
     "text": [
      "818 fichiers pris en compte\n",
      "Récupération des lemmes terminée\n",
      "Constitution du dictionnaire terminée\n",
      "Constitution de la doc-term-matrix terminée\n"
     ]
    },
    {
     "ename": "KeyboardInterrupt",
     "evalue": "",
     "output_type": "error",
     "traceback": [
      "\u001b[0;31m---------------------------------------------------------------------------\u001b[0m",
      "\u001b[0;31mKeyboardInterrupt\u001b[0m                         Traceback (most recent call last)",
      "\u001b[0;32m<ipython-input-2-d44a5a21557f>\u001b[0m in \u001b[0;36m<module>\u001b[0;34m()\u001b[0m\n\u001b[1;32m     18\u001b[0m \u001b[0;34m\u001b[0m\u001b[0m\n\u001b[1;32m     19\u001b[0m \u001b[0mLda\u001b[0m \u001b[0;34m=\u001b[0m \u001b[0mgensim\u001b[0m\u001b[0;34m.\u001b[0m\u001b[0mmodels\u001b[0m\u001b[0;34m.\u001b[0m\u001b[0mldamodel\u001b[0m\u001b[0;34m.\u001b[0m\u001b[0mLdaModel\u001b[0m\u001b[0;34m\u001b[0m\u001b[0m\n\u001b[0;32m---> 20\u001b[0;31m \u001b[0mldamodel\u001b[0m \u001b[0;34m=\u001b[0m \u001b[0mLda\u001b[0m\u001b[0;34m(\u001b[0m\u001b[0mdoc_term_matrix\u001b[0m\u001b[0;34m,\u001b[0m \u001b[0mnum_topics\u001b[0m\u001b[0;34m=\u001b[0m\u001b[0;36m50\u001b[0m\u001b[0;34m,\u001b[0m \u001b[0mid2word\u001b[0m \u001b[0;34m=\u001b[0m \u001b[0mdictionary\u001b[0m\u001b[0;34m,\u001b[0m \u001b[0mpasses\u001b[0m\u001b[0;34m=\u001b[0m\u001b[0;36m50\u001b[0m\u001b[0;34m)\u001b[0m\u001b[0;34m\u001b[0m\u001b[0m\n\u001b[0m\u001b[1;32m     21\u001b[0m \u001b[0;34m\u001b[0m\u001b[0m\n\u001b[1;32m     22\u001b[0m \u001b[0;31m#pickles\u001b[0m\u001b[0;34m\u001b[0m\u001b[0;34m\u001b[0m\u001b[0m\n",
      "\u001b[0;32m/usr/local/lib/python3.5/dist-packages/gensim/models/ldamodel.py\u001b[0m in \u001b[0;36m__init__\u001b[0;34m(self, corpus, num_topics, id2word, distributed, chunksize, passes, update_every, alpha, eta, decay, offset, eval_every, iterations, gamma_threshold, minimum_probability, random_state, ns_conf, minimum_phi_value, per_word_topics, callbacks)\u001b[0m\n\u001b[1;32m    338\u001b[0m         \u001b[0;32mif\u001b[0m \u001b[0mcorpus\u001b[0m \u001b[0;32mis\u001b[0m \u001b[0;32mnot\u001b[0m \u001b[0;32mNone\u001b[0m\u001b[0;34m:\u001b[0m\u001b[0;34m\u001b[0m\u001b[0m\n\u001b[1;32m    339\u001b[0m             \u001b[0muse_numpy\u001b[0m \u001b[0;34m=\u001b[0m \u001b[0mself\u001b[0m\u001b[0;34m.\u001b[0m\u001b[0mdispatcher\u001b[0m \u001b[0;32mis\u001b[0m \u001b[0;32mnot\u001b[0m \u001b[0;32mNone\u001b[0m\u001b[0;34m\u001b[0m\u001b[0m\n\u001b[0;32m--> 340\u001b[0;31m             \u001b[0mself\u001b[0m\u001b[0;34m.\u001b[0m\u001b[0mupdate\u001b[0m\u001b[0;34m(\u001b[0m\u001b[0mcorpus\u001b[0m\u001b[0;34m,\u001b[0m \u001b[0mchunks_as_numpy\u001b[0m\u001b[0;34m=\u001b[0m\u001b[0muse_numpy\u001b[0m\u001b[0;34m)\u001b[0m\u001b[0;34m\u001b[0m\u001b[0m\n\u001b[0m\u001b[1;32m    341\u001b[0m \u001b[0;34m\u001b[0m\u001b[0m\n\u001b[1;32m    342\u001b[0m     \u001b[0;32mdef\u001b[0m \u001b[0minit_dir_prior\u001b[0m\u001b[0;34m(\u001b[0m\u001b[0mself\u001b[0m\u001b[0;34m,\u001b[0m \u001b[0mprior\u001b[0m\u001b[0;34m,\u001b[0m \u001b[0mname\u001b[0m\u001b[0;34m)\u001b[0m\u001b[0;34m:\u001b[0m\u001b[0;34m\u001b[0m\u001b[0m\n",
      "\u001b[0;32m/usr/local/lib/python3.5/dist-packages/gensim/models/ldamodel.py\u001b[0m in \u001b[0;36mupdate\u001b[0;34m(self, corpus, chunksize, decay, offset, passes, update_every, eval_every, iterations, gamma_threshold, chunks_as_numpy)\u001b[0m\n\u001b[1;32m    656\u001b[0m \u001b[0;34m\u001b[0m\u001b[0m\n\u001b[1;32m    657\u001b[0m                 \u001b[0;32mif\u001b[0m \u001b[0meval_every\u001b[0m \u001b[0;32mand\u001b[0m \u001b[0;34m(\u001b[0m\u001b[0;34m(\u001b[0m\u001b[0mreallen\u001b[0m \u001b[0;34m==\u001b[0m \u001b[0mlencorpus\u001b[0m\u001b[0;34m)\u001b[0m \u001b[0;32mor\u001b[0m \u001b[0;34m(\u001b[0m\u001b[0;34m(\u001b[0m\u001b[0mchunk_no\u001b[0m \u001b[0;34m+\u001b[0m \u001b[0;36m1\u001b[0m\u001b[0;34m)\u001b[0m \u001b[0;34m%\u001b[0m \u001b[0;34m(\u001b[0m\u001b[0meval_every\u001b[0m \u001b[0;34m*\u001b[0m \u001b[0mself\u001b[0m\u001b[0;34m.\u001b[0m\u001b[0mnumworkers\u001b[0m\u001b[0;34m)\u001b[0m \u001b[0;34m==\u001b[0m \u001b[0;36m0\u001b[0m\u001b[0;34m)\u001b[0m\u001b[0;34m)\u001b[0m\u001b[0;34m:\u001b[0m\u001b[0;34m\u001b[0m\u001b[0m\n\u001b[0;32m--> 658\u001b[0;31m                     \u001b[0mself\u001b[0m\u001b[0;34m.\u001b[0m\u001b[0mlog_perplexity\u001b[0m\u001b[0;34m(\u001b[0m\u001b[0mchunk\u001b[0m\u001b[0;34m,\u001b[0m \u001b[0mtotal_docs\u001b[0m\u001b[0;34m=\u001b[0m\u001b[0mlencorpus\u001b[0m\u001b[0;34m)\u001b[0m\u001b[0;34m\u001b[0m\u001b[0m\n\u001b[0m\u001b[1;32m    659\u001b[0m \u001b[0;34m\u001b[0m\u001b[0m\n\u001b[1;32m    660\u001b[0m                 \u001b[0;32mif\u001b[0m \u001b[0mself\u001b[0m\u001b[0;34m.\u001b[0m\u001b[0mdispatcher\u001b[0m\u001b[0;34m:\u001b[0m\u001b[0;34m\u001b[0m\u001b[0m\n",
      "\u001b[0;32m/usr/local/lib/python3.5/dist-packages/gensim/models/ldamodel.py\u001b[0m in \u001b[0;36mlog_perplexity\u001b[0;34m(self, chunk, total_docs)\u001b[0m\n\u001b[1;32m    530\u001b[0m         \u001b[0mcorpus_words\u001b[0m \u001b[0;34m=\u001b[0m \u001b[0msum\u001b[0m\u001b[0;34m(\u001b[0m\u001b[0mcnt\u001b[0m \u001b[0;32mfor\u001b[0m \u001b[0mdocument\u001b[0m \u001b[0;32min\u001b[0m \u001b[0mchunk\u001b[0m \u001b[0;32mfor\u001b[0m \u001b[0m_\u001b[0m\u001b[0;34m,\u001b[0m \u001b[0mcnt\u001b[0m \u001b[0;32min\u001b[0m \u001b[0mdocument\u001b[0m\u001b[0;34m)\u001b[0m\u001b[0;34m\u001b[0m\u001b[0m\n\u001b[1;32m    531\u001b[0m         \u001b[0msubsample_ratio\u001b[0m \u001b[0;34m=\u001b[0m \u001b[0;36m1.0\u001b[0m \u001b[0;34m*\u001b[0m \u001b[0mtotal_docs\u001b[0m \u001b[0;34m/\u001b[0m \u001b[0mlen\u001b[0m\u001b[0;34m(\u001b[0m\u001b[0mchunk\u001b[0m\u001b[0;34m)\u001b[0m\u001b[0;34m\u001b[0m\u001b[0m\n\u001b[0;32m--> 532\u001b[0;31m         \u001b[0mperwordbound\u001b[0m \u001b[0;34m=\u001b[0m \u001b[0mself\u001b[0m\u001b[0;34m.\u001b[0m\u001b[0mbound\u001b[0m\u001b[0;34m(\u001b[0m\u001b[0mchunk\u001b[0m\u001b[0;34m,\u001b[0m \u001b[0msubsample_ratio\u001b[0m\u001b[0;34m=\u001b[0m\u001b[0msubsample_ratio\u001b[0m\u001b[0;34m)\u001b[0m \u001b[0;34m/\u001b[0m \u001b[0;34m(\u001b[0m\u001b[0msubsample_ratio\u001b[0m \u001b[0;34m*\u001b[0m \u001b[0mcorpus_words\u001b[0m\u001b[0;34m)\u001b[0m\u001b[0;34m\u001b[0m\u001b[0m\n\u001b[0m\u001b[1;32m    533\u001b[0m         logger.info(\n\u001b[1;32m    534\u001b[0m             \u001b[0;34m\"%.3f per-word bound, %.1f perplexity estimate based on a held-out corpus of %i documents with %i words\"\u001b[0m\u001b[0;34m,\u001b[0m\u001b[0;34m\u001b[0m\u001b[0m\n",
      "\u001b[0;32m/usr/local/lib/python3.5/dist-packages/gensim/models/ldamodel.py\u001b[0m in \u001b[0;36mbound\u001b[0;34m(self, corpus, gamma, subsample_ratio)\u001b[0m\n\u001b[1;32m    774\u001b[0m \u001b[0;34m\u001b[0m\u001b[0m\n\u001b[1;32m    775\u001b[0m             \u001b[0;31m# E[log p(doc | theta, beta)]\u001b[0m\u001b[0;34m\u001b[0m\u001b[0;34m\u001b[0m\u001b[0m\n\u001b[0;32m--> 776\u001b[0;31m             \u001b[0mscore\u001b[0m \u001b[0;34m+=\u001b[0m \u001b[0mnp\u001b[0m\u001b[0;34m.\u001b[0m\u001b[0msum\u001b[0m\u001b[0;34m(\u001b[0m\u001b[0mcnt\u001b[0m \u001b[0;34m*\u001b[0m \u001b[0mlogsumexp\u001b[0m\u001b[0;34m(\u001b[0m\u001b[0mElogthetad\u001b[0m \u001b[0;34m+\u001b[0m \u001b[0mElogbeta\u001b[0m\u001b[0;34m[\u001b[0m\u001b[0;34m:\u001b[0m\u001b[0;34m,\u001b[0m \u001b[0mint\u001b[0m\u001b[0;34m(\u001b[0m\u001b[0mid\u001b[0m\u001b[0;34m)\u001b[0m\u001b[0;34m]\u001b[0m\u001b[0;34m)\u001b[0m \u001b[0;32mfor\u001b[0m \u001b[0mid\u001b[0m\u001b[0;34m,\u001b[0m \u001b[0mcnt\u001b[0m \u001b[0;32min\u001b[0m \u001b[0mdoc\u001b[0m\u001b[0;34m)\u001b[0m\u001b[0;34m\u001b[0m\u001b[0m\n\u001b[0m\u001b[1;32m    777\u001b[0m \u001b[0;34m\u001b[0m\u001b[0m\n\u001b[1;32m    778\u001b[0m             \u001b[0;31m# E[log p(theta | alpha) - log q(theta | gamma)]; assumes alpha is a vector\u001b[0m\u001b[0;34m\u001b[0m\u001b[0;34m\u001b[0m\u001b[0m\n",
      "\u001b[0;32m/usr/local/lib/python3.5/dist-packages/numpy/core/fromnumeric.py\u001b[0m in \u001b[0;36msum\u001b[0;34m(a, axis, dtype, out, keepdims)\u001b[0m\n\u001b[1;32m   1819\u001b[0m         \u001b[0mkwargs\u001b[0m\u001b[0;34m[\u001b[0m\u001b[0;34m'keepdims'\u001b[0m\u001b[0;34m]\u001b[0m \u001b[0;34m=\u001b[0m \u001b[0mkeepdims\u001b[0m\u001b[0;34m\u001b[0m\u001b[0m\n\u001b[1;32m   1820\u001b[0m     \u001b[0;32mif\u001b[0m \u001b[0misinstance\u001b[0m\u001b[0;34m(\u001b[0m\u001b[0ma\u001b[0m\u001b[0;34m,\u001b[0m \u001b[0m_gentype\u001b[0m\u001b[0;34m)\u001b[0m\u001b[0;34m:\u001b[0m\u001b[0;34m\u001b[0m\u001b[0m\n\u001b[0;32m-> 1821\u001b[0;31m         \u001b[0mres\u001b[0m \u001b[0;34m=\u001b[0m \u001b[0m_sum_\u001b[0m\u001b[0;34m(\u001b[0m\u001b[0ma\u001b[0m\u001b[0;34m)\u001b[0m\u001b[0;34m\u001b[0m\u001b[0m\n\u001b[0m\u001b[1;32m   1822\u001b[0m         \u001b[0;32mif\u001b[0m \u001b[0mout\u001b[0m \u001b[0;32mis\u001b[0m \u001b[0;32mnot\u001b[0m \u001b[0;32mNone\u001b[0m\u001b[0;34m:\u001b[0m\u001b[0;34m\u001b[0m\u001b[0m\n\u001b[1;32m   1823\u001b[0m             \u001b[0mout\u001b[0m\u001b[0;34m[\u001b[0m\u001b[0;34m...\u001b[0m\u001b[0;34m]\u001b[0m \u001b[0;34m=\u001b[0m \u001b[0mres\u001b[0m\u001b[0;34m\u001b[0m\u001b[0m\n",
      "\u001b[0;32m/usr/local/lib/python3.5/dist-packages/gensim/models/ldamodel.py\u001b[0m in \u001b[0;36m<genexpr>\u001b[0;34m(.0)\u001b[0m\n\u001b[1;32m    774\u001b[0m \u001b[0;34m\u001b[0m\u001b[0m\n\u001b[1;32m    775\u001b[0m             \u001b[0;31m# E[log p(doc | theta, beta)]\u001b[0m\u001b[0;34m\u001b[0m\u001b[0;34m\u001b[0m\u001b[0m\n\u001b[0;32m--> 776\u001b[0;31m             \u001b[0mscore\u001b[0m \u001b[0;34m+=\u001b[0m \u001b[0mnp\u001b[0m\u001b[0;34m.\u001b[0m\u001b[0msum\u001b[0m\u001b[0;34m(\u001b[0m\u001b[0mcnt\u001b[0m \u001b[0;34m*\u001b[0m \u001b[0mlogsumexp\u001b[0m\u001b[0;34m(\u001b[0m\u001b[0mElogthetad\u001b[0m \u001b[0;34m+\u001b[0m \u001b[0mElogbeta\u001b[0m\u001b[0;34m[\u001b[0m\u001b[0;34m:\u001b[0m\u001b[0;34m,\u001b[0m \u001b[0mint\u001b[0m\u001b[0;34m(\u001b[0m\u001b[0mid\u001b[0m\u001b[0;34m)\u001b[0m\u001b[0;34m]\u001b[0m\u001b[0;34m)\u001b[0m \u001b[0;32mfor\u001b[0m \u001b[0mid\u001b[0m\u001b[0;34m,\u001b[0m \u001b[0mcnt\u001b[0m \u001b[0;32min\u001b[0m \u001b[0mdoc\u001b[0m\u001b[0;34m)\u001b[0m\u001b[0;34m\u001b[0m\u001b[0m\n\u001b[0m\u001b[1;32m    777\u001b[0m \u001b[0;34m\u001b[0m\u001b[0m\n\u001b[1;32m    778\u001b[0m             \u001b[0;31m# E[log p(theta | alpha) - log q(theta | gamma)]; assumes alpha is a vector\u001b[0m\u001b[0;34m\u001b[0m\u001b[0;34m\u001b[0m\u001b[0m\n",
      "\u001b[0;32m/usr/local/lib/python3.5/dist-packages/numpy/lib/utils.py\u001b[0m in \u001b[0;36mnewfunc\u001b[0;34m(*args, **kwds)\u001b[0m\n\u001b[1;32m     99\u001b[0m             \u001b[0;34m\"\"\"`arrayrange` is deprecated, use `arange` instead!\"\"\"\u001b[0m\u001b[0;34m\u001b[0m\u001b[0m\n\u001b[1;32m    100\u001b[0m             \u001b[0mwarnings\u001b[0m\u001b[0;34m.\u001b[0m\u001b[0mwarn\u001b[0m\u001b[0;34m(\u001b[0m\u001b[0mdepdoc\u001b[0m\u001b[0;34m,\u001b[0m \u001b[0mDeprecationWarning\u001b[0m\u001b[0;34m,\u001b[0m \u001b[0mstacklevel\u001b[0m\u001b[0;34m=\u001b[0m\u001b[0;36m2\u001b[0m\u001b[0;34m)\u001b[0m\u001b[0;34m\u001b[0m\u001b[0m\n\u001b[0;32m--> 101\u001b[0;31m             \u001b[0;32mreturn\u001b[0m \u001b[0mfunc\u001b[0m\u001b[0;34m(\u001b[0m\u001b[0;34m*\u001b[0m\u001b[0margs\u001b[0m\u001b[0;34m,\u001b[0m \u001b[0;34m**\u001b[0m\u001b[0mkwds\u001b[0m\u001b[0;34m)\u001b[0m\u001b[0;34m\u001b[0m\u001b[0m\n\u001b[0m\u001b[1;32m    102\u001b[0m \u001b[0;34m\u001b[0m\u001b[0m\n\u001b[1;32m    103\u001b[0m         \u001b[0mnewfunc\u001b[0m \u001b[0;34m=\u001b[0m \u001b[0m_set_function_name\u001b[0m\u001b[0;34m(\u001b[0m\u001b[0mnewfunc\u001b[0m\u001b[0;34m,\u001b[0m \u001b[0mold_name\u001b[0m\u001b[0;34m)\u001b[0m\u001b[0;34m\u001b[0m\u001b[0m\n",
      "\u001b[0;32m/usr/local/lib/python3.5/dist-packages/scipy/special/_logsumexp.py\u001b[0m in \u001b[0;36mlogsumexp\u001b[0;34m(a, axis, b, keepdims, return_sign)\u001b[0m\n\u001b[1;32m    100\u001b[0m \u001b[0;34m\u001b[0m\u001b[0m\n\u001b[1;32m    101\u001b[0m     \u001b[0;32mif\u001b[0m \u001b[0ma_max\u001b[0m\u001b[0;34m.\u001b[0m\u001b[0mndim\u001b[0m \u001b[0;34m>\u001b[0m \u001b[0;36m0\u001b[0m\u001b[0;34m:\u001b[0m\u001b[0;34m\u001b[0m\u001b[0m\n\u001b[0;32m--> 102\u001b[0;31m         \u001b[0ma_max\u001b[0m\u001b[0;34m[\u001b[0m\u001b[0;34m~\u001b[0m\u001b[0mnp\u001b[0m\u001b[0;34m.\u001b[0m\u001b[0misfinite\u001b[0m\u001b[0;34m(\u001b[0m\u001b[0ma_max\u001b[0m\u001b[0;34m)\u001b[0m\u001b[0;34m]\u001b[0m \u001b[0;34m=\u001b[0m \u001b[0;36m0\u001b[0m\u001b[0;34m\u001b[0m\u001b[0m\n\u001b[0m\u001b[1;32m    103\u001b[0m     \u001b[0;32melif\u001b[0m \u001b[0;32mnot\u001b[0m \u001b[0mnp\u001b[0m\u001b[0;34m.\u001b[0m\u001b[0misfinite\u001b[0m\u001b[0;34m(\u001b[0m\u001b[0ma_max\u001b[0m\u001b[0;34m)\u001b[0m\u001b[0;34m:\u001b[0m\u001b[0;34m\u001b[0m\u001b[0m\n\u001b[1;32m    104\u001b[0m         \u001b[0ma_max\u001b[0m \u001b[0;34m=\u001b[0m \u001b[0;36m0\u001b[0m\u001b[0;34m\u001b[0m\u001b[0m\n",
      "\u001b[0;31mKeyboardInterrupt\u001b[0m: "
     ]
    }
   ],
   "source": [
    "path_to_folder='/home/odysseus/Bureau/ANR/code/topic_modelling/txt/'\n",
    "files_list=fnmatch.filter(os.listdir(path_to_folder), '*.txt')\n",
    "\n",
    "docs=list()\n",
    "\n",
    "for file in files_list:\n",
    "    words = [line.strip() for line in open(path_to_folder+file)]\n",
    "    docs.append(words)\n",
    "    \n",
    "print(str(len(docs))+\" fichiers pris en compte\")\n",
    "print(\"Récupération des lemmes terminée\")\n",
    "\n",
    "dictionary = corpora.Dictionary(docs)\n",
    "print(\"Constitution du dictionnaire terminée\")\n",
    "\n",
    "doc_term_matrix = [dictionary.doc2bow(doc) for doc in docs]\n",
    "print(\"Constitution de la doc-term-matrix terminée\")\n",
    "\n",
    "Lda = gensim.models.ldamodel.LdaModel\n",
    "ldamodel = Lda(doc_term_matrix, num_topics=50, id2word = dictionary, passes=50)\n",
    "\n",
    "#pickles\n",
    "pickle.dump(ldamodel, open( \"ldamodel.p\", \"wb\" ))\n",
    "pickle.dump(doc_term_matrix, open( \"doc_term_matrix.p\", \"wb\" ))\n",
    "pickle.dump(dictionary, open( \"dictionary.p\", \"wb\" ))"
   ]
  },
  {
   "cell_type": "code",
   "execution_count": 6,
   "metadata": {},
   "outputs": [
    {
     "name": "stdout",
     "output_type": "stream",
     "text": [
      "[(0, '0.013*\"pouvoir\" + 0.012*\"faire\" + 0.008*\"capitaine\" + 0.008*\"mer\" + 0.006*\"devoir\" + 0.006*\"île\" + 0.006*\"répondre\" + 0.005*\"venir\" + 0.005*\"eau\" + 0.005*\"aller\"'), (1, '0.015*\"faire\" + 0.008*\"monsieur\" + 0.007*\"aller\" + 0.006*\"petit\" + 0.006*\"voir\" + 0.005*\"savoir\" + 0.005*\"madame\" + 0.004*\"pouvoir\" + 0.004*\"Frédéric\" + 0.004*\"grand\"'), (2, '0.016*\"monsieur\" + 0.016*\"faire\" + 0.007*\"pouvoir\" + 0.007*\"voir\" + 0.007*\"aller\" + 0.006*\"savoir\" + 0.006*\"homme\" + 0.005*\"point\" + 0.005*\"venir\" + 0.005*\"petit\"'), (3, '0.007*\"grand\" + 0.007*\"homme\" + 0.007*\"faire\" + 0.006*\"oeil\" + 0.005*\"nuit\" + 0.005*\"voir\" + 0.005*\"petit\" + 0.005*\"venir\" + 0.005*\"terre\" + 0.004*\"main\"'), (4, '0.009*\"faire\" + 0.005*\"pouvoir\" + 0.004*\"temps\" + 0.003*\"voir\" + 0.003*\"petit\" + 0.003*\"main\" + 0.003*\"prendre\" + 0.003*\"grand\" + 0.003*\"noir\" + 0.003*\"passer\"'), (5, '0.018*\"faire\" + 0.010*\"pouvoir\" + 0.008*\"aller\" + 0.007*\"voir\" + 0.007*\"savoir\" + 0.006*\"vouloir\" + 0.006*\"petit\" + 0.006*\"venir\" + 0.005*\"père\" + 0.005*\"devoir\"'), (6, '0.008*\"faire\" + 0.005*\"pouvoir\" + 0.005*\"Antoine\" + 0.005*\"homme\" + 0.004*\"mort\" + 0.004*\"monde\" + 0.004*\"jour\" + 0.004*\"grand\" + 0.003*\"Harry\" + 0.003*\"venir\"'), (7, '0.020*\"faire\" + 0.014*\"Jean\" + 0.010*\"Michel\" + 0.009*\"homme\" + 0.009*\"aller\" + 0.008*\"voir\" + 0.008*\"monsieur\" + 0.007*\"pouvoir\" + 0.006*\"jeune\" + 0.006*\"prendre\"'), (8, '0.011*\"Raoul\" + 0.010*\"faire\" + 0.006*\"pouvoir\" + 0.006*\"Patricia\" + 0.005*\"petit\" + 0.005*\"voir\" + 0.004*\"femme\" + 0.004*\"grand\" + 0.004*\"Adeline\" + 0.004*\"venir\"'), (9, '0.042*\"Joseph\" + 0.030*\"Suzanne\" + 0.018*\"faire\" + 0.012*\"mère\" + 0.012*\"monsieur\" + 0.011*\"pouvoir\" + 0.010*\"aller\" + 0.008*\"voir\" + 0.007*\"Victor\" + 0.007*\"Jo\"'), (10, '0.021*\"faire\" + 0.012*\"aller\" + 0.010*\"voir\" + 0.010*\"petit\" + 0.008*\"vouloir\" + 0.007*\"pouvoir\" + 0.006*\"savoir\" + 0.006*\"falloir\" + 0.004*\"prendre\" + 0.004*\"grand\"'), (11, '0.016*\"faire\" + 0.009*\"aller\" + 0.008*\"pouvoir\" + 0.007*\"devoir\" + 0.007*\"venir\" + 0.006*\"petit\" + 0.005*\"coup\" + 0.005*\"grand\" + 0.005*\"trouver\" + 0.005*\"gros\"'), (12, '0.021*\"faire\" + 0.008*\"aller\" + 0.008*\"Elizabeth\" + 0.008*\"voir\" + 0.006*\"vouloir\" + 0.006*\"petit\" + 0.006*\"savoir\" + 0.006*\"pouvoir\" + 0.006*\"jeune\" + 0.005*\"grand\"'), (13, '0.019*\"Caroline\" + 0.017*\"faire\" + 0.016*\"Georges\" + 0.010*\"aller\" + 0.009*\"jeune\" + 0.008*\"pouvoir\" + 0.008*\"femme\" + 0.007*\"petit\" + 0.007*\"Gaston\" + 0.006*\"Louis\"'), (14, '0.010*\"monsieur\" + 0.009*\"faire\" + 0.008*\"Ned\" + 0.006*\"pouvoir\" + 0.006*\"nautilus\" + 0.005*\"capitaine\" + 0.005*\"conseil\" + 0.005*\"eau\" + 0.005*\"répondre\" + 0.005*\"voir\"'), (15, '0.034*\"monsieur\" + 0.018*\"élève\" + 0.013*\"classe\" + 0.011*\"faire\" + 0.008*\"Sorgues\" + 0.008*\"baume\" + 0.007*\"étude\" + 0.006*\"collège\" + 0.006*\"dortoir\" + 0.005*\"Mathieu\"'), (16, '0.015*\"René\" + 0.015*\"faire\" + 0.010*\"Mariette\" + 0.007*\"aller\" + 0.006*\"main\" + 0.006*\"Brigante\" + 0.006*\"homme\" + 0.005*\"voir\" + 0.005*\"prendre\" + 0.005*\"pouvoir\"'), (17, '0.016*\"Sophie\" + 0.015*\"Nicolas\" + 0.008*\"faire\" + 0.006*\"pouvoir\" + 0.006*\"aller\" + 0.005*\"voir\" + 0.004*\"demander\" + 0.004*\"oeil\" + 0.004*\"vouloir\" + 0.004*\"savoir\"'), (18, '0.017*\"Maurice\" + 0.015*\"faire\" + 0.011*\"pouvoir\" + 0.009*\"Marguerite\" + 0.008*\"aller\" + 0.008*\"voir\" + 0.007*\"Pierrot\" + 0.007*\"vouloir\" + 0.005*\"Robert\" + 0.005*\"jour\"'), (19, '0.019*\"faire\" + 0.009*\"homme\" + 0.007*\"voir\" + 0.007*\"aller\" + 0.007*\"monsieur\" + 0.006*\"pouvoir\" + 0.006*\"venir\" + 0.005*\"prendre\" + 0.005*\"grand\" + 0.004*\"roi\"'), (20, '0.015*\"faire\" + 0.009*\"chevalier\" + 0.008*\"aller\" + 0.008*\"voir\" + 0.007*\"venir\" + 0.007*\"pouvoir\" + 0.007*\"monsieur\" + 0.006*\"vouloir\" + 0.006*\"roi\" + 0.006*\"homme\"'), (21, '0.015*\"Anne\" + 0.014*\"faire\" + 0.009*\"pouvoir\" + 0.009*\"savoir\" + 0.008*\"aller\" + 0.008*\"voir\" + 0.007*\"regarder\" + 0.007*\"aimer\" + 0.007*\"vouloir\" + 0.006*\"main\"'), (22, '0.006*\"Camille\" + 0.006*\"pouvoir\" + 0.005*\"faire\" + 0.005*\"Alex\" + 0.005*\"Alice\" + 0.005*\"savoir\" + 0.004*\"homme\" + 0.004*\"oeil\" + 0.004*\"heure\" + 0.004*\"petit\"'), (23, '0.010*\"faire\" + 0.007*\"aller\" + 0.006*\"voir\" + 0.006*\"venir\" + 0.006*\"savoir\" + 0.005*\"Lol\" + 0.005*\"Tatiana\" + 0.005*\"grand\" + 0.005*\"main\" + 0.005*\"pouvoir\"'), (24, '0.014*\"faire\" + 0.008*\"pouvoir\" + 0.007*\"voir\" + 0.005*\"aller\" + 0.005*\"venir\" + 0.005*\"jeune\" + 0.005*\"homme\" + 0.005*\"vouloir\" + 0.004*\"monsieur\" + 0.004*\"jour\"'), (25, '0.021*\"faire\" + 0.014*\"monsieur\" + 0.012*\"pouvoir\" + 0.012*\"vouloir\" + 0.010*\"savoir\" + 0.009*\"voir\" + 0.009*\"aller\" + 0.008*\"femme\" + 0.007*\"venir\" + 0.007*\"devoir\"'), (26, '0.012*\"faire\" + 0.010*\"Pencroff\" + 0.010*\"Cyrus\" + 0.010*\"pouvoir\" + 0.010*\"Smith\" + 0.007*\"Malko\" + 0.007*\"répondre\" + 0.007*\"Harbert\" + 0.006*\"ingénieur\" + 0.005*\"devoir\"'), (27, '0.019*\"faire\" + 0.012*\"Henri\" + 0.012*\"Adamsberg\" + 0.008*\"aller\" + 0.008*\"voir\" + 0.008*\"savoir\" + 0.007*\"pouvoir\" + 0.007*\"Marguerite\" + 0.007*\"Mole\" + 0.007*\"homme\"'), (28, '0.011*\"soldat\" + 0.010*\"cheval\" + 0.009*\"guerre\" + 0.009*\"officier\" + 0.008*\"général\" + 0.007*\"armée\" + 0.007*\"français\" + 0.007*\"homme\" + 0.007*\"colonel\" + 0.006*\"allemand\"'), (29, '0.028*\"André\" + 0.021*\"Charles\" + 0.010*\"faire\" + 0.010*\"Henriette\" + 0.009*\"monsieur\" + 0.008*\"Fogg\" + 0.007*\"heure\" + 0.006*\"pouvoir\" + 0.006*\"César\" + 0.005*\"François\"'), (30, '0.015*\"faire\" + 0.008*\"aller\" + 0.008*\"voir\" + 0.005*\"pouvoir\" + 0.005*\"petit\" + 0.005*\"grand\" + 0.005*\"venir\" + 0.005*\"main\" + 0.005*\"oeil\" + 0.005*\"savoir\"'), (31, '0.019*\"faire\" + 0.011*\"aller\" + 0.009*\"pouvoir\" + 0.008*\"voir\" + 0.007*\"savoir\" + 0.006*\"prendre\" + 0.006*\"vouloir\" + 0.005*\"passer\" + 0.005*\"venir\" + 0.005*\"regarder\"'), (32, '0.017*\"faire\" + 0.010*\"pouvoir\" + 0.009*\"aller\" + 0.007*\"voir\" + 0.006*\"savoir\" + 0.005*\"Rosa\" + 0.004*\"chose\" + 0.004*\"falloir\" + 0.004*\"venir\" + 0.004*\"mettre\"'), (33, '0.012*\"faire\" + 0.008*\"Strogoff\" + 0.008*\"Michel\" + 0.008*\"pouvoir\" + 0.007*\"Saladin\" + 0.006*\"aller\" + 0.006*\"carotte\" + 0.006*\"Hoffmann\" + 0.005*\"répondre\" + 0.005*\"poil\"'), (34, '0.032*\"Marie\" + 0.010*\"faire\" + 0.008*\"aller\" + 0.006*\"Jacob\" + 0.006*\"pouvoir\" + 0.006*\"Helen\" + 0.005*\"Alexis\" + 0.005*\"Elena\" + 0.004*\"devoir\" + 0.004*\"voir\"'), (35, '0.083*\"Jacques\" + 0.013*\"faire\" + 0.011*\"pouvoir\" + 0.009*\"aller\" + 0.008*\"savoir\" + 0.007*\"Augustin\" + 0.006*\"Viviane\" + 0.006*\"vouloir\" + 0.005*\"regarder\" + 0.005*\"monsieur\"'), (36, '0.182*\"Fanny\" + 0.017*\"Maujean\" + 0.006*\"Léon\" + 0.006*\"Denis\" + 0.003*\"Ninie\" + 0.002*\"Médor\" + 0.002*\"Alger\" + 0.002*\"Caïn\" + 0.002*\"gronder\" + 0.002*\"Jeunesse\"'), (37, '0.017*\"faire\" + 0.007*\"pouvoir\" + 0.007*\"aller\" + 0.007*\"voir\" + 0.006*\"docteur\" + 0.006*\"savoir\" + 0.005*\"homme\" + 0.005*\"vouloir\" + 0.005*\"heure\" + 0.004*\"monsieur\"'), (38, '0.014*\"faire\" + 0.007*\"aller\" + 0.006*\"voir\" + 0.006*\"pouvoir\" + 0.006*\"homme\" + 0.005*\"savoir\" + 0.005*\"Claire\" + 0.005*\"oeil\" + 0.005*\"femme\" + 0.004*\"venir\"'), (39, '0.008*\"faire\" + 0.006*\"pouvoir\" + 0.006*\"homme\" + 0.006*\"Marc\" + 0.006*\"savoir\" + 0.005*\"vouloir\" + 0.004*\"aller\" + 0.004*\"voir\" + 0.004*\"prendre\" + 0.004*\"main\"'), (40, '0.020*\"faire\" + 0.019*\"monsieur\" + 0.011*\"roi\" + 0.008*\"voir\" + 0.008*\"homme\" + 0.007*\"aller\" + 0.006*\"Artagnan\" + 0.006*\"pouvoir\" + 0.006*\"venir\" + 0.006*\"madame\"'), (41, '0.017*\"faire\" + 0.011*\"monsieur\" + 0.008*\"homme\" + 0.007*\"comte\" + 0.007*\"voir\" + 0.007*\"aller\" + 0.007*\"pouvoir\" + 0.006*\"venir\" + 0.005*\"savoir\" + 0.005*\"vouloir\"'), (42, '0.023*\"faire\" + 0.013*\"petit\" + 0.013*\"voir\" + 0.012*\"aller\" + 0.009*\"vouloir\" + 0.008*\"mère\" + 0.008*\"grand\" + 0.008*\"pouvoir\" + 0.008*\"enfant\" + 0.007*\"venir\"'), (43, '0.009*\"faire\" + 0.007*\"homme\" + 0.006*\"voir\" + 0.006*\"aller\" + 0.005*\"venir\" + 0.005*\"pouvoir\" + 0.004*\"grand\" + 0.004*\"prendre\" + 0.004*\"vouloir\" + 0.003*\"devoir\"'), (44, '0.012*\"faire\" + 0.010*\"homme\" + 0.006*\"jeune\" + 0.006*\"aller\" + 0.006*\"voir\" + 0.005*\"lord\" + 0.005*\"enfant\" + 0.005*\"venir\" + 0.005*\"Briant\" + 0.005*\"Tom\"'), (45, '0.014*\"faire\" + 0.011*\"Cornélius\" + 0.009*\"Annette\" + 0.009*\"Colin\" + 0.009*\"voir\" + 0.008*\"Rosa\" + 0.007*\"aller\" + 0.007*\"pouvoir\" + 0.007*\"venir\" + 0.006*\"homme\"'), (46, '0.011*\"faire\" + 0.006*\"pouvoir\" + 0.005*\"point\" + 0.005*\"voir\" + 0.005*\"saint\" + 0.004*\"âme\" + 0.003*\"grand\" + 0.003*\"savoir\" + 0.003*\"Consuelo\" + 0.003*\"prendre\"'), (47, '0.013*\"faire\" + 0.011*\"pouvoir\" + 0.008*\"savoir\" + 0.007*\"vie\" + 0.005*\"petit\" + 0.005*\"jamais\" + 0.005*\"voir\" + 0.005*\"aimer\" + 0.005*\"femme\" + 0.004*\"chose\"'), (48, '0.021*\"monsieur\" + 0.015*\"Cabrol\" + 0.012*\"faire\" + 0.010*\"Andoche\" + 0.009*\"aller\" + 0.009*\"Mélanie\" + 0.009*\"villa\" + 0.009*\"petit\" + 0.007*\"Modéran\" + 0.007*\"voir\"'), (49, '0.009*\"faire\" + 0.007*\"femme\" + 0.006*\"oeil\" + 0.006*\"petit\" + 0.005*\"voir\" + 0.005*\"monsieur\" + 0.005*\"aller\" + 0.005*\"venir\" + 0.005*\"main\" + 0.005*\"jeune\"')]\n"
     ]
    }
   ],
   "source": [
    "ldamodel=pickle.load(open( \"ldamodel.p\", \"rb\"))\n",
    "print(ldamodel.print_topics(num_topics=50, num_words=10))"
   ]
  },
  {
   "cell_type": "code",
   "execution_count": null,
   "metadata": {},
   "outputs": [],
   "source": [
    "import numpy as np\n",
    "import matplotlib.pyplot as plt"
   ]
  },
  {
   "cell_type": "code",
   "execution_count": null,
   "metadata": {},
   "outputs": [],
   "source": []
  }
 ],
 "metadata": {
  "kernelspec": {
   "display_name": "Python 3",
   "language": "python",
   "name": "python3"
  },
  "language_info": {
   "codemirror_mode": {
    "name": "ipython",
    "version": 3
   },
   "file_extension": ".py",
   "mimetype": "text/x-python",
   "name": "python",
   "nbconvert_exporter": "python",
   "pygments_lexer": "ipython3",
   "version": "3.5.2"
  }
 },
 "nbformat": 4,
 "nbformat_minor": 2
}
